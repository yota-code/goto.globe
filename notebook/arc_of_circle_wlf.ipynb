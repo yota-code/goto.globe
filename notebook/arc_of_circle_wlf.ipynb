{
 "cells": [
  {
   "cell_type": "markdown",
   "id": "045bee34",
   "metadata": {},
   "source": [
    "# Symbolic computation of an abritrary arc of a circle\n",
    "\n",
    "Two vectors $A$ and $C$ define the starting and ending point of the arc. $k$ is the signed turn rate which defines the radius of the arc $r = \\frac{1}{k}$ where the arc turns right if $0 < r$, left otherwise. $B$ is the middle point between $A$ and $C$. $Q$ is the vector perpendicular to $I$, correctly oriented inside the turn. We lool for $V$ the center of the circle."
   ]
  },
  {
   "cell_type": "code",
   "execution_count": null,
   "id": "83a09e33",
   "metadata": {},
   "outputs": [],
   "source": [
    "UA = {Ax, Ay, Az}\n",
    "UB = {Bx, By, Bz}\n",
    "UC = {Cx, Cy, Cz}\n",
    "UI = {Ix, Iy, Iz}\n",
    "UQ = {Qx, Qy, Qz}"
   ]
  },
  {
   "cell_type": "markdown",
   "id": "8f4cbbf9",
   "metadata": {},
   "source": [
    "$C$ is a vector on the $IQ$ bissector, parametrized by $t$"
   ]
  },
  {
   "cell_type": "code",
   "execution_count": null,
   "id": "2e923b0d",
   "metadata": {},
   "outputs": [],
   "source": [
    "UC = UI * Cos[t] + UQ * Sin[t]"
   ]
  },
  {
   "cell_type": "markdown",
   "id": "036007ec",
   "metadata": {},
   "source": [
    "The distance between V and A is given by:"
   ]
  },
  {
   "cell_type": "code",
   "execution_count": null,
   "id": "3eb08306",
   "metadata": {},
   "outputs": [],
   "source": [
    "DistCA = ArcCos[UA . UC]"
   ]
  },
  {
   "cell_type": "code",
   "execution_count": null,
   "id": "ce462bcc",
   "metadata": {},
   "outputs": [],
   "source": [
    "dEqua = Assuming[\n",
    "    Bx^2+By^2+Bz^2 == 1,\n",
    "Assuming[\n",
    "    Ax*Qx+Ay*Qy+Az*Qz == 0,\n",
    "    Collect[ DistCA, { Sin[2*t], Cos[2*t], Sin[t], Cos[t]}, FullSimplify ]\n",
    "]]"
   ]
  },
  {
   "cell_type": "code",
   "execution_count": null,
   "id": "91c7eb61",
   "metadata": {},
   "outputs": [],
   "source": [
    "Solve[ ArcCos[P1 * Cos[t]] == r, t, Reals]"
   ]
  },
  {
   "cell_type": "code",
   "execution_count": null,
   "id": "ee1b511c",
   "metadata": {},
   "outputs": [],
   "source": [
    "DistVC = Assuming[\n",
    "    Bx^2+By^2+Bz^2 == 1,\n",
    "Assuming[\n",
    "    Bx*Qx+By*Qy+Bz*Qz == 0,\n",
    "    Collect[ UC.UV, { Sin[2*t], Cos[2*t], Sin[t], Cos[t]}, FullSimplify ]\n",
    "]]"
   ]
  },
  {
   "cell_type": "code",
   "execution_count": null,
   "id": "e639da43",
   "metadata": {},
   "outputs": [],
   "source": [
    "resEqua = Assuming[\n",
    "    0 < P1 && 0 < P2 && 0 < r,\n",
    "    Solve[ P1 * Cos[t] + P2 Sin[t] == r, t ]\n",
    "]"
   ]
  },
  {
   "cell_type": "code",
   "execution_count": null,
   "id": "b85cd1b6",
   "metadata": {},
   "outputs": [],
   "source": [
    "t /. resEqua[[1]] // Normal"
   ]
  },
  {
   "cell_type": "code",
   "execution_count": null,
   "id": "dda6d061",
   "metadata": {},
   "outputs": [],
   "source": [
    "t /. resEqua[[2]] // Normal"
   ]
  },
  {
   "cell_type": "code",
   "execution_count": null,
   "id": "91a4c8fd",
   "metadata": {},
   "outputs": [],
   "source": [
    "ABQ = {\n",
    "    P1 -> UA . UB,\n",
    "    P2 -> UA . UQ\n",
    "}"
   ]
  },
  {
   "cell_type": "code",
   "execution_count": null,
   "id": "2e819241",
   "metadata": {},
   "outputs": [],
   "source": [
    "MBQ = (P1 * r + Sqrt[P1^2 * P2^2 + P2^4 - P2^2 * r^2]) / (P1^2 + P2^2) /. ABQ // FullSimplify"
   ]
  },
  {
   "cell_type": "code",
   "execution_count": null,
   "id": "d6f2e9ce",
   "metadata": {},
   "outputs": [],
   "source": [
    "Assuming[\n",
    "    Ax^2+Ay^2+Az^2 == 1 &&\n",
    "    Bx^2+By^2+Bz^2 == 1 &&\n",
    "    Qx^2+Qy^2+Qz^2 == 1,\n",
    "Assuming[\n",
    "    Bx*Qx+By*Qy+Bz*Qz == 0,\n",
    "    MBQ\n",
    "]] // FullSimplify"
   ]
  },
  {
   "cell_type": "code",
   "execution_count": null,
   "id": "5cacfded",
   "metadata": {},
   "outputs": [],
   "source": [
    "ULY = Cross[ULZ, UV] / Sqrt[ Cross[ULZ, UV].Cross[ULZ, UV] ] // Simplify;"
   ]
  },
  {
   "cell_type": "code",
   "execution_count": null,
   "id": "aa2c16aa",
   "metadata": {},
   "outputs": [],
   "source": [
    "ULX = Collect[ Cross[ULY, ULZ] // Expand, { Sin[2*t], Cos[2*t], Sin[t], Cos[t]}, Simplify ];"
   ]
  },
  {
   "cell_type": "markdown",
   "id": "d4808120",
   "metadata": {},
   "source": [
    "We can compute the value of the angle between $V$ and $L$"
   ]
  },
  {
   "cell_type": "code",
   "execution_count": null,
   "id": "b636b4f4",
   "metadata": {},
   "outputs": [],
   "source": [
    "LeftArcP = (ULX.UV) // Expand // Simplify"
   ]
  },
  {
   "cell_type": "markdown",
   "id": "0eb05141",
   "metadata": {},
   "source": [
    "And make some simplification assuming:\n",
    "\n",
    "* $B$ is a unit vector\n",
    "* $B$ is perpendicular to $Q$ (by construction)"
   ]
  },
  {
   "cell_type": "code",
   "execution_count": null,
   "id": "e7848522",
   "metadata": {},
   "outputs": [],
   "source": [
    "LeftArc = Assuming[\n",
    "    Bx^2+By^2+Bz^2 == 1,\n",
    "Assuming[\n",
    "    Bx*Qx+By*Qy+Bz*Qz == 0,\n",
    "    Collect[ LeftArcP, { Sin[2*t], Cos[2*t], Sin[t], Cos[t]}, FullSimplify ]\n",
    "]]"
   ]
  },
  {
   "cell_type": "code",
   "execution_count": null,
   "id": "7f6f15d0",
   "metadata": {},
   "outputs": [],
   "source": [
    "sub = {\n",
    "    P1 -> (Ix*Qx + Iy*Qy + Iz*Qz),\n",
    "    P2 -> (Ix*Bx + Iy*By + Iz*Bz),\n",
    "    R1 -> -(Ax*Qx + Ay*Qy + Az*Qz)^2 / (Ay^2*(-1+By^2) + 2*Ax*Az*Bx*Bz + 2*Ay*By*(Ax*Bx+Az*Bz) +Az^2*(-1+Bz^2) - Ax^2*(By^2+Bz^2))\n",
    "}"
   ]
  },
  {
   "cell_type": "code",
   "execution_count": null,
   "id": "6fd43b02",
   "metadata": {},
   "outputs": [],
   "source": [
    "LeftEqua = Sqrt[ R1 + (1 - R1)*Cos[t]^2 ]"
   ]
  },
  {
   "cell_type": "code",
   "execution_count": null,
   "id": "b4f63fff",
   "metadata": {},
   "outputs": [],
   "source": [
    "CentEqua = P1 * Sin[t] + P2 * Cos[t]"
   ]
  },
  {
   "cell_type": "code",
   "execution_count": null,
   "id": "9a74e2d2",
   "metadata": {},
   "outputs": [],
   "source": [
    "resEqua = Solve[ LeftEqua == CentEqua, t ];"
   ]
  },
  {
   "cell_type": "code",
   "execution_count": null,
   "id": "e6db94c7",
   "metadata": {},
   "outputs": [],
   "source": [
    "tsol = t /. resEqua[[4]] // FullSimplify"
   ]
  },
  {
   "cell_type": "code",
   "execution_count": null,
   "id": "9421fd87",
   "metadata": {},
   "outputs": [],
   "source": [
    "tsol = (t /. resEqua[[4]] /. sub) // FullSimplify"
   ]
  },
  {
   "cell_type": "code",
   "execution_count": null,
   "id": "62a6770c",
   "metadata": {},
   "outputs": [],
   "source": [
    "val = {\n",
    "\tAx -> 0.794251719609759,\n",
    "\tAy -> 0.426305460744861,\n",
    "\tAz -> -0.4329293938231181,\n",
    "\tBx -> 0.4444565318238356,\n",
    "\tBy -> 0.3399936715573496,\n",
    "\tBz -> 0.8287717988807781,\n",
    "\tIx -> 0.48316498890057236,\n",
    "\tIy -> 0.4689201800947046,\n",
    "\tIz -> 0.7393682831990155,\n",
    "\tQx -> 0.24661112454861925,\n",
    "\tQy -> 0.8429853628065601,\n",
    "\tQz -> -0.47807805988432217\n",
    "}"
   ]
  },
  {
   "cell_type": "code",
   "execution_count": null,
   "id": "c7a1db00",
   "metadata": {},
   "outputs": [],
   "source": [
    "tsol /. sub /. val"
   ]
  },
  {
   "cell_type": "code",
   "execution_count": null,
   "id": "734e5f9a",
   "metadata": {},
   "outputs": [],
   "source": [
    "sub /. val"
   ]
  },
  {
   "cell_type": "code",
   "execution_count": null,
   "id": "9e257e83",
   "metadata": {},
   "outputs": [],
   "source": []
  }
 ],
 "metadata": {
  "kernelspec": {
   "display_name": "Wolfram Language 12.1",
   "language": "Wolfram Language",
   "name": "wolframlanguage12.1"
  },
  "language_info": {
   "codemirror_mode": "mathematica",
   "file_extension": ".m",
   "mimetype": "application/vnd.wolfram.m",
   "name": "Wolfram Language",
   "pygments_lexer": "mathematica",
   "version": "12.0"
  }
 },
 "nbformat": 4,
 "nbformat_minor": 5
}
