{
 "cells": [
  {
   "cell_type": "code",
   "execution_count": null,
   "metadata": {},
   "outputs": [],
   "source": [
    "ClearAll[\"Global`*\"]"
   ]
  },
  {
   "cell_type": "code",
   "execution_count": null,
   "metadata": {},
   "outputs": [],
   "source": [
    "val = {\n",
    "    vn -> 0,\n",
    "    ve -> 1,\n",
    "    wn -> -20 * 1852 / 3600 * Cos[0],\n",
    "    we -> -20 * 1852 / 3600 * Cos[0],\n",
    "    tas -> 75 * 1852 / 3600\n",
    "}\n",
    "val // N"
   ]
  },
  {
   "cell_type": "code",
   "execution_count": null,
   "metadata": {},
   "outputs": [],
   "source": [
    "kres = Solve[\n",
    "    (k * vn - wn)^2 + (k * ve - we)^2 - tas^2 == 0, {k}, Reals\n",
    "] // Normal // FullSimplify;\n"
   ]
  },
  {
   "cell_type": "code",
   "execution_count": null,
   "metadata": {},
   "outputs": [],
   "source": [
    "ksol1 = k /. kres[[1]]\n",
    "ksol1 /. val // N"
   ]
  },
  {
   "cell_type": "code",
   "execution_count": null,
   "metadata": {},
   "outputs": [],
   "source": [
    "ksol2 = k /. kres[[2]]\n",
    "ksol2 /. val // N"
   ]
  },
  {
   "cell_type": "code",
   "execution_count": null,
   "metadata": {},
   "outputs": [],
   "source": [
    "psiequ = k * vn - wn - tas * Cos[psi] /. kres[[2]] // FullSimplify"
   ]
  },
  {
   "cell_type": "code",
   "execution_count": null,
   "metadata": {},
   "outputs": [],
   "source": [
    "psires = Solve[psiequ == 0, {psi}, Reals] // Normal // FullSimplify"
   ]
  },
  {
   "cell_type": "code",
   "execution_count": null,
   "metadata": {},
   "outputs": [],
   "source": [
    "psisol1 = psi /. psires[[1]]\n",
    "psisol1 /. val // N"
   ]
  },
  {
   "cell_type": "code",
   "execution_count": null,
   "metadata": {},
   "outputs": [],
   "source": [
    "psisol2 = psi /. psires[[2]]\n",
    "psisol2 /. val // N"
   ]
  },
  {
   "cell_type": "code",
   "execution_count": null,
   "metadata": {},
   "outputs": [],
   "source": [
    "val = {\n",
    "    vn -> 1,\n",
    "    ve -> 0,\n",
    "    wn -> -20 * Cos[-Pi/6],\n",
    "    we -> -20 * Sin[-Pi/6],\n",
    "    tas -> 75\n",
    "}\n",
    "val // N\n",
    "\n",
    "ksol2 = k /. kres[[2]]\n",
    "ksol2 /. val // N\n",
    "\n",
    "psisol2 = psi /. psires[[1]]\n",
    "psisol2 /. val // N\n",
    "\n",
    "psisol2 = psi /. psires[[2]]\n",
    "psisol2 /. val // N"
   ]
  },
  {
   "cell_type": "markdown",
   "metadata": {},
   "source": [
    "## Debug"
   ]
  },
  {
   "cell_type": "code",
   "execution_count": null,
   "metadata": {},
   "outputs": [],
   "source": [
    "u = psisol2[[1]][[1]][[2]][[1]][[2]][[2]] // Normal\n",
    "u /. val\n",
    "u /. val // N"
   ]
  },
  {
   "cell_type": "code",
   "execution_count": null,
   "metadata": {},
   "outputs": [],
   "source": [
    "u = psisol2[[1]][[1]][[2]][[1]] // Normal\n",
    "u /. val\n",
    "u /. val // N"
   ]
  },
  {
   "cell_type": "code",
   "execution_count": null,
   "metadata": {},
   "outputs": [],
   "source": [
    "u = 1 / psisol2[[1]][[1]] // Normal\n",
    "u /. val\n",
    "u /. val // N"
   ]
  },
  {
   "cell_type": "code",
   "execution_count": null,
   "metadata": {},
   "outputs": [],
   "source": [
    "u = psisol2 // Normal\n",
    "u /. val\n",
    "u /. val // N"
   ]
  },
  {
   "cell_type": "code",
   "execution_count": null,
   "metadata": {},
   "outputs": [],
   "source": []
  }
 ],
 "metadata": {
  "kernelspec": {
   "display_name": "Wolfram Language 12.1",
   "language": "Wolfram Language",
   "name": "wolframlanguage12.1"
  },
  "language_info": {
   "codemirror_mode": "mathematica",
   "file_extension": ".m",
   "mimetype": "application/vnd.wolfram.m",
   "name": "Wolfram Language",
   "pygments_lexer": "mathematica",
   "version": "12.0"
  }
 },
 "nbformat": 4,
 "nbformat_minor": 4
}
