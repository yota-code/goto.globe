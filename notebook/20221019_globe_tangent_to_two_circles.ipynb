{
 "cells": [
  {
   "cell_type": "code",
   "execution_count": null,
   "metadata": {},
   "outputs": [],
   "source": [
    "%matplotlib notebook\n",
    "\n",
    "import math\n",
    "import numpy as np\n",
    "import matplotlib.pyplot as plt\n",
    "import sympy\n",
    "\n",
    "import geometrik.threed as g3d\n",
    "\n",
    "from goto.globe.plot import GlobePlotMpl"
   ]
  },
  {
   "cell_type": "markdown",
   "metadata": {},
   "source": [
    "# Tangente externe et interne\n",
    "\n",
    "Les deux solutions s'obtiennent à partir de la même équation\n",
    "\n",
    "## hypothèses\n",
    "\n",
    "On rappelle les definitions de :\n",
    "* $N_z$, le vecteur normal du plan equatorial incliné de $\\theta$ autour de $O_x$\n",
    "* $U_x$, le centre du cercle de centre R\n",
    "* $M_x$, la projection de $U_x$ sur le plan $N_z$\n",
    "\n",
    "## Calcul simple"
   ]
  },
  {
   "cell_type": "code",
   "execution_count": null,
   "metadata": {},
   "outputs": [],
   "source": [
    "theta, psi, R = sympy.symbols('theta psi R')"
   ]
  },
  {
   "cell_type": "code",
   "execution_count": null,
   "metadata": {},
   "outputs": [],
   "source": [
    "# Nz = g3d.Vector(-sympy.sin(theta), 0, sympy.cos(theta))\n",
    "# Nx = g3d.Vector(sympy.cos(theta), 0, sympy.sin(theta))\n",
    "# Ny = g3d.Vector(0, 1, 0)\n",
    "Nz = g3d.Vector(0, -sympy.sin(theta), sympy.cos(theta))\n",
    "Ny = g3d.Vector(0, sympy.cos(theta), sympy.sin(theta))\n",
    "Nx = g3d.Vector(1, 0, 0)"
   ]
  },
  {
   "cell_type": "code",
   "execution_count": null,
   "metadata": {},
   "outputs": [],
   "source": [
    "Ux = g3d.Vector(sympy.cos(psi), sympy.sin(psi), 0)"
   ]
  },
  {
   "cell_type": "code",
   "execution_count": null,
   "metadata": {},
   "outputs": [],
   "source": [
    "Mx = Ux.project(Nz)"
   ]
  },
  {
   "cell_type": "code",
   "execution_count": null,
   "metadata": {},
   "outputs": [],
   "source": [
    "psi_equ = Ux.angle_to(Mx).simplify()\n",
    "psi_equ"
   ]
  },
  {
   "cell_type": "code",
   "execution_count": null,
   "metadata": {},
   "outputs": [],
   "source": [
    "psi_sol = sympy.solve(psi_equ - R, psi)\n",
    "psi_sol[0]"
   ]
  },
  {
   "cell_type": "markdown",
   "metadata": {},
   "source": [
    "La solution trouvée par sympy n'est pas optimale, on propose la nouvelle forme suivante :"
   ]
  },
  {
   "cell_type": "code",
   "execution_count": null,
   "metadata": {},
   "outputs": [],
   "source": [
    "psi_alt = sympy.asin(sympy.sin(R) / sympy.sin(theta))\n",
    "psi_alt"
   ]
  },
  {
   "cell_type": "code",
   "execution_count": null,
   "metadata": {},
   "outputs": [],
   "source": [
    "m_val = {'theta': math.pi / 5, 'R': 0.3}\n",
    "m_val['psi'] = float(psi_alt.subs(m_val))\n",
    "\n",
    "r = Ux.angle_to(Mx)\n",
    "\n",
    "with GlobePlotMpl() as gpl :\n",
    "    gpl.add_point(Nx.subs(m_val), 'Nx', 'r')\n",
    "    gpl.add_point(Ny.subs(m_val), 'Ny', 'g')\n",
    "    gpl.add_point(Nz.subs(m_val), 'Nz', 'b')\n",
    "    gpl.add_great_circle(Nz.subs(m_val), 'k')\n",
    "    gpl.add_circle(Ux.subs(m_val), float(r.subs(m_val)), 'orange')\n",
    "    gpl.add_point(Ux.subs(m_val), 'Ux', 'yellow')\n",
    "    gpl.add_point(Mx.subs(m_val), 'Mx', 'purple')"
   ]
  },
  {
   "cell_type": "markdown",
   "metadata": {},
   "source": [
    "## Calcul complet\n",
    "\n",
    "Les points $A$ et $B$ sont séparés d'un angle $\\alpha$ donné. On cherche $\\theta$ mais également $\\psi_a$ et $\\psi_b$, leur position respective."
   ]
  },
  {
   "cell_type": "code",
   "execution_count": null,
   "metadata": {},
   "outputs": [],
   "source": [
    "theta, psi_a, psi_b, Ra, Rb, alpha = sympy.symbols('theta psi_a psi_b R_a R_b alpha')"
   ]
  },
  {
   "cell_type": "code",
   "execution_count": null,
   "metadata": {},
   "outputs": [],
   "source": [
    "Ua = g3d.Vector(sympy.cos(psi_a), sympy.sin(psi_a), 0)\n",
    "Ub = g3d.Vector(sympy.cos(psi_b), sympy.sin(psi_b), 0)"
   ]
  },
  {
   "cell_type": "code",
   "execution_count": null,
   "metadata": {},
   "outputs": [],
   "source": [
    "Ma = Ua.project(Nz)\n",
    "Mb = Ub.project(Nz)"
   ]
  },
  {
   "cell_type": "markdown",
   "metadata": {},
   "source": [
    "On récupère la solution précédemment calculée pour $\\psi$. Et pour éviter de perdre le solveur on remplace le numérateur par $P_a$ et $P_b$."
   ]
  },
  {
   "cell_type": "code",
   "execution_count": null,
   "metadata": {},
   "outputs": [],
   "source": [
    "Pa, Pb = sympy.symbols('P_a P_b')\n",
    "\n",
    "psi_a_sol = sympy.asin(Pa / sympy.sin(theta))\n",
    "psi_b_sol = sympy.asin(Pb / sympy.sin(theta))"
   ]
  },
  {
   "cell_type": "code",
   "execution_count": null,
   "metadata": {},
   "outputs": [],
   "source": [
    "theta_equ = (psi_b_sol + psi_a_sol) - alpha\n",
    "theta_equ"
   ]
  },
  {
   "cell_type": "code",
   "execution_count": null,
   "metadata": {},
   "outputs": [],
   "source": [
    "# theta_sol = sympy.solve(theta_equ, theta) # "
   ]
  },
  {
   "cell_type": "markdown",
   "metadata": {},
   "source": [
    "since sympy can not solve equation, matlab was used, here is the full script :\n",
    "\n",
    "\tsyms Pa Pb theta alpha\n",
    "\n",
    "\tpsi_a = asin(Pa / sin(theta))\n",
    "\tpsi_b = asin(Pb / sin(theta))\n",
    "\n",
    "\tequ_direct = psi_b + psi_a == alpha\n",
    "\n",
    "\tsol_direct = solve(equ_direct, theta)\n",
    "\n",
    "\ts1_orig = sol_direct(4)\n",
    "\ts2_orig = sol_direct(1)\n",
    "\n",
    "\ts3_orig = Pa^4 - 2 * cos(2*alpha) * Pa^2 * Pb^2 + Pb^4\n",
    "\n",
    "\t% mannually simplified\n",
    "\ts3 = (Pa^2 - Pb^2)^2 + 4*Pa^2*Pb^2*sin(alpha)^2\n",
    "\n",
    "\ts3_check = subs(s3_orig, [Pa, Pb, alpha], [0.4, 0.7, pi/5]) - subs(s3, [Pa, Pb, alpha], [0.4, 0.7, pi/5])\n",
    "\n",
    "\ts4_orig = 2 * Pa * Pb^3 * sin(alpha)^2 * sqrt(1 - sin(alpha)^2)\n",
    "\n",
    "\t% manually simplified\n",
    "\ts4 = 2 * Pa * Pb^3 * sin(alpha)^2 * cos(alpha)\n",
    "\n",
    "\ts4_check = simplify(subs(s4_orig, [Pa, Pb, alpha], [0.4, 0.7, pi/5]) - subs(s4, [Pa, Pb, alpha], [0.4, 0.7, pi/5]))\n",
    "\n",
    "\ts5 = Pa^2 + Pb^2 * sin(alpha)^2 - Pb^2\n",
    "\n",
    "\ts1_d = sin(alpha) * (Pa + Pb * cos(alpha))\n",
    "\ts2_d = sin(alpha) * (Pa - Pb * cos(alpha))\n",
    "\n",
    "\tsx_qn = Pa^4 - Pb^4*sin(alpha)^2 + Pb^4 - 2*Pa^2*Pb^2 + 3*Pa^2*Pb^2*sin(alpha)^2\n",
    "\n",
    "\ts1_q = simplify((sx_qn - s4) / s3)\n",
    "\ts2_q = simplify((sx_qn + s4) / s3)\n",
    "\n",
    "\ts1 = asin(s5 / (s1_d * sqrt(s1_q)))\n",
    "\ts2 = asin(s5 / (s2_d * sqrt(s2_q)))\n",
    "\n",
    "\t% check that simplification is correct\n",
    "\n",
    "\ts1_check = simplify(subs(s1_orig, [Pa, Pb, alpha], [0.4, 0.7, pi/5]) - subs(s1, [Pa, Pb, alpha], [0.4, 0.7, pi/5]))\n",
    "\ts2_check = simplify(subs(s2_orig, [Pa, Pb, alpha], [0.4, 0.7, pi/5]) - subs(s2, [Pa, Pb, alpha], [0.4, 0.7, pi/5]))"
   ]
  },
  {
   "cell_type": "code",
   "execution_count": null,
   "metadata": {},
   "outputs": [],
   "source": [
    "theta_1 = sympy.asin(\n",
    "    ((Pb**2*sympy.sin(alpha)**2 + Pa**2 - Pb**2) / (\n",
    "        sympy.sin(alpha)*(Pa + Pb*sympy.cos(alpha))* sympy.sqrt(\n",
    "            (Pa - Pb*sympy.cos(alpha))**2 /\n",
    "            (Pa**2 - 2*sympy.cos(alpha)*Pa*Pb + Pb**2)\n",
    "        )\n",
    "    )).simplify()\n",
    ").subs({'P_a': sympy.sin(Ra), 'P_b': sympy.sin(Rb)}).simplify()\n",
    "theta_1"
   ]
  },
  {
   "cell_type": "code",
   "execution_count": null,
   "metadata": {},
   "outputs": [],
   "source": [
    "theta_2 = sympy.asin(\n",
    "    ((Pb**2*sympy.sin(alpha)**2 + Pa**2 - Pb**2) / (\n",
    "        sympy.sin(alpha)*(Pa - Pb*sympy.cos(alpha))* sympy.sqrt(\n",
    "            (Pa + Pb*sympy.cos(alpha))**2 /\n",
    "            (Pa**2 + 2*sympy.cos(alpha)*Pa*Pb + Pb**2)\n",
    "        )\n",
    "    )).simplify()\n",
    ").subs({'P_a': sympy.sin(Ra), 'P_b': sympy.sin(Rb)}).simplify()\n",
    "theta_2"
   ]
  },
  {
   "cell_type": "code",
   "execution_count": null,
   "metadata": {},
   "outputs": [],
   "source": [
    "m_val = {'R_a': 0.3, 'R_b': 0.2, 'alpha': 0.7}"
   ]
  },
  {
   "cell_type": "code",
   "execution_count": null,
   "metadata": {},
   "outputs": [],
   "source": [
    "with GlobePlotMpl() as gpl :\n",
    "    m_val['theta'] = float(- theta_1.subs(m_val))\n",
    "    gpl.add_point(Nx.subs(m_val), 'Nx', 'r')\n",
    "    gpl.add_point(Ny.subs(m_val), 'Ny', 'g')\n",
    "    gpl.add_point(Nz.subs(m_val), 'Nz', 'b')\n",
    "    gpl.add_great_circle(Nz.subs(m_val), 'orange')\n",
    "    m_val['psi_a'] = float(sympy.asin(sympy.sin(Ra) / sympy.sin(theta)).subs(m_val))\n",
    "    m_val['psi_b'] = float(sympy.asin(sympy.sin(Rb) / sympy.sin(theta)).subs(m_val))\n",
    "    gpl.add_circle(Ua.subs(m_val), float(Ra.subs(m_val)), 'orange')\n",
    "    gpl.add_circle(Ub.subs(m_val), float(Rb.subs(m_val)), 'red')\n",
    "    gpl.add_line(Ua.subs(m_val), Ub.subs(m_val), 'yellow')"
   ]
  },
  {
   "cell_type": "code",
   "execution_count": null,
   "metadata": {},
   "outputs": [],
   "source": [
    "with GlobePlotMpl() as gpl :    \n",
    "    m_val['theta'] = float(theta_2.subs(m_val))\n",
    "    gpl.add_point(Nx.subs(m_val), 'Nx', 'r')\n",
    "    gpl.add_point(Ny.subs(m_val), 'Ny', 'g')\n",
    "    gpl.add_point(Nz.subs(m_val), 'Nz', 'b')\n",
    "    gpl.add_great_circle(Nz.subs(m_val), 'purple')\n",
    "    m_val['psi_a'] = float(sympy.asin(sympy.sin(Ra) / sympy.sin(theta)).subs(m_val))\n",
    "    m_val['psi_b'] = float(- sympy.asin(sympy.sin(Rb) / sympy.sin(theta)).subs(m_val))\n",
    "    gpl.add_circle(Ua.subs(m_val), float(Ra.subs(m_val)), 'magenta')\n",
    "    gpl.add_circle(Ub.subs(m_val), float(Rb.subs(m_val)), 'purple')\n",
    "    gpl.add_line(Ua.subs(m_val), Ub.subs(m_val), 'r')\n"
   ]
  },
  {
   "cell_type": "code",
   "execution_count": null,
   "metadata": {},
   "outputs": [],
   "source": []
  }
 ],
 "metadata": {
  "kernelspec": {
   "display_name": "Python 3",
   "language": "python",
   "name": "python3"
  },
  "language_info": {
   "codemirror_mode": {
    "name": "ipython",
    "version": 3
   },
   "file_extension": ".py",
   "mimetype": "text/x-python",
   "name": "python",
   "nbconvert_exporter": "python",
   "pygments_lexer": "ipython3",
   "version": "3.8.10"
  }
 },
 "nbformat": 4,
 "nbformat_minor": 4
}
