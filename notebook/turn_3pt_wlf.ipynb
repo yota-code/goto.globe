{
 "cells": [
  {
   "cell_type": "markdown",
   "id": "3df40c9b",
   "metadata": {},
   "source": [
    "# Symbolic computation of the joint\n",
    "\n",
    "The three vector $A$, $B$ and $C$ define two jointive segments $AB$ and $BC$. $I$ is the inner point of the intersection of the corridors. $Q$ is a vector which bissect the two segments and is perpendicular to $B$"
   ]
  },
  {
   "cell_type": "code",
   "execution_count": null,
   "id": "4f6e2875",
   "metadata": {},
   "outputs": [],
   "source": [
    "UA = {Ax, Ay, Az}\n",
    "UB = {Bx, By, Bz}\n",
    "UC = {Cx, Cy, Cz}\n",
    "UQ = {Qx, Qy, Qz}"
   ]
  },
  {
   "cell_type": "markdown",
   "id": "85108a53",
   "metadata": {},
   "source": [
    "$V$ is a vector on the $BQ$ bissector, parametrized by $t$"
   ]
  },
  {
   "cell_type": "code",
   "execution_count": null,
   "id": "f5816830",
   "metadata": {},
   "outputs": [],
   "source": [
    "UV = UB * Cos[t] + UQ * Sin[t]"
   ]
  },
  {
   "cell_type": "markdown",
   "id": "e48731a9",
   "metadata": {},
   "source": [
    "$L$ is the projection of V on the segment $AB$"
   ]
  },
  {
   "cell_type": "code",
   "execution_count": null,
   "id": "17941d21",
   "metadata": {},
   "outputs": [],
   "source": [
    "ULZ = Cross[UA, UB] / Sqrt[ Cross[UA, UB].Cross[UA, UB] ] // Simplify;"
   ]
  },
  {
   "cell_type": "code",
   "execution_count": null,
   "id": "ee866ca7",
   "metadata": {},
   "outputs": [],
   "source": [
    "ULY = Cross[ULZ, UV] / Sqrt[ Cross[ULZ, UV].Cross[ULZ, UV] ] // Simplify;"
   ]
  },
  {
   "cell_type": "code",
   "execution_count": null,
   "id": "22fb63e0",
   "metadata": {},
   "outputs": [],
   "source": [
    "ULX = Collect[ Cross[ULY, ULZ] // Expand, { Sin[2*t], Cos[2*t], Sin[t], Cos[t]}, Simplify ];"
   ]
  },
  {
   "cell_type": "markdown",
   "id": "f60d8d4b",
   "metadata": {},
   "source": [
    "We can compute the value of the angle between $V$ and $L$"
   ]
  },
  {
   "cell_type": "code",
   "execution_count": null,
   "id": "043748fe",
   "metadata": {},
   "outputs": [],
   "source": [
    "LeftArcP = (ULX.UV) // Expand // Simplify"
   ]
  },
  {
   "cell_type": "markdown",
   "id": "77b314af",
   "metadata": {},
   "source": [
    "And make some simplification assuming:\n",
    "\n",
    "* $B$ is a unit vector\n",
    "* $B$ is perpendicular to $Q$ (by construction)"
   ]
  },
  {
   "cell_type": "code",
   "execution_count": null,
   "id": "f8716eea",
   "metadata": {},
   "outputs": [],
   "source": [
    "LeftArc = Assuming[\n",
    "    Bx^2+By^2+Bz^2 == 1,\n",
    "Assuming[\n",
    "    Bx*Qx+By*Qy+Bz*Qz == 0,\n",
    "    Collect[ ArcCos[ LeftArcP ], { Sin[2*t], Cos[2*t], Sin[t], Cos[t]}, FullSimplify ]\n",
    "]]"
   ]
  },
  {
   "cell_type": "code",
   "execution_count": null,
   "id": "80cf8f56",
   "metadata": {},
   "outputs": [],
   "source": [
    "sub = {\n",
    "    P1 -> (Ix*Qx + Iy*Qy + Iz*Qz),\n",
    "    P2 -> (Ix*Bx + Iy*By + Iz*Bz),\n",
    "    R1 -> -(Ax*Qx + Ay*Qy + Az*Qz)^2 / (Ay^2*(-1+By^2) + 2*Ax*Az*Bx*Bz + 2*Ay*By*(Ax*Bx+Az*Bz) +Az^2*(-1+Bz^2) - Ax^2*(By^2+Bz^2))\n",
    "}"
   ]
  },
  {
   "cell_type": "code",
   "execution_count": null,
   "id": "78387bbc",
   "metadata": {},
   "outputs": [],
   "source": [
    "LeftEqua = ArcCos[ Sqrt[ R1 + (1 - R1)*Cos[t]^2 ] ]"
   ]
  },
  {
   "cell_type": "code",
   "execution_count": null,
   "id": "b7d971f6",
   "metadata": {},
   "outputs": [],
   "source": [
    "CentEqua = P1 * Sin[t] + P2 * Cos[t]"
   ]
  },
  {
   "cell_type": "code",
   "execution_count": null,
   "id": "ce4aa8c1",
   "metadata": {},
   "outputs": [],
   "source": [
    "resEqua = Solve[ LeftEqua == d, t ]"
   ]
  },
  {
   "cell_type": "code",
   "execution_count": null,
   "id": "b211c756",
   "metadata": {},
   "outputs": [],
   "source": [
    "tsol1 = t /. resEqua[[2]] // FullSimplify"
   ]
  },
  {
   "cell_type": "code",
   "execution_count": null,
   "id": "9d7d66d0",
   "metadata": {},
   "outputs": [],
   "source": [
    "tsol2 = t /. resEqua[[4]] // FullSimplify"
   ]
  },
  {
   "cell_type": "code",
   "execution_count": null,
   "id": "af3c41b9",
   "metadata": {},
   "outputs": [],
   "source": [
    "val = {\n",
    "\tAx -> 0.794251719609759,\n",
    "\tAy -> 0.426305460744861,\n",
    "\tAz -> -0.4329293938231181,\n",
    "\tBx -> 0.4444565318238356,\n",
    "\tBy -> 0.3399936715573496,\n",
    "\tBz -> 0.8287717988807781,\n",
    "\tQx -> 0.24661112454861925,\n",
    "\tQy -> 0.8429853628065601,\n",
    "\tQz -> -0.47807805988432217\n",
    "}\n",
    "vald = { d -> 0.25124028407072047}\n",
    "valt = { t -> 0.4 }"
   ]
  },
  {
   "cell_type": "code",
   "execution_count": null,
   "id": "967e767f",
   "metadata": {},
   "outputs": [],
   "source": [
    "tsol1 /. sub /. val /. vald"
   ]
  },
  {
   "cell_type": "code",
   "execution_count": null,
   "id": "e68f7d0b",
   "metadata": {},
   "outputs": [],
   "source": [
    "tsol2 /. sub /. val /. vald"
   ]
  },
  {
   "cell_type": "code",
   "execution_count": null,
   "id": "2608cf49",
   "metadata": {},
   "outputs": [],
   "source": [
    "(R1 - Cos[d]^2) /. sub /. val /. vald\n",
    "(-1 + R1) /. sub /. val\n",
    "ArcCos[Sqrt[-R1 + Cos[d]^2]/Sqrt[1 - R1]] /. sub /. val /. vald"
   ]
  },
  {
   "cell_type": "code",
   "execution_count": null,
   "id": "a3a1dc6a",
   "metadata": {},
   "outputs": [],
   "source": [
    "tsol2"
   ]
  },
  {
   "cell_type": "code",
   "execution_count": null,
   "id": "c3951e6f",
   "metadata": {},
   "outputs": [],
   "source": [
    "ArcCos[Sqrt[-R1 + Cos[d]^2)]/Sqrt[1 - R1]] "
   ]
  },
  {
   "cell_type": "code",
   "execution_count": null,
   "id": "544f2ae6",
   "metadata": {},
   "outputs": [],
   "source": [
    "UV /. resEqua[[4]] /. sub /. val"
   ]
  },
  {
   "cell_type": "code",
   "execution_count": null,
   "id": "fd4b9347",
   "metadata": {},
   "outputs": [],
   "source": [
    "ULX /. sub /. val /. valt"
   ]
  },
  {
   "cell_type": "code",
   "execution_count": null,
   "id": "5cb9e0d4",
   "metadata": {},
   "outputs": [],
   "source": [
    "LeftArc /. sub /. val /. valt"
   ]
  },
  {
   "cell_type": "code",
   "execution_count": null,
   "id": "42de8f35",
   "metadata": {},
   "outputs": [],
   "source": [
    "LeftEqua /. sub /. val /. valt"
   ]
  },
  {
   "cell_type": "code",
   "execution_count": null,
   "id": "c9ef0e04",
   "metadata": {},
   "outputs": [],
   "source": []
  },
  {
   "cell_type": "code",
   "execution_count": null,
   "id": "29b76eee",
   "metadata": {},
   "outputs": [],
   "source": []
  },
  {
   "cell_type": "code",
   "execution_count": null,
   "id": "45846e58",
   "metadata": {},
   "outputs": [],
   "source": []
  },
  {
   "cell_type": "code",
   "execution_count": null,
   "id": "78352261",
   "metadata": {},
   "outputs": [],
   "source": []
  },
  {
   "cell_type": "code",
   "execution_count": null,
   "id": "fc4409a5",
   "metadata": {},
   "outputs": [],
   "source": []
  }
 ],
 "metadata": {
  "kernelspec": {
   "display_name": "Wolfram Language 12.1",
   "language": "Wolfram Language",
   "name": "wolframlanguage12.1"
  },
  "language_info": {
   "codemirror_mode": "mathematica",
   "file_extension": ".m",
   "mimetype": "application/vnd.wolfram.m",
   "name": "Wolfram Language",
   "pygments_lexer": "mathematica",
   "version": "12.0"
  }
 },
 "nbformat": 4,
 "nbformat_minor": 5
}
