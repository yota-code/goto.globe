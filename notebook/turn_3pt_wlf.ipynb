{
 "cells": [
  {
   "cell_type": "markdown",
   "id": "cb635662",
   "metadata": {},
   "source": [
    "# Symbolic computation of the joint\n",
    "\n",
    "The three vector $A$, $B$ and $C$ define two jointive segments $AB$ and $BC$. $I$ is the inner point of the intersection of the corridors. $Q$ is a vector which bissect the two segments and is perpendicular to $B$"
   ]
  },
  {
   "cell_type": "code",
   "execution_count": null,
   "id": "6cc04781",
   "metadata": {},
   "outputs": [],
   "source": [
    "UA = {Ax, Ay, Az}\n",
    "UB = {Bx, By, Bz}\n",
    "UC = {Cx, Cy, Cz}\n",
    "UQ = {Qx, Qy, Qz}"
   ]
  },
  {
   "cell_type": "markdown",
   "id": "4dc63005",
   "metadata": {},
   "source": [
    "$V$ is a vector on the $BQ$ bissector, parametrized by $t$"
   ]
  },
  {
   "cell_type": "code",
   "execution_count": null,
   "id": "b66a9ef4",
   "metadata": {},
   "outputs": [],
   "source": [
    "UV = UB * Cos[t] + UQ * Sin[t]"
   ]
  },
  {
   "cell_type": "markdown",
   "id": "82340e5d",
   "metadata": {},
   "source": [
    "$L$ is the projection of V on the segment $AB$"
   ]
  },
  {
   "cell_type": "code",
   "execution_count": null,
   "id": "94cfeb2f",
   "metadata": {},
   "outputs": [],
   "source": [
    "ULZ = Cross[UA, UB] / Sqrt[ Cross[UA, UB].Cross[UA, UB] ] // Simplify;"
   ]
  },
  {
   "cell_type": "code",
   "execution_count": null,
   "id": "071363b1",
   "metadata": {},
   "outputs": [],
   "source": [
    "ULY = Cross[ULZ, UV] / Sqrt[ Cross[ULZ, UV].Cross[ULZ, UV] ] // Simplify;"
   ]
  },
  {
   "cell_type": "code",
   "execution_count": null,
   "id": "64681cfb",
   "metadata": {},
   "outputs": [],
   "source": [
    "ULX = Collect[ Cross[ULY, ULZ] // Expand, { Sin[2*t], Cos[2*t], Sin[t], Cos[t]}, Simplify ];"
   ]
  },
  {
   "cell_type": "markdown",
   "id": "521c49f8",
   "metadata": {},
   "source": [
    "We can compute the value of the angle between $V$ and $L$"
   ]
  },
  {
   "cell_type": "code",
   "execution_count": null,
   "id": "238d3f8a",
   "metadata": {},
   "outputs": [],
   "source": [
    "LeftArcP = (ULX.UV) // Expand // Simplify"
   ]
  },
  {
   "cell_type": "markdown",
   "id": "ac869d99",
   "metadata": {},
   "source": [
    "And make some simplification assuming:\n",
    "\n",
    "* $B$ is a unit vector\n",
    "* $B$ is perpendicular to $Q$ (by construction)"
   ]
  },
  {
   "cell_type": "code",
   "execution_count": null,
   "id": "bd044bd8",
   "metadata": {},
   "outputs": [],
   "source": [
    "LeftArc = Assuming[\n",
    "    Bx^2+By^2+Bz^2 == 1,\n",
    "Assuming[\n",
    "    Bx*Qx+By*Qy+Bz*Qz == 0,\n",
    "    Collect[ ArcCos[ LeftArcP ], { Sin[2*t], Cos[2*t], Sin[t], Cos[t]}, FullSimplify ]\n",
    "]]"
   ]
  },
  {
   "cell_type": "code",
   "execution_count": null,
   "id": "cfaf5536",
   "metadata": {},
   "outputs": [],
   "source": [
    "sub = {\n",
    "    P1 -> (Ix*Qx + Iy*Qy + Iz*Qz),\n",
    "    P2 -> (Ix*Bx + Iy*By + Iz*Bz),\n",
    "    R1 -> -(Ax*Qx + Ay*Qy + Az*Qz)^2 / (Ay^2*(-1+By^2) + 2*Ax*Az*Bx*Bz + 2*Ay*By*(Ax*Bx+Az*Bz) +Az^2*(-1+Bz^2) - Ax^2*(By^2+Bz^2))\n",
    "}"
   ]
  },
  {
   "cell_type": "code",
   "execution_count": null,
   "id": "bef6124b",
   "metadata": {},
   "outputs": [],
   "source": [
    "LeftEqua = ArcCos[ Sqrt[ R1 + (1 - R1)*Cos[t]^2 ] ]"
   ]
  },
  {
   "cell_type": "code",
   "execution_count": null,
   "id": "604f4046",
   "metadata": {},
   "outputs": [],
   "source": [
    "CentEqua = P1 * Sin[t] + P2 * Cos[t]"
   ]
  },
  {
   "cell_type": "code",
   "execution_count": null,
   "id": "8b42103e",
   "metadata": {},
   "outputs": [],
   "source": [
    "resEqua = Solve[ LeftEqua == d, t ]"
   ]
  },
  {
   "cell_type": "code",
   "execution_count": null,
   "id": "f01e0196",
   "metadata": {},
   "outputs": [],
   "source": [
    "tsol1 = t /. resEqua[[2]] // FullSimplify"
   ]
  },
  {
   "cell_type": "code",
   "execution_count": null,
   "id": "28ef9be8",
   "metadata": {},
   "outputs": [],
   "source": [
    "tsol2 = t /. resEqua[[4]] // FullSimplify"
   ]
  },
  {
   "cell_type": "code",
   "execution_count": null,
   "id": "616e779b",
   "metadata": {},
   "outputs": [],
   "source": [
    "val = {\n",
    "\tAx -> 0.794251719609759,\n",
    "\tAy -> 0.426305460744861,\n",
    "\tAz -> -0.4329293938231181,\n",
    "\tBx -> 0.4444565318238356,\n",
    "\tBy -> 0.3399936715573496,\n",
    "\tBz -> 0.8287717988807781,\n",
    "\tQx -> 0.24661112454861925,\n",
    "\tQy -> 0.8429853628065601,\n",
    "\tQz -> -0.47807805988432217\n",
    "}\n",
    "vald = { d -> 0.25124028407072047}\n",
    "valt = { t -> 0.4 }"
   ]
  },
  {
   "cell_type": "code",
   "execution_count": null,
   "id": "cc485e24",
   "metadata": {},
   "outputs": [],
   "source": [
    "tsol1 /. sub /. val /. vald"
   ]
  },
  {
   "cell_type": "code",
   "execution_count": null,
   "id": "0e0d146f",
   "metadata": {},
   "outputs": [],
   "source": [
    "tsol2 /. sub /. val /. vald"
   ]
  },
  {
   "cell_type": "code",
   "execution_count": null,
   "id": "99ab0f25",
   "metadata": {},
   "outputs": [],
   "source": [
    "(R1 - Cos[d]^2) /. sub /. val /. vald\n",
    "(-1 + R1) /. sub /. val\n",
    "ArcCos[Sqrt[-R1 + Cos[d]^2]/Sqrt[1 - R1]] /. sub /. val /. vald"
   ]
  },
  {
   "cell_type": "code",
   "execution_count": null,
   "id": "64ef7343",
   "metadata": {},
   "outputs": [],
   "source": [
    "tsol2"
   ]
  },
  {
   "cell_type": "code",
   "execution_count": null,
   "id": "36e1632a",
   "metadata": {},
   "outputs": [],
   "source": [
    "ArcCos[Sqrt[-R1 + Cos[d]^2)]/Sqrt[1 - R1]] "
   ]
  },
  {
   "cell_type": "code",
   "execution_count": null,
   "id": "6299e0ef",
   "metadata": {},
   "outputs": [],
   "source": [
    "UV /. resEqua[[4]] /. sub /. val"
   ]
  },
  {
   "cell_type": "code",
   "execution_count": null,
   "id": "39b1ea22",
   "metadata": {},
   "outputs": [],
   "source": [
    "ULX /. sub /. val /. valt"
   ]
  },
  {
   "cell_type": "code",
   "execution_count": null,
   "id": "a0e8697c",
   "metadata": {},
   "outputs": [],
   "source": [
    "LeftArc /. sub /. val /. valt"
   ]
  },
  {
   "cell_type": "code",
   "execution_count": null,
   "id": "39c479b2",
   "metadata": {},
   "outputs": [],
   "source": [
    "LeftEqua /. sub /. val /. valt"
   ]
  },
  {
   "cell_type": "code",
   "execution_count": null,
   "id": "25a319b8",
   "metadata": {},
   "outputs": [],
   "source": []
  },
  {
   "cell_type": "code",
   "execution_count": null,
   "id": "84c4abbf",
   "metadata": {},
   "outputs": [],
   "source": []
  },
  {
   "cell_type": "code",
   "execution_count": null,
   "id": "fa3aea06",
   "metadata": {},
   "outputs": [],
   "source": []
  },
  {
   "cell_type": "code",
   "execution_count": null,
   "id": "6e91590e",
   "metadata": {},
   "outputs": [],
   "source": []
  },
  {
   "cell_type": "code",
   "execution_count": null,
   "id": "4439e091",
   "metadata": {},
   "outputs": [],
   "source": []
  }
 ],
 "metadata": {
  "kernelspec": {
   "display_name": "Wolfram Language 12.1",
   "language": "Wolfram Language",
   "name": "wolframlanguage12.1"
  },
  "language_info": {
   "codemirror_mode": "mathematica",
   "file_extension": ".m",
   "mimetype": "application/vnd.wolfram.m",
   "name": "Wolfram Language",
   "pygments_lexer": "mathematica",
   "version": "12.0"
  }
 },
 "nbformat": 4,
 "nbformat_minor": 5
}
