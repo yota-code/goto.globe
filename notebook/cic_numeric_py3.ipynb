{
 "cells": [
  {
   "cell_type": "code",
   "execution_count": 1,
   "metadata": {},
   "outputs": [
    {
     "ename": "NameError",
     "evalue": "name 'geometrik' is not defined",
     "output_type": "error",
     "traceback": [
      "\u001b[0;31m---------------------------------------------------------------------------\u001b[0m",
      "\u001b[0;31mNameError\u001b[0m                                 Traceback (most recent call last)",
      "\u001b[0;32m<ipython-input-1-67fbe24079ea>\u001b[0m in \u001b[0;36m<module>\u001b[0;34m\u001b[0m\n\u001b[1;32m      5\u001b[0m \u001b[0;32mimport\u001b[0m \u001b[0msympy\u001b[0m\u001b[0;34m\u001b[0m\u001b[0;34m\u001b[0m\u001b[0m\n\u001b[1;32m      6\u001b[0m \u001b[0;34m\u001b[0m\u001b[0m\n\u001b[0;32m----> 7\u001b[0;31m \u001b[0;32mimport\u001b[0m \u001b[0mgeometrik\u001b[0m\u001b[0;34m.\u001b[0m\u001b[0mthreed\u001b[0m \u001b[0;32mas\u001b[0m \u001b[0mg3d\u001b[0m\u001b[0;34m\u001b[0m\u001b[0;34m\u001b[0m\u001b[0m\n\u001b[0m\u001b[1;32m      8\u001b[0m \u001b[0;32mfrom\u001b[0m \u001b[0mgeometrik\u001b[0m\u001b[0;34m.\u001b[0m\u001b[0mthreed\u001b[0m\u001b[0;34m.\u001b[0m\u001b[0mplot\u001b[0m \u001b[0;32mimport\u001b[0m \u001b[0mUnitSpherePlot\u001b[0m\u001b[0;34m\u001b[0m\u001b[0;34m\u001b[0m\u001b[0m\n\u001b[1;32m      9\u001b[0m \u001b[0;34m\u001b[0m\u001b[0m\n",
      "\u001b[0;32m/mnt/workbench/source/goto.globe/package/geometrik/threed/__init__.py\u001b[0m in \u001b[0;36m<module>\u001b[0;34m\u001b[0m\n\u001b[1;32m      1\u001b[0m \u001b[0;31m#!/usr/bin/env python3\u001b[0m\u001b[0;34m\u001b[0m\u001b[0;34m\u001b[0m\u001b[0;34m\u001b[0m\u001b[0m\n\u001b[1;32m      2\u001b[0m \u001b[0;34m\u001b[0m\u001b[0m\n\u001b[0;32m----> 3\u001b[0;31m \u001b[0;32mimport\u001b[0m \u001b[0mgeometrik\u001b[0m\u001b[0;34m.\u001b[0m\u001b[0mthreed\u001b[0m\u001b[0;34m.\u001b[0m\u001b[0mvector\u001b[0m \u001b[0;32mas\u001b[0m \u001b[0mvector\u001b[0m\u001b[0;34m\u001b[0m\u001b[0;34m\u001b[0m\u001b[0m\n\u001b[0m\u001b[1;32m      4\u001b[0m \u001b[0;32mimport\u001b[0m \u001b[0mgeometrik\u001b[0m\u001b[0;34m.\u001b[0m\u001b[0mthreed\u001b[0m\u001b[0;34m.\u001b[0m\u001b[0mplane\u001b[0m \u001b[0;32mas\u001b[0m \u001b[0mplane\u001b[0m\u001b[0;34m\u001b[0m\u001b[0;34m\u001b[0m\u001b[0m\n\u001b[1;32m      5\u001b[0m \u001b[0;34m\u001b[0m\u001b[0m\n",
      "\u001b[0;32m/mnt/workbench/source/goto.globe/package/geometrik/threed/vector.py\u001b[0m in \u001b[0;36m<module>\u001b[0;34m\u001b[0m\n\u001b[1;32m    130\u001b[0m \u001b[0;34m\u001b[0m\u001b[0m\n\u001b[1;32m    131\u001b[0m \u001b[0mv_null\u001b[0m \u001b[0;34m=\u001b[0m \u001b[0mVector\u001b[0m\u001b[0;34m(\u001b[0m\u001b[0;36m0.0\u001b[0m\u001b[0;34m,\u001b[0m \u001b[0;36m0.0\u001b[0m\u001b[0;34m,\u001b[0m \u001b[0;36m0.0\u001b[0m\u001b[0;34m)\u001b[0m\u001b[0;34m\u001b[0m\u001b[0;34m\u001b[0m\u001b[0m\n\u001b[0;32m--> 132\u001b[0;31m \u001b[0mv_north\u001b[0m \u001b[0;34m=\u001b[0m \u001b[0mgeometrik\u001b[0m\u001b[0;34m.\u001b[0m\u001b[0mthreed\u001b[0m\u001b[0;34m.\u001b[0m\u001b[0mvector\u001b[0m\u001b[0;34m.\u001b[0m\u001b[0mVector\u001b[0m\u001b[0;34m(\u001b[0m\u001b[0;36m0.0\u001b[0m\u001b[0;34m,\u001b[0m \u001b[0;36m0.0\u001b[0m\u001b[0;34m,\u001b[0m \u001b[0;36m1.0\u001b[0m\u001b[0;34m)\u001b[0m\u001b[0;34m\u001b[0m\u001b[0;34m\u001b[0m\u001b[0m\n\u001b[0m\u001b[1;32m    133\u001b[0m \u001b[0mv_east\u001b[0m \u001b[0;34m=\u001b[0m \u001b[0mgeometrik\u001b[0m\u001b[0;34m.\u001b[0m\u001b[0mthreed\u001b[0m\u001b[0;34m.\u001b[0m\u001b[0mvector\u001b[0m\u001b[0;34m.\u001b[0m\u001b[0mVector\u001b[0m\u001b[0;34m(\u001b[0m\u001b[0;36m0.0\u001b[0m\u001b[0;34m,\u001b[0m \u001b[0;36m1.0\u001b[0m\u001b[0;34m,\u001b[0m \u001b[0;36m0.0\u001b[0m\u001b[0;34m)\u001b[0m\u001b[0;34m\u001b[0m\u001b[0;34m\u001b[0m\u001b[0m\n\u001b[1;32m    134\u001b[0m \u001b[0mv_zero\u001b[0m \u001b[0;34m=\u001b[0m \u001b[0mv_east\u001b[0m \u001b[0;34m@\u001b[0m \u001b[0mv_north\u001b[0m\u001b[0;34m\u001b[0m\u001b[0;34m\u001b[0m\u001b[0m\n",
      "\u001b[0;31mNameError\u001b[0m: name 'geometrik' is not defined"
     ]
    }
   ],
   "source": [
    "%matplotlib notebook\n",
    "\n",
    "import math\n",
    "\n",
    "import sympy\n",
    "\n",
    "import geometrik.threed as g3d\n",
    "from geometrik.threed.plot import UnitSpherePlot\n",
    "\n",
    "import goto.globe.blip\n",
    "import goto.globe.lineto"
   ]
  },
  {
   "cell_type": "code",
   "execution_count": null,
   "metadata": {},
   "outputs": [],
   "source": [
    "BOD = goto.globe.blip.Blip(44.828333, -0.715556).as_vector\n",
    "MXP = goto.globe.blip.Blip(45.63, 8.723056).as_vector\n",
    "MRS = goto.globe.blip.Blip(43.436667, 5.215).as_vector\n",
    "LHR = goto.globe.blip.Blip(51.4775, -0.461389).as_vector\n",
    "LIS = goto.globe.blip.Blip(38.774167, -9.134167).as_vector\n",
    "RKV = goto.globe.blip.Blip(64.13, -21.940556).as_vector\n",
    "SYD = goto.globe.blip.Blip(-33.946111, 151.177222).as_vector\n",
    "PRY = goto.globe.blip.Blip(-25.653611, 28.224167).as_vector\n",
    "SVO = goto.globe.blip.Blip(55.972778, 37.414722).as_vector\n",
    "SIN = goto.globe.blip.Blip(1.359167, 103.989444).as_vector\n",
    "\n",
    "A, B, C = PRY, SVO, SIN"
   ]
  },
  {
   "cell_type": "code",
   "execution_count": null,
   "metadata": {},
   "outputs": [],
   "source": [
    "z = 8\n",
    "lineto_AB = goto.globe.lineto.CorridorLineTo(A, B, 0.02*z, 0.01*z)\n",
    "lineto_BC = goto.globe.lineto.CorridorLineTo(B, C, 0.01*z, 0.03*z)"
   ]
  },
  {
   "cell_type": "code",
   "execution_count": null,
   "metadata": {
    "scrolled": true
   },
   "outputs": [],
   "source": [
    "with UnitSpherePlot() as u :\n",
    "    u.add_point(A, \"A\", 'r')\n",
    "    u.add_point(B, \"B\", 'g')\n",
    "    u.add_point(C, \"C\", 'b')\n",
    "    u.add_arc(A, B, 'yellow')\n",
    "    u.add_arc(B, C, 'cyan')"
   ]
  },
  {
   "cell_type": "markdown",
   "metadata": {},
   "source": [
    "Given 3 cities $A$, $B$ and $C$ which make two segments: one from $A$ to $B$ and one from $B$ to $C$"
   ]
  },
  {
   "cell_type": "markdown",
   "metadata": {},
   "source": [
    "$Q$ is a vector which bissect $\\widehat{ABC}$ and is perpendicular to $B$"
   ]
  },
  {
   "cell_type": "code",
   "execution_count": null,
   "metadata": {},
   "outputs": [],
   "source": [
    "lineto_BA = goto.globe.lineto.LineTo(B, A)\n",
    "\n",
    "q = lineto_BA.Ly.signed_angle_to(lineto_BC.Ly, B)\n",
    "q"
   ]
  },
  {
   "cell_type": "code",
   "execution_count": null,
   "metadata": {},
   "outputs": [],
   "source": [
    "Q = (lineto_BC.Ly + lineto_BA.Ly ).normalized()"
   ]
  },
  {
   "cell_type": "code",
   "execution_count": null,
   "metadata": {},
   "outputs": [],
   "source": [
    "with UnitSpherePlot() as u :\n",
    "    u.add_point(A, \"A\", 'r')\n",
    "    u.add_point(B, \"B\", 'g')\n",
    "    u.add_point(C, \"C\", 'b')\n",
    "    u.add_point(Q, \"Q\", 'k')\n",
    "    u.add_point(lineto_BC.Lx, \"BCx\", 'cyan')\n",
    "    u.add_point(lineto_BC.Ly, \"BCy\", 'cyan')\n",
    "    u.add_point(lineto_BC.Lz, \"BCz\", 'cyan')\n",
    "    u.add_point(lineto_BA.Lx, \"BAx\", 'yellow')\n",
    "    u.add_point(lineto_BA.Ly, \"BAy\", 'yellow')\n",
    "    u.add_point(lineto_BA.Lz, \"BAz\", 'yellow')\n",
    "    u.add_arc(B, A, 'yellow')\n",
    "    u.add_arc(B, C, 'cyan')\n"
   ]
  },
  {
   "cell_type": "markdown",
   "metadata": {},
   "source": [
    "We can compute the inner sides of the corridor, given the specified widths"
   ]
  },
  {
   "cell_type": "code",
   "execution_count": null,
   "metadata": {},
   "outputs": [],
   "source": [
    "w = math.copysign(1.0, q)\n",
    "\n",
    "point_ab = lineto_AB.side_point(0.0, -w)\n",
    "point_ba = lineto_AB.side_point(1.0, -w)\n",
    "point_bc = lineto_BC.side_point(1.0, -w)\n",
    "point_cb = lineto_BC.side_point(0.0, -w)\n",
    "    \n",
    "side_ab = goto.globe.lineto.LineTo(point_ab, point_ba)\n",
    "side_bc = goto.globe.lineto.LineTo(point_bc, point_cb)"
   ]
  },
  {
   "cell_type": "markdown",
   "metadata": {},
   "source": [
    "The vector $I$ is given by the intersection of the inner side of the corridor"
   ]
  },
  {
   "cell_type": "code",
   "execution_count": null,
   "metadata": {},
   "outputs": [],
   "source": [
    "I = side_ab.intersection(side_bc)"
   ]
  },
  {
   "cell_type": "code",
   "execution_count": null,
   "metadata": {},
   "outputs": [],
   "source": [
    "with UnitSpherePlot() as u :\n",
    "    u.add_point(A, \"A\", 'r')\n",
    "    u.add_point(B, \"B\", 'g')\n",
    "    u.add_point(C, \"C\", 'b')\n",
    "    u.add_point(Q, 'Q', 'k')\n",
    "    u.add_point(I, 'I', 'magenta')\n",
    "    u.add_arc(A, B, 'yellow')\n",
    "    u.add_arc(B, C, 'cyan')\n",
    "    u.add_arc(point_ab, point_ba, 'orange')\n",
    "    u.add_arc(point_bc, point_cb, 'dodgerblue')"
   ]
  },
  {
   "cell_type": "markdown",
   "metadata": {},
   "source": [
    "On défini le point $V$ comme un point construit à partir de $B$ et de $Q$"
   ]
  },
  {
   "cell_type": "markdown",
   "metadata": {},
   "source": [
    "Les résultats utilisés ici sont expliqués dans le notebook `cic_symbolic_wlf`"
   ]
  },
  {
   "cell_type": "code",
   "execution_count": null,
   "metadata": {},
   "outputs": [],
   "source": [
    "P1 = I * Q\n",
    "P2 = I * B\n",
    "R1 = -(A * Q)**2 / (\n",
    "    A.y**2*(-1+B.y**2) +\n",
    "    2*A.x*A.z*B.x*B.z +\n",
    "    2*A.y*B.y*(A.x*B.x+A.z*B.z) +\n",
    "    A.z**2*(-1+B.z**2) -\n",
    "    A.x**2*(B.y**2+B.z**2)\n",
    ")"
   ]
  },
  {
   "cell_type": "code",
   "execution_count": null,
   "metadata": {},
   "outputs": [],
   "source": [
    "t = math.acos(math.sqrt( (P1**2 - R1)**2 / (\n",
    "    P1**4 + P1**2*(1 + P2**2 - 2*R1) +\n",
    "    R1*(-1 + P2**2 + R1) +\n",
    "    2*math.sqrt(P1**2*P2**2*(P1**2 + (-1 + P2**2)*R1))\n",
    ")))\n",
    "t"
   ]
  },
  {
   "cell_type": "code",
   "execution_count": null,
   "metadata": {},
   "outputs": [],
   "source": [
    "V = B * math.cos(t) + Q * math.sin(t)"
   ]
  },
  {
   "cell_type": "code",
   "execution_count": null,
   "metadata": {},
   "outputs": [],
   "source": [
    "with UnitSpherePlot() as u :\n",
    "    u.add_point(A, \"A\", 'r')\n",
    "    u.add_point(B, \"B\", 'g')\n",
    "    u.add_point(C, \"C\", 'b')\n",
    "    u.add_point(Q, 'Q', 'k')\n",
    "    u.add_point(V, 'V', 'lime')\n",
    "    u.add_point(I, 'I', 'magenta')\n",
    "    u.add_arc(A, B, 'yellow')\n",
    "    u.add_arc(B, C, 'cyan')\n",
    "    u.add_arc(point_ab, point_ba, 'orange')\n",
    "    u.add_arc(point_bc, point_cb, 'dodgerblue')"
   ]
  },
  {
   "cell_type": "code",
   "execution_count": null,
   "metadata": {},
   "outputs": [],
   "source": [
    "V * I"
   ]
  },
  {
   "cell_type": "code",
   "execution_count": null,
   "metadata": {},
   "outputs": [],
   "source": [
    "E, null, null = lineto_BA.projection(V)\n",
    "E * V"
   ]
  },
  {
   "cell_type": "code",
   "execution_count": null,
   "metadata": {},
   "outputs": [],
   "source": [
    "F, null, null = lineto_BC.projection(V)\n",
    "F * V"
   ]
  },
  {
   "cell_type": "code",
   "execution_count": null,
   "metadata": {
    "scrolled": true
   },
   "outputs": [],
   "source": [
    "with UnitSpherePlot() as u :\n",
    "    u.add_point(A, \"A\", 'r')\n",
    "    u.add_point(B, \"B\", 'g')\n",
    "    u.add_point(C, \"C\", 'b')\n",
    "    u.add_point(Q, 'Q', 'k')\n",
    "    u.add_point(E, 'E', 'purple')\n",
    "    u.add_point(F, 'F', 'purple')\n",
    "    u.add_point(V, 'V', 'lime')\n",
    "    u.add_point(I, 'I', 'magenta')\n",
    "    u.add_arc(A, B, 'yellow')\n",
    "    u.add_arc(B, C, 'cyan')\n",
    "    u.add_arc(point_ab, point_ba, 'orange')\n",
    "    u.add_arc(point_bc, point_cb, 'dodgerblue')\n",
    "    u.add_circle(V, E, 'hotpink')"
   ]
  },
  {
   "cell_type": "code",
   "execution_count": null,
   "metadata": {},
   "outputs": [],
   "source": [
    "A.x, A.y, A.z"
   ]
  },
  {
   "cell_type": "code",
   "execution_count": null,
   "metadata": {},
   "outputs": [],
   "source": [
    "B.x, B.y, B.z"
   ]
  },
  {
   "cell_type": "code",
   "execution_count": null,
   "metadata": {},
   "outputs": [],
   "source": [
    "I.x, I.y, I.z"
   ]
  },
  {
   "cell_type": "code",
   "execution_count": null,
   "metadata": {},
   "outputs": [],
   "source": [
    "Q.x, Q.y, Q.z"
   ]
  },
  {
   "cell_type": "code",
   "execution_count": null,
   "metadata": {},
   "outputs": [],
   "source": [
    "P1, P2, R1"
   ]
  },
  {
   "cell_type": "code",
   "execution_count": null,
   "metadata": {},
   "outputs": [],
   "source": [
    "with UnitSpherePlot() as u :\n",
    "    u.add_point(A, \"A\", 'r')\n",
    "    u.add_point(B, \"B\", 'g')\n",
    "    u.add_point(C, \"C\", 'b')\n",
    "    u.add_point(E, 'E', 'purple')\n",
    "    u.add_point(F, 'F', 'purple')\n",
    "    u.add_point(V, 'V', 'lime')    \n",
    "    u.add_arc(A, B, 'yellow')\n",
    "    u.add_arc(B, C, 'cyan')\n",
    "    u.add_circle_part(V, E, F, 'hotpink')\n",
    "    u.add_arc(point_ab, point_ba, 'orange')\n",
    "    u.add_arc(point_bc, point_cb, 'dodgerblue')"
   ]
  },
  {
   "cell_type": "code",
   "execution_count": null,
   "metadata": {},
   "outputs": [],
   "source": []
  }
 ],
 "metadata": {
  "kernelspec": {
   "display_name": "Python 3",
   "language": "python",
   "name": "python3"
  },
  "language_info": {
   "codemirror_mode": {
    "name": "ipython",
    "version": 3
   },
   "file_extension": ".py",
   "mimetype": "text/x-python",
   "name": "python",
   "nbconvert_exporter": "python",
   "pygments_lexer": "ipython3",
   "version": "3.8.5"
  }
 },
 "nbformat": 4,
 "nbformat_minor": 5
}
