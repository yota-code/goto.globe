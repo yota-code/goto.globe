{
 "cells": [
  {
   "cell_type": "code",
   "execution_count": null,
   "id": "6772816f",
   "metadata": {},
   "outputs": [],
   "source": [
    "%matplotlib notebook\n",
    "\n",
    "import math\n",
    "\n",
    "import sympy\n",
    "\n",
    "import geometrik.threed as g3d\n",
    "from geometrik.threed.plot import UnitSpherePlot\n",
    "\n",
    "import goto.globe.blip\n",
    "import goto.globe.lineto"
   ]
  },
  {
   "cell_type": "code",
   "execution_count": null,
   "id": "809d94fa",
   "metadata": {},
   "outputs": [],
   "source": [
    "BOD = goto.globe.blip.Blip(44.828333, -0.715556).as_vector\n",
    "MXP = goto.globe.blip.Blip(45.63, 8.723056).as_vector\n",
    "MRS = goto.globe.blip.Blip(43.436667, 5.215).as_vector\n",
    "LHR = goto.globe.blip.Blip(51.4775, -0.461389).as_vector\n",
    "LIS = goto.globe.blip.Blip(38.774167, -9.134167).as_vector\n",
    "RKV = goto.globe.blip.Blip(64.13, -21.940556).as_vector\n",
    "SYD = goto.globe.blip.Blip(-33.946111, 151.177222).as_vector\n",
    "PRY = goto.globe.blip.Blip(-25.653611, 28.224167).as_vector\n",
    "SVO = goto.globe.blip.Blip(55.972778, 37.414722).as_vector\n",
    "SIN = goto.globe.blip.Blip(1.359167, 103.989444).as_vector\n",
    "\n",
    "A, B, C = PRY, SVO, SIN"
   ]
  },
  {
   "cell_type": "code",
   "execution_count": null,
   "id": "75154cd6",
   "metadata": {},
   "outputs": [],
   "source": [
    "z = 8\n",
    "lineto_BA = goto.globe.lineto.LineCorridor(B, A, 0.01*z, 0.02*z)\n",
    "lineto_BC = goto.globe.lineto.LineCorridor(B, C, 0.01*z, 0.03*z)"
   ]
  },
  {
   "cell_type": "code",
   "execution_count": null,
   "id": "53cead69",
   "metadata": {},
   "outputs": [],
   "source": [
    "with UnitSpherePlot() as u :\n",
    "    u.add_point(A, \"A\", 'r')\n",
    "    u.add_point(B, \"B\", 'g')\n",
    "    u.add_point(C, \"C\", 'b')\n",
    "    u.add_arc(A, B, 'yellow')\n",
    "    u.add_arc(B, C, 'cyan')"
   ]
  },
  {
   "cell_type": "markdown",
   "id": "02511c19",
   "metadata": {},
   "source": [
    "Given 3 cities $A$, $B$ and $C$ which make two segments: one from $A$ to $B$ and one from $B$ to $C$"
   ]
  },
  {
   "cell_type": "markdown",
   "id": "c4d180a4",
   "metadata": {},
   "source": [
    "$Q$ is a vector which bissect $\\widehat{ABC}$ and is perpendicular to $B$"
   ]
  },
  {
   "cell_type": "code",
   "execution_count": null,
   "id": "cceff1f4",
   "metadata": {},
   "outputs": [],
   "source": [
    "q = lineto_BA.Ly.signed_angle_to(lineto_BC.Ly, B)\n",
    "q"
   ]
  },
  {
   "cell_type": "code",
   "execution_count": null,
   "id": "9d49e144",
   "metadata": {},
   "outputs": [],
   "source": [
    "Q = (lineto_BC.Ly + lineto_BA.Ly ).normalized()"
   ]
  },
  {
   "cell_type": "code",
   "execution_count": null,
   "id": "441b8168",
   "metadata": {},
   "outputs": [],
   "source": [
    "with UnitSpherePlot() as u :\n",
    "    u.add_point(A, \"A\", 'r')\n",
    "    u.add_point(B, \"B\", 'g')\n",
    "    u.add_point(C, \"C\", 'b')\n",
    "    u.add_point(Q, \"Q\", 'k')\n",
    "    u.add_point(lineto_BC.Lx, \"BCx\", 'cyan')\n",
    "    u.add_point(lineto_BC.Ly, \"BCy\", 'cyan')\n",
    "    u.add_point(lineto_BC.Lz, \"BCz\", 'cyan')\n",
    "    u.add_point(lineto_BA.Lx, \"BAx\", 'yellow')\n",
    "    u.add_point(lineto_BA.Ly, \"BAy\", 'yellow')\n",
    "    u.add_point(lineto_BA.Lz, \"BAz\", 'yellow')\n",
    "    u.add_arc(B, A, 'yellow')\n",
    "    u.add_arc(B, C, 'cyan')\n"
   ]
  },
  {
   "cell_type": "markdown",
   "id": "a9aa768b",
   "metadata": {},
   "source": [
    "We can compute the inner sides of the corridor, given the specified widths"
   ]
  },
  {
   "cell_type": "code",
   "execution_count": null,
   "id": "207bff7e",
   "metadata": {},
   "outputs": [],
   "source": [
    "w = math.copysign(1.0, q)\n",
    "\n",
    "point_ba = lineto_BA.side_point(0.0, w)\n",
    "point_ab = lineto_BA.side_point(1.0, w)\n",
    "point_bc = lineto_BC.side_point(1.0, -w)\n",
    "point_cb = lineto_BC.side_point(0.0, -w)\n",
    "\n",
    "side_ab = goto.globe.lineto.LineTo(point_ab, point_ba)\n",
    "side_bc = goto.globe.lineto.LineTo(point_bc, point_cb)"
   ]
  },
  {
   "cell_type": "markdown",
   "id": "cd726403",
   "metadata": {},
   "source": [
    "The vector $I$ is given by the intersection of the inner side of the corridor"
   ]
  },
  {
   "cell_type": "code",
   "execution_count": null,
   "id": "5f1b8a8a",
   "metadata": {},
   "outputs": [],
   "source": [
    "I = side_ab.intersection(side_bc)"
   ]
  },
  {
   "cell_type": "code",
   "execution_count": null,
   "id": "d8fc2b94",
   "metadata": {},
   "outputs": [],
   "source": [
    "with UnitSpherePlot() as u :\n",
    "    u.add_point(A, \"A\", 'r')\n",
    "    u.add_point(B, \"B\", 'g')\n",
    "    u.add_point(C, \"C\", 'b')\n",
    "    u.add_point(Q, 'Q', 'k')\n",
    "    u.add_point(I, 'I', 'magenta')\n",
    "    u.add_arc(A, B, 'yellow')\n",
    "    u.add_arc(B, C, 'cyan')\n",
    "    u.add_arc(point_ab, point_ba, 'orange')\n",
    "    u.add_arc(point_bc, point_cb, 'dodgerblue')"
   ]
  },
  {
   "cell_type": "markdown",
   "id": "5e4a01d5",
   "metadata": {},
   "source": [
    "On défini le point $V$ comme un point construit à partir de $B$ et de $Q$"
   ]
  },
  {
   "cell_type": "markdown",
   "id": "bdb789d8",
   "metadata": {},
   "source": [
    "Les résultats utilisés ici sont expliqués dans le notebook `cic_symbolic_wlf`"
   ]
  },
  {
   "cell_type": "code",
   "execution_count": null,
   "id": "96f3cd0f",
   "metadata": {},
   "outputs": [],
   "source": [
    "P1 = I * Q\n",
    "P2 = I * B\n",
    "R1 = -(A * Q)**2 / (\n",
    "    A.y**2*(-1+B.y**2) +\n",
    "    2*A.x*A.z*B.x*B.z +\n",
    "    2*A.y*B.y*(A.x*B.x+A.z*B.z) +\n",
    "    A.z**2*(-1+B.z**2) -\n",
    "    A.x**2*(B.y**2+B.z**2)\n",
    ")"
   ]
  },
  {
   "cell_type": "code",
   "execution_count": null,
   "id": "2708aa6a",
   "metadata": {},
   "outputs": [],
   "source": [
    "t = math.acos(math.sqrt( (P1**2 - R1)**2 / (\n",
    "    P1**4 + P1**2*(1 + P2**2 - 2*R1) +\n",
    "    R1*(-1 + P2**2 + R1) +\n",
    "    2*math.sqrt(P1**2*P2**2*(P1**2 + (-1 + P2**2)*R1))\n",
    ")))\n",
    "t"
   ]
  },
  {
   "cell_type": "code",
   "execution_count": null,
   "id": "d524aee1",
   "metadata": {},
   "outputs": [],
   "source": [
    "V = B * math.cos(t) + Q * math.sin(t)"
   ]
  },
  {
   "cell_type": "code",
   "execution_count": null,
   "id": "09545c0b",
   "metadata": {},
   "outputs": [],
   "source": [
    "with UnitSpherePlot() as u :\n",
    "    u.add_point(A, \"A\", 'r')\n",
    "    u.add_point(B, \"B\", 'g')\n",
    "    u.add_point(C, \"C\", 'b')\n",
    "    u.add_point(Q, 'Q', 'k')\n",
    "    u.add_point(V, 'V', 'lime')\n",
    "    u.add_point(I, 'I', 'magenta')\n",
    "    u.add_arc(A, B, 'yellow')\n",
    "    u.add_arc(B, C, 'cyan')\n",
    "    u.add_arc(point_ab, point_ba, 'orange')\n",
    "    u.add_arc(point_bc, point_cb, 'dodgerblue')"
   ]
  },
  {
   "cell_type": "code",
   "execution_count": null,
   "id": "11678a1b",
   "metadata": {},
   "outputs": [],
   "source": [
    "V * I"
   ]
  },
  {
   "cell_type": "code",
   "execution_count": null,
   "id": "3de4ea89",
   "metadata": {},
   "outputs": [],
   "source": [
    "E, null, null = lineto_BA.projection(V)\n",
    "E * V"
   ]
  },
  {
   "cell_type": "code",
   "execution_count": null,
   "id": "1a76b9c8",
   "metadata": {},
   "outputs": [],
   "source": [
    "F, null, null = lineto_BC.projection(V)\n",
    "F * V"
   ]
  },
  {
   "cell_type": "code",
   "execution_count": null,
   "id": "e1b71cb3",
   "metadata": {},
   "outputs": [],
   "source": [
    "with UnitSpherePlot() as u :\n",
    "    u.add_point(A, \"A\", 'r')\n",
    "    u.add_point(B, \"B\", 'g')\n",
    "    u.add_point(C, \"C\", 'b')\n",
    "    u.add_point(Q, 'Q', 'k')\n",
    "    u.add_point(E, 'E', 'purple')\n",
    "    u.add_point(F, 'F', 'purple')\n",
    "    u.add_point(V, 'V', 'lime')\n",
    "    u.add_point(I, 'I', 'magenta')\n",
    "    u.add_arc(A, B, 'yellow')\n",
    "    u.add_arc(B, C, 'cyan')\n",
    "    u.add_arc(point_ab, point_ba, 'orange')\n",
    "    u.add_arc(point_bc, point_cb, 'dodgerblue')\n",
    "    u.add_circle(V, E, 'hotpink')"
   ]
  },
  {
   "cell_type": "code",
   "execution_count": null,
   "id": "070d6841",
   "metadata": {},
   "outputs": [],
   "source": [
    "A.x, A.y, A.z"
   ]
  },
  {
   "cell_type": "code",
   "execution_count": null,
   "id": "cb04a1c9",
   "metadata": {},
   "outputs": [],
   "source": [
    "B.x, B.y, B.z"
   ]
  },
  {
   "cell_type": "code",
   "execution_count": null,
   "id": "c715c574",
   "metadata": {},
   "outputs": [],
   "source": [
    "I.x, I.y, I.z"
   ]
  },
  {
   "cell_type": "code",
   "execution_count": null,
   "id": "6eb5c296",
   "metadata": {},
   "outputs": [],
   "source": [
    "Q.x, Q.y, Q.z"
   ]
  },
  {
   "cell_type": "code",
   "execution_count": null,
   "id": "4cf43c18",
   "metadata": {},
   "outputs": [],
   "source": [
    "P1, P2, R1"
   ]
  },
  {
   "cell_type": "code",
   "execution_count": null,
   "id": "c65e0bd3",
   "metadata": {},
   "outputs": [],
   "source": [
    "with UnitSpherePlot() as u :\n",
    "    u.add_point(A, \"A\", 'r')\n",
    "    u.add_point(B, \"B\", 'g')\n",
    "    u.add_point(C, \"C\", 'b')\n",
    "    u.add_point(E, 'E', 'purple')\n",
    "    u.add_point(F, 'F', 'purple')\n",
    "    u.add_point(V, 'V', 'lime')    \n",
    "    u.add_arc(A, B, 'yellow')\n",
    "    u.add_arc(B, C, 'cyan')\n",
    "    u.add_circle_part(V, E, F, 'hotpink')\n",
    "    u.add_arc(point_ab, point_ba, 'orange')\n",
    "    u.add_arc(point_bc, point_cb, 'dodgerblue')"
   ]
  },
  {
   "cell_type": "code",
   "execution_count": null,
   "id": "3aef3ae5",
   "metadata": {},
   "outputs": [],
   "source": [
    "Ez, Fz, Vz = lineto_BA.make_joint(lineto_BC)"
   ]
  },
  {
   "cell_type": "code",
   "execution_count": null,
   "id": "a7214e32",
   "metadata": {},
   "outputs": [],
   "source": [
    "Ez, E"
   ]
  },
  {
   "cell_type": "code",
   "execution_count": null,
   "id": "ee1a34c8",
   "metadata": {},
   "outputs": [],
   "source": [
    "Fz, F"
   ]
  },
  {
   "cell_type": "code",
   "execution_count": null,
   "id": "d62b5fc4",
   "metadata": {},
   "outputs": [],
   "source": [
    "Vz, V"
   ]
  },
  {
   "cell_type": "code",
   "execution_count": null,
   "id": "9c7ea403",
   "metadata": {},
   "outputs": [],
   "source": []
  }
 ],
 "metadata": {
  "kernelspec": {
   "display_name": "Python 3",
   "language": "python",
   "name": "python3"
  },
  "language_info": {
   "codemirror_mode": {
    "name": "ipython",
    "version": 3
   },
   "file_extension": ".py",
   "mimetype": "text/x-python",
   "name": "python",
   "nbconvert_exporter": "python",
   "pygments_lexer": "ipython3",
   "version": "3.8.10"
  }
 },
 "nbformat": 4,
 "nbformat_minor": 5
}
