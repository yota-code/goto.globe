{
 "cells": [
  {
   "cell_type": "code",
   "execution_count": null,
   "id": "b7e1d559",
   "metadata": {},
   "outputs": [],
   "source": [
    "%matplotlib notebook\n",
    "\n",
    "import math\n",
    "import numpy as np\n",
    "import matplotlib.pyplot as plt\n",
    "import sympy\n",
    "\n",
    "import geometrik.threed as g3d\n",
    "\n",
    "from goto.globe.plot import GlobePlotMpl"
   ]
  },
  {
   "cell_type": "code",
   "execution_count": null,
   "id": "1a14831e",
   "metadata": {},
   "outputs": [],
   "source": [
    "u = sympy.symbols('u')"
   ]
  },
  {
   "cell_type": "markdown",
   "id": "6c7e0837",
   "metadata": {},
   "source": [
    "L'idée est de prendre le plan equatorial et de l'incliner d'un angle $\\theta$ autour de l'axe $Ox$"
   ]
  },
  {
   "cell_type": "code",
   "execution_count": null,
   "id": "3c7ca8f0",
   "metadata": {},
   "outputs": [],
   "source": [
    "Ex = g3d.Vector(1, 0, 0)\n",
    "Ey = g3d.Vector(0, 1, 0)\n",
    "Ez = g3d.Vector(0, 0, 1)"
   ]
  },
  {
   "cell_type": "code",
   "execution_count": null,
   "id": "bf3ac122",
   "metadata": {},
   "outputs": [],
   "source": [
    "theta, psi = sympy.symbols('theta psi')\n",
    "\n",
    "Nz = g3d.Vector(0, -sympy.sin(theta), sympy.cos(theta))\n",
    "Ny = g3d.Vector(0, sympy.cos(theta), sympy.sin(theta))\n",
    "Nx = g3d.Vector(1, 0, 0)\n",
    "\n",
    "m_val = {'theta': math.pi / 4, 'psi': 0.3}"
   ]
  },
  {
   "cell_type": "code",
   "execution_count": null,
   "id": "67234423",
   "metadata": {},
   "outputs": [],
   "source": [
    "Ux = g3d.Vector(sympy.cos(psi), sympy.sin(psi), 0)"
   ]
  },
  {
   "cell_type": "code",
   "execution_count": null,
   "id": "55dc3e71",
   "metadata": {},
   "outputs": [],
   "source": [
    "Mx = Ux.project(Nz)\n",
    "Mx.x"
   ]
  },
  {
   "cell_type": "code",
   "execution_count": null,
   "id": "de4fcc58",
   "metadata": {},
   "outputs": [],
   "source": [
    "Mx.y.simplify()"
   ]
  },
  {
   "cell_type": "code",
   "execution_count": null,
   "id": "3299df47",
   "metadata": {},
   "outputs": [],
   "source": [
    "Mx.z.simplify()"
   ]
  },
  {
   "cell_type": "code",
   "execution_count": null,
   "id": "d832c427",
   "metadata": {},
   "outputs": [],
   "source": [
    "Mz = (Ux * Nz) * Nz\n",
    "Mz.z"
   ]
  },
  {
   "cell_type": "code",
   "execution_count": null,
   "id": "826fdc5a",
   "metadata": {},
   "outputs": [],
   "source": [
    "with GlobePlotMpl() as gpl :\n",
    "    gpl.add_point(Nx.subs(m_val), 'Nx', 'r')\n",
    "    gpl.add_point(Ny.subs(m_val), 'Ny', 'g')\n",
    "    gpl.add_point(Nz.subs(m_val), 'Nz', 'b')\n",
    "    gpl.add_point(Mz.subs(m_val), 'Mz', 'b')\n",
    "    gpl.add_great_circle(Nz.subs(m_val), 'k')\n",
    "    gpl.add_point(Ux.subs(m_val), 'Ux', 'yellow')\n",
    "    gpl.add_point(Mx.subs(m_val), 'Mx', 'purple')"
   ]
  },
  {
   "cell_type": "code",
   "execution_count": null,
   "id": "f8c23106",
   "metadata": {},
   "outputs": [],
   "source": [
    "Nx.subs({'theta': 0.3})\n",
    "R = sympy.symbols('R')"
   ]
  },
  {
   "cell_type": "code",
   "execution_count": null,
   "id": "773cbd3c",
   "metadata": {},
   "outputs": [],
   "source": [
    "r = Ux.angle_to(Mx).simplify()\n",
    "r"
   ]
  },
  {
   "cell_type": "code",
   "execution_count": null,
   "id": "c8a0c324",
   "metadata": {},
   "outputs": [],
   "source": [
    "r_sol = sympy.solve(r - R, theta)\n",
    "r_sol"
   ]
  },
  {
   "cell_type": "code",
   "execution_count": null,
   "id": "11546ba6",
   "metadata": {},
   "outputs": [],
   "source": [
    "r_sol[0]"
   ]
  },
  {
   "cell_type": "code",
   "execution_count": null,
   "id": "d3eeee30",
   "metadata": {},
   "outputs": [],
   "source": [
    "r_sol[1]"
   ]
  },
  {
   "cell_type": "code",
   "execution_count": null,
   "id": "d5382010",
   "metadata": {},
   "outputs": [],
   "source": [
    "r_sol[2]"
   ]
  },
  {
   "cell_type": "code",
   "execution_count": null,
   "id": "4b2695d0",
   "metadata": {},
   "outputs": [],
   "source": [
    "r_sol[3].simplify()"
   ]
  },
  {
   "cell_type": "code",
   "execution_count": null,
   "id": "565c5fc8",
   "metadata": {},
   "outputs": [],
   "source": [
    "theta_lst = [float(r_sol[i].subs({'psi': 0.3, 'R': 0.1})) for i in range(4)]\n",
    "theta_lst"
   ]
  },
  {
   "cell_type": "code",
   "execution_count": null,
   "id": "94f22986",
   "metadata": {},
   "outputs": [],
   "source": [
    "C = g3d.Vector.compose(Ex, Ey, 0.3)\n",
    "\n",
    "Pp = g3d.Vector(0, -sympy.sin(theta), sympy.cos(theta)).subs({'theta': theta_lst[2]})\n",
    "Pn = g3d.Vector(0, -sympy.sin(theta), sympy.cos(theta)).subs({'theta': theta_lst[3]})\n",
    "Mp = C.project(Pp).normalized()\n",
    "Mn = C.project(Pn).normalized()\n",
    "\n",
    "with GlobePlotMpl() as gpl :\n",
    "    gpl.add_point(Ex, 'Ex', 'r')\n",
    "    gpl.add_point(Ey, 'Ey', 'g')\n",
    "    gpl.add_point(Ez, 'Ez', 'b')\n",
    "    gpl.add_point(Mp, 'Mp', 'cyan')\n",
    "    gpl.add_point(Mn, 'Mn', 'cyan')\n",
    "\n",
    "    gpl.add_point(g3d.Vector(sympy.cos(psi), sympy.sin(psi), 0).subs({'psi': 0.3}), 'C', 'orange')\n",
    "    gpl.add_circle(C, 0.1, 'orange')    \n",
    "    gpl.add_great_circle(Pp, 'magenta')\n",
    "    gpl.add_great_circle(Pn, 'magenta')\n"
   ]
  },
  {
   "cell_type": "code",
   "execution_count": null,
   "id": "1983490a",
   "metadata": {},
   "outputs": [],
   "source": [
    "r_lst = list()\n",
    "t_lst = np.linspace(0.0, math.pi/2, 100)\n",
    "u_lst = list()\n",
    "k = math.pi / 3\n",
    "for t in t_lst :\n",
    "    r_lst.append(math.acos(math.sqrt(1 - (math.sin(k)**2 * math.sin(t)**2))))\n",
    "    u_lst.append(math.sin(t)* k)\n",
    "\n",
    "plt.figure()\n",
    "plt.plot(t_lst, r_lst)\n",
    "plt.plot(t_lst, u_lst)\n",
    "plt.show()"
   ]
  },
  {
   "cell_type": "markdown",
   "id": "3d8d2d6d",
   "metadata": {},
   "source": [
    "La question se pose maintenant de manière plus générale : étant donné deux points A et B, et un rayon de virage donné, trouver les 4 segments qui forment les tangentes à ces cercles."
   ]
  },
  {
   "cell_type": "code",
   "execution_count": null,
   "id": "e556c696",
   "metadata": {},
   "outputs": [],
   "source": [
    "Ax, Ay, Az = sympy.symbols('Ax Ay Az')\n",
    "A = g3d.Vector(Ax, Ay, Az)"
   ]
  },
  {
   "cell_type": "code",
   "execution_count": null,
   "id": "24ba9c95",
   "metadata": {},
   "outputs": [],
   "source": [
    "Bx, By, Bz = sympy.symbols('Bx By Bz')\n",
    "B = g3d.Vector(Bx, By, Bz)"
   ]
  },
  {
   "cell_type": "markdown",
   "id": "c980226e",
   "metadata": {},
   "source": [
    "Cx est le point exactement au milieu des deux cercles, comme ils sont de taille égales, c'est également le point de croisement des tangentes. "
   ]
  },
  {
   "cell_type": "code",
   "execution_count": null,
   "id": "a869f4dd",
   "metadata": {},
   "outputs": [],
   "source": [
    "Cx = (A + B).normalized()\n",
    "Cx.x"
   ]
  },
  {
   "cell_type": "markdown",
   "id": "d0501156",
   "metadata": {},
   "source": [
    "Cz est le vecteur perpendiculaire au plan equatorial contenant A et B, et Cy construit la base Cx, Cy, Cz, directe"
   ]
  },
  {
   "cell_type": "code",
   "execution_count": null,
   "id": "cecf5c63",
   "metadata": {},
   "outputs": [],
   "source": [
    "Cz = (A @ B).normalized()\n",
    "Cz.x"
   ]
  },
  {
   "cell_type": "code",
   "execution_count": null,
   "id": "9513e8a1",
   "metadata": {},
   "outputs": [],
   "source": [
    "Cy = (Cz @ Cx)"
   ]
  },
  {
   "cell_type": "code",
   "execution_count": null,
   "id": "dfea1052",
   "metadata": {},
   "outputs": [],
   "source": [
    "Psi_intern = Cx.angle_to(B)"
   ]
  },
  {
   "cell_type": "code",
   "execution_count": null,
   "id": "08aeeb4f",
   "metadata": {},
   "outputs": [],
   "source": []
  }
 ],
 "metadata": {
  "kernelspec": {
   "display_name": "Python 3",
   "language": "python",
   "name": "python3"
  },
  "language_info": {
   "codemirror_mode": {
    "name": "ipython",
    "version": 3
   },
   "file_extension": ".py",
   "mimetype": "text/x-python",
   "name": "python",
   "nbconvert_exporter": "python",
   "pygments_lexer": "ipython3",
   "version": "3.8.10"
  }
 },
 "nbformat": 4,
 "nbformat_minor": 5
}
