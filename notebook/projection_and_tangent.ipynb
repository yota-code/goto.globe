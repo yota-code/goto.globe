{
 "cells": [
  {
   "cell_type": "code",
   "execution_count": null,
   "id": "281a7fc8",
   "metadata": {},
   "outputs": [],
   "source": [
    "%matplotlib notebook\n",
    "\n",
    "import math\n",
    "import numpy as np\n",
    "import matplotlib.pyplot as plt\n",
    "import sympy\n",
    "\n",
    "import geometrik.threed as g3d\n",
    "\n",
    "from goto.globe.plot import GlobePlotMpl"
   ]
  },
  {
   "cell_type": "code",
   "execution_count": null,
   "id": "77dae437",
   "metadata": {},
   "outputs": [],
   "source": [
    "u = sympy.symbols('u')\n",
    "\n",
    "Ex = g3d.Vector(1, 0, 0)\n",
    "Ey = g3d.Vector(0, 1, 0)\n",
    "Ez = g3d.Vector(0, 0, 1)"
   ]
  },
  {
   "cell_type": "markdown",
   "id": "7e04d47a",
   "metadata": {},
   "source": [
    "L'idée est de prendre le plan equatorial et de l'incliner d'un angle $\\theta$ autour de l'axe $O_x$. Ce plan incliné est défini par son vecteur normal, le vecteur $N_z$"
   ]
  },
  {
   "cell_type": "code",
   "execution_count": null,
   "id": "eadc9b2d",
   "metadata": {},
   "outputs": [],
   "source": [
    "theta, psi = sympy.symbols('theta psi')\n",
    "\n",
    "Nz = g3d.Vector(0, -sympy.sin(theta), sympy.cos(theta))\n",
    "Ny = g3d.Vector(0, sympy.cos(theta), sympy.sin(theta))\n",
    "Nx = g3d.Vector(1, 0, 0)"
   ]
  },
  {
   "cell_type": "markdown",
   "id": "0113f3d4",
   "metadata": {},
   "source": [
    "Le vecteur $U_x$, le centre du cercle tangeant, est défini par l'angle $\\psi$ qu'il fait avec l'axe $O_x$"
   ]
  },
  {
   "cell_type": "code",
   "execution_count": null,
   "id": "dd92273d",
   "metadata": {},
   "outputs": [],
   "source": [
    "Ux = g3d.Vector(sympy.cos(psi), sympy.sin(psi), 0)"
   ]
  },
  {
   "cell_type": "markdown",
   "id": "51167c57",
   "metadata": {},
   "source": [
    "Le vecteur $M_x$ est la projection du vecteur $U_x$ sur le plan incliné de normale $N_z$"
   ]
  },
  {
   "cell_type": "code",
   "execution_count": null,
   "id": "6ad5d1fe",
   "metadata": {},
   "outputs": [],
   "source": [
    "Mx = Ux.project(Nz)\n",
    "Mx.x"
   ]
  },
  {
   "cell_type": "code",
   "execution_count": null,
   "id": "58a1a4d5",
   "metadata": {},
   "outputs": [],
   "source": [
    "Mx.y.simplify()"
   ]
  },
  {
   "cell_type": "code",
   "execution_count": null,
   "id": "f39c6845",
   "metadata": {},
   "outputs": [],
   "source": [
    "Mx.z.simplify()"
   ]
  },
  {
   "cell_type": "code",
   "execution_count": null,
   "id": "2a78af7d",
   "metadata": {},
   "outputs": [],
   "source": [
    "Mz = (Ux * Nz) * Nz\n",
    "Mz.z"
   ]
  },
  {
   "cell_type": "code",
   "execution_count": null,
   "id": "80e1bb93",
   "metadata": {},
   "outputs": [],
   "source": [
    "m_val = {'theta': math.pi / 4, 'psi': 0.3}\n",
    "\n",
    "with GlobePlotMpl() as gpl :\n",
    "    gpl.add_point(Nx.subs(m_val), 'Nx', 'r')\n",
    "    gpl.add_point(Ny.subs(m_val), 'Ny', 'g')\n",
    "    gpl.add_point(Nz.subs(m_val), 'Nz', 'b')\n",
    "    gpl.add_point(Mz.subs(m_val), 'Mz', 'b')\n",
    "    gpl.add_great_circle(Nz.subs(m_val), 'k')\n",
    "    gpl.add_point(Ux.subs(m_val), 'Ux', 'yellow')\n",
    "    gpl.add_point(Mx.subs(m_val), 'Mx', 'purple')"
   ]
  },
  {
   "cell_type": "code",
   "execution_count": null,
   "id": "8a985704",
   "metadata": {},
   "outputs": [],
   "source": [
    "Nx.subs({'theta': 0.3})\n",
    "R = sympy.symbols('R')"
   ]
  },
  {
   "cell_type": "markdown",
   "id": "339fad28",
   "metadata": {},
   "source": [
    "$r$ est le rayon du cercle qui a pour centre $U_x$ et qui est tangeant au plan incliné."
   ]
  },
  {
   "cell_type": "code",
   "execution_count": null,
   "id": "20543a73",
   "metadata": {},
   "outputs": [],
   "source": [
    "r = Ux.angle_to(Mx).simplify()\n",
    "r"
   ]
  },
  {
   "cell_type": "code",
   "execution_count": null,
   "id": "bd53104a",
   "metadata": {},
   "outputs": [],
   "source": [
    "r_sol = sympy.solve(r - R, theta)\n",
    "r_sol"
   ]
  },
  {
   "cell_type": "code",
   "execution_count": null,
   "id": "0c2958b2",
   "metadata": {},
   "outputs": [],
   "source": [
    "r_sol[0]"
   ]
  },
  {
   "cell_type": "code",
   "execution_count": null,
   "id": "eabf4407",
   "metadata": {},
   "outputs": [],
   "source": [
    "r_sol[1]"
   ]
  },
  {
   "cell_type": "code",
   "execution_count": null,
   "id": "a639db29",
   "metadata": {},
   "outputs": [],
   "source": [
    "r_sol[2]"
   ]
  },
  {
   "cell_type": "code",
   "execution_count": null,
   "id": "f484aa74",
   "metadata": {},
   "outputs": [],
   "source": [
    "r_sol[3].simplify()"
   ]
  },
  {
   "cell_type": "code",
   "execution_count": null,
   "id": "13f64018",
   "metadata": {},
   "outputs": [],
   "source": [
    "theta_lst = [float(r_sol[i].subs({'psi': 0.3, 'R': 0.1})) for i in range(4)]\n",
    "theta_lst"
   ]
  },
  {
   "cell_type": "code",
   "execution_count": null,
   "id": "0dce8caf",
   "metadata": {},
   "outputs": [],
   "source": [
    "C = g3d.Vector.compose(Ex, Ey, 0.3)\n",
    "\n",
    "Pp = g3d.Vector(0, -sympy.sin(theta), sympy.cos(theta)).subs({'theta': theta_lst[2]})\n",
    "Pn = g3d.Vector(0, -sympy.sin(theta), sympy.cos(theta)).subs({'theta': theta_lst[3]})\n",
    "Mp = C.project(Pp).normalized()\n",
    "Mn = C.project(Pn).normalized()\n",
    "\n",
    "with GlobePlotMpl() as gpl :\n",
    "    gpl.add_point(Ex, 'Ex', 'r')\n",
    "    gpl.add_point(Ey, 'Ey', 'g')\n",
    "    gpl.add_point(Ez, 'Ez', 'b')\n",
    "    gpl.add_point(Mp, 'Mp', 'cyan')\n",
    "    gpl.add_point(Mn, 'Mn', 'cyan')\n",
    "\n",
    "    gpl.add_point(g3d.Vector(sympy.cos(psi), sympy.sin(psi), 0).subs({'psi': 0.3}), 'C', 'orange')\n",
    "    gpl.add_circle(C, 0.1, 'orange')    \n",
    "    gpl.add_great_circle(Pp, 'magenta')\n",
    "    gpl.add_great_circle(Pn, 'magenta')\n"
   ]
  },
  {
   "cell_type": "code",
   "execution_count": null,
   "id": "d021b3d6",
   "metadata": {},
   "outputs": [],
   "source": [
    "r_lst = list()\n",
    "t_lst = np.linspace(0.0, math.pi/2, 100)\n",
    "u_lst = list()\n",
    "k = math.pi / 3\n",
    "for t in t_lst :\n",
    "    r_lst.append(math.acos(math.sqrt(1 - (math.sin(k)**2 * math.sin(t)**2))))\n",
    "    u_lst.append(math.sin(t)* k)\n",
    "\n",
    "plt.figure()\n",
    "plt.plot(t_lst, r_lst)\n",
    "plt.plot(t_lst, u_lst)\n",
    "plt.show()"
   ]
  },
  {
   "cell_type": "markdown",
   "id": "5045169e",
   "metadata": {},
   "source": [
    "La question se pose maintenant de manière plus générale : étant donné deux points A et B, et un rayon de virage donné, trouver les 4 segments qui forment les tangentes à ces cercles."
   ]
  },
  {
   "cell_type": "code",
   "execution_count": null,
   "id": "65b75c15",
   "metadata": {},
   "outputs": [],
   "source": [
    "Ax, Ay, Az = sympy.symbols('Ax Ay Az')\n",
    "A = g3d.Vector(Ax, Ay, Az)"
   ]
  },
  {
   "cell_type": "code",
   "execution_count": null,
   "id": "262442ad",
   "metadata": {},
   "outputs": [],
   "source": [
    "Bx, By, Bz = sympy.symbols('Bx By Bz')\n",
    "B = g3d.Vector(Bx, By, Bz)"
   ]
  },
  {
   "cell_type": "markdown",
   "id": "61ec6b1b",
   "metadata": {},
   "source": [
    "Cx est le point exactement au milieu des deux cercles, comme ils sont de taille égales, c'est également le point de croisement des tangentes. "
   ]
  },
  {
   "cell_type": "code",
   "execution_count": null,
   "id": "a2197bf6",
   "metadata": {},
   "outputs": [],
   "source": [
    "Cx = (A + B).normalized()\n",
    "Cx.x"
   ]
  },
  {
   "cell_type": "markdown",
   "id": "22262ed2",
   "metadata": {},
   "source": [
    "Cz est le vecteur perpendiculaire au plan equatorial contenant A et B, et Cy construit la base Cx, Cy, Cz, directe"
   ]
  },
  {
   "cell_type": "code",
   "execution_count": null,
   "id": "d9248ce7",
   "metadata": {},
   "outputs": [],
   "source": [
    "Cz = (A @ B).normalized()\n",
    "Cz.x"
   ]
  },
  {
   "cell_type": "code",
   "execution_count": null,
   "id": "85174e05",
   "metadata": {},
   "outputs": [],
   "source": [
    "Cy = (Cz @ Cx)"
   ]
  },
  {
   "cell_type": "code",
   "execution_count": null,
   "id": "cf708ddf",
   "metadata": {},
   "outputs": [],
   "source": [
    "Psi_intern = Cx.angle_to(B)"
   ]
  },
  {
   "cell_type": "markdown",
   "id": "f2910d2e",
   "metadata": {},
   "source": [
    "## Cas général\n",
    "\n",
    "### rappel pour un seul cercle\n",
    "\n",
    "On rappelle les definitions de :\n",
    "* $N_z$, le vecteur normal du plan equatorial incliné de $\\theta$ autour de $O_x$\n",
    "* $U_x$, le centre du cercle de centre R\n",
    "* $M_x$, la projection de $U_x$ sur le plan $N_z$"
   ]
  },
  {
   "cell_type": "code",
   "execution_count": null,
   "id": "bd5e0643",
   "metadata": {},
   "outputs": [],
   "source": [
    "theta, psi, R = sympy.symbols('theta psi R')"
   ]
  },
  {
   "cell_type": "code",
   "execution_count": null,
   "id": "334c8452",
   "metadata": {},
   "outputs": [],
   "source": [
    "Nz = g3d.Vector(0, -sympy.sin(theta), sympy.cos(theta))\n",
    "Ny = g3d.Vector(0, sympy.cos(theta), sympy.sin(theta))\n",
    "Nx = g3d.Vector(1, 0, 0)\n",
    "Nz"
   ]
  },
  {
   "cell_type": "code",
   "execution_count": null,
   "id": "19b7f5a6",
   "metadata": {},
   "outputs": [],
   "source": [
    "Ux = g3d.Vector(sympy.cos(psi), sympy.sin(psi), 0)\n",
    "Ux"
   ]
  },
  {
   "cell_type": "code",
   "execution_count": null,
   "id": "b46db73f",
   "metadata": {},
   "outputs": [],
   "source": [
    "Mx = Ux.project(Nz)\n",
    "Mx"
   ]
  },
  {
   "cell_type": "code",
   "execution_count": null,
   "id": "d0a29a54",
   "metadata": {},
   "outputs": [],
   "source": [
    "beta = Ux.angle_to(Mx)"
   ]
  },
  {
   "cell_type": "code",
   "execution_count": null,
   "id": "15315606",
   "metadata": {},
   "outputs": [],
   "source": [
    "r_equ = Ux.angle_to(Mx).simplify()\n",
    "r_equ"
   ]
  },
  {
   "cell_type": "code",
   "execution_count": null,
   "id": "0ccb37dc",
   "metadata": {},
   "outputs": [],
   "source": [
    "psi_sol = sympy.solve(r_equ - R, psi)\n",
    "psi_sol[3]\n",
    "\n",
    "psi_sol = sympy.asin(sympy.sin(R) / sympy.sin(theta)).simplify()\n",
    "psi_sol"
   ]
  },
  {
   "cell_type": "code",
   "execution_count": null,
   "id": "316437f8",
   "metadata": {},
   "outputs": [],
   "source": [
    "m_val = {'theta': math.pi / 5, 'R': 0.2}\n",
    "m_val['psi'] = float( psi_sol.subs(m_val) )\n",
    "\n",
    "with GlobePlotMpl() as gpl :\n",
    "    gpl.add_point(Nx.subs(m_val), 'Nx', 'r')\n",
    "    gpl.add_point(Ny.subs(m_val), 'Ny', 'g')\n",
    "    gpl.add_point(Nz.subs(m_val), 'Nz', 'b')\n",
    "    gpl.add_great_circle(Nz.subs(m_val), 'k')\n",
    "    gpl.add_circle(Ux.subs(m_val), float(beta.subs(m_val)), 'orange')\n",
    "    gpl.add_point(Ux.subs(m_val), 'Ux', 'yellow')\n",
    "    gpl.add_point(Mx.subs(m_val), 'Mx', 'purple')"
   ]
  },
  {
   "cell_type": "markdown",
   "id": "fcf9b162",
   "metadata": {},
   "source": [
    "### croisé\n",
    "\n",
    "L'idée est donc de trouver l'expression de $\\psi_a$ et $\\psi_b$ pour les points $A$ et $B$, centres de cercles de rayon $R_a$ et $R_b$, afin d'avoir la formule de $theta$"
   ]
  },
  {
   "cell_type": "code",
   "execution_count": null,
   "id": "1c959ecd",
   "metadata": {},
   "outputs": [],
   "source": [
    "theta, psi_a, psi_b, Ra, Rb, alpha = sympy.symbols('theta psi_a psi_b R_a R_b alpha')"
   ]
  },
  {
   "cell_type": "code",
   "execution_count": null,
   "id": "ea0ae352",
   "metadata": {},
   "outputs": [],
   "source": [
    "Ua = g3d.Vector(sympy.cos(-psi_a), sympy.sin(-psi_a), 0)\n",
    "Ub = g3d.Vector(sympy.cos(psi_b), sympy.sin(psi_b), 0)"
   ]
  },
  {
   "cell_type": "code",
   "execution_count": null,
   "id": "a4633ebb",
   "metadata": {},
   "outputs": [],
   "source": [
    "Ma = Ua.project(Nz)\n",
    "Mb = Ub.project(Nz)"
   ]
  },
  {
   "cell_type": "code",
   "execution_count": null,
   "id": "22b3e39b",
   "metadata": {},
   "outputs": [],
   "source": [
    "# On reprend la solution simplifiée trouvée précédemment\n",
    "psi_a_sol = sympy.asin(sympy.sin(Ra) / sympy.sin(theta)).simplify()\n",
    "psi_b_sol = sympy.asin(sympy.sin(Rb) / sympy.sin(theta)).simplify()\n",
    "\n",
    "# mais on simplifie d'un cran en posant Pa et Pb\n",
    "Pa, Pb = sympy.symbols('P_a P_b')\n",
    "\n",
    "psi_a_sol = sympy.asin(Pa / sympy.sin(theta)).simplify()\n",
    "psi_b_sol = sympy.asin(Pb / sympy.sin(theta)).simplify()"
   ]
  },
  {
   "cell_type": "markdown",
   "id": "0239dcf8",
   "metadata": {},
   "source": [
    "On peut maintenant calculer theta, sachant que $\\psi_a + \\psi_b$, la distance entre les deux points, est une donnée du problème"
   ]
  },
  {
   "cell_type": "code",
   "execution_count": null,
   "id": "6a525fdb",
   "metadata": {},
   "outputs": [],
   "source": [
    "alpha_equ = psi_a_sol + psi_b_sol - alpha\n",
    "alpha_equ"
   ]
  },
  {
   "cell_type": "code",
   "execution_count": null,
   "id": "76576fc6",
   "metadata": {},
   "outputs": [],
   "source": [
    "alpha_sol = sympy.solve(alpha_equ, theta)"
   ]
  },
  {
   "cell_type": "markdown",
   "id": "3d31d156",
   "metadata": {},
   "source": [
    "! can not be solved by sympy, but matlab can"
   ]
  },
  {
   "cell_type": "code",
   "execution_count": null,
   "id": "012e4a44",
   "metadata": {},
   "outputs": [],
   "source": [
    "s3 = Pa**4 - 2 * sympy.cos(2*alpha) * Pa**2 * Pb**2 + Pb**4\n",
    "s4 = 2 * Pa * Pb**3 * sympy.sin(alpha)**2 * sympy.cos(alpha)\n",
    "s5 = Pa**2 + Pb**2 * sympy.sin(alpha)**2 - Pb**2\n",
    "\n",
    "s6 = Pa**4 - Pb**4*sympy.sin(alpha)**2 + Pb**4 - 2*Pa**2*Pb**2 + 3*Pa**2*Pb**2*sympy.sin(alpha)**2 + s4\n",
    "s7 = (s6 / s3).simplify()\n",
    "\n",
    "s7"
   ]
  },
  {
   "cell_type": "markdown",
   "id": "4001ab40",
   "metadata": {},
   "source": [
    "! can not be simplified by sympy, but matlab can"
   ]
  },
  {
   "cell_type": "code",
   "execution_count": null,
   "id": "4c3e3229",
   "metadata": {},
   "outputs": [],
   "source": [
    "s7 = (Pa + Pb*sympy.cos(alpha))**2/(Pa**2 + 2*sympy.cos(alpha)*Pa*Pb + Pb**2)\n",
    "s7"
   ]
  },
  {
   "cell_type": "code",
   "execution_count": null,
   "id": "40298226",
   "metadata": {},
   "outputs": [],
   "source": [
    "s8 = s5  / (sympy.sin(alpha) * (Pa - Pb*sympy.cos(alpha)) * sympy.sqrt(s7))\n",
    "s8"
   ]
  },
  {
   "cell_type": "code",
   "execution_count": null,
   "id": "deaedb74",
   "metadata": {},
   "outputs": [],
   "source": [
    "theta_sol = sympy.asin(s8.simplify().subs({'P_a': sympy.sin(Ra), 'P_b': sympy.sin(Rb)}))\n",
    "theta_sol.simplify()"
   ]
  },
  {
   "cell_type": "code",
   "execution_count": null,
   "id": "32a888a8",
   "metadata": {},
   "outputs": [],
   "source": [
    "m_val = {'R_a': 0.2, 'R_b': 0.3, 'alpha': 0.9}\n",
    "m_val['theta'] = float(theta_sol.subs(m_val))\n",
    "m_val['psi_a'] = float(sympy.asin(sympy.sin(Ra) / sympy.sin(theta)).subs(m_val))\n",
    "m_val['psi_b'] = float(sympy.asin(sympy.sin(Rb) / sympy.sin(theta)).subs(m_val))\n",
    "print(m_val)"
   ]
  },
  {
   "cell_type": "code",
   "execution_count": null,
   "id": "f5a04f19",
   "metadata": {},
   "outputs": [],
   "source": [
    "with GlobePlotMpl() as gpl :\n",
    "    gpl.add_point(Nx.subs(m_val), 'Nx', 'r')\n",
    "    gpl.add_point(Ny.subs(m_val), 'Ny', 'g')\n",
    "    gpl.add_point(Nz.subs(m_val), 'Nz', 'b')\n",
    "    gpl.add_great_circle(Nz.subs(m_val), 'k')\n",
    "    gpl.add_point(Ua.subs(m_val), 'Ua', 'yellow')\n",
    "    gpl.add_point(Ub.subs(m_val), 'Ua', 'yellow')\n",
    "    gpl.add_circle(Ua.subs(m_val), float(Ra.subs(m_val)), 'orange')\n",
    "    gpl.add_circle(Ub.subs(m_val), float(Rb.subs(m_val)), 'orange')\n",
    "    gpl.add_line(Ua.subs(m_val), Ub.subs(m_val), 'purple')"
   ]
  },
  {
   "cell_type": "code",
   "execution_count": null,
   "id": "5e83b533",
   "metadata": {},
   "outputs": [],
   "source": []
  }
 ],
 "metadata": {
  "kernelspec": {
   "display_name": "Python 3",
   "language": "python",
   "name": "python3"
  },
  "language_info": {
   "codemirror_mode": {
    "name": "ipython",
    "version": 3
   },
   "file_extension": ".py",
   "mimetype": "text/x-python",
   "name": "python",
   "nbconvert_exporter": "python",
   "pygments_lexer": "ipython3",
   "version": "3.8.10"
  }
 },
 "nbformat": 4,
 "nbformat_minor": 5
}
