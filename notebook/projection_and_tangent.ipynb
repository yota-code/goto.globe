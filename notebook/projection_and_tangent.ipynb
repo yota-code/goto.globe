{
 "cells": [
  {
   "cell_type": "code",
   "execution_count": 1,
   "metadata": {},
   "outputs": [],
   "source": [
    "%matplotlib notebook\n",
    "\n",
    "import math\n",
    "import numpy as np\n",
    "import matplotlib.pyplot as plt\n",
    "import sympy\n",
    "\n",
    "import geometrik.threed as g3d\n",
    "\n",
    "from goto.globe.plot import GlobePlotMpl"
   ]
  },
  {
   "cell_type": "code",
   "execution_count": 2,
   "metadata": {},
   "outputs": [],
   "source": [
    "u = sympy.symbols('u')"
   ]
  },
  {
   "cell_type": "markdown",
   "metadata": {},
   "source": [
    "L'idée est de prendre le plan equatorial et de l'incliner d'un angle $\\theta$ autour de l'axe $Ox$"
   ]
  },
  {
   "cell_type": "code",
   "execution_count": 3,
   "metadata": {},
   "outputs": [],
   "source": [
    "Ex = g3d.Vector(1, 0, 0)\n",
    "Ey = g3d.Vector(0, 1, 0)\n",
    "Ez = g3d.Vector(0, 0, 1)"
   ]
  },
  {
   "cell_type": "code",
   "execution_count": 4,
   "metadata": {},
   "outputs": [],
   "source": [
    "theta, psi = sympy.symbols('theta psi')\n",
    "\n",
    "Nz = g3d.Vector(0, -sympy.sin(theta), sympy.cos(theta))\n",
    "Ny = g3d.Vector(0, sympy.cos(theta), sympy.sin(theta))\n",
    "Nx = g3d.Vector(1, 0, 0)\n",
    "\n",
    "Pz = g3d.Plane(Nz)\n",
    "\n",
    "m_val = {'theta': math.pi / 4, 'psi': 0.3}"
   ]
  },
  {
   "cell_type": "code",
   "execution_count": 5,
   "metadata": {},
   "outputs": [
    {
     "data": {
      "text/plain": [
       "Vector(\\cos{\\left(\\psi \\right)}, \\sin{\\left(\\psi \\right)}, 0)"
      ]
     },
     "execution_count": 5,
     "metadata": {},
     "output_type": "execute_result"
    }
   ],
   "source": [
    "Ux = g3d.Vector(sympy.cos(psi), sympy.sin(psi), 0)\n",
    "Ux"
   ]
  },
  {
   "cell_type": "code",
   "execution_count": 6,
   "metadata": {},
   "outputs": [
    {
     "ename": "AttributeError",
     "evalue": "'Plane' object has no attribute 'project'",
     "output_type": "error",
     "traceback": [
      "\u001b[0;31m---------------------------------------------------------------------------\u001b[0m",
      "\u001b[0;31mAttributeError\u001b[0m                            Traceback (most recent call last)",
      "\u001b[0;32m<ipython-input-6-ba0e39ce2d67>\u001b[0m in \u001b[0;36m<module>\u001b[0;34m\u001b[0m\n\u001b[0;32m----> 1\u001b[0;31m \u001b[0mMx\u001b[0m \u001b[0;34m=\u001b[0m \u001b[0mPz\u001b[0m\u001b[0;34m.\u001b[0m\u001b[0mproject\u001b[0m\u001b[0;34m(\u001b[0m\u001b[0mUx\u001b[0m\u001b[0;34m)\u001b[0m\u001b[0;34m\u001b[0m\u001b[0;34m\u001b[0m\u001b[0m\n\u001b[0m\u001b[1;32m      2\u001b[0m \u001b[0mMx\u001b[0m\u001b[0;34m.\u001b[0m\u001b[0mx\u001b[0m\u001b[0;34m\u001b[0m\u001b[0;34m\u001b[0m\u001b[0m\n",
      "\u001b[0;31mAttributeError\u001b[0m: 'Plane' object has no attribute 'project'"
     ]
    }
   ],
   "source": [
    "Mx = Pz.project(Ux)\n",
    "Mx.x"
   ]
  },
  {
   "cell_type": "code",
   "execution_count": null,
   "metadata": {},
   "outputs": [],
   "source": [
    "Mx.y.simplify()"
   ]
  },
  {
   "cell_type": "code",
   "execution_count": null,
   "metadata": {},
   "outputs": [],
   "source": [
    "Mx.z.simplify()"
   ]
  },
  {
   "cell_type": "code",
   "execution_count": null,
   "metadata": {},
   "outputs": [],
   "source": [
    "Mz = (Ux * Nz) * Nz\n",
    "Mz"
   ]
  },
  {
   "cell_type": "code",
   "execution_count": null,
   "metadata": {},
   "outputs": [],
   "source": [
    "with GlobePlotMpl() as gpl :\n",
    "    gpl.add_point(Nx.subs(m_val), 'Nx', 'r')\n",
    "    gpl.add_point(Ny.subs(m_val), 'Ny', 'g')\n",
    "    gpl.add_point(Nz.subs(m_val), 'Nz', 'b')\n",
    "    gpl.add_point(Mz.subs(m_val), 'Mz', 'b')\n",
    "    gpl.add_great_circle(Nz.subs(m_val), 'k')\n",
    "    gpl.add_point(Ux.subs(m_val), 'Ux', 'yellow')\n",
    "    gpl.add_point(Mx.subs(m_val), 'Mx', 'purple')"
   ]
  },
  {
   "cell_type": "code",
   "execution_count": null,
   "metadata": {},
   "outputs": [],
   "source": []
  },
  {
   "cell_type": "code",
   "execution_count": null,
   "metadata": {},
   "outputs": [],
   "source": [
    "Nx.subs({'theta': 0.3})\n",
    "R = sympy.symbols('R')"
   ]
  },
  {
   "cell_type": "code",
   "execution_count": null,
   "metadata": {},
   "outputs": [],
   "source": [
    "r = Ux.angle_to(Mx).simplify()\n",
    "r"
   ]
  },
  {
   "cell_type": "code",
   "execution_count": null,
   "metadata": {},
   "outputs": [],
   "source": [
    "r_sol = sympy.solve(r - R, theta)"
   ]
  },
  {
   "cell_type": "code",
   "execution_count": null,
   "metadata": {},
   "outputs": [],
   "source": [
    "r_sol[0]"
   ]
  },
  {
   "cell_type": "code",
   "execution_count": null,
   "metadata": {},
   "outputs": [],
   "source": [
    "r_sol[1]"
   ]
  },
  {
   "cell_type": "code",
   "execution_count": null,
   "metadata": {},
   "outputs": [],
   "source": [
    "r_sol[2]"
   ]
  },
  {
   "cell_type": "code",
   "execution_count": null,
   "metadata": {},
   "outputs": [],
   "source": [
    "r_sol[3].simplify()"
   ]
  },
  {
   "cell_type": "code",
   "execution_count": null,
   "metadata": {},
   "outputs": [],
   "source": [
    "theta_lst = [float(r_sol[i].subs({'psi': 0.3, 'R': 0.1})) for i in range(4)]\n",
    "theta_lst"
   ]
  },
  {
   "cell_type": "code",
   "execution_count": null,
   "metadata": {},
   "outputs": [],
   "source": [
    "C = g3d.Vector.compose(Ex, Ey, 0.3)\n",
    "\n",
    "Pp = g3d.Vector(0, -sympy.sin(theta), sympy.cos(theta)).subs({'theta': theta_lst[2]})\n",
    "Pn = g3d.Vector(0, -sympy.sin(theta), sympy.cos(theta)).subs({'theta': theta_lst[3]})\n",
    "Mp = g3d.Plane(Pp).project(C)\n",
    "Mn = g3d.Plane(Pn).project(C)\n",
    "\n",
    "with GlobePlotMpl() as gpl :\n",
    "    gpl.add_point(Ex, 'Ex', 'r')\n",
    "    gpl.add_point(Ey, 'Ey', 'g')\n",
    "    gpl.add_point(Ez, 'Ez', 'b')\n",
    "    gpl.add_point(Mp, 'Mp', 'cyan')\n",
    "    gpl.add_point(Mn, 'Mn', 'cyan')\n",
    "\n",
    "    gpl.add_point(g3d.Vector(sympy.cos(psi), sympy.sin(psi), 0).subs({'psi': 0.3}), 'C', 'orange')\n",
    "    gpl.add_circle(C, 0.1, 'orange')    \n",
    "    gpl.add_great_circle(Pp, 'magenta')\n",
    "    gpl.add_great_circle(Pn, 'magenta')\n"
   ]
  },
  {
   "cell_type": "code",
   "execution_count": null,
   "metadata": {},
   "outputs": [],
   "source": [
    "r_lst = list()\n",
    "t_lst = np.linspace(0.0, math.pi/2, 100)\n",
    "u_lst = list()\n",
    "k = math.pi / 3\n",
    "for t in t_lst :\n",
    "    r_lst.append(math.acos(math.sqrt(1 - (math.sin(k)**2 * math.sin(t)**2))))\n",
    "    u_lst.append(math.sin(t)* k)\n",
    "\n",
    "plt.figure()\n",
    "plt.plot(t_lst, r_lst)\n",
    "plt.plot(t_lst, u_lst)\n",
    "plt.show()"
   ]
  },
  {
   "cell_type": "markdown",
   "metadata": {},
   "source": [
    "La question se pose maintenant de manière plus générale : étant donné deux points A et B, et un rayon de virage donné, trouver les 4 segments qui forment les tangentes à ces cercles."
   ]
  },
  {
   "cell_type": "code",
   "execution_count": null,
   "metadata": {},
   "outputs": [],
   "source": [
    "Ax, Ay, Az = sympy.symbols('Ax Ay Az')\n",
    "A = g3d.Vector(Ax, Ay, Az)"
   ]
  },
  {
   "cell_type": "code",
   "execution_count": null,
   "metadata": {},
   "outputs": [],
   "source": [
    "Bx, By, Bz = sympy.symbols('Bx By Bz')\n",
    "B = g3d.Vector(Bx, By, Bz)"
   ]
  },
  {
   "cell_type": "markdown",
   "metadata": {},
   "source": [
    "Cx est le point exactement au milieu des deux cercles, comme ils sont de taille égales, c'est également le point de croisement des tangentes. "
   ]
  },
  {
   "cell_type": "code",
   "execution_count": null,
   "metadata": {},
   "outputs": [],
   "source": [
    "Cx = (A + B).normalized()\n",
    "Cx.x"
   ]
  },
  {
   "cell_type": "markdown",
   "metadata": {},
   "source": [
    "Cz est le vecteur perpendiculaire au plan equatorial contenant A et B, et Cy construit la base Cx, Cy, Cz, directe"
   ]
  },
  {
   "cell_type": "code",
   "execution_count": 7,
   "metadata": {},
   "outputs": [
    {
     "ename": "NameError",
     "evalue": "name 'A' is not defined",
     "output_type": "error",
     "traceback": [
      "\u001b[0;31m---------------------------------------------------------------------------\u001b[0m",
      "\u001b[0;31mNameError\u001b[0m                                 Traceback (most recent call last)",
      "\u001b[0;32m<ipython-input-7-2989e98b97e1>\u001b[0m in \u001b[0;36m<module>\u001b[0;34m\u001b[0m\n\u001b[0;32m----> 1\u001b[0;31m \u001b[0mCz\u001b[0m \u001b[0;34m=\u001b[0m \u001b[0;34m(\u001b[0m\u001b[0mA\u001b[0m \u001b[0;34m@\u001b[0m \u001b[0mB\u001b[0m\u001b[0;34m)\u001b[0m\u001b[0;34m.\u001b[0m\u001b[0mnormalized\u001b[0m\u001b[0;34m(\u001b[0m\u001b[0;34m)\u001b[0m\u001b[0;34m\u001b[0m\u001b[0;34m\u001b[0m\u001b[0m\n\u001b[0m\u001b[1;32m      2\u001b[0m \u001b[0mCz\u001b[0m\u001b[0;34m.\u001b[0m\u001b[0mx\u001b[0m\u001b[0;34m\u001b[0m\u001b[0;34m\u001b[0m\u001b[0m\n",
      "\u001b[0;31mNameError\u001b[0m: name 'A' is not defined"
     ]
    }
   ],
   "source": [
    "Cz = (A @ B).normalized()\n",
    "Cz.x"
   ]
  },
  {
   "cell_type": "code",
   "execution_count": 8,
   "metadata": {},
   "outputs": [
    {
     "ename": "NameError",
     "evalue": "name 'Cz' is not defined",
     "output_type": "error",
     "traceback": [
      "\u001b[0;31m---------------------------------------------------------------------------\u001b[0m",
      "\u001b[0;31mNameError\u001b[0m                                 Traceback (most recent call last)",
      "\u001b[0;32m<ipython-input-8-6e4db2f09870>\u001b[0m in \u001b[0;36m<module>\u001b[0;34m\u001b[0m\n\u001b[0;32m----> 1\u001b[0;31m \u001b[0mCy\u001b[0m \u001b[0;34m=\u001b[0m \u001b[0;34m(\u001b[0m\u001b[0mCz\u001b[0m \u001b[0;34m@\u001b[0m \u001b[0mCx\u001b[0m\u001b[0;34m)\u001b[0m\u001b[0;34m\u001b[0m\u001b[0;34m\u001b[0m\u001b[0m\n\u001b[0m",
      "\u001b[0;31mNameError\u001b[0m: name 'Cz' is not defined"
     ]
    }
   ],
   "source": [
    "Cy = (Cz @ Cx)"
   ]
  },
  {
   "cell_type": "code",
   "execution_count": null,
   "metadata": {},
   "outputs": [],
   "source": [
    "Psi_intern = Cx.angle_to(B)"
   ]
  },
  {
   "cell_type": "code",
   "execution_count": null,
   "metadata": {},
   "outputs": [],
   "source": []
  }
 ],
 "metadata": {
  "kernelspec": {
   "display_name": "Python 3",
   "language": "python",
   "name": "python3"
  }
 },
 "nbformat": 4,
 "nbformat_minor": 5
}
