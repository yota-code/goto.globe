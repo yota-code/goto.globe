{
 "cells": [
  {
   "cell_type": "code",
   "execution_count": null,
   "id": "409caeaa",
   "metadata": {},
   "outputs": [],
   "source": [
    "%matplotlib notebook\n",
    "\n",
    "import math\n",
    "\n",
    "import sympy\n",
    "\n",
    "import geometrik.threed as g3d\n",
    "\n",
    "from goto.globe.plot import GlobePlotMpl\n",
    "\n",
    "from goto.globe.blip import Blip\n",
    "import goto.globe.line"
   ]
  },
  {
   "cell_type": "code",
   "execution_count": null,
   "id": "3b34d6e2",
   "metadata": {},
   "outputs": [],
   "source": [
    "BOD = Blip(44.828333, -0.715556).as_vector\n",
    "MXP = Blip(45.63, 8.723056).as_vector\n",
    "MRS = Blip(43.436667, 5.215).as_vector\n",
    "LHR = Blip(51.4775, -0.461389).as_vector\n",
    "LIS = Blip(38.774167, -9.134167).as_vector\n",
    "RKV = Blip(64.13, -21.940556).as_vector\n",
    "SYD = Blip(-33.946111, 151.177222).as_vector\n",
    "PRY = Blip(-25.653611, 28.224167).as_vector\n",
    "SVO = Blip(55.972778, 37.414722).as_vector\n",
    "SIN = Blip(1.359167, 103.989444).as_vector\n",
    "\n",
    "PT1 = Blip(0.0, 0.0).as_vector\n",
    "PT2 = Blip(0.01, 0.0).as_vector\n",
    "PT3 = Blip(0.01, 0.02).as_vector\n",
    "\n",
    "A, B, C = PRY, SVO, SIN\n",
    "C, B, A = PRY, SVO, SIN\n",
    "# A, B, C = PT1, PT2, PT3"
   ]
  },
  {
   "cell_type": "code",
   "execution_count": null,
   "id": "2d94b41b",
   "metadata": {},
   "outputs": [],
   "source": [
    "z = 8\n",
    "line_BA = goto.globe.line.LineSegment(B, A)\n",
    "line_BC = goto.globe.line.LineSegment(B, C)"
   ]
  },
  {
   "cell_type": "code",
   "execution_count": null,
   "id": "f01c2ce1",
   "metadata": {},
   "outputs": [],
   "source": [
    "with GlobePlotMpl() as u :\n",
    "    u.add_point(A, \"A\", 'r')\n",
    "    u.add_point(B, \"B\", 'g')\n",
    "    u.add_point(C, \"C\", 'b')\n",
    "    u.add_line(A, B, 'yellow')\n",
    "    u.add_line(B, C, 'cyan')\n",
    "    u.add_point(-line_BA.Ly, \"BAy\", 'purple')\n",
    "    u.add_point(line_BC.Ly, \"BCy\", 'purple')"
   ]
  },
  {
   "cell_type": "markdown",
   "id": "101e105c",
   "metadata": {},
   "source": [
    "Given 3 cities $A$, $B$ and $C$ which make two segments: one from $A$ to $B$ and one from $B$ to $C$"
   ]
  },
  {
   "cell_type": "markdown",
   "id": "f6a690b5",
   "metadata": {},
   "source": [
    "$Q$ is a vector which bissect $\\widehat{ABC}$ and is perpendicular to $B$"
   ]
  },
  {
   "cell_type": "code",
   "execution_count": null,
   "id": "5df8af6d",
   "metadata": {},
   "outputs": [],
   "source": [
    "q = (line_BA.Ly).angle_to(line_BC.Ly, B)\n",
    "q"
   ]
  },
  {
   "cell_type": "code",
   "execution_count": null,
   "id": "313e8b82",
   "metadata": {},
   "outputs": [],
   "source": [
    "Q = (line_BC.Ly + line_BA.Ly).normalized()\n",
    "Q.x, Q.y, Q.z"
   ]
  },
  {
   "cell_type": "code",
   "execution_count": null,
   "id": "19ec0e18",
   "metadata": {},
   "outputs": [],
   "source": [
    "with GlobePlotMpl() as u :\n",
    "    u.add_point(A, \"A\", 'r')\n",
    "    u.add_point(B, \"B\", 'g')\n",
    "    u.add_point(C, \"C\", 'b')\n",
    "    u.add_point(Q, \"Q\", 'k')\n",
    "    u.add_point(line_BC.Lx, \"BCx\", 'cyan')\n",
    "    u.add_point(line_BC.Ly, \"BCy\", 'cyan')\n",
    "    u.add_point(line_BC.Lz, \"BCz\", 'cyan')\n",
    "    u.add_point(line_BA.Lx, \"BAx\", 'yellow')\n",
    "    u.add_point(line_BA.Ly, \"BAy\", 'yellow')\n",
    "    u.add_point(line_BA.Lz, \"BAz\", 'yellow')\n",
    "    u.add_line(B, A, 'yellow')\n",
    "    u.add_line(B, C, 'cyan')\n"
   ]
  },
  {
   "cell_type": "markdown",
   "id": "343dd972",
   "metadata": {},
   "source": [
    "We can compute the inner sides of the corridor, given the specified widths"
   ]
  },
  {
   "cell_type": "code",
   "execution_count": null,
   "id": "d6341654",
   "metadata": {},
   "outputs": [],
   "source": [
    "w = math.copysign(1.0, q)\n",
    "w"
   ]
  },
  {
   "cell_type": "markdown",
   "id": "c95c1425",
   "metadata": {},
   "source": [
    "On défini le point $V$ comme un point construit à partir de $B$ et de $Q$"
   ]
  },
  {
   "cell_type": "markdown",
   "id": "b7670009",
   "metadata": {},
   "source": [
    "Les résultats utilisés ici sont expliqués dans le notebook `turn_3pt_wlf`"
   ]
  },
  {
   "cell_type": "code",
   "execution_count": null,
   "id": "7f3467bb",
   "metadata": {},
   "outputs": [],
   "source": [
    "R1 = -(A * Q)**2 / (\n",
    "    A.y**2*(-1+B.y**2) +\n",
    "    2*A.x*A.z*B.x*B.z +\n",
    "    2*A.y*B.y*(A.x*B.x+A.z*B.z) +\n",
    "    A.z**2*(-1+B.z**2) -\n",
    "    A.x**2*(B.y**2+B.z**2)\n",
    ")\n",
    "R1"
   ]
  },
  {
   "cell_type": "code",
   "execution_count": null,
   "id": "0766db07",
   "metadata": {},
   "outputs": [],
   "source": [
    "d = 0.25124028407072047\n",
    "#d = 500.0 / 6371008.7714\n",
    "d"
   ]
  },
  {
   "cell_type": "code",
   "execution_count": null,
   "id": "5c138dd3",
   "metadata": {},
   "outputs": [],
   "source": [
    "t = math.acos(math.sqrt(math.cos(d)**2 - R1)/math.sqrt(1 - R1))\n",
    "t\n",
    "# t = 0.4"
   ]
  },
  {
   "cell_type": "code",
   "execution_count": null,
   "id": "cfd29cc7",
   "metadata": {},
   "outputs": [],
   "source": [
    "V = B * math.cos(t) + Q * math.sin(t)\n",
    "E = line_BA.projection(V)\n",
    "F = line_BC.projection(V)\n",
    "B.angle_to(V)"
   ]
  },
  {
   "cell_type": "code",
   "execution_count": null,
   "id": "49e21ad4",
   "metadata": {},
   "outputs": [],
   "source": [
    "E.angle_to(V)"
   ]
  },
  {
   "cell_type": "code",
   "execution_count": null,
   "id": "7e9581b2",
   "metadata": {},
   "outputs": [],
   "source": [
    "F.angle_to(V)"
   ]
  },
  {
   "cell_type": "code",
   "execution_count": null,
   "id": "0c905293",
   "metadata": {},
   "outputs": [],
   "source": [
    "with GlobePlotMpl() as u :\n",
    "    u.add_point(A, \"A\", 'r')\n",
    "    u.add_point(B, \"B\", 'g')\n",
    "    u.add_point(C, \"C\", 'b')\n",
    "    u.add_point(E, \"E\", 'purple')\n",
    "    u.add_point(F, \"F\", 'orange')\n",
    "    u.add_point(Q, 'Q', 'k')\n",
    "    u.add_point(V, 'V', 'lime')\n",
    "    u.add_line(A, B, 'yellow')\n",
    "    u.add_line(B, C, 'cyan')\n",
    "    u.add_circle(V, E, 'magenta')\n"
   ]
  },
  {
   "cell_type": "code",
   "execution_count": null,
   "id": "69ac20f8",
   "metadata": {},
   "outputs": [],
   "source": [
    "V.angle_to(E)"
   ]
  },
  {
   "cell_type": "code",
   "execution_count": null,
   "id": "e533cd69",
   "metadata": {},
   "outputs": [],
   "source": [
    "V.angle_to(F)"
   ]
  },
  {
   "cell_type": "code",
   "execution_count": null,
   "id": "33eccd70",
   "metadata": {},
   "outputs": [],
   "source": [
    "with GlobePlotMpl() as u :\n",
    "    u.add_point(A, \"A\", 'r')\n",
    "    u.add_point(B, \"B\", 'g')\n",
    "    u.add_point(C, \"C\", 'b')\n",
    "    u.add_point(Q, 'Q', 'k')\n",
    "    u.add_point(E, 'E', 'purple')\n",
    "    u.add_point(F, 'F', 'purple')\n",
    "    u.add_point(V, 'V', 'lime')\n",
    "    # u.add_point(I, 'I', 'magenta')\n",
    "    u.add_line(A, B, 'yellow')\n",
    "    u.add_line(B, C, 'cyan')\n",
    "    u.add_line(point_ab, point_ba, 'orange')\n",
    "    u.add_line(point_bc, point_cb, 'dodgerblue')\n",
    "    u.add_circle(V, E, 'hotpink')"
   ]
  },
  {
   "cell_type": "code",
   "execution_count": null,
   "id": "05d66343",
   "metadata": {},
   "outputs": [],
   "source": [
    "V.x, V.y, V.z"
   ]
  },
  {
   "cell_type": "code",
   "execution_count": null,
   "id": "36d39eb1",
   "metadata": {},
   "outputs": [],
   "source": [
    "E.x, E.y, E.z"
   ]
  },
  {
   "cell_type": "code",
   "execution_count": null,
   "id": "ea7b20c3",
   "metadata": {},
   "outputs": [],
   "source": [
    "B.x, B.y, B.z"
   ]
  },
  {
   "cell_type": "code",
   "execution_count": null,
   "id": "2778b1d8",
   "metadata": {},
   "outputs": [],
   "source": [
    "I.x, I.y, I.z"
   ]
  },
  {
   "cell_type": "code",
   "execution_count": null,
   "id": "fff8678a",
   "metadata": {},
   "outputs": [],
   "source": [
    "Q.x, Q.y, Q.z"
   ]
  },
  {
   "cell_type": "code",
   "execution_count": null,
   "id": "9020bf7b",
   "metadata": {},
   "outputs": [],
   "source": [
    "P1, P2, R1"
   ]
  },
  {
   "cell_type": "code",
   "execution_count": null,
   "id": "489459e6",
   "metadata": {},
   "outputs": [],
   "source": [
    "with UnitSpherePlot() as u :\n",
    "    u.add_point(A, \"A\", 'r')\n",
    "    u.add_point(B, \"B\", 'g')\n",
    "    u.add_point(C, \"C\", 'b')\n",
    "    u.add_point(E, 'E', 'purple')\n",
    "    u.add_point(F, 'F', 'purple')\n",
    "    u.add_point(V, 'V', 'lime')    \n",
    "    u.add_arc(A, B, 'yellow')\n",
    "    u.add_arc(B, C, 'cyan')\n",
    "    u.add_circle_part(V, E, F, 'hotpink')\n",
    "    u.add_arc(point_ab, point_ba, 'orange')\n",
    "    u.add_arc(point_bc, point_cb, 'dodgerblue')"
   ]
  },
  {
   "cell_type": "code",
   "execution_count": null,
   "id": "6a3c47a0",
   "metadata": {},
   "outputs": [],
   "source": [
    "Ez, Fz, Vz = lineto_BA.make_joint(lineto_BC)"
   ]
  },
  {
   "cell_type": "code",
   "execution_count": null,
   "id": "f6989466",
   "metadata": {},
   "outputs": [],
   "source": [
    "Ez, E"
   ]
  },
  {
   "cell_type": "code",
   "execution_count": null,
   "id": "5dc5c8ba",
   "metadata": {},
   "outputs": [],
   "source": [
    "Fz, F"
   ]
  },
  {
   "cell_type": "code",
   "execution_count": null,
   "id": "de3c0c65",
   "metadata": {},
   "outputs": [],
   "source": [
    "Vz, V"
   ]
  },
  {
   "cell_type": "code",
   "execution_count": null,
   "id": "2acca20c",
   "metadata": {},
   "outputs": [],
   "source": []
  }
 ],
 "metadata": {
  "kernelspec": {
   "display_name": "Python 3",
   "language": "python",
   "name": "python3"
  },
  "language_info": {
   "codemirror_mode": {
    "name": "ipython",
    "version": 3
   },
   "file_extension": ".py",
   "mimetype": "text/x-python",
   "name": "python",
   "nbconvert_exporter": "python",
   "pygments_lexer": "ipython3",
   "version": "3.8.10"
  }
 },
 "nbformat": 4,
 "nbformat_minor": 5
}
