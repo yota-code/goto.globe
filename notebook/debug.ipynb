{
 "cells": [
  {
   "cell_type": "code",
   "execution_count": 1,
   "metadata": {},
   "outputs": [],
   "source": [
    "%matplotlib notebook\n",
    "\n",
    "import math\n",
    "\n",
    "import sympy\n",
    "\n",
    "import geometrik.threed as g3d\n",
    "from geometrik.threed.plot import UnitSpherePlot\n",
    "\n",
    "from goto.globe.blip import Blip\n",
    "from goto.globe.lineto import LineTo"
   ]
  },
  {
   "cell_type": "code",
   "execution_count": 2,
   "metadata": {},
   "outputs": [],
   "source": [
    "A = Blip(43.44520634815001,5.20281877769587).as_vector\n",
    "B = Blip(43.43164989819305,5.222250835599687).as_vector\n"
   ]
  },
  {
   "cell_type": "code",
   "execution_count": 3,
   "metadata": {},
   "outputs": [],
   "source": [
    "u = LineTo(A, B)"
   ]
  },
  {
   "cell_type": "code",
   "execution_count": 4,
   "metadata": {},
   "outputs": [
    {
     "name": "stdout",
     "output_type": "stream",
     "text": [
      "Lx = [0.7230410352731163, 0.0658377551494822, 0.6876605640198201]\n",
      "Ly = [0.40900830276646355, 0.7614147476066342, -0.5029510815131255]\n",
      "Lz = [-0.5567080649490154, 0.6449131508381594, 0.5236059188900757]\n",
      "Px = [0.7230410352731165, 0.06583775514948217, 0.6876605640198201]\n",
      "Py = [0.40900830276646355, 0.7614147476066342, -0.5029510815131255]\n",
      "Pz = [-0.5567080649490154, 0.6449131508381594, 0.5236059188900757]\n"
     ]
    },
    {
     "data": {
      "text/plain": [
       "(Vector(0.723, 0.0658, 0.688), 0.0, 133.84733595101125, 0.0)"
      ]
     },
     "execution_count": 4,
     "metadata": {},
     "output_type": "execute_result"
    }
   ],
   "source": [
    "u.status(A)"
   ]
  },
  {
   "cell_type": "code",
   "execution_count": null,
   "metadata": {},
   "outputs": [],
   "source": []
  }
 ],
 "metadata": {
  "kernelspec": {
   "display_name": "Python 3",
   "language": "python",
   "name": "python3"
  },
  "language_info": {
   "codemirror_mode": {
    "name": "ipython",
    "version": 3
   },
   "file_extension": ".py",
   "mimetype": "text/x-python",
   "name": "python",
   "nbconvert_exporter": "python",
   "pygments_lexer": "ipython3",
   "version": "3.8.5"
  }
 },
 "nbformat": 4,
 "nbformat_minor": 4
}
