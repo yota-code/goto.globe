{
 "cells": [
  {
   "cell_type": "code",
   "execution_count": 20,
   "metadata": {},
   "outputs": [],
   "source": [
    "import math\n",
    "import sys\n",
    "\n",
    "sys.path.append(\"/mnt/workbench/source/goto.globe/package\")"
   ]
  },
  {
   "cell_type": "code",
   "execution_count": 21,
   "metadata": {},
   "outputs": [],
   "source": [
    "import sympy\n",
    "\n",
    "import geometrik.threed as g3d\n",
    "\n",
    "import goto.globe.blip\n",
    "import goto.globe.lineto\n",
    "\n",
    "t = sympy.symbols('t')"
   ]
  },
  {
   "cell_type": "code",
   "execution_count": 22,
   "metadata": {},
   "outputs": [],
   "source": [
    "BOD = goto.globe.blip.Blip(44.828333, -0.715556).as_vector\n",
    "MXP = goto.globe.blip.Blip(45.63, 8.723056).as_vector\n",
    "MRS = goto.globe.blip.Blip(43.436667, 5.215).as_vector\n",
    "LHR = goto.globe.blip.Blip(51.4775, -0.461389).as_vector\n",
    "LIS = goto.globe.blip.Blip(38.774167, -9.134167).as_vector\n",
    "RKV = goto.globe.blip.Blip(64.13, -21.940556).as_vector\n",
    "\n",
    "# A, B, C = LIS, MRS, RKV\n",
    "A, B, C = LIS, LHR, MRS\n",
    "\n",
    "lineto_AB = goto.globe.lineto.LineTo(A, B)\n",
    "lineto_BC = goto.globe.lineto.LineTo(B, C)\n",
    "\n",
    "l12 = lineto_AB.side_point(0.0, 0.02, 1.0)\n",
    "r12 = lineto_AB.side_point(0.0, 0.02, -1.0)\n",
    "l21 = lineto_AB.side_point(1.0, 0.01, 1.0)\n",
    "r21 = lineto_AB.side_point(1.0, 0.01, -1.0)\n",
    "\n",
    "l23 = lineto_BC.side_point(0.0, 0.01, 1.0)\n",
    "r23 = lineto_BC.side_point(0.0, 0.01, -1.0)\n",
    "l32 = lineto_BC.side_point(1.0, 0.03, 1.0)\n",
    "r32 = lineto_BC.side_point(1.0, 0.03, -1.0)\n",
    "\n",
    "lineto_BA = goto.globe.lineto.LineTo(B, A)\n",
    "q = lineto_BA.Lz.signed_angle_to(lineto_BC.Ly, B)\n",
    "Q = math.copysign(1.0, q) * (lineto_BC.Lz - lineto_BA.Lz ).normalized()\n",
    "\n",
    "if q < 0.0 :\n",
    "\tline_12 = goto.globe.lineto.LineTo(r12, r21)\n",
    "\tline_32 = goto.globe.lineto.LineTo(r32, r23)\n",
    "elif 0.0 < q :\n",
    "\tline_12 = goto.globe.lineto.LineTo(l21, l12)\n",
    "\tline_32 = goto.globe.lineto.LineTo(l32, l23)\n",
    "else :\n",
    "\traise ValueError\n",
    "I = line_12.intersection(line_32)"
   ]
  },
  {
   "cell_type": "code",
   "execution_count": 23,
   "metadata": {},
   "outputs": [
    {
     "data": {
      "text/plain": [
       "{'A_x': 0.7697342841946113,\n",
       " 'A_y': -0.12376229119388332,\n",
       " 'A_z': 0.6262523668728525,\n",
       " 'B_x': 0.6228017242088094,\n",
       " 'B_y': -0.005015379468955344,\n",
       " 'B_z': 0.7823636355885392,\n",
       " 'I_x': 0.6422025720455385,\n",
       " 'I_y': -0.006496852398333603,\n",
       " 'I_z': 0.7665074346456198,\n",
       " 'Q_x': 0.7822033227551325,\n",
       " 'Q_y': -0.01724130460944277,\n",
       " 'Q_z': -0.6227846331487269}"
      ]
     },
     "execution_count": 23,
     "metadata": {},
     "output_type": "execute_result"
    }
   ],
   "source": [
    "val = {\n",
    "\t'A_x': A.x, 'A_y': A.y, 'A_z': A.z,\n",
    "\t'B_x': B.x, 'B_y': B.y, 'B_z': B.z,\n",
    "\t'I_x': I.x, 'I_y': I.y, 'I_z': I.z,\n",
    "\t'Q_x': Q.x, 'Q_y': Q.y, 'Q_z': Q.z,\n",
    "}\n",
    "val"
   ]
  },
  {
   "cell_type": "code",
   "execution_count": 34,
   "metadata": {},
   "outputs": [],
   "source": [
    "A = g3d.Vector( * sympy.symbols('A_x A_y A_z'), True )\n",
    "B = g3d.Vector( * sympy.symbols('B_x B_y B_z'), True )\n",
    "C = g3d.Vector( * sympy.symbols('C_x C_y C_z'), True )\n",
    "\n",
    "I = g3d.Vector( * sympy.symbols('I_x I_y I_z'), True )\n",
    "Q = g3d.Vector( * sympy.symbols('Q_x Q_y Q_z'), True )\n",
    "\n",
    "V = B * sympy.cos(t) + Q * sympy.sin(t)"
   ]
  },
  {
   "cell_type": "code",
   "execution_count": 35,
   "metadata": {},
   "outputs": [],
   "source": [
    "Pab_Z = (A @ B).normalized()\n",
    "Pab_Y = (Pab_Z @ V).normalized()\n",
    "Pab_X = (Pab_Y @ Pab_Z)\n",
    "Pab_X._is_unit = True"
   ]
  },
  {
   "cell_type": "code",
   "execution_count": 42,
   "metadata": {},
   "outputs": [
    {
     "data": {
      "text/latex": [
       "$\\displaystyle B_{x} \\cos{\\left(t \\right)} + Q_{x} \\sin{\\left(t \\right)}$"
      ],
      "text/plain": [
       "B_x*cos(t) + Q_x*sin(t)"
      ]
     },
     "execution_count": 42,
     "metadata": {},
     "output_type": "execute_result"
    }
   ],
   "source": [
    "V.x"
   ]
  },
  {
   "cell_type": "code",
   "execution_count": 45,
   "metadata": {},
   "outputs": [
    {
     "data": {
      "text/plain": [
       "[0.652180315442888, -0.0265327496178270, 0.757599398987706]"
      ]
     },
     "execution_count": 45,
     "metadata": {},
     "output_type": "execute_result"
    }
   ],
   "source": [
    "[i.subs(val).subs({'t': 0.05}) for i in Pab_X]"
   ]
  },
  {
   "cell_type": "code",
   "execution_count": 44,
   "metadata": {},
   "outputs": [
    {
     "data": {
      "text/plain": [
       "[0.661117256500048, -0.00587081763212138, 0.750259626168288]"
      ]
     },
     "execution_count": 44,
     "metadata": {},
     "output_type": "execute_result"
    }
   ],
   "source": [
    "[i.subs(val).subs({'t': 0.05}) for i in V]"
   ]
  },
  {
   "cell_type": "code",
   "execution_count": 7,
   "metadata": {},
   "outputs": [],
   "source": [
    "## Left angle"
   ]
  },
  {
   "cell_type": "code",
   "execution_count": 8,
   "metadata": {},
   "outputs": [
    {
     "data": {
      "text/latex": [
       "$\\displaystyle \\sqrt{\\frac{\\left(A_{x}^{2} B_{x}^{2} B_{y}^{2} + A_{x}^{2} B_{x}^{2} B_{z}^{2} + A_{x}^{2} B_{y}^{4} + 2 A_{x}^{2} B_{y}^{2} B_{z}^{2} + A_{x}^{2} B_{z}^{4} - 2 A_{x} A_{y} B_{x}^{3} B_{y} - 2 A_{x} A_{y} B_{x} B_{y}^{3} - 2 A_{x} A_{y} B_{x} B_{y} B_{z}^{2} - 2 A_{x} A_{z} B_{x}^{3} B_{z} - 2 A_{x} A_{z} B_{x} B_{y}^{2} B_{z} - 2 A_{x} A_{z} B_{x} B_{z}^{3} + A_{y}^{2} B_{x}^{4} + A_{y}^{2} B_{x}^{2} B_{y}^{2} + 2 A_{y}^{2} B_{x}^{2} B_{z}^{2} + A_{y}^{2} B_{y}^{2} B_{z}^{2} + A_{y}^{2} B_{z}^{4} - 2 A_{y} A_{z} B_{x}^{2} B_{y} B_{z} - 2 A_{y} A_{z} B_{y}^{3} B_{z} - 2 A_{y} A_{z} B_{y} B_{z}^{3} + A_{z}^{2} B_{x}^{4} + 2 A_{z}^{2} B_{x}^{2} B_{y}^{2} + A_{z}^{2} B_{x}^{2} B_{z}^{2} + A_{z}^{2} B_{y}^{4} + A_{z}^{2} B_{y}^{2} B_{z}^{2}\\right) \\cos^{2}{\\left(t \\right)} + \\left(A_{x}^{2} B_{x} B_{y}^{2} Q_{x} + A_{x}^{2} B_{x} B_{z}^{2} Q_{x} + A_{x}^{2} B_{y}^{3} Q_{y} + A_{x}^{2} B_{y}^{2} B_{z} Q_{z} + A_{x}^{2} B_{y} B_{z}^{2} Q_{y} + A_{x}^{2} B_{z}^{3} Q_{z} - 2 A_{x} A_{y} B_{x}^{2} B_{y} Q_{x} - 2 A_{x} A_{y} B_{x} B_{y}^{2} Q_{y} - 2 A_{x} A_{y} B_{x} B_{y} B_{z} Q_{z} - 2 A_{x} A_{z} B_{x}^{2} B_{z} Q_{x} - 2 A_{x} A_{z} B_{x} B_{y} B_{z} Q_{y} - 2 A_{x} A_{z} B_{x} B_{z}^{2} Q_{z} + A_{y}^{2} B_{x}^{3} Q_{x} + A_{y}^{2} B_{x}^{2} B_{y} Q_{y} + A_{y}^{2} B_{x}^{2} B_{z} Q_{z} + A_{y}^{2} B_{x} B_{z}^{2} Q_{x} + A_{y}^{2} B_{y} B_{z}^{2} Q_{y} + A_{y}^{2} B_{z}^{3} Q_{z} - 2 A_{y} A_{z} B_{x} B_{y} B_{z} Q_{x} - 2 A_{y} A_{z} B_{y}^{2} B_{z} Q_{y} - 2 A_{y} A_{z} B_{y} B_{z}^{2} Q_{z} + A_{z}^{2} B_{x}^{3} Q_{x} + A_{z}^{2} B_{x}^{2} B_{y} Q_{y} + A_{z}^{2} B_{x}^{2} B_{z} Q_{z} + A_{z}^{2} B_{x} B_{y}^{2} Q_{x} + A_{z}^{2} B_{y}^{3} Q_{y} + A_{z}^{2} B_{y}^{2} B_{z} Q_{z}\\right) \\sin{\\left(2 t \\right)} + \\left(A_{x}^{2} B_{y}^{2} Q_{x}^{2} + A_{x}^{2} B_{y}^{2} Q_{y}^{2} + 2 A_{x}^{2} B_{y} B_{z} Q_{y} Q_{z} + A_{x}^{2} B_{z}^{2} Q_{x}^{2} + A_{x}^{2} B_{z}^{2} Q_{z}^{2} - 2 A_{x} A_{y} B_{x} B_{y} Q_{x}^{2} - 2 A_{x} A_{y} B_{x} B_{y} Q_{y}^{2} - 2 A_{x} A_{y} B_{x} B_{z} Q_{y} Q_{z} - 2 A_{x} A_{y} B_{y} B_{z} Q_{x} Q_{z} + 2 A_{x} A_{y} B_{z}^{2} Q_{x} Q_{y} - 2 A_{x} A_{z} B_{x} B_{y} Q_{y} Q_{z} - 2 A_{x} A_{z} B_{x} B_{z} Q_{x}^{2} - 2 A_{x} A_{z} B_{x} B_{z} Q_{z}^{2} + 2 A_{x} A_{z} B_{y}^{2} Q_{x} Q_{z} - 2 A_{x} A_{z} B_{y} B_{z} Q_{x} Q_{y} + A_{y}^{2} B_{x}^{2} Q_{x}^{2} + A_{y}^{2} B_{x}^{2} Q_{y}^{2} + 2 A_{y}^{2} B_{x} B_{z} Q_{x} Q_{z} + A_{y}^{2} B_{z}^{2} Q_{y}^{2} + A_{y}^{2} B_{z}^{2} Q_{z}^{2} + 2 A_{y} A_{z} B_{x}^{2} Q_{y} Q_{z} - 2 A_{y} A_{z} B_{x} B_{y} Q_{x} Q_{z} - 2 A_{y} A_{z} B_{x} B_{z} Q_{x} Q_{y} - 2 A_{y} A_{z} B_{y} B_{z} Q_{y}^{2} - 2 A_{y} A_{z} B_{y} B_{z} Q_{z}^{2} + A_{z}^{2} B_{x}^{2} Q_{x}^{2} + A_{z}^{2} B_{x}^{2} Q_{z}^{2} + 2 A_{z}^{2} B_{x} B_{y} Q_{x} Q_{y} + A_{z}^{2} B_{y}^{2} Q_{y}^{2} + A_{z}^{2} B_{y}^{2} Q_{z}^{2}\\right) \\sin^{2}{\\left(t \\right)}}{A_{x}^{2} B_{y}^{2} + A_{x}^{2} B_{z}^{2} - 2 A_{x} A_{y} B_{x} B_{y} - 2 A_{x} A_{z} B_{x} B_{z} + A_{y}^{2} B_{x}^{2} + A_{y}^{2} B_{z}^{2} - 2 A_{y} A_{z} B_{y} B_{z} + A_{z}^{2} B_{x}^{2} + A_{z}^{2} B_{y}^{2}}}$"
      ],
      "text/plain": [
       "sqrt(((A_x**2*B_x**2*B_y**2 + A_x**2*B_x**2*B_z**2 + A_x**2*B_y**4 + 2*A_x**2*B_y**2*B_z**2 + A_x**2*B_z**4 - 2*A_x*A_y*B_x**3*B_y - 2*A_x*A_y*B_x*B_y**3 - 2*A_x*A_y*B_x*B_y*B_z**2 - 2*A_x*A_z*B_x**3*B_z - 2*A_x*A_z*B_x*B_y**2*B_z - 2*A_x*A_z*B_x*B_z**3 + A_y**2*B_x**4 + A_y**2*B_x**2*B_y**2 + 2*A_y**2*B_x**2*B_z**2 + A_y**2*B_y**2*B_z**2 + A_y**2*B_z**4 - 2*A_y*A_z*B_x**2*B_y*B_z - 2*A_y*A_z*B_y**3*B_z - 2*A_y*A_z*B_y*B_z**3 + A_z**2*B_x**4 + 2*A_z**2*B_x**2*B_y**2 + A_z**2*B_x**2*B_z**2 + A_z**2*B_y**4 + A_z**2*B_y**2*B_z**2)*cos(t)**2 + (A_x**2*B_x*B_y**2*Q_x + A_x**2*B_x*B_z**2*Q_x + A_x**2*B_y**3*Q_y + A_x**2*B_y**2*B_z*Q_z + A_x**2*B_y*B_z**2*Q_y + A_x**2*B_z**3*Q_z - 2*A_x*A_y*B_x**2*B_y*Q_x - 2*A_x*A_y*B_x*B_y**2*Q_y - 2*A_x*A_y*B_x*B_y*B_z*Q_z - 2*A_x*A_z*B_x**2*B_z*Q_x - 2*A_x*A_z*B_x*B_y*B_z*Q_y - 2*A_x*A_z*B_x*B_z**2*Q_z + A_y**2*B_x**3*Q_x + A_y**2*B_x**2*B_y*Q_y + A_y**2*B_x**2*B_z*Q_z + A_y**2*B_x*B_z**2*Q_x + A_y**2*B_y*B_z**2*Q_y + A_y**2*B_z**3*Q_z - 2*A_y*A_z*B_x*B_y*B_z*Q_x - 2*A_y*A_z*B_y**2*B_z*Q_y - 2*A_y*A_z*B_y*B_z**2*Q_z + A_z**2*B_x**3*Q_x + A_z**2*B_x**2*B_y*Q_y + A_z**2*B_x**2*B_z*Q_z + A_z**2*B_x*B_y**2*Q_x + A_z**2*B_y**3*Q_y + A_z**2*B_y**2*B_z*Q_z)*sin(2*t) + (A_x**2*B_y**2*Q_x**2 + A_x**2*B_y**2*Q_y**2 + 2*A_x**2*B_y*B_z*Q_y*Q_z + A_x**2*B_z**2*Q_x**2 + A_x**2*B_z**2*Q_z**2 - 2*A_x*A_y*B_x*B_y*Q_x**2 - 2*A_x*A_y*B_x*B_y*Q_y**2 - 2*A_x*A_y*B_x*B_z*Q_y*Q_z - 2*A_x*A_y*B_y*B_z*Q_x*Q_z + 2*A_x*A_y*B_z**2*Q_x*Q_y - 2*A_x*A_z*B_x*B_y*Q_y*Q_z - 2*A_x*A_z*B_x*B_z*Q_x**2 - 2*A_x*A_z*B_x*B_z*Q_z**2 + 2*A_x*A_z*B_y**2*Q_x*Q_z - 2*A_x*A_z*B_y*B_z*Q_x*Q_y + A_y**2*B_x**2*Q_x**2 + A_y**2*B_x**2*Q_y**2 + 2*A_y**2*B_x*B_z*Q_x*Q_z + A_y**2*B_z**2*Q_y**2 + A_y**2*B_z**2*Q_z**2 + 2*A_y*A_z*B_x**2*Q_y*Q_z - 2*A_y*A_z*B_x*B_y*Q_x*Q_z - 2*A_y*A_z*B_x*B_z*Q_x*Q_y - 2*A_y*A_z*B_y*B_z*Q_y**2 - 2*A_y*A_z*B_y*B_z*Q_z**2 + A_z**2*B_x**2*Q_x**2 + A_z**2*B_x**2*Q_z**2 + 2*A_z**2*B_x*B_y*Q_x*Q_y + A_z**2*B_y**2*Q_y**2 + A_z**2*B_y**2*Q_z**2)*sin(t)**2)/(A_x**2*B_y**2 + A_x**2*B_z**2 - 2*A_x*A_y*B_x*B_y - 2*A_x*A_z*B_x*B_z + A_y**2*B_x**2 + A_y**2*B_z**2 - 2*A_y*A_z*B_y*B_z + A_z**2*B_x**2 + A_z**2*B_y**2))"
      ]
     },
     "execution_count": 8,
     "metadata": {},
     "output_type": "execute_result"
    }
   ],
   "source": [
    "left_angle_cached = True\n",
    "if left_angle_cached :\n",
    "    left_angle = sympy.sqrt(((A.x**2*B.x**2*B.y**2 + A.x**2*B.x**2*B.z**2 + A.x**2*B.y**4 + 2*A.x**2*B.y**2*B.z**2 + A.x**2*B.z**4 - 2*A.x*A.y*B.x**3*B.y - 2*A.x*A.y*B.x*B.y**3 - 2*A.x*A.y*B.x*B.y*B.z**2 - 2*A.x*A.z*B.x**3*B.z - 2*A.x*A.z*B.x*B.y**2*B.z - 2*A.x*A.z*B.x*B.z**3 + A.y**2*B.x**4 + A.y**2*B.x**2*B.y**2 + 2*A.y**2*B.x**2*B.z**2 + A.y**2*B.y**2*B.z**2 + A.y**2*B.z**4 - 2*A.y*A.z*B.x**2*B.y*B.z - 2*A.y*A.z*B.y**3*B.z - 2*A.y*A.z*B.y*B.z**3 + A.z**2*B.x**4 + 2*A.z**2*B.x**2*B.y**2 + A.z**2*B.x**2*B.z**2 + A.z**2*B.y**4 + A.z**2*B.y**2*B.z**2)*sympy.cos(t)**2 + (A.x**2*B.x*B.y**2*Q.x + A.x**2*B.x*B.z**2*Q.x + A.x**2*B.y**3*Q.y + A.x**2*B.y**2*B.z*Q.z + A.x**2*B.y*B.z**2*Q.y + A.x**2*B.z**3*Q.z - 2*A.x*A.y*B.x**2*B.y*Q.x - 2*A.x*A.y*B.x*B.y**2*Q.y - 2*A.x*A.y*B.x*B.y*B.z*Q.z - 2*A.x*A.z*B.x**2*B.z*Q.x - 2*A.x*A.z*B.x*B.y*B.z*Q.y - 2*A.x*A.z*B.x*B.z**2*Q.z + A.y**2*B.x**3*Q.x + A.y**2*B.x**2*B.y*Q.y + A.y**2*B.x**2*B.z*Q.z + A.y**2*B.x*B.z**2*Q.x + A.y**2*B.y*B.z**2*Q.y + A.y**2*B.z**3*Q.z - 2*A.y*A.z*B.x*B.y*B.z*Q.x - 2*A.y*A.z*B.y**2*B.z*Q.y - 2*A.y*A.z*B.y*B.z**2*Q.z + A.z**2*B.x**3*Q.x + A.z**2*B.x**2*B.y*Q.y + A.z**2*B.x**2*B.z*Q.z + A.z**2*B.x*B.y**2*Q.x + A.z**2*B.y**3*Q.y + A.z**2*B.y**2*B.z*Q.z)*sympy.sin(2*t) + (A.x**2*B.y**2*Q.x**2 + A.x**2*B.y**2*Q.y**2 + 2*A.x**2*B.y*B.z*Q.y*Q.z + A.x**2*B.z**2*Q.x**2 + A.x**2*B.z**2*Q.z**2 - 2*A.x*A.y*B.x*B.y*Q.x**2 - 2*A.x*A.y*B.x*B.y*Q.y**2 - 2*A.x*A.y*B.x*B.z*Q.y*Q.z - 2*A.x*A.y*B.y*B.z*Q.x*Q.z + 2*A.x*A.y*B.z**2*Q.x*Q.y - 2*A.x*A.z*B.x*B.y*Q.y*Q.z - 2*A.x*A.z*B.x*B.z*Q.x**2 - 2*A.x*A.z*B.x*B.z*Q.z**2 + 2*A.x*A.z*B.y**2*Q.x*Q.z - 2*A.x*A.z*B.y*B.z*Q.x*Q.y + A.y**2*B.x**2*Q.x**2 + A.y**2*B.x**2*Q.y**2 + 2*A.y**2*B.x*B.z*Q.x*Q.z + A.y**2*B.z**2*Q.y**2 + A.y**2*B.z**2*Q.z**2 + 2*A.y*A.z*B.x**2*Q.y*Q.z - 2*A.y*A.z*B.x*B.y*Q.x*Q.z - 2*A.y*A.z*B.x*B.z*Q.x*Q.y - 2*A.y*A.z*B.y*B.z*Q.y**2 - 2*A.y*A.z*B.y*B.z*Q.z**2 + A.z**2*B.x**2*Q.x**2 + A.z**2*B.x**2*Q.z**2 + 2*A.z**2*B.x*B.y*Q.x*Q.y + A.z**2*B.y**2*Q.y**2 + A.z**2*B.y**2*Q.z**2)*sympy.sin(t)**2)/(A.x**2*B.y**2 + A.x**2*B.z**2 - 2*A.x*A.y*B.x*B.y - 2*A.x*A.z*B.x*B.z + A.y**2*B.x**2 + A.y**2*B.z**2 - 2*A.y*A.z*B.y*B.z + A.z**2*B.x**2 + A.z**2*B.y**2))\n",
    "else :\n",
    "    left_angle = (Pab_X * V).expand().simplify().collect(sympy.sin(2*t)).collect(sympy.cos(2*t)).collect(sympy.sin(t)).collect(sympy.cos(t))\n",
    "left_angle"
   ]
  },
  {
   "cell_type": "code",
   "execution_count": 9,
   "metadata": {},
   "outputs": [
    {
     "data": {
      "text/plain": [
       "'sqrt(((A_x**2*B_x**2*B_y**2 + A_x**2*B_x**2*B_z**2 + A_x**2*B_y**4 + 2*A_x**2*B_y**2*B_z**2 + A_x**2*B_z**4 - 2*A_x*A_y*B_x**3*B_y - 2*A_x*A_y*B_x*B_y**3 - 2*A_x*A_y*B_x*B_y*B_z**2 - 2*A_x*A_z*B_x**3*B_z - 2*A_x*A_z*B_x*B_y**2*B_z - 2*A_x*A_z*B_x*B_z**3 + A_y**2*B_x**4 + A_y**2*B_x**2*B_y**2 + 2*A_y**2*B_x**2*B_z**2 + A_y**2*B_y**2*B_z**2 + A_y**2*B_z**4 - 2*A_y*A_z*B_x**2*B_y*B_z - 2*A_y*A_z*B_y**3*B_z - 2*A_y*A_z*B_y*B_z**3 + A_z**2*B_x**4 + 2*A_z**2*B_x**2*B_y**2 + A_z**2*B_x**2*B_z**2 + A_z**2*B_y**4 + A_z**2*B_y**2*B_z**2)*cos(t)**2 + (A_x**2*B_x*B_y**2*Q_x + A_x**2*B_x*B_z**2*Q_x + A_x**2*B_y**3*Q_y + A_x**2*B_y**2*B_z*Q_z + A_x**2*B_y*B_z**2*Q_y + A_x**2*B_z**3*Q_z - 2*A_x*A_y*B_x**2*B_y*Q_x - 2*A_x*A_y*B_x*B_y**2*Q_y - 2*A_x*A_y*B_x*B_y*B_z*Q_z - 2*A_x*A_z*B_x**2*B_z*Q_x - 2*A_x*A_z*B_x*B_y*B_z*Q_y - 2*A_x*A_z*B_x*B_z**2*Q_z + A_y**2*B_x**3*Q_x + A_y**2*B_x**2*B_y*Q_y + A_y**2*B_x**2*B_z*Q_z + A_y**2*B_x*B_z**2*Q_x + A_y**2*B_y*B_z**2*Q_y + A_y**2*B_z**3*Q_z - 2*A_y*A_z*B_x*B_y*B_z*Q_x - 2*A_y*A_z*B_y**2*B_z*Q_y - 2*A_y*A_z*B_y*B_z**2*Q_z + A_z**2*B_x**3*Q_x + A_z**2*B_x**2*B_y*Q_y + A_z**2*B_x**2*B_z*Q_z + A_z**2*B_x*B_y**2*Q_x + A_z**2*B_y**3*Q_y + A_z**2*B_y**2*B_z*Q_z)*sin(2*t) + (A_x**2*B_y**2*Q_x**2 + A_x**2*B_y**2*Q_y**2 + 2*A_x**2*B_y*B_z*Q_y*Q_z + A_x**2*B_z**2*Q_x**2 + A_x**2*B_z**2*Q_z**2 - 2*A_x*A_y*B_x*B_y*Q_x**2 - 2*A_x*A_y*B_x*B_y*Q_y**2 - 2*A_x*A_y*B_x*B_z*Q_y*Q_z - 2*A_x*A_y*B_y*B_z*Q_x*Q_z + 2*A_x*A_y*B_z**2*Q_x*Q_y - 2*A_x*A_z*B_x*B_y*Q_y*Q_z - 2*A_x*A_z*B_x*B_z*Q_x**2 - 2*A_x*A_z*B_x*B_z*Q_z**2 + 2*A_x*A_z*B_y**2*Q_x*Q_z - 2*A_x*A_z*B_y*B_z*Q_x*Q_y + A_y**2*B_x**2*Q_x**2 + A_y**2*B_x**2*Q_y**2 + 2*A_y**2*B_x*B_z*Q_x*Q_z + A_y**2*B_z**2*Q_y**2 + A_y**2*B_z**2*Q_z**2 + 2*A_y*A_z*B_x**2*Q_y*Q_z - 2*A_y*A_z*B_x*B_y*Q_x*Q_z - 2*A_y*A_z*B_x*B_z*Q_x*Q_y - 2*A_y*A_z*B_y*B_z*Q_y**2 - 2*A_y*A_z*B_y*B_z*Q_z**2 + A_z**2*B_x**2*Q_x**2 + A_z**2*B_x**2*Q_z**2 + 2*A_z**2*B_x*B_y*Q_x*Q_y + A_z**2*B_y**2*Q_y**2 + A_z**2*B_y**2*Q_z**2)*sin(t)**2)/(A_x**2*B_y**2 + A_x**2*B_z**2 - 2*A_x*A_y*B_x*B_y - 2*A_x*A_z*B_x*B_z + A_y**2*B_x**2 + A_y**2*B_z**2 - 2*A_y*A_z*B_y*B_z + A_z**2*B_x**2 + A_z**2*B_y**2))'"
      ]
     },
     "execution_count": 9,
     "metadata": {},
     "output_type": "execute_result"
    }
   ],
   "source": [
    "repr(left_angle)"
   ]
  },
  {
   "cell_type": "code",
   "execution_count": 9,
   "metadata": {},
   "outputs": [
    {
     "data": {
      "text/latex": [
       "$\\displaystyle 1.0 \\sqrt{0.775581835221109 \\sin^{2}{\\left(t \\right)} + 5.27816042921794 \\cdot 10^{-16} \\sin{\\left(2 t \\right)} + \\cos^{2}{\\left(t \\right)}}$"
      ],
      "text/plain": [
       "1.0*sqrt(0.775581835221109*sin(t)**2 + 5.27816042921794e-16*sin(2*t) + cos(t)**2)"
      ]
     },
     "execution_count": 9,
     "metadata": {},
     "output_type": "execute_result"
    }
   ],
   "source": [
    "left_angle.subs(val)"
   ]
  },
  {
   "cell_type": "code",
   "execution_count": 10,
   "metadata": {},
   "outputs": [
    {
     "data": {
      "text/latex": [
       "$\\displaystyle \\frac{1}{A_{x}^{2} B_{y}^{2} + A_{x}^{2} B_{z}^{2} - 2 A_{x} A_{y} B_{x} B_{y} - 2 A_{x} A_{z} B_{x} B_{z} + A_{y}^{2} B_{x}^{2} + A_{y}^{2} B_{z}^{2} - 2 A_{y} A_{z} B_{y} B_{z} + A_{z}^{2} B_{x}^{2} + A_{z}^{2} B_{y}^{2}}$"
      ],
      "text/plain": [
       "1/(A_x**2*B_y**2 + A_x**2*B_z**2 - 2*A_x*A_y*B_x*B_y - 2*A_x*A_z*B_x*B_z + A_y**2*B_x**2 + A_y**2*B_z**2 - 2*A_y*A_z*B_y*B_z + A_z**2*B_x**2 + A_z**2*B_y**2)"
      ]
     },
     "execution_count": 10,
     "metadata": {},
     "output_type": "execute_result"
    }
   ],
   "source": [
    "left_angle.args[0].args[0]"
   ]
  },
  {
   "cell_type": "code",
   "execution_count": 11,
   "metadata": {},
   "outputs": [
    {
     "data": {
      "text/latex": [
       "$\\displaystyle B_{x}^{2} + B_{y}^{2} + B_{z}^{2}$"
      ],
      "text/plain": [
       "B_x**2 + B_y**2 + B_z**2"
      ]
     },
     "execution_count": 11,
     "metadata": {},
     "output_type": "execute_result"
    }
   ],
   "source": [
    "# terme en cos(t)^2\n",
    "cos_t_2 = (left_angle.args[0].args[1].args[0].args[1] * left_angle.args[0].args[0]).simplify()\n",
    "cos_t_2"
   ]
  },
  {
   "cell_type": "code",
   "execution_count": 12,
   "metadata": {},
   "outputs": [
    {
     "data": {
      "text/latex": [
       "$\\displaystyle \\frac{A_{x}^{2} B_{y}^{2} Q_{x}^{2} + A_{x}^{2} B_{y}^{2} Q_{y}^{2} + 2 A_{x}^{2} B_{y} B_{z} Q_{y} Q_{z} + A_{x}^{2} B_{z}^{2} Q_{x}^{2} + A_{x}^{2} B_{z}^{2} Q_{z}^{2} - 2 A_{x} A_{y} B_{x} B_{y} Q_{x}^{2} - 2 A_{x} A_{y} B_{x} B_{y} Q_{y}^{2} - 2 A_{x} A_{y} B_{x} B_{z} Q_{y} Q_{z} - 2 A_{x} A_{y} B_{y} B_{z} Q_{x} Q_{z} + 2 A_{x} A_{y} B_{z}^{2} Q_{x} Q_{y} - 2 A_{x} A_{z} B_{x} B_{y} Q_{y} Q_{z} - 2 A_{x} A_{z} B_{x} B_{z} Q_{x}^{2} - 2 A_{x} A_{z} B_{x} B_{z} Q_{z}^{2} + 2 A_{x} A_{z} B_{y}^{2} Q_{x} Q_{z} - 2 A_{x} A_{z} B_{y} B_{z} Q_{x} Q_{y} + A_{y}^{2} B_{x}^{2} Q_{x}^{2} + A_{y}^{2} B_{x}^{2} Q_{y}^{2} + 2 A_{y}^{2} B_{x} B_{z} Q_{x} Q_{z} + A_{y}^{2} B_{z}^{2} Q_{y}^{2} + A_{y}^{2} B_{z}^{2} Q_{z}^{2} + 2 A_{y} A_{z} B_{x}^{2} Q_{y} Q_{z} - 2 A_{y} A_{z} B_{x} B_{y} Q_{x} Q_{z} - 2 A_{y} A_{z} B_{x} B_{z} Q_{x} Q_{y} - 2 A_{y} A_{z} B_{y} B_{z} Q_{y}^{2} - 2 A_{y} A_{z} B_{y} B_{z} Q_{z}^{2} + A_{z}^{2} B_{x}^{2} Q_{x}^{2} + A_{z}^{2} B_{x}^{2} Q_{z}^{2} + 2 A_{z}^{2} B_{x} B_{y} Q_{x} Q_{y} + A_{z}^{2} B_{y}^{2} Q_{y}^{2} + A_{z}^{2} B_{y}^{2} Q_{z}^{2}}{A_{x}^{2} B_{y}^{2} + A_{x}^{2} B_{z}^{2} - 2 A_{x} A_{y} B_{x} B_{y} - 2 A_{x} A_{z} B_{x} B_{z} + A_{y}^{2} B_{x}^{2} + A_{y}^{2} B_{z}^{2} - 2 A_{y} A_{z} B_{y} B_{z} + A_{z}^{2} B_{x}^{2} + A_{z}^{2} B_{y}^{2}}$"
      ],
      "text/plain": [
       "(A_x**2*B_y**2*Q_x**2 + A_x**2*B_y**2*Q_y**2 + 2*A_x**2*B_y*B_z*Q_y*Q_z + A_x**2*B_z**2*Q_x**2 + A_x**2*B_z**2*Q_z**2 - 2*A_x*A_y*B_x*B_y*Q_x**2 - 2*A_x*A_y*B_x*B_y*Q_y**2 - 2*A_x*A_y*B_x*B_z*Q_y*Q_z - 2*A_x*A_y*B_y*B_z*Q_x*Q_z + 2*A_x*A_y*B_z**2*Q_x*Q_y - 2*A_x*A_z*B_x*B_y*Q_y*Q_z - 2*A_x*A_z*B_x*B_z*Q_x**2 - 2*A_x*A_z*B_x*B_z*Q_z**2 + 2*A_x*A_z*B_y**2*Q_x*Q_z - 2*A_x*A_z*B_y*B_z*Q_x*Q_y + A_y**2*B_x**2*Q_x**2 + A_y**2*B_x**2*Q_y**2 + 2*A_y**2*B_x*B_z*Q_x*Q_z + A_y**2*B_z**2*Q_y**2 + A_y**2*B_z**2*Q_z**2 + 2*A_y*A_z*B_x**2*Q_y*Q_z - 2*A_y*A_z*B_x*B_y*Q_x*Q_z - 2*A_y*A_z*B_x*B_z*Q_x*Q_y - 2*A_y*A_z*B_y*B_z*Q_y**2 - 2*A_y*A_z*B_y*B_z*Q_z**2 + A_z**2*B_x**2*Q_x**2 + A_z**2*B_x**2*Q_z**2 + 2*A_z**2*B_x*B_y*Q_x*Q_y + A_z**2*B_y**2*Q_y**2 + A_z**2*B_y**2*Q_z**2)/(A_x**2*B_y**2 + A_x**2*B_z**2 - 2*A_x*A_y*B_x*B_y - 2*A_x*A_z*B_x*B_z + A_y**2*B_x**2 + A_y**2*B_z**2 - 2*A_y*A_z*B_y*B_z + A_z**2*B_x**2 + A_z**2*B_y**2)"
      ]
     },
     "execution_count": 12,
     "metadata": {},
     "output_type": "execute_result"
    }
   ],
   "source": [
    "# terme en sin(t)^2\n",
    "sin_t_2 = (left_angle.args[0].args[1].args[1].args[1] * left_angle.args[0].args[0]).expand().simplify()\n",
    "sin_t_2"
   ]
  },
  {
   "cell_type": "code",
   "execution_count": 50,
   "metadata": {},
   "outputs": [
    {
     "data": {
      "text/latex": [
       "$\\displaystyle 0.77558183522111$"
      ],
      "text/plain": [
       "0.775581835221110"
      ]
     },
     "execution_count": 50,
     "metadata": {},
     "output_type": "execute_result"
    }
   ],
   "source": [
    "sin_t_2.subs(val)"
   ]
  },
  {
   "cell_type": "code",
   "execution_count": 13,
   "metadata": {},
   "outputs": [
    {
     "data": {
      "text/latex": [
       "$\\displaystyle B_{x} Q_{x} + B_{y} Q_{y} + B_{z} Q_{z}$"
      ],
      "text/plain": [
       "B_x*Q_x + B_y*Q_y + B_z*Q_z"
      ]
     },
     "execution_count": 13,
     "metadata": {},
     "output_type": "execute_result"
    }
   ],
   "source": [
    "# sin(2t)\n",
    "sin_2t = (left_angle.args[0].args[1].args[2].args[0] * left_angle.args[0].args[0]).expand().simplify()\n",
    "sin_2t"
   ]
  },
  {
   "cell_type": "code",
   "execution_count": 14,
   "metadata": {},
   "outputs": [
    {
     "data": {
      "text/latex": [
       "$\\displaystyle \\sqrt{\\cos^{2}{\\left(t \\right)} + \\frac{\\left(A_{x}^{2} B_{y}^{2} Q_{x}^{2} + A_{x}^{2} B_{y}^{2} Q_{y}^{2} + 2 A_{x}^{2} B_{y} B_{z} Q_{y} Q_{z} + A_{x}^{2} B_{z}^{2} Q_{x}^{2} + A_{x}^{2} B_{z}^{2} Q_{z}^{2} - 2 A_{x} A_{y} B_{x} B_{y} Q_{x}^{2} - 2 A_{x} A_{y} B_{x} B_{y} Q_{y}^{2} - 2 A_{x} A_{y} B_{x} B_{z} Q_{y} Q_{z} - 2 A_{x} A_{y} B_{y} B_{z} Q_{x} Q_{z} + 2 A_{x} A_{y} B_{z}^{2} Q_{x} Q_{y} - 2 A_{x} A_{z} B_{x} B_{y} Q_{y} Q_{z} - 2 A_{x} A_{z} B_{x} B_{z} Q_{x}^{2} - 2 A_{x} A_{z} B_{x} B_{z} Q_{z}^{2} + 2 A_{x} A_{z} B_{y}^{2} Q_{x} Q_{z} - 2 A_{x} A_{z} B_{y} B_{z} Q_{x} Q_{y} + A_{y}^{2} B_{x}^{2} Q_{x}^{2} + A_{y}^{2} B_{x}^{2} Q_{y}^{2} + 2 A_{y}^{2} B_{x} B_{z} Q_{x} Q_{z} + A_{y}^{2} B_{z}^{2} Q_{y}^{2} + A_{y}^{2} B_{z}^{2} Q_{z}^{2} + 2 A_{y} A_{z} B_{x}^{2} Q_{y} Q_{z} - 2 A_{y} A_{z} B_{x} B_{y} Q_{x} Q_{z} - 2 A_{y} A_{z} B_{x} B_{z} Q_{x} Q_{y} - 2 A_{y} A_{z} B_{y} B_{z} Q_{y}^{2} - 2 A_{y} A_{z} B_{y} B_{z} Q_{z}^{2} + A_{z}^{2} B_{x}^{2} Q_{x}^{2} + A_{z}^{2} B_{x}^{2} Q_{z}^{2} + 2 A_{z}^{2} B_{x} B_{y} Q_{x} Q_{y} + A_{z}^{2} B_{y}^{2} Q_{y}^{2} + A_{z}^{2} B_{y}^{2} Q_{z}^{2}\\right) \\sin^{2}{\\left(t \\right)}}{A_{x}^{2} B_{y}^{2} + A_{x}^{2} B_{z}^{2} - 2 A_{x} A_{y} B_{x} B_{y} - 2 A_{x} A_{z} B_{x} B_{z} + A_{y}^{2} B_{x}^{2} + A_{y}^{2} B_{z}^{2} - 2 A_{y} A_{z} B_{y} B_{z} + A_{z}^{2} B_{x}^{2} + A_{z}^{2} B_{y}^{2}}}$"
      ],
      "text/plain": [
       "sqrt(cos(t)**2 + (A_x**2*B_y**2*Q_x**2 + A_x**2*B_y**2*Q_y**2 + 2*A_x**2*B_y*B_z*Q_y*Q_z + A_x**2*B_z**2*Q_x**2 + A_x**2*B_z**2*Q_z**2 - 2*A_x*A_y*B_x*B_y*Q_x**2 - 2*A_x*A_y*B_x*B_y*Q_y**2 - 2*A_x*A_y*B_x*B_z*Q_y*Q_z - 2*A_x*A_y*B_y*B_z*Q_x*Q_z + 2*A_x*A_y*B_z**2*Q_x*Q_y - 2*A_x*A_z*B_x*B_y*Q_y*Q_z - 2*A_x*A_z*B_x*B_z*Q_x**2 - 2*A_x*A_z*B_x*B_z*Q_z**2 + 2*A_x*A_z*B_y**2*Q_x*Q_z - 2*A_x*A_z*B_y*B_z*Q_x*Q_y + A_y**2*B_x**2*Q_x**2 + A_y**2*B_x**2*Q_y**2 + 2*A_y**2*B_x*B_z*Q_x*Q_z + A_y**2*B_z**2*Q_y**2 + A_y**2*B_z**2*Q_z**2 + 2*A_y*A_z*B_x**2*Q_y*Q_z - 2*A_y*A_z*B_x*B_y*Q_x*Q_z - 2*A_y*A_z*B_x*B_z*Q_x*Q_y - 2*A_y*A_z*B_y*B_z*Q_y**2 - 2*A_y*A_z*B_y*B_z*Q_z**2 + A_z**2*B_x**2*Q_x**2 + A_z**2*B_x**2*Q_z**2 + 2*A_z**2*B_x*B_y*Q_x*Q_y + A_z**2*B_y**2*Q_y**2 + A_z**2*B_y**2*Q_z**2)*sin(t)**2/(A_x**2*B_y**2 + A_x**2*B_z**2 - 2*A_x*A_y*B_x*B_y - 2*A_x*A_z*B_x*B_z + A_y**2*B_x**2 + A_y**2*B_z**2 - 2*A_y*A_z*B_y*B_z + A_z**2*B_x**2 + A_z**2*B_y**2))"
      ]
     },
     "execution_count": 14,
     "metadata": {},
     "output_type": "execute_result"
    }
   ],
   "source": [
    "left_angle = sympy.sqrt( sin_t_2 * sympy.sin(t)**2 + sympy.cos(t)**2 )\n",
    "left_angle"
   ]
  },
  {
   "cell_type": "code",
   "execution_count": 17,
   "metadata": {},
   "outputs": [
    {
     "data": {
      "text/latex": [
       "$\\displaystyle 1.0 \\sqrt{0.77558183522111 \\sin^{2}{\\left(t \\right)} + \\cos^{2}{\\left(t \\right)}}$"
      ],
      "text/plain": [
       "1.0*sqrt(0.77558183522111*sin(t)**2 + cos(t)**2)"
      ]
     },
     "execution_count": 17,
     "metadata": {},
     "output_type": "execute_result"
    }
   ],
   "source": [
    "left_angle.subs(val)"
   ]
  },
  {
   "cell_type": "code",
   "execution_count": 18,
   "metadata": {},
   "outputs": [],
   "source": [
    "# computed\n",
    "center_angle = (I * V).expand().simplify().collect(sympy.sin(t)).collect(sympy.cos(t))"
   ]
  },
  {
   "cell_type": "code",
   "execution_count": 19,
   "metadata": {},
   "outputs": [],
   "source": [
    "# cached\n",
    "center_angle = (B.x*I.x + B.y*I.y + B.z*I.z)*sympy.cos(t) + (I.x*Q.x + I.y*Q.y + I.z*Q.z)*sympy.sin(t)"
   ]
  },
  {
   "cell_type": "code",
   "execution_count": 20,
   "metadata": {},
   "outputs": [
    {
     "data": {
      "text/latex": [
       "$\\displaystyle 0.0250759484555707 \\sin{\\left(t \\right)} + 0.999684996616417 \\cos{\\left(t \\right)}$"
      ],
      "text/plain": [
       "0.0250759484555707*sin(t) + 0.999684996616417*cos(t)"
      ]
     },
     "execution_count": 20,
     "metadata": {},
     "output_type": "execute_result"
    }
   ],
   "source": [
    "center_angle.subs(val)"
   ]
  },
  {
   "cell_type": "code",
   "execution_count": 35,
   "metadata": {},
   "outputs": [],
   "source": [
    "R1, P1, P2 = sympy.symbols('R_1 P_1 P_2')"
   ]
  },
  {
   "cell_type": "code",
   "execution_count": 44,
   "metadata": {},
   "outputs": [
    {
     "data": {
      "text/latex": [
       "$\\displaystyle \\sqrt{R_{1} + \\left(1 - R_{1}\\right) \\cos^{2}{\\left(t \\right)}}$"
      ],
      "text/plain": [
       "sqrt(R_1 + (1 - R_1)*cos(t)**2)"
      ]
     },
     "execution_count": 44,
     "metadata": {},
     "output_type": "execute_result"
    }
   ],
   "source": [
    "left_equa = sympy.sqrt( R1 + (1 - R1) * sympy.cos(t)**2 )\n",
    "left_equa"
   ]
  },
  {
   "cell_type": "code",
   "execution_count": 52,
   "metadata": {},
   "outputs": [],
   "source": [
    "derder = sympy.diff( sympy.sqrt( R1 + (1 - R1) * sympy.cos(t)**2 ), t)"
   ]
  },
  {
   "cell_type": "code",
   "execution_count": 49,
   "metadata": {},
   "outputs": [
    {
     "data": {
      "text/latex": [
       "$\\displaystyle \\sqrt{R_{1} \\sin^{2}{\\left(t \\right)} + \\cos^{2}{\\left(t \\right)}} - \\sqrt{- R_{1} \\cos^{2}{\\left(t \\right)} + R_{1} + \\cos^{2}{\\left(t \\right)}}$"
      ],
      "text/plain": [
       "sqrt(R_1*sin(t)**2 + cos(t)**2) - sqrt(-R_1*cos(t)**2 + R_1 + cos(t)**2)"
      ]
     },
     "execution_count": 49,
     "metadata": {},
     "output_type": "execute_result"
    }
   ],
   "source": [
    "(sympy.sqrt( R1 * sympy.sin(t)**2 + sympy.cos(t)**2 ) - sympy.sqrt( R1 * (1 - sympy.cos(t)**2) + sympy.cos(t)**2 )).expand()"
   ]
  },
  {
   "cell_type": "code",
   "execution_count": 37,
   "metadata": {},
   "outputs": [
    {
     "data": {
      "text/latex": [
       "$\\displaystyle P_{1} \\cos{\\left(t \\right)} + P_{2} \\sin{\\left(t \\right)}$"
      ],
      "text/plain": [
       "P_1*cos(t) + P_2*sin(t)"
      ]
     },
     "execution_count": 37,
     "metadata": {},
     "output_type": "execute_result"
    }
   ],
   "source": [
    "center_equa = P1 * sympy.cos(t) + P2 * sympy.sin(t)\n",
    "center_equa"
   ]
  },
  {
   "cell_type": "code",
   "execution_count": 24,
   "metadata": {},
   "outputs": [
    {
     "ename": "NameError",
     "evalue": "name 'u' is not defined",
     "output_type": "error",
     "traceback": [
      "\u001b[0;31m---------------------------------------------------------------------------\u001b[0m",
      "\u001b[0;31mNameError\u001b[0m                                 Traceback (most recent call last)",
      "\u001b[0;32m<ipython-input-24-4e1aa4538e09>\u001b[0m in \u001b[0;36m<module>\u001b[0;34m\u001b[0m\n\u001b[1;32m      1\u001b[0m \u001b[0;31m#u = sympy.solve(sympy.Eq(center_equa, left_equa), t)\u001b[0m\u001b[0;34m\u001b[0m\u001b[0;34m\u001b[0m\u001b[0;34m\u001b[0m\u001b[0m\n\u001b[0;32m----> 2\u001b[0;31m \u001b[0mu\u001b[0m\u001b[0;34m\u001b[0m\u001b[0;34m\u001b[0m\u001b[0m\n\u001b[0m",
      "\u001b[0;31mNameError\u001b[0m: name 'u' is not defined"
     ]
    }
   ],
   "source": [
    "#u = sympy.solve(sympy.Eq(center_equa, left_equa), t)\n",
    "u"
   ]
  },
  {
   "cell_type": "code",
   "execution_count": 25,
   "metadata": {},
   "outputs": [
    {
     "ename": "NameError",
     "evalue": "name 'u' is not defined",
     "output_type": "error",
     "traceback": [
      "\u001b[0;31m---------------------------------------------------------------------------\u001b[0m",
      "\u001b[0;31mNameError\u001b[0m                                 Traceback (most recent call last)",
      "\u001b[0;32m<ipython-input-25-c1b9b842a92f>\u001b[0m in \u001b[0;36m<module>\u001b[0;34m\u001b[0m\n\u001b[0;32m----> 1\u001b[0;31m \u001b[0mu\u001b[0m\u001b[0;34m[\u001b[0m\u001b[0;36m6\u001b[0m\u001b[0;34m]\u001b[0m\u001b[0;34m\u001b[0m\u001b[0;34m\u001b[0m\u001b[0m\n\u001b[0m",
      "\u001b[0;31mNameError\u001b[0m: name 'u' is not defined"
     ]
    }
   ],
   "source": [
    "u[6]"
   ]
  },
  {
   "cell_type": "code",
   "execution_count": 38,
   "metadata": {},
   "outputs": [
    {
     "ename": "KeyboardInterrupt",
     "evalue": "",
     "output_type": "error",
     "traceback": [
      "\u001b[0;31m---------------------------------------------------------------------------\u001b[0m",
      "\u001b[0;31mKeyboardInterrupt\u001b[0m                         Traceback (most recent call last)",
      "\u001b[0;32m<ipython-input-38-0ff58cbfcd44>\u001b[0m in \u001b[0;36m<module>\u001b[0;34m\u001b[0m\n\u001b[0;32m----> 1\u001b[0;31m \u001b[0mu\u001b[0m \u001b[0;34m=\u001b[0m \u001b[0msympy\u001b[0m\u001b[0;34m.\u001b[0m\u001b[0msolve\u001b[0m\u001b[0;34m(\u001b[0m\u001b[0msympy\u001b[0m\u001b[0;34m.\u001b[0m\u001b[0mEq\u001b[0m\u001b[0;34m(\u001b[0m\u001b[0mleft_angle\u001b[0m\u001b[0;34m,\u001b[0m \u001b[0mcenter_angle\u001b[0m\u001b[0;34m)\u001b[0m\u001b[0;34m,\u001b[0m \u001b[0mt\u001b[0m\u001b[0;34m)\u001b[0m\u001b[0;34m\u001b[0m\u001b[0;34m\u001b[0m\u001b[0m\n\u001b[0m",
      "\u001b[0;32m/usr/local/lib/python3.8/dist-packages/sympy/solvers/solvers.py\u001b[0m in \u001b[0;36msolve\u001b[0;34m(f, *symbols, **flags)\u001b[0m\n\u001b[1;32m   1095\u001b[0m     \u001b[0;31m###########################################################################\u001b[0m\u001b[0;34m\u001b[0m\u001b[0;34m\u001b[0m\u001b[0;34m\u001b[0m\u001b[0m\n\u001b[1;32m   1096\u001b[0m     \u001b[0;32mif\u001b[0m \u001b[0mbare_f\u001b[0m\u001b[0;34m:\u001b[0m\u001b[0;34m\u001b[0m\u001b[0;34m\u001b[0m\u001b[0m\n\u001b[0;32m-> 1097\u001b[0;31m         \u001b[0msolution\u001b[0m \u001b[0;34m=\u001b[0m \u001b[0m_solve\u001b[0m\u001b[0;34m(\u001b[0m\u001b[0mf\u001b[0m\u001b[0;34m[\u001b[0m\u001b[0;36m0\u001b[0m\u001b[0;34m]\u001b[0m\u001b[0;34m,\u001b[0m \u001b[0;34m*\u001b[0m\u001b[0msymbols\u001b[0m\u001b[0;34m,\u001b[0m \u001b[0;34m**\u001b[0m\u001b[0mflags\u001b[0m\u001b[0;34m)\u001b[0m\u001b[0;34m\u001b[0m\u001b[0;34m\u001b[0m\u001b[0m\n\u001b[0m\u001b[1;32m   1098\u001b[0m     \u001b[0;32melse\u001b[0m\u001b[0;34m:\u001b[0m\u001b[0;34m\u001b[0m\u001b[0;34m\u001b[0m\u001b[0m\n\u001b[1;32m   1099\u001b[0m         \u001b[0msolution\u001b[0m \u001b[0;34m=\u001b[0m \u001b[0m_solve_system\u001b[0m\u001b[0;34m(\u001b[0m\u001b[0mf\u001b[0m\u001b[0;34m,\u001b[0m \u001b[0msymbols\u001b[0m\u001b[0;34m,\u001b[0m \u001b[0;34m**\u001b[0m\u001b[0mflags\u001b[0m\u001b[0;34m)\u001b[0m\u001b[0;34m\u001b[0m\u001b[0;34m\u001b[0m\u001b[0m\n",
      "\u001b[0;32m/usr/local/lib/python3.8/dist-packages/sympy/solvers/solvers.py\u001b[0m in \u001b[0;36m_solve\u001b[0;34m(f, *symbols, **flags)\u001b[0m\n\u001b[1;32m   1550\u001b[0m                         \u001b[0;31m# solutions in the un-rewritten form below\u001b[0m\u001b[0;34m\u001b[0m\u001b[0;34m\u001b[0m\u001b[0;34m\u001b[0m\u001b[0m\n\u001b[1;32m   1551\u001b[0m                         \u001b[0mflags\u001b[0m\u001b[0;34m[\u001b[0m\u001b[0;34m'check'\u001b[0m\u001b[0;34m]\u001b[0m \u001b[0;34m=\u001b[0m \u001b[0;32mFalse\u001b[0m\u001b[0;34m\u001b[0m\u001b[0;34m\u001b[0m\u001b[0m\n\u001b[0;32m-> 1552\u001b[0;31m                         \u001b[0mresult\u001b[0m \u001b[0;34m=\u001b[0m \u001b[0m_solve\u001b[0m\u001b[0;34m(\u001b[0m\u001b[0mnewf\u001b[0m\u001b[0;34m,\u001b[0m \u001b[0msymbol\u001b[0m\u001b[0;34m,\u001b[0m \u001b[0;34m**\u001b[0m\u001b[0mflags\u001b[0m\u001b[0;34m)\u001b[0m\u001b[0;34m\u001b[0m\u001b[0;34m\u001b[0m\u001b[0m\n\u001b[0m\u001b[1;32m   1553\u001b[0m                         \u001b[0mflags\u001b[0m\u001b[0;34m[\u001b[0m\u001b[0;34m'check'\u001b[0m\u001b[0;34m]\u001b[0m \u001b[0;34m=\u001b[0m \u001b[0mcheck\u001b[0m\u001b[0;34m\u001b[0m\u001b[0;34m\u001b[0m\u001b[0m\n\u001b[1;32m   1554\u001b[0m \u001b[0;34m\u001b[0m\u001b[0m\n",
      "\u001b[0;32m/usr/local/lib/python3.8/dist-packages/sympy/solvers/solvers.py\u001b[0m in \u001b[0;36m_solve\u001b[0;34m(f, *symbols, **flags)\u001b[0m\n\u001b[1;32m   1567\u001b[0m                     \u001b[0;31m# if no Functions left, we can proceed with usual solve\u001b[0m\u001b[0;34m\u001b[0m\u001b[0;34m\u001b[0m\u001b[0;34m\u001b[0m\u001b[0m\n\u001b[1;32m   1568\u001b[0m                     \u001b[0;32mif\u001b[0m \u001b[0;32mnot\u001b[0m \u001b[0mftry\u001b[0m\u001b[0;34m.\u001b[0m\u001b[0mhas\u001b[0m\u001b[0;34m(\u001b[0m\u001b[0msymbol\u001b[0m\u001b[0;34m)\u001b[0m\u001b[0;34m:\u001b[0m\u001b[0;34m\u001b[0m\u001b[0;34m\u001b[0m\u001b[0m\n\u001b[0;32m-> 1569\u001b[0;31m                         \u001b[0mcv_sols\u001b[0m \u001b[0;34m=\u001b[0m \u001b[0m_solve\u001b[0m\u001b[0;34m(\u001b[0m\u001b[0mftry\u001b[0m\u001b[0;34m,\u001b[0m \u001b[0mt\u001b[0m\u001b[0;34m,\u001b[0m \u001b[0;34m**\u001b[0m\u001b[0mflags\u001b[0m\u001b[0;34m)\u001b[0m\u001b[0;34m\u001b[0m\u001b[0;34m\u001b[0m\u001b[0m\n\u001b[0m\u001b[1;32m   1570\u001b[0m                         \u001b[0mcv_inv\u001b[0m \u001b[0;34m=\u001b[0m \u001b[0m_solve\u001b[0m\u001b[0;34m(\u001b[0m\u001b[0mt\u001b[0m \u001b[0;34m-\u001b[0m \u001b[0mf1\u001b[0m\u001b[0;34m,\u001b[0m \u001b[0msymbol\u001b[0m\u001b[0;34m,\u001b[0m \u001b[0;34m**\u001b[0m\u001b[0mflags\u001b[0m\u001b[0;34m)\u001b[0m\u001b[0;34m[\u001b[0m\u001b[0;36m0\u001b[0m\u001b[0;34m]\u001b[0m\u001b[0;34m\u001b[0m\u001b[0;34m\u001b[0m\u001b[0m\n\u001b[1;32m   1571\u001b[0m                         \u001b[0msols\u001b[0m \u001b[0;34m=\u001b[0m \u001b[0mlist\u001b[0m\u001b[0;34m(\u001b[0m\u001b[0;34m)\u001b[0m\u001b[0;34m\u001b[0m\u001b[0;34m\u001b[0m\u001b[0m\n",
      "\u001b[0;32m/usr/local/lib/python3.8/dist-packages/sympy/solvers/solvers.py\u001b[0m in \u001b[0;36m_solve\u001b[0;34m(f, *symbols, **flags)\u001b[0m\n\u001b[1;32m   1691\u001b[0m                 \u001b[0;32melse\u001b[0m\u001b[0;34m:\u001b[0m\u001b[0;34m\u001b[0m\u001b[0;34m\u001b[0m\u001b[0m\n\u001b[1;32m   1692\u001b[0m                     \u001b[0;32mtry\u001b[0m\u001b[0;34m:\u001b[0m\u001b[0;34m\u001b[0m\u001b[0;34m\u001b[0m\u001b[0m\n\u001b[0;32m-> 1693\u001b[0;31m                         \u001b[0mrv\u001b[0m \u001b[0;34m=\u001b[0m \u001b[0mset\u001b[0m\u001b[0;34m(\u001b[0m\u001b[0m_solve\u001b[0m\u001b[0;34m(\u001b[0m\u001b[0meq\u001b[0m\u001b[0;34m,\u001b[0m \u001b[0msymbol\u001b[0m\u001b[0;34m,\u001b[0m \u001b[0;34m**\u001b[0m\u001b[0mflags\u001b[0m\u001b[0;34m)\u001b[0m\u001b[0;34m)\u001b[0m\u001b[0;34m\u001b[0m\u001b[0;34m\u001b[0m\u001b[0m\n\u001b[0m\u001b[1;32m   1694\u001b[0m                     \u001b[0;32mexcept\u001b[0m \u001b[0mNotImplementedError\u001b[0m\u001b[0;34m:\u001b[0m\u001b[0;34m\u001b[0m\u001b[0;34m\u001b[0m\u001b[0m\n\u001b[1;32m   1695\u001b[0m                         \u001b[0mrv\u001b[0m \u001b[0;34m=\u001b[0m \u001b[0;32mNone\u001b[0m\u001b[0;34m\u001b[0m\u001b[0;34m\u001b[0m\u001b[0m\n",
      "\u001b[0;32m/usr/local/lib/python3.8/dist-packages/sympy/solvers/solvers.py\u001b[0m in \u001b[0;36m_solve\u001b[0;34m(f, *symbols, **flags)\u001b[0m\n\u001b[1;32m   1626\u001b[0m                 solvers = {k: flags.get(k, True) for k in\n\u001b[1;32m   1627\u001b[0m                     ('cubics', 'quartics', 'quintics')}\n\u001b[0;32m-> 1628\u001b[0;31m                 \u001b[0msoln\u001b[0m \u001b[0;34m=\u001b[0m \u001b[0mroots\u001b[0m\u001b[0;34m(\u001b[0m\u001b[0mpoly\u001b[0m\u001b[0;34m,\u001b[0m \u001b[0;34m**\u001b[0m\u001b[0msolvers\u001b[0m\u001b[0;34m)\u001b[0m\u001b[0;34m\u001b[0m\u001b[0;34m\u001b[0m\u001b[0m\n\u001b[0m\u001b[1;32m   1629\u001b[0m                 \u001b[0;32mif\u001b[0m \u001b[0msum\u001b[0m\u001b[0;34m(\u001b[0m\u001b[0msoln\u001b[0m\u001b[0;34m.\u001b[0m\u001b[0mvalues\u001b[0m\u001b[0;34m(\u001b[0m\u001b[0;34m)\u001b[0m\u001b[0;34m)\u001b[0m \u001b[0;34m<\u001b[0m \u001b[0mdeg\u001b[0m\u001b[0;34m:\u001b[0m\u001b[0;34m\u001b[0m\u001b[0;34m\u001b[0m\u001b[0m\n\u001b[1;32m   1630\u001b[0m                     \u001b[0;31m# e.g. roots(32*x**5 + 400*x**4 + 2032*x**3 +\u001b[0m\u001b[0;34m\u001b[0m\u001b[0;34m\u001b[0m\u001b[0;34m\u001b[0m\u001b[0m\n",
      "\u001b[0;32m/usr/local/lib/python3.8/dist-packages/sympy/polys/polyroots.py\u001b[0m in \u001b[0;36mroots\u001b[0;34m(f, auto, cubics, trig, quartics, quintics, multiple, filter, predicate, *gens, **flags)\u001b[0m\n\u001b[1;32m   1033\u001b[0m                 \u001b[0;32melse\u001b[0m\u001b[0;34m:\u001b[0m\u001b[0;34m\u001b[0m\u001b[0;34m\u001b[0m\u001b[0m\n\u001b[1;32m   1034\u001b[0m                     \u001b[0;32mfor\u001b[0m \u001b[0mcurrentfactor\u001b[0m\u001b[0;34m,\u001b[0m \u001b[0mk\u001b[0m \u001b[0;32min\u001b[0m \u001b[0mfactors\u001b[0m\u001b[0;34m:\u001b[0m\u001b[0;34m\u001b[0m\u001b[0;34m\u001b[0m\u001b[0m\n\u001b[0;32m-> 1035\u001b[0;31m                         \u001b[0;32mfor\u001b[0m \u001b[0mr\u001b[0m \u001b[0;32min\u001b[0m \u001b[0m_try_heuristics\u001b[0m\u001b[0;34m(\u001b[0m\u001b[0mPoly\u001b[0m\u001b[0;34m(\u001b[0m\u001b[0mcurrentfactor\u001b[0m\u001b[0;34m,\u001b[0m \u001b[0mf\u001b[0m\u001b[0;34m.\u001b[0m\u001b[0mgen\u001b[0m\u001b[0;34m,\u001b[0m \u001b[0mfield\u001b[0m\u001b[0;34m=\u001b[0m\u001b[0;32mTrue\u001b[0m\u001b[0;34m)\u001b[0m\u001b[0;34m)\u001b[0m\u001b[0;34m:\u001b[0m\u001b[0;34m\u001b[0m\u001b[0;34m\u001b[0m\u001b[0m\n\u001b[0m\u001b[1;32m   1036\u001b[0m                             \u001b[0m_update_dict\u001b[0m\u001b[0;34m(\u001b[0m\u001b[0mresult\u001b[0m\u001b[0;34m,\u001b[0m \u001b[0mr\u001b[0m\u001b[0;34m,\u001b[0m \u001b[0mk\u001b[0m\u001b[0;34m)\u001b[0m\u001b[0;34m\u001b[0m\u001b[0;34m\u001b[0m\u001b[0m\n\u001b[1;32m   1037\u001b[0m \u001b[0;34m\u001b[0m\u001b[0m\n",
      "\u001b[0;32m/usr/local/lib/python3.8/dist-packages/sympy/polys/polyroots.py\u001b[0m in \u001b[0;36m_try_heuristics\u001b[0;34m(f)\u001b[0m\n\u001b[1;32m    965\u001b[0m             \u001b[0mresult\u001b[0m \u001b[0;34m+=\u001b[0m \u001b[0mroots_cubic\u001b[0m\u001b[0;34m(\u001b[0m\u001b[0mf\u001b[0m\u001b[0;34m,\u001b[0m \u001b[0mtrig\u001b[0m\u001b[0;34m=\u001b[0m\u001b[0mtrig\u001b[0m\u001b[0;34m)\u001b[0m\u001b[0;34m\u001b[0m\u001b[0;34m\u001b[0m\u001b[0m\n\u001b[1;32m    966\u001b[0m         \u001b[0;32melif\u001b[0m \u001b[0mn\u001b[0m \u001b[0;34m==\u001b[0m \u001b[0;36m4\u001b[0m \u001b[0;32mand\u001b[0m \u001b[0mquartics\u001b[0m\u001b[0;34m:\u001b[0m\u001b[0;34m\u001b[0m\u001b[0;34m\u001b[0m\u001b[0m\n\u001b[0;32m--> 967\u001b[0;31m             \u001b[0mresult\u001b[0m \u001b[0;34m+=\u001b[0m \u001b[0mroots_quartic\u001b[0m\u001b[0;34m(\u001b[0m\u001b[0mf\u001b[0m\u001b[0;34m)\u001b[0m\u001b[0;34m\u001b[0m\u001b[0;34m\u001b[0m\u001b[0m\n\u001b[0m\u001b[1;32m    968\u001b[0m         \u001b[0;32melif\u001b[0m \u001b[0mn\u001b[0m \u001b[0;34m==\u001b[0m \u001b[0;36m5\u001b[0m \u001b[0;32mand\u001b[0m \u001b[0mquintics\u001b[0m\u001b[0;34m:\u001b[0m\u001b[0;34m\u001b[0m\u001b[0;34m\u001b[0m\u001b[0m\n\u001b[1;32m    969\u001b[0m             \u001b[0mresult\u001b[0m \u001b[0;34m+=\u001b[0m \u001b[0mroots_quintic\u001b[0m\u001b[0;34m(\u001b[0m\u001b[0mf\u001b[0m\u001b[0;34m)\u001b[0m\u001b[0;34m\u001b[0m\u001b[0;34m\u001b[0m\u001b[0m\n",
      "\u001b[0;32m/usr/local/lib/python3.8/dist-packages/sympy/polys/polyroots.py\u001b[0m in \u001b[0;36mroots_quartic\u001b[0;34m(f)\u001b[0m\n\u001b[1;32m    320\u001b[0m         \u001b[0;32melse\u001b[0m\u001b[0;34m:\u001b[0m\u001b[0;34m\u001b[0m\u001b[0;34m\u001b[0m\u001b[0m\n\u001b[1;32m    321\u001b[0m             \u001b[0;31m# Descartes-Euler method, see [7]\u001b[0m\u001b[0;34m\u001b[0m\u001b[0;34m\u001b[0m\u001b[0;34m\u001b[0m\u001b[0m\n\u001b[0;32m--> 322\u001b[0;31m             \u001b[0msols\u001b[0m \u001b[0;34m=\u001b[0m \u001b[0m_roots_quartic_euler\u001b[0m\u001b[0;34m(\u001b[0m\u001b[0me\u001b[0m\u001b[0;34m,\u001b[0m \u001b[0mf\u001b[0m\u001b[0;34m,\u001b[0m \u001b[0mg\u001b[0m\u001b[0;34m,\u001b[0m \u001b[0maon4\u001b[0m\u001b[0;34m)\u001b[0m\u001b[0;34m\u001b[0m\u001b[0;34m\u001b[0m\u001b[0m\n\u001b[0m\u001b[1;32m    323\u001b[0m             \u001b[0;32mif\u001b[0m \u001b[0msols\u001b[0m\u001b[0;34m:\u001b[0m\u001b[0;34m\u001b[0m\u001b[0;34m\u001b[0m\u001b[0m\n\u001b[1;32m    324\u001b[0m                 \u001b[0;32mreturn\u001b[0m \u001b[0msols\u001b[0m\u001b[0;34m\u001b[0m\u001b[0;34m\u001b[0m\u001b[0m\n",
      "\u001b[0;32m/usr/local/lib/python3.8/dist-packages/sympy/polys/polyroots.py\u001b[0m in \u001b[0;36m_roots_quartic_euler\u001b[0;34m(p, q, r, a)\u001b[0m\n\u001b[1;32m    226\u001b[0m     \u001b[0mx\u001b[0m \u001b[0;34m=\u001b[0m \u001b[0mDummy\u001b[0m\u001b[0;34m(\u001b[0m\u001b[0;34m'x'\u001b[0m\u001b[0;34m)\u001b[0m\u001b[0;34m\u001b[0m\u001b[0;34m\u001b[0m\u001b[0m\n\u001b[1;32m    227\u001b[0m     \u001b[0meq\u001b[0m \u001b[0;34m=\u001b[0m \u001b[0;36m64\u001b[0m\u001b[0;34m*\u001b[0m\u001b[0mx\u001b[0m\u001b[0;34m**\u001b[0m\u001b[0;36m3\u001b[0m \u001b[0;34m+\u001b[0m \u001b[0;36m32\u001b[0m\u001b[0;34m*\u001b[0m\u001b[0mp\u001b[0m\u001b[0;34m*\u001b[0m\u001b[0mx\u001b[0m\u001b[0;34m**\u001b[0m\u001b[0;36m2\u001b[0m \u001b[0;34m+\u001b[0m \u001b[0;34m(\u001b[0m\u001b[0;36m4\u001b[0m\u001b[0;34m*\u001b[0m\u001b[0mp\u001b[0m\u001b[0;34m**\u001b[0m\u001b[0;36m2\u001b[0m \u001b[0;34m-\u001b[0m \u001b[0;36m16\u001b[0m\u001b[0;34m*\u001b[0m\u001b[0mr\u001b[0m\u001b[0;34m)\u001b[0m\u001b[0;34m*\u001b[0m\u001b[0mx\u001b[0m \u001b[0;34m-\u001b[0m \u001b[0mq\u001b[0m\u001b[0;34m**\u001b[0m\u001b[0;36m2\u001b[0m\u001b[0;34m\u001b[0m\u001b[0;34m\u001b[0m\u001b[0m\n\u001b[0;32m--> 228\u001b[0;31m     \u001b[0mxsols\u001b[0m \u001b[0;34m=\u001b[0m \u001b[0mlist\u001b[0m\u001b[0;34m(\u001b[0m\u001b[0mroots\u001b[0m\u001b[0;34m(\u001b[0m\u001b[0mPoly\u001b[0m\u001b[0;34m(\u001b[0m\u001b[0meq\u001b[0m\u001b[0;34m,\u001b[0m \u001b[0mx\u001b[0m\u001b[0;34m)\u001b[0m\u001b[0;34m,\u001b[0m \u001b[0mcubics\u001b[0m\u001b[0;34m=\u001b[0m\u001b[0;32mFalse\u001b[0m\u001b[0;34m)\u001b[0m\u001b[0;34m.\u001b[0m\u001b[0mkeys\u001b[0m\u001b[0;34m(\u001b[0m\u001b[0;34m)\u001b[0m\u001b[0;34m)\u001b[0m\u001b[0;34m\u001b[0m\u001b[0;34m\u001b[0m\u001b[0m\n\u001b[0m\u001b[1;32m    229\u001b[0m     \u001b[0mxsols\u001b[0m \u001b[0;34m=\u001b[0m \u001b[0;34m[\u001b[0m\u001b[0msol\u001b[0m \u001b[0;32mfor\u001b[0m \u001b[0msol\u001b[0m \u001b[0;32min\u001b[0m \u001b[0mxsols\u001b[0m \u001b[0;32mif\u001b[0m \u001b[0msol\u001b[0m\u001b[0;34m.\u001b[0m\u001b[0mis_rational\u001b[0m \u001b[0;32mand\u001b[0m \u001b[0msol\u001b[0m\u001b[0;34m.\u001b[0m\u001b[0mis_nonzero\u001b[0m\u001b[0;34m]\u001b[0m\u001b[0;34m\u001b[0m\u001b[0;34m\u001b[0m\u001b[0m\n\u001b[1;32m    230\u001b[0m     \u001b[0;32mif\u001b[0m \u001b[0;32mnot\u001b[0m \u001b[0mxsols\u001b[0m\u001b[0;34m:\u001b[0m\u001b[0;34m\u001b[0m\u001b[0;34m\u001b[0m\u001b[0m\n",
      "\u001b[0;32m/usr/local/lib/python3.8/dist-packages/sympy/polys/polytools.py\u001b[0m in \u001b[0;36m__new__\u001b[0;34m(cls, rep, *gens, **args)\u001b[0m\n\u001b[1;32m    160\u001b[0m                 \u001b[0;32mreturn\u001b[0m \u001b[0mcls\u001b[0m\u001b[0;34m.\u001b[0m\u001b[0m_from_poly\u001b[0m\u001b[0;34m(\u001b[0m\u001b[0mrep\u001b[0m\u001b[0;34m,\u001b[0m \u001b[0mopt\u001b[0m\u001b[0;34m)\u001b[0m\u001b[0;34m\u001b[0m\u001b[0;34m\u001b[0m\u001b[0m\n\u001b[1;32m    161\u001b[0m             \u001b[0;32melse\u001b[0m\u001b[0;34m:\u001b[0m\u001b[0;34m\u001b[0m\u001b[0;34m\u001b[0m\u001b[0m\n\u001b[0;32m--> 162\u001b[0;31m                 \u001b[0;32mreturn\u001b[0m \u001b[0mcls\u001b[0m\u001b[0;34m.\u001b[0m\u001b[0m_from_expr\u001b[0m\u001b[0;34m(\u001b[0m\u001b[0mrep\u001b[0m\u001b[0;34m,\u001b[0m \u001b[0mopt\u001b[0m\u001b[0;34m)\u001b[0m\u001b[0;34m\u001b[0m\u001b[0;34m\u001b[0m\u001b[0m\n\u001b[0m\u001b[1;32m    163\u001b[0m \u001b[0;34m\u001b[0m\u001b[0m\n\u001b[1;32m    164\u001b[0m     \u001b[0;31m# Poly does not pass its args to Basic.__new__ to be stored in _args so we\u001b[0m\u001b[0;34m\u001b[0m\u001b[0;34m\u001b[0m\u001b[0;34m\u001b[0m\u001b[0m\n",
      "\u001b[0;32m/usr/local/lib/python3.8/dist-packages/sympy/polys/polytools.py\u001b[0m in \u001b[0;36m_from_expr\u001b[0;34m(cls, rep, opt)\u001b[0m\n\u001b[1;32m    289\u001b[0m     \u001b[0;32mdef\u001b[0m \u001b[0m_from_expr\u001b[0m\u001b[0;34m(\u001b[0m\u001b[0mcls\u001b[0m\u001b[0;34m,\u001b[0m \u001b[0mrep\u001b[0m\u001b[0;34m,\u001b[0m \u001b[0mopt\u001b[0m\u001b[0;34m)\u001b[0m\u001b[0;34m:\u001b[0m\u001b[0;34m\u001b[0m\u001b[0;34m\u001b[0m\u001b[0m\n\u001b[1;32m    290\u001b[0m         \u001b[0;34m\"\"\"Construct a polynomial from an expression. \"\"\"\u001b[0m\u001b[0;34m\u001b[0m\u001b[0;34m\u001b[0m\u001b[0m\n\u001b[0;32m--> 291\u001b[0;31m         \u001b[0mrep\u001b[0m\u001b[0;34m,\u001b[0m \u001b[0mopt\u001b[0m \u001b[0;34m=\u001b[0m \u001b[0m_dict_from_expr\u001b[0m\u001b[0;34m(\u001b[0m\u001b[0mrep\u001b[0m\u001b[0;34m,\u001b[0m \u001b[0mopt\u001b[0m\u001b[0;34m)\u001b[0m\u001b[0;34m\u001b[0m\u001b[0;34m\u001b[0m\u001b[0m\n\u001b[0m\u001b[1;32m    292\u001b[0m         \u001b[0;32mreturn\u001b[0m \u001b[0mcls\u001b[0m\u001b[0;34m.\u001b[0m\u001b[0m_from_dict\u001b[0m\u001b[0;34m(\u001b[0m\u001b[0mrep\u001b[0m\u001b[0;34m,\u001b[0m \u001b[0mopt\u001b[0m\u001b[0;34m)\u001b[0m\u001b[0;34m\u001b[0m\u001b[0;34m\u001b[0m\u001b[0m\n\u001b[1;32m    293\u001b[0m \u001b[0;34m\u001b[0m\u001b[0m\n",
      "\u001b[0;32m/usr/local/lib/python3.8/dist-packages/sympy/polys/polyutils.py\u001b[0m in \u001b[0;36m_dict_from_expr\u001b[0;34m(expr, opt)\u001b[0m\n\u001b[1;32m    354\u001b[0m         \u001b[0;32mif\u001b[0m \u001b[0;32mnot\u001b[0m \u001b[0misinstance\u001b[0m\u001b[0;34m(\u001b[0m\u001b[0mexpr\u001b[0m\u001b[0;34m,\u001b[0m \u001b[0;34m(\u001b[0m\u001b[0mExpr\u001b[0m\u001b[0;34m,\u001b[0m \u001b[0mEq\u001b[0m\u001b[0;34m)\u001b[0m\u001b[0;34m)\u001b[0m\u001b[0;34m:\u001b[0m\u001b[0;34m\u001b[0m\u001b[0;34m\u001b[0m\u001b[0m\n\u001b[1;32m    355\u001b[0m             \u001b[0;32mraise\u001b[0m \u001b[0mPolynomialError\u001b[0m\u001b[0;34m(\u001b[0m\u001b[0;34m'expression must be of type Expr'\u001b[0m\u001b[0;34m)\u001b[0m\u001b[0;34m\u001b[0m\u001b[0;34m\u001b[0m\u001b[0m\n\u001b[0;32m--> 356\u001b[0;31m         \u001b[0mexpr\u001b[0m \u001b[0;34m=\u001b[0m \u001b[0mexpr\u001b[0m\u001b[0;34m.\u001b[0m\u001b[0mexpand\u001b[0m\u001b[0;34m(\u001b[0m\u001b[0;34m)\u001b[0m\u001b[0;34m\u001b[0m\u001b[0;34m\u001b[0m\u001b[0m\n\u001b[0m\u001b[1;32m    357\u001b[0m         \u001b[0;31m# TODO: Integrate this into expand() itself\u001b[0m\u001b[0;34m\u001b[0m\u001b[0;34m\u001b[0m\u001b[0;34m\u001b[0m\u001b[0m\n\u001b[1;32m    358\u001b[0m         while any(_is_expandable_pow(i) or i.is_Mul and\n",
      "\u001b[0;32m/usr/local/lib/python3.8/dist-packages/sympy/core/cache.py\u001b[0m in \u001b[0;36mwrapper\u001b[0;34m(*args, **kwargs)\u001b[0m\n\u001b[1;32m     70\u001b[0m         \u001b[0;32mdef\u001b[0m \u001b[0mwrapper\u001b[0m\u001b[0;34m(\u001b[0m\u001b[0;34m*\u001b[0m\u001b[0margs\u001b[0m\u001b[0;34m,\u001b[0m \u001b[0;34m**\u001b[0m\u001b[0mkwargs\u001b[0m\u001b[0;34m)\u001b[0m\u001b[0;34m:\u001b[0m\u001b[0;34m\u001b[0m\u001b[0;34m\u001b[0m\u001b[0m\n\u001b[1;32m     71\u001b[0m             \u001b[0;32mtry\u001b[0m\u001b[0;34m:\u001b[0m\u001b[0;34m\u001b[0m\u001b[0;34m\u001b[0m\u001b[0m\n\u001b[0;32m---> 72\u001b[0;31m                 \u001b[0mretval\u001b[0m \u001b[0;34m=\u001b[0m \u001b[0mcfunc\u001b[0m\u001b[0;34m(\u001b[0m\u001b[0;34m*\u001b[0m\u001b[0margs\u001b[0m\u001b[0;34m,\u001b[0m \u001b[0;34m**\u001b[0m\u001b[0mkwargs\u001b[0m\u001b[0;34m)\u001b[0m\u001b[0;34m\u001b[0m\u001b[0;34m\u001b[0m\u001b[0m\n\u001b[0m\u001b[1;32m     73\u001b[0m             \u001b[0;32mexcept\u001b[0m \u001b[0mTypeError\u001b[0m\u001b[0;34m:\u001b[0m\u001b[0;34m\u001b[0m\u001b[0;34m\u001b[0m\u001b[0m\n\u001b[1;32m     74\u001b[0m                 \u001b[0mretval\u001b[0m \u001b[0;34m=\u001b[0m \u001b[0mfunc\u001b[0m\u001b[0;34m(\u001b[0m\u001b[0;34m*\u001b[0m\u001b[0margs\u001b[0m\u001b[0;34m,\u001b[0m \u001b[0;34m**\u001b[0m\u001b[0mkwargs\u001b[0m\u001b[0;34m)\u001b[0m\u001b[0;34m\u001b[0m\u001b[0;34m\u001b[0m\u001b[0m\n",
      "\u001b[0;32m/usr/local/lib/python3.8/dist-packages/sympy/core/expr.py\u001b[0m in \u001b[0;36mexpand\u001b[0;34m(self, deep, modulus, power_base, power_exp, mul, log, multinomial, basic, **hints)\u001b[0m\n\u001b[1;32m   3568\u001b[0m             \u001b[0;32mif\u001b[0m \u001b[0muse_hint\u001b[0m\u001b[0;34m:\u001b[0m\u001b[0;34m\u001b[0m\u001b[0;34m\u001b[0m\u001b[0m\n\u001b[1;32m   3569\u001b[0m                 \u001b[0mhint\u001b[0m \u001b[0;34m=\u001b[0m \u001b[0;34m'_eval_expand_'\u001b[0m \u001b[0;34m+\u001b[0m \u001b[0mhint\u001b[0m\u001b[0;34m\u001b[0m\u001b[0;34m\u001b[0m\u001b[0m\n\u001b[0;32m-> 3570\u001b[0;31m                 \u001b[0mexpr\u001b[0m\u001b[0;34m,\u001b[0m \u001b[0mhit\u001b[0m \u001b[0;34m=\u001b[0m \u001b[0mExpr\u001b[0m\u001b[0;34m.\u001b[0m\u001b[0m_expand_hint\u001b[0m\u001b[0;34m(\u001b[0m\u001b[0mexpr\u001b[0m\u001b[0;34m,\u001b[0m \u001b[0mhint\u001b[0m\u001b[0;34m,\u001b[0m \u001b[0mdeep\u001b[0m\u001b[0;34m=\u001b[0m\u001b[0mdeep\u001b[0m\u001b[0;34m,\u001b[0m \u001b[0;34m**\u001b[0m\u001b[0mhints\u001b[0m\u001b[0;34m)\u001b[0m\u001b[0;34m\u001b[0m\u001b[0;34m\u001b[0m\u001b[0m\n\u001b[0m\u001b[1;32m   3571\u001b[0m \u001b[0;34m\u001b[0m\u001b[0m\n\u001b[1;32m   3572\u001b[0m         \u001b[0;32mwhile\u001b[0m \u001b[0;32mTrue\u001b[0m\u001b[0;34m:\u001b[0m\u001b[0;34m\u001b[0m\u001b[0;34m\u001b[0m\u001b[0m\n",
      "\u001b[0;32m/usr/local/lib/python3.8/dist-packages/sympy/core/expr.py\u001b[0m in \u001b[0;36m_expand_hint\u001b[0;34m(expr, hint, deep, **hints)\u001b[0m\n\u001b[1;32m   3501\u001b[0m             \u001b[0msargs\u001b[0m \u001b[0;34m=\u001b[0m \u001b[0;34m[\u001b[0m\u001b[0;34m]\u001b[0m\u001b[0;34m\u001b[0m\u001b[0;34m\u001b[0m\u001b[0m\n\u001b[1;32m   3502\u001b[0m             \u001b[0;32mfor\u001b[0m \u001b[0marg\u001b[0m \u001b[0;32min\u001b[0m \u001b[0mexpr\u001b[0m\u001b[0;34m.\u001b[0m\u001b[0margs\u001b[0m\u001b[0;34m:\u001b[0m\u001b[0;34m\u001b[0m\u001b[0;34m\u001b[0m\u001b[0m\n\u001b[0;32m-> 3503\u001b[0;31m                 \u001b[0marg\u001b[0m\u001b[0;34m,\u001b[0m \u001b[0marghit\u001b[0m \u001b[0;34m=\u001b[0m \u001b[0mExpr\u001b[0m\u001b[0;34m.\u001b[0m\u001b[0m_expand_hint\u001b[0m\u001b[0;34m(\u001b[0m\u001b[0marg\u001b[0m\u001b[0;34m,\u001b[0m \u001b[0mhint\u001b[0m\u001b[0;34m,\u001b[0m \u001b[0;34m**\u001b[0m\u001b[0mhints\u001b[0m\u001b[0;34m)\u001b[0m\u001b[0;34m\u001b[0m\u001b[0;34m\u001b[0m\u001b[0m\n\u001b[0m\u001b[1;32m   3504\u001b[0m                 \u001b[0mhit\u001b[0m \u001b[0;34m|=\u001b[0m \u001b[0marghit\u001b[0m\u001b[0;34m\u001b[0m\u001b[0;34m\u001b[0m\u001b[0m\n\u001b[1;32m   3505\u001b[0m                 \u001b[0msargs\u001b[0m\u001b[0;34m.\u001b[0m\u001b[0mappend\u001b[0m\u001b[0;34m(\u001b[0m\u001b[0marg\u001b[0m\u001b[0;34m)\u001b[0m\u001b[0;34m\u001b[0m\u001b[0;34m\u001b[0m\u001b[0m\n",
      "\u001b[0;32m/usr/local/lib/python3.8/dist-packages/sympy/core/expr.py\u001b[0m in \u001b[0;36m_expand_hint\u001b[0;34m(expr, hint, deep, **hints)\u001b[0m\n\u001b[1;32m   3501\u001b[0m             \u001b[0msargs\u001b[0m \u001b[0;34m=\u001b[0m \u001b[0;34m[\u001b[0m\u001b[0;34m]\u001b[0m\u001b[0;34m\u001b[0m\u001b[0;34m\u001b[0m\u001b[0m\n\u001b[1;32m   3502\u001b[0m             \u001b[0;32mfor\u001b[0m \u001b[0marg\u001b[0m \u001b[0;32min\u001b[0m \u001b[0mexpr\u001b[0m\u001b[0;34m.\u001b[0m\u001b[0margs\u001b[0m\u001b[0;34m:\u001b[0m\u001b[0;34m\u001b[0m\u001b[0;34m\u001b[0m\u001b[0m\n\u001b[0;32m-> 3503\u001b[0;31m                 \u001b[0marg\u001b[0m\u001b[0;34m,\u001b[0m \u001b[0marghit\u001b[0m \u001b[0;34m=\u001b[0m \u001b[0mExpr\u001b[0m\u001b[0;34m.\u001b[0m\u001b[0m_expand_hint\u001b[0m\u001b[0;34m(\u001b[0m\u001b[0marg\u001b[0m\u001b[0;34m,\u001b[0m \u001b[0mhint\u001b[0m\u001b[0;34m,\u001b[0m \u001b[0;34m**\u001b[0m\u001b[0mhints\u001b[0m\u001b[0;34m)\u001b[0m\u001b[0;34m\u001b[0m\u001b[0;34m\u001b[0m\u001b[0m\n\u001b[0m\u001b[1;32m   3504\u001b[0m                 \u001b[0mhit\u001b[0m \u001b[0;34m|=\u001b[0m \u001b[0marghit\u001b[0m\u001b[0;34m\u001b[0m\u001b[0;34m\u001b[0m\u001b[0m\n\u001b[1;32m   3505\u001b[0m                 \u001b[0msargs\u001b[0m\u001b[0;34m.\u001b[0m\u001b[0mappend\u001b[0m\u001b[0;34m(\u001b[0m\u001b[0marg\u001b[0m\u001b[0;34m)\u001b[0m\u001b[0;34m\u001b[0m\u001b[0;34m\u001b[0m\u001b[0m\n",
      "\u001b[0;32m/usr/local/lib/python3.8/dist-packages/sympy/core/expr.py\u001b[0m in \u001b[0;36m_expand_hint\u001b[0;34m(expr, hint, deep, **hints)\u001b[0m\n\u001b[1;32m   3501\u001b[0m             \u001b[0msargs\u001b[0m \u001b[0;34m=\u001b[0m \u001b[0;34m[\u001b[0m\u001b[0;34m]\u001b[0m\u001b[0;34m\u001b[0m\u001b[0;34m\u001b[0m\u001b[0m\n\u001b[1;32m   3502\u001b[0m             \u001b[0;32mfor\u001b[0m \u001b[0marg\u001b[0m \u001b[0;32min\u001b[0m \u001b[0mexpr\u001b[0m\u001b[0;34m.\u001b[0m\u001b[0margs\u001b[0m\u001b[0;34m:\u001b[0m\u001b[0;34m\u001b[0m\u001b[0;34m\u001b[0m\u001b[0m\n\u001b[0;32m-> 3503\u001b[0;31m                 \u001b[0marg\u001b[0m\u001b[0;34m,\u001b[0m \u001b[0marghit\u001b[0m \u001b[0;34m=\u001b[0m \u001b[0mExpr\u001b[0m\u001b[0;34m.\u001b[0m\u001b[0m_expand_hint\u001b[0m\u001b[0;34m(\u001b[0m\u001b[0marg\u001b[0m\u001b[0;34m,\u001b[0m \u001b[0mhint\u001b[0m\u001b[0;34m,\u001b[0m \u001b[0;34m**\u001b[0m\u001b[0mhints\u001b[0m\u001b[0;34m)\u001b[0m\u001b[0;34m\u001b[0m\u001b[0;34m\u001b[0m\u001b[0m\n\u001b[0m\u001b[1;32m   3504\u001b[0m                 \u001b[0mhit\u001b[0m \u001b[0;34m|=\u001b[0m \u001b[0marghit\u001b[0m\u001b[0;34m\u001b[0m\u001b[0;34m\u001b[0m\u001b[0m\n\u001b[1;32m   3505\u001b[0m                 \u001b[0msargs\u001b[0m\u001b[0;34m.\u001b[0m\u001b[0mappend\u001b[0m\u001b[0;34m(\u001b[0m\u001b[0marg\u001b[0m\u001b[0;34m)\u001b[0m\u001b[0;34m\u001b[0m\u001b[0;34m\u001b[0m\u001b[0m\n",
      "\u001b[0;32m/usr/local/lib/python3.8/dist-packages/sympy/core/expr.py\u001b[0m in \u001b[0;36m_expand_hint\u001b[0;34m(expr, hint, deep, **hints)\u001b[0m\n\u001b[1;32m   3501\u001b[0m             \u001b[0msargs\u001b[0m \u001b[0;34m=\u001b[0m \u001b[0;34m[\u001b[0m\u001b[0;34m]\u001b[0m\u001b[0;34m\u001b[0m\u001b[0;34m\u001b[0m\u001b[0m\n\u001b[1;32m   3502\u001b[0m             \u001b[0;32mfor\u001b[0m \u001b[0marg\u001b[0m \u001b[0;32min\u001b[0m \u001b[0mexpr\u001b[0m\u001b[0;34m.\u001b[0m\u001b[0margs\u001b[0m\u001b[0;34m:\u001b[0m\u001b[0;34m\u001b[0m\u001b[0;34m\u001b[0m\u001b[0m\n\u001b[0;32m-> 3503\u001b[0;31m                 \u001b[0marg\u001b[0m\u001b[0;34m,\u001b[0m \u001b[0marghit\u001b[0m \u001b[0;34m=\u001b[0m \u001b[0mExpr\u001b[0m\u001b[0;34m.\u001b[0m\u001b[0m_expand_hint\u001b[0m\u001b[0;34m(\u001b[0m\u001b[0marg\u001b[0m\u001b[0;34m,\u001b[0m \u001b[0mhint\u001b[0m\u001b[0;34m,\u001b[0m \u001b[0;34m**\u001b[0m\u001b[0mhints\u001b[0m\u001b[0;34m)\u001b[0m\u001b[0;34m\u001b[0m\u001b[0;34m\u001b[0m\u001b[0m\n\u001b[0m\u001b[1;32m   3504\u001b[0m                 \u001b[0mhit\u001b[0m \u001b[0;34m|=\u001b[0m \u001b[0marghit\u001b[0m\u001b[0;34m\u001b[0m\u001b[0;34m\u001b[0m\u001b[0m\n\u001b[1;32m   3505\u001b[0m                 \u001b[0msargs\u001b[0m\u001b[0;34m.\u001b[0m\u001b[0mappend\u001b[0m\u001b[0;34m(\u001b[0m\u001b[0marg\u001b[0m\u001b[0;34m)\u001b[0m\u001b[0;34m\u001b[0m\u001b[0;34m\u001b[0m\u001b[0m\n",
      "\u001b[0;32m/usr/local/lib/python3.8/dist-packages/sympy/core/expr.py\u001b[0m in \u001b[0;36m_expand_hint\u001b[0;34m(expr, hint, deep, **hints)\u001b[0m\n\u001b[1;32m   3501\u001b[0m             \u001b[0msargs\u001b[0m \u001b[0;34m=\u001b[0m \u001b[0;34m[\u001b[0m\u001b[0;34m]\u001b[0m\u001b[0;34m\u001b[0m\u001b[0;34m\u001b[0m\u001b[0m\n\u001b[1;32m   3502\u001b[0m             \u001b[0;32mfor\u001b[0m \u001b[0marg\u001b[0m \u001b[0;32min\u001b[0m \u001b[0mexpr\u001b[0m\u001b[0;34m.\u001b[0m\u001b[0margs\u001b[0m\u001b[0;34m:\u001b[0m\u001b[0;34m\u001b[0m\u001b[0;34m\u001b[0m\u001b[0m\n\u001b[0;32m-> 3503\u001b[0;31m                 \u001b[0marg\u001b[0m\u001b[0;34m,\u001b[0m \u001b[0marghit\u001b[0m \u001b[0;34m=\u001b[0m \u001b[0mExpr\u001b[0m\u001b[0;34m.\u001b[0m\u001b[0m_expand_hint\u001b[0m\u001b[0;34m(\u001b[0m\u001b[0marg\u001b[0m\u001b[0;34m,\u001b[0m \u001b[0mhint\u001b[0m\u001b[0;34m,\u001b[0m \u001b[0;34m**\u001b[0m\u001b[0mhints\u001b[0m\u001b[0;34m)\u001b[0m\u001b[0;34m\u001b[0m\u001b[0;34m\u001b[0m\u001b[0m\n\u001b[0m\u001b[1;32m   3504\u001b[0m                 \u001b[0mhit\u001b[0m \u001b[0;34m|=\u001b[0m \u001b[0marghit\u001b[0m\u001b[0;34m\u001b[0m\u001b[0;34m\u001b[0m\u001b[0m\n\u001b[1;32m   3505\u001b[0m                 \u001b[0msargs\u001b[0m\u001b[0;34m.\u001b[0m\u001b[0mappend\u001b[0m\u001b[0;34m(\u001b[0m\u001b[0marg\u001b[0m\u001b[0;34m)\u001b[0m\u001b[0;34m\u001b[0m\u001b[0;34m\u001b[0m\u001b[0m\n",
      "\u001b[0;32m/usr/local/lib/python3.8/dist-packages/sympy/core/expr.py\u001b[0m in \u001b[0;36m_expand_hint\u001b[0;34m(expr, hint, deep, **hints)\u001b[0m\n\u001b[1;32m   3501\u001b[0m             \u001b[0msargs\u001b[0m \u001b[0;34m=\u001b[0m \u001b[0;34m[\u001b[0m\u001b[0;34m]\u001b[0m\u001b[0;34m\u001b[0m\u001b[0;34m\u001b[0m\u001b[0m\n\u001b[1;32m   3502\u001b[0m             \u001b[0;32mfor\u001b[0m \u001b[0marg\u001b[0m \u001b[0;32min\u001b[0m \u001b[0mexpr\u001b[0m\u001b[0;34m.\u001b[0m\u001b[0margs\u001b[0m\u001b[0;34m:\u001b[0m\u001b[0;34m\u001b[0m\u001b[0;34m\u001b[0m\u001b[0m\n\u001b[0;32m-> 3503\u001b[0;31m                 \u001b[0marg\u001b[0m\u001b[0;34m,\u001b[0m \u001b[0marghit\u001b[0m \u001b[0;34m=\u001b[0m \u001b[0mExpr\u001b[0m\u001b[0;34m.\u001b[0m\u001b[0m_expand_hint\u001b[0m\u001b[0;34m(\u001b[0m\u001b[0marg\u001b[0m\u001b[0;34m,\u001b[0m \u001b[0mhint\u001b[0m\u001b[0;34m,\u001b[0m \u001b[0;34m**\u001b[0m\u001b[0mhints\u001b[0m\u001b[0;34m)\u001b[0m\u001b[0;34m\u001b[0m\u001b[0;34m\u001b[0m\u001b[0m\n\u001b[0m\u001b[1;32m   3504\u001b[0m                 \u001b[0mhit\u001b[0m \u001b[0;34m|=\u001b[0m \u001b[0marghit\u001b[0m\u001b[0;34m\u001b[0m\u001b[0;34m\u001b[0m\u001b[0m\n\u001b[1;32m   3505\u001b[0m                 \u001b[0msargs\u001b[0m\u001b[0;34m.\u001b[0m\u001b[0mappend\u001b[0m\u001b[0;34m(\u001b[0m\u001b[0marg\u001b[0m\u001b[0;34m)\u001b[0m\u001b[0;34m\u001b[0m\u001b[0;34m\u001b[0m\u001b[0m\n",
      "\u001b[0;32m/usr/local/lib/python3.8/dist-packages/sympy/core/expr.py\u001b[0m in \u001b[0;36m_expand_hint\u001b[0;34m(expr, hint, deep, **hints)\u001b[0m\n\u001b[1;32m   3501\u001b[0m             \u001b[0msargs\u001b[0m \u001b[0;34m=\u001b[0m \u001b[0;34m[\u001b[0m\u001b[0;34m]\u001b[0m\u001b[0;34m\u001b[0m\u001b[0;34m\u001b[0m\u001b[0m\n\u001b[1;32m   3502\u001b[0m             \u001b[0;32mfor\u001b[0m \u001b[0marg\u001b[0m \u001b[0;32min\u001b[0m \u001b[0mexpr\u001b[0m\u001b[0;34m.\u001b[0m\u001b[0margs\u001b[0m\u001b[0;34m:\u001b[0m\u001b[0;34m\u001b[0m\u001b[0;34m\u001b[0m\u001b[0m\n\u001b[0;32m-> 3503\u001b[0;31m                 \u001b[0marg\u001b[0m\u001b[0;34m,\u001b[0m \u001b[0marghit\u001b[0m \u001b[0;34m=\u001b[0m \u001b[0mExpr\u001b[0m\u001b[0;34m.\u001b[0m\u001b[0m_expand_hint\u001b[0m\u001b[0;34m(\u001b[0m\u001b[0marg\u001b[0m\u001b[0;34m,\u001b[0m \u001b[0mhint\u001b[0m\u001b[0;34m,\u001b[0m \u001b[0;34m**\u001b[0m\u001b[0mhints\u001b[0m\u001b[0;34m)\u001b[0m\u001b[0;34m\u001b[0m\u001b[0;34m\u001b[0m\u001b[0m\n\u001b[0m\u001b[1;32m   3504\u001b[0m                 \u001b[0mhit\u001b[0m \u001b[0;34m|=\u001b[0m \u001b[0marghit\u001b[0m\u001b[0;34m\u001b[0m\u001b[0;34m\u001b[0m\u001b[0m\n\u001b[1;32m   3505\u001b[0m                 \u001b[0msargs\u001b[0m\u001b[0;34m.\u001b[0m\u001b[0mappend\u001b[0m\u001b[0;34m(\u001b[0m\u001b[0marg\u001b[0m\u001b[0;34m)\u001b[0m\u001b[0;34m\u001b[0m\u001b[0;34m\u001b[0m\u001b[0m\n",
      "\u001b[0;32m/usr/local/lib/python3.8/dist-packages/sympy/core/expr.py\u001b[0m in \u001b[0;36m_expand_hint\u001b[0;34m(expr, hint, deep, **hints)\u001b[0m\n\u001b[1;32m   3509\u001b[0m \u001b[0;34m\u001b[0m\u001b[0m\n\u001b[1;32m   3510\u001b[0m         \u001b[0;32mif\u001b[0m \u001b[0mhasattr\u001b[0m\u001b[0;34m(\u001b[0m\u001b[0mexpr\u001b[0m\u001b[0;34m,\u001b[0m \u001b[0mhint\u001b[0m\u001b[0;34m)\u001b[0m\u001b[0;34m:\u001b[0m\u001b[0;34m\u001b[0m\u001b[0;34m\u001b[0m\u001b[0m\n\u001b[0;32m-> 3511\u001b[0;31m             \u001b[0mnewexpr\u001b[0m \u001b[0;34m=\u001b[0m \u001b[0mgetattr\u001b[0m\u001b[0;34m(\u001b[0m\u001b[0mexpr\u001b[0m\u001b[0;34m,\u001b[0m \u001b[0mhint\u001b[0m\u001b[0;34m)\u001b[0m\u001b[0;34m(\u001b[0m\u001b[0;34m**\u001b[0m\u001b[0mhints\u001b[0m\u001b[0;34m)\u001b[0m\u001b[0;34m\u001b[0m\u001b[0;34m\u001b[0m\u001b[0m\n\u001b[0m\u001b[1;32m   3512\u001b[0m             \u001b[0;32mif\u001b[0m \u001b[0mnewexpr\u001b[0m \u001b[0;34m!=\u001b[0m \u001b[0mexpr\u001b[0m\u001b[0;34m:\u001b[0m\u001b[0;34m\u001b[0m\u001b[0;34m\u001b[0m\u001b[0m\n\u001b[1;32m   3513\u001b[0m                 \u001b[0;32mreturn\u001b[0m \u001b[0;34m(\u001b[0m\u001b[0mnewexpr\u001b[0m\u001b[0;34m,\u001b[0m \u001b[0;32mTrue\u001b[0m\u001b[0;34m)\u001b[0m\u001b[0;34m\u001b[0m\u001b[0;34m\u001b[0m\u001b[0m\n",
      "\u001b[0;32m/usr/local/lib/python3.8/dist-packages/sympy/core/power.py\u001b[0m in \u001b[0;36m_eval_expand_multinomial\u001b[0;34m(self, **hints)\u001b[0m\n\u001b[1;32m   1162\u001b[0m                 \u001b[0;31m# in our example: {(3, 0): 1, (1, 2): 3, (0, 3): 1, (2, 1): 3}\u001b[0m\u001b[0;34m\u001b[0m\u001b[0;34m\u001b[0m\u001b[0;34m\u001b[0m\u001b[0m\n\u001b[1;32m   1163\u001b[0m                 \u001b[0;31m# and now construct the expression.\u001b[0m\u001b[0;34m\u001b[0m\u001b[0;34m\u001b[0m\u001b[0;34m\u001b[0m\u001b[0m\n\u001b[0;32m-> 1164\u001b[0;31m                 \u001b[0;32mreturn\u001b[0m \u001b[0mbasic_from_dict\u001b[0m\u001b[0;34m(\u001b[0m\u001b[0mexpansion_dict\u001b[0m\u001b[0;34m,\u001b[0m \u001b[0;34m*\u001b[0m\u001b[0mp\u001b[0m\u001b[0;34m)\u001b[0m\u001b[0;34m\u001b[0m\u001b[0;34m\u001b[0m\u001b[0m\n\u001b[0m\u001b[1;32m   1165\u001b[0m             \u001b[0;32melse\u001b[0m\u001b[0;34m:\u001b[0m\u001b[0;34m\u001b[0m\u001b[0;34m\u001b[0m\u001b[0m\n\u001b[1;32m   1166\u001b[0m                 \u001b[0;32mif\u001b[0m \u001b[0mn\u001b[0m \u001b[0;34m==\u001b[0m \u001b[0;36m2\u001b[0m\u001b[0;34m:\u001b[0m\u001b[0;34m\u001b[0m\u001b[0;34m\u001b[0m\u001b[0m\n",
      "\u001b[0;32m/usr/local/lib/python3.8/dist-packages/sympy/polys/polyutils.py\u001b[0m in \u001b[0;36mexpr_from_dict\u001b[0;34m(rep, *gens)\u001b[0m\n\u001b[1;32m    382\u001b[0m                 \u001b[0mterm\u001b[0m\u001b[0;34m.\u001b[0m\u001b[0mappend\u001b[0m\u001b[0;34m(\u001b[0m\u001b[0mPow\u001b[0m\u001b[0;34m(\u001b[0m\u001b[0mg\u001b[0m\u001b[0;34m,\u001b[0m \u001b[0mm\u001b[0m\u001b[0;34m)\u001b[0m\u001b[0;34m)\u001b[0m\u001b[0;34m\u001b[0m\u001b[0;34m\u001b[0m\u001b[0m\n\u001b[1;32m    383\u001b[0m \u001b[0;34m\u001b[0m\u001b[0m\n\u001b[0;32m--> 384\u001b[0;31m         \u001b[0mresult\u001b[0m\u001b[0;34m.\u001b[0m\u001b[0mappend\u001b[0m\u001b[0;34m(\u001b[0m\u001b[0mMul\u001b[0m\u001b[0;34m(\u001b[0m\u001b[0;34m*\u001b[0m\u001b[0mterm\u001b[0m\u001b[0;34m)\u001b[0m\u001b[0;34m)\u001b[0m\u001b[0;34m\u001b[0m\u001b[0;34m\u001b[0m\u001b[0m\n\u001b[0m\u001b[1;32m    385\u001b[0m \u001b[0;34m\u001b[0m\u001b[0m\n\u001b[1;32m    386\u001b[0m     \u001b[0;32mreturn\u001b[0m \u001b[0mAdd\u001b[0m\u001b[0;34m(\u001b[0m\u001b[0;34m*\u001b[0m\u001b[0mresult\u001b[0m\u001b[0;34m)\u001b[0m\u001b[0;34m\u001b[0m\u001b[0;34m\u001b[0m\u001b[0m\n",
      "\u001b[0;32m/usr/local/lib/python3.8/dist-packages/sympy/core/cache.py\u001b[0m in \u001b[0;36mwrapper\u001b[0;34m(*args, **kwargs)\u001b[0m\n\u001b[1;32m     70\u001b[0m         \u001b[0;32mdef\u001b[0m \u001b[0mwrapper\u001b[0m\u001b[0;34m(\u001b[0m\u001b[0;34m*\u001b[0m\u001b[0margs\u001b[0m\u001b[0;34m,\u001b[0m \u001b[0;34m**\u001b[0m\u001b[0mkwargs\u001b[0m\u001b[0;34m)\u001b[0m\u001b[0;34m:\u001b[0m\u001b[0;34m\u001b[0m\u001b[0;34m\u001b[0m\u001b[0m\n\u001b[1;32m     71\u001b[0m             \u001b[0;32mtry\u001b[0m\u001b[0;34m:\u001b[0m\u001b[0;34m\u001b[0m\u001b[0;34m\u001b[0m\u001b[0m\n\u001b[0;32m---> 72\u001b[0;31m                 \u001b[0mretval\u001b[0m \u001b[0;34m=\u001b[0m \u001b[0mcfunc\u001b[0m\u001b[0;34m(\u001b[0m\u001b[0;34m*\u001b[0m\u001b[0margs\u001b[0m\u001b[0;34m,\u001b[0m \u001b[0;34m**\u001b[0m\u001b[0mkwargs\u001b[0m\u001b[0;34m)\u001b[0m\u001b[0;34m\u001b[0m\u001b[0;34m\u001b[0m\u001b[0m\n\u001b[0m\u001b[1;32m     73\u001b[0m             \u001b[0;32mexcept\u001b[0m \u001b[0mTypeError\u001b[0m\u001b[0;34m:\u001b[0m\u001b[0;34m\u001b[0m\u001b[0;34m\u001b[0m\u001b[0m\n\u001b[1;32m     74\u001b[0m                 \u001b[0mretval\u001b[0m \u001b[0;34m=\u001b[0m \u001b[0mfunc\u001b[0m\u001b[0;34m(\u001b[0m\u001b[0;34m*\u001b[0m\u001b[0margs\u001b[0m\u001b[0;34m,\u001b[0m \u001b[0;34m**\u001b[0m\u001b[0mkwargs\u001b[0m\u001b[0;34m)\u001b[0m\u001b[0;34m\u001b[0m\u001b[0;34m\u001b[0m\u001b[0m\n",
      "\u001b[0;32m/usr/local/lib/python3.8/dist-packages/sympy/core/expr.py\u001b[0m in \u001b[0;36m__hash__\u001b[0;34m(self)\u001b[0m\n\u001b[1;32m    115\u001b[0m         \u001b[0;32mreturn\u001b[0m \u001b[0mexpr\u001b[0m\u001b[0;34m.\u001b[0m\u001b[0mclass_key\u001b[0m\u001b[0;34m(\u001b[0m\u001b[0;34m)\u001b[0m\u001b[0;34m,\u001b[0m \u001b[0margs\u001b[0m\u001b[0;34m,\u001b[0m \u001b[0mexp\u001b[0m\u001b[0;34m,\u001b[0m \u001b[0mcoeff\u001b[0m\u001b[0;34m\u001b[0m\u001b[0;34m\u001b[0m\u001b[0m\n\u001b[1;32m    116\u001b[0m \u001b[0;34m\u001b[0m\u001b[0m\n\u001b[0;32m--> 117\u001b[0;31m     \u001b[0;32mdef\u001b[0m \u001b[0m__hash__\u001b[0m\u001b[0;34m(\u001b[0m\u001b[0mself\u001b[0m\u001b[0;34m)\u001b[0m \u001b[0;34m->\u001b[0m \u001b[0mint\u001b[0m\u001b[0;34m:\u001b[0m\u001b[0;34m\u001b[0m\u001b[0;34m\u001b[0m\u001b[0m\n\u001b[0m\u001b[1;32m    118\u001b[0m         \u001b[0;31m# hash cannot be cached using cache_it because infinite recurrence\u001b[0m\u001b[0;34m\u001b[0m\u001b[0;34m\u001b[0m\u001b[0;34m\u001b[0m\u001b[0m\n\u001b[1;32m    119\u001b[0m         \u001b[0;31m# occurs as hash is needed for setting cache dictionary keys\u001b[0m\u001b[0;34m\u001b[0m\u001b[0;34m\u001b[0m\u001b[0;34m\u001b[0m\u001b[0m\n",
      "\u001b[0;31mKeyboardInterrupt\u001b[0m: "
     ]
    }
   ],
   "source": [
    "u = sympy.solve(sympy.Eq(left_equa, center_angle), t)"
   ]
  },
  {
   "cell_type": "markdown",
   "metadata": {},
   "source": [
    "## application numérique"
   ]
  },
  {
   "cell_type": "code",
   "execution_count": 28,
   "metadata": {},
   "outputs": [
    {
     "data": {
      "text/plain": [
       "0.023678741742191207"
      ]
     },
     "execution_count": 28,
     "metadata": {},
     "output_type": "execute_result"
    }
   ],
   "source": [
    "math.acos( left_angle.subs(val).subs({'t': 0.05}) )"
   ]
  },
  {
   "cell_type": "code",
   "execution_count": 29,
   "metadata": {},
   "outputs": [
    {
     "data": {
      "text/plain": [
       "0.02494355119590972"
      ]
     },
     "execution_count": 29,
     "metadata": {},
     "output_type": "execute_result"
    }
   ],
   "source": [
    "math.acos( center_angle.subs(val).subs({'t': 0.05}) )"
   ]
  },
  {
   "cell_type": "code",
   "execution_count": 30,
   "metadata": {},
   "outputs": [
    {
     "data": {
      "text/latex": [
       "$\\displaystyle 0.0449336910463828$"
      ],
      "text/plain": [
       "0.0449336910463828"
      ]
     },
     "execution_count": 30,
     "metadata": {},
     "output_type": "execute_result"
    }
   ],
   "source": [
    "V.angle_to(I).subs(val).subs({'t': 0.07})"
   ]
  },
  {
   "cell_type": "code",
   "execution_count": 31,
   "metadata": {},
   "outputs": [],
   "source": [
    "import matplotlib.pyplot as plt\n"
   ]
  },
  {
   "cell_type": "code",
   "execution_count": 54,
   "metadata": {},
   "outputs": [
    {
     "data": {
      "image/png": "[encoded data removed]",
      "text/plain": [
       "<Figure size 432x288 with 1 Axes>"
      ]
     },
     "metadata": {
      "needs_background": "light"
     },
     "output_type": "display_data"
    }
   ],
   "source": [
    "m = 0\n",
    "n = 100\n",
    "d = 0.001\n",
    "t_lst = [ i*d for i in range(m, n) ]\n",
    "plt.plot(t_lst, [ math.acos( left_angle.subs(val).subs({'t': t}) ) for t in t_lst ])\n",
    "plt.plot(t_lst, [ math.acos( center_angle.subs(val).subs({'t': t}) ) for t in t_lst ])\n",
    "plt.show()"
   ]
  },
  {
   "cell_type": "code",
   "execution_count": 57,
   "metadata": {},
   "outputs": [
    {
     "data": {
      "image/png": "[encoded data removed]",
      "text/plain": [
       "<Figure size 432x288 with 1 Axes>"
      ]
     },
     "metadata": {
      "needs_background": "light"
     },
     "output_type": "display_data"
    }
   ],
   "source": [
    "plt.plot(t_lst, [ derder.subs({'R_1': sin_t_2}).subs(val).subs({'t': t}) for t in t_lst ])\n",
    "plt.show()"
   ]
  },
  {
   "cell_type": "code",
   "execution_count": null,
   "metadata": {},
   "outputs": [],
   "source": []
  },
  {
   "cell_type": "code",
   "execution_count": null,
   "metadata": {},
   "outputs": [],
   "source": []
  }
 ],
 "metadata": {
  "kernelspec": {
   "display_name": "Python 3",
   "language": "python",
   "name": "python3"
  },
  "language_info": {
   "codemirror_mode": {
    "name": "ipython",
    "version": 3
   },
   "file_extension": ".py",
   "mimetype": "text/x-python",
   "name": "python",
   "nbconvert_exporter": "python",
   "pygments_lexer": "ipython3",
   "version": "3.8.5"
  }
 },
 "nbformat": 4,
 "nbformat_minor": 4
}
