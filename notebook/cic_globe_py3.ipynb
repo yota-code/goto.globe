{
 "cells": [
  {
   "cell_type": "code",
   "execution_count": null,
   "metadata": {},
   "outputs": [],
   "source": [
    "import math\n",
    "import sys\n",
    "\n",
    "sys.path.append(\"/mnt/workbench/source/goto.globe/package\")"
   ]
  },
  {
   "cell_type": "code",
   "execution_count": null,
   "metadata": {},
   "outputs": [],
   "source": [
    "import sympy\n",
    "\n",
    "import geometrik.threed as g3d\n",
    "\n",
    "import goto.globe.blip\n",
    "import goto.globe.lineto\n",
    "\n",
    "t = sympy.symbols('t')"
   ]
  },
  {
   "cell_type": "code",
   "execution_count": null,
   "metadata": {},
   "outputs": [],
   "source": [
    "BOD = goto.globe.blip.Blip(44.828333, -0.715556).as_vector\n",
    "MXP = goto.globe.blip.Blip(45.63, 8.723056).as_vector\n",
    "MRS = goto.globe.blip.Blip(43.436667, 5.215).as_vector\n",
    "LHR = goto.globe.blip.Blip(51.4775, -0.461389).as_vector\n",
    "LIS = goto.globe.blip.Blip(38.774167, -9.134167).as_vector\n",
    "RKV = goto.globe.blip.Blip(64.13, -21.940556).as_vector\n",
    "\n",
    "# A, B, C = LIS, MRS, RKV\n",
    "A, B, C = LIS, LHR, MRS\n",
    "\n",
    "lineto_AB = goto.globe.lineto.LineTo(A, B)\n",
    "lineto_BC = goto.globe.lineto.LineTo(B, C)\n",
    "\n",
    "l12 = lineto_AB.side_point(0.0, 0.02, 1.0)\n",
    "r12 = lineto_AB.side_point(0.0, 0.02, -1.0)\n",
    "l21 = lineto_AB.side_point(1.0, 0.01, 1.0)\n",
    "r21 = lineto_AB.side_point(1.0, 0.01, -1.0)\n",
    "\n",
    "l23 = lineto_BC.side_point(0.0, 0.01, 1.0)\n",
    "r23 = lineto_BC.side_point(0.0, 0.01, -1.0)\n",
    "l32 = lineto_BC.side_point(1.0, 0.03, 1.0)\n",
    "r32 = lineto_BC.side_point(1.0, 0.03, -1.0)\n",
    "\n",
    "lineto_BA = goto.globe.lineto.LineTo(B, A)\n",
    "q = lineto_BA.Lz.signed_angle_to(lineto_BC.Ly, B)\n",
    "Q = math.copysign(1.0, q) * (lineto_BC.Lz - lineto_BA.Lz ).normalized()\n",
    "\n",
    "if q < 0.0 :\n",
    "\tline_12 = goto.globe.lineto.LineTo(r12, r21)\n",
    "\tline_32 = goto.globe.lineto.LineTo(r32, r23)\n",
    "elif 0.0 < q :\n",
    "\tline_12 = goto.globe.lineto.LineTo(l21, l12)\n",
    "\tline_32 = goto.globe.lineto.LineTo(l32, l23)\n",
    "else :\n",
    "\traise ValueError\n",
    "I = line_12.intersection(line_32)"
   ]
  },
  {
   "cell_type": "code",
   "execution_count": null,
   "metadata": {},
   "outputs": [],
   "source": [
    "val = {\n",
    "\t'A_x': A.x, 'A_y': A.y, 'A_z': A.z,\n",
    "\t'B_x': B.x, 'B_y': B.y, 'B_z': B.z,\n",
    "\t'I_x': I.x, 'I_y': I.y, 'I_z': I.z,\n",
    "\t'Q_x': Q.x, 'Q_y': Q.y, 'Q_z': Q.z,\n",
    "}\n",
    "val"
   ]
  },
  {
   "cell_type": "code",
   "execution_count": null,
   "metadata": {},
   "outputs": [],
   "source": [
    "A = g3d.Vector( * sympy.symbols('A_x A_y A_z'), True )\n",
    "B = g3d.Vector( * sympy.symbols('B_x B_y B_z'), True )\n",
    "C = g3d.Vector( * sympy.symbols('C_x C_y C_z'), True )\n",
    "\n",
    "I = g3d.Vector( * sympy.symbols('I_x I_y I_z'), True )\n",
    "Q = g3d.Vector( * sympy.symbols('Q_x Q_y Q_z'), True )\n",
    "\n",
    "V = B * sympy.cos(t) + Q * sympy.sin(t)"
   ]
  },
  {
   "cell_type": "code",
   "execution_count": null,
   "metadata": {},
   "outputs": [],
   "source": [
    "Pab_Z = (A @ B).normalized()\n",
    "Pab_Y = (Pab_Z @ V).normalized()\n",
    "Pab_X = (Pab_Y @ Pab_Z)\n",
    "Pab_X._is_unit = True"
   ]
  },
  {
   "cell_type": "code",
   "execution_count": null,
   "metadata": {},
   "outputs": [],
   "source": [
    "V.x"
   ]
  },
  {
   "cell_type": "code",
   "execution_count": null,
   "metadata": {},
   "outputs": [],
   "source": [
    "[i.subs(val).subs({'t': 0.05}) for i in Pab_X]"
   ]
  },
  {
   "cell_type": "code",
   "execution_count": null,
   "metadata": {},
   "outputs": [],
   "source": [
    "[i.subs(val).subs({'t': 0.05}) for i in V]"
   ]
  },
  {
   "cell_type": "code",
   "execution_count": null,
   "metadata": {},
   "outputs": [],
   "source": [
    "## Left angle"
   ]
  },
  {
   "cell_type": "code",
   "execution_count": null,
   "metadata": {},
   "outputs": [],
   "source": [
    "left_angle_cached = True\n",
    "if left_angle_cached :\n",
    "    left_angle = sympy.sqrt(((A.x**2*B.x**2*B.y**2 + A.x**2*B.x**2*B.z**2 + A.x**2*B.y**4 + 2*A.x**2*B.y**2*B.z**2 + A.x**2*B.z**4 - 2*A.x*A.y*B.x**3*B.y - 2*A.x*A.y*B.x*B.y**3 - 2*A.x*A.y*B.x*B.y*B.z**2 - 2*A.x*A.z*B.x**3*B.z - 2*A.x*A.z*B.x*B.y**2*B.z - 2*A.x*A.z*B.x*B.z**3 + A.y**2*B.x**4 + A.y**2*B.x**2*B.y**2 + 2*A.y**2*B.x**2*B.z**2 + A.y**2*B.y**2*B.z**2 + A.y**2*B.z**4 - 2*A.y*A.z*B.x**2*B.y*B.z - 2*A.y*A.z*B.y**3*B.z - 2*A.y*A.z*B.y*B.z**3 + A.z**2*B.x**4 + 2*A.z**2*B.x**2*B.y**2 + A.z**2*B.x**2*B.z**2 + A.z**2*B.y**4 + A.z**2*B.y**2*B.z**2)*sympy.cos(t)**2 + (A.x**2*B.x*B.y**2*Q.x + A.x**2*B.x*B.z**2*Q.x + A.x**2*B.y**3*Q.y + A.x**2*B.y**2*B.z*Q.z + A.x**2*B.y*B.z**2*Q.y + A.x**2*B.z**3*Q.z - 2*A.x*A.y*B.x**2*B.y*Q.x - 2*A.x*A.y*B.x*B.y**2*Q.y - 2*A.x*A.y*B.x*B.y*B.z*Q.z - 2*A.x*A.z*B.x**2*B.z*Q.x - 2*A.x*A.z*B.x*B.y*B.z*Q.y - 2*A.x*A.z*B.x*B.z**2*Q.z + A.y**2*B.x**3*Q.x + A.y**2*B.x**2*B.y*Q.y + A.y**2*B.x**2*B.z*Q.z + A.y**2*B.x*B.z**2*Q.x + A.y**2*B.y*B.z**2*Q.y + A.y**2*B.z**3*Q.z - 2*A.y*A.z*B.x*B.y*B.z*Q.x - 2*A.y*A.z*B.y**2*B.z*Q.y - 2*A.y*A.z*B.y*B.z**2*Q.z + A.z**2*B.x**3*Q.x + A.z**2*B.x**2*B.y*Q.y + A.z**2*B.x**2*B.z*Q.z + A.z**2*B.x*B.y**2*Q.x + A.z**2*B.y**3*Q.y + A.z**2*B.y**2*B.z*Q.z)*sympy.sin(2*t) + (A.x**2*B.y**2*Q.x**2 + A.x**2*B.y**2*Q.y**2 + 2*A.x**2*B.y*B.z*Q.y*Q.z + A.x**2*B.z**2*Q.x**2 + A.x**2*B.z**2*Q.z**2 - 2*A.x*A.y*B.x*B.y*Q.x**2 - 2*A.x*A.y*B.x*B.y*Q.y**2 - 2*A.x*A.y*B.x*B.z*Q.y*Q.z - 2*A.x*A.y*B.y*B.z*Q.x*Q.z + 2*A.x*A.y*B.z**2*Q.x*Q.y - 2*A.x*A.z*B.x*B.y*Q.y*Q.z - 2*A.x*A.z*B.x*B.z*Q.x**2 - 2*A.x*A.z*B.x*B.z*Q.z**2 + 2*A.x*A.z*B.y**2*Q.x*Q.z - 2*A.x*A.z*B.y*B.z*Q.x*Q.y + A.y**2*B.x**2*Q.x**2 + A.y**2*B.x**2*Q.y**2 + 2*A.y**2*B.x*B.z*Q.x*Q.z + A.y**2*B.z**2*Q.y**2 + A.y**2*B.z**2*Q.z**2 + 2*A.y*A.z*B.x**2*Q.y*Q.z - 2*A.y*A.z*B.x*B.y*Q.x*Q.z - 2*A.y*A.z*B.x*B.z*Q.x*Q.y - 2*A.y*A.z*B.y*B.z*Q.y**2 - 2*A.y*A.z*B.y*B.z*Q.z**2 + A.z**2*B.x**2*Q.x**2 + A.z**2*B.x**2*Q.z**2 + 2*A.z**2*B.x*B.y*Q.x*Q.y + A.z**2*B.y**2*Q.y**2 + A.z**2*B.y**2*Q.z**2)*sympy.sin(t)**2)/(A.x**2*B.y**2 + A.x**2*B.z**2 - 2*A.x*A.y*B.x*B.y - 2*A.x*A.z*B.x*B.z + A.y**2*B.x**2 + A.y**2*B.z**2 - 2*A.y*A.z*B.y*B.z + A.z**2*B.x**2 + A.z**2*B.y**2))\n",
    "else :\n",
    "    left_angle = (Pab_X * V).expand().simplify().collect(sympy.sin(2*t)).collect(sympy.cos(2*t)).collect(sympy.sin(t)).collect(sympy.cos(t))\n",
    "left_angle"
   ]
  },
  {
   "cell_type": "code",
   "execution_count": null,
   "metadata": {},
   "outputs": [],
   "source": [
    "repr(left_angle)"
   ]
  },
  {
   "cell_type": "code",
   "execution_count": null,
   "metadata": {},
   "outputs": [],
   "source": [
    "left_angle.subs(val)"
   ]
  },
  {
   "cell_type": "code",
   "execution_count": null,
   "metadata": {},
   "outputs": [],
   "source": [
    "left_angle.args[0].args[0]"
   ]
  },
  {
   "cell_type": "code",
   "execution_count": null,
   "metadata": {},
   "outputs": [],
   "source": [
    "# terme en cos(t)^2\n",
    "cos_t_2 = (left_angle.args[0].args[1].args[0].args[1] * left_angle.args[0].args[0]).simplify()\n",
    "cos_t_2"
   ]
  },
  {
   "cell_type": "code",
   "execution_count": null,
   "metadata": {},
   "outputs": [],
   "source": [
    "# terme en sin(t)^2\n",
    "sin_t_2 = (left_angle.args[0].args[1].args[1].args[1] * left_angle.args[0].args[0]).expand().simplify()\n",
    "sin_t_2"
   ]
  },
  {
   "cell_type": "code",
   "execution_count": null,
   "metadata": {},
   "outputs": [],
   "source": [
    "sin_t_2.subs(val)"
   ]
  },
  {
   "cell_type": "code",
   "execution_count": null,
   "metadata": {},
   "outputs": [],
   "source": [
    "# sin(2t)\n",
    "sin_2t = (left_angle.args[0].args[1].args[2].args[0] * left_angle.args[0].args[0]).expand().simplify()\n",
    "sin_2t"
   ]
  },
  {
   "cell_type": "code",
   "execution_count": null,
   "metadata": {},
   "outputs": [],
   "source": [
    "left_angle = sympy.sqrt( sin_t_2 * sympy.sin(t)**2 + sympy.cos(t)**2 )\n",
    "left_angle"
   ]
  },
  {
   "cell_type": "code",
   "execution_count": null,
   "metadata": {},
   "outputs": [],
   "source": [
    "left_angle.subs(val)"
   ]
  },
  {
   "cell_type": "code",
   "execution_count": null,
   "metadata": {},
   "outputs": [],
   "source": [
    "# computed\n",
    "center_angle = (I * V).expand().simplify().collect(sympy.sin(t)).collect(sympy.cos(t))"
   ]
  },
  {
   "cell_type": "code",
   "execution_count": null,
   "metadata": {},
   "outputs": [],
   "source": [
    "# cached\n",
    "center_angle = (B.x*I.x + B.y*I.y + B.z*I.z)*sympy.cos(t) + (I.x*Q.x + I.y*Q.y + I.z*Q.z)*sympy.sin(t)"
   ]
  },
  {
   "cell_type": "code",
   "execution_count": null,
   "metadata": {},
   "outputs": [],
   "source": [
    "center_angle.subs(val)"
   ]
  },
  {
   "cell_type": "code",
   "execution_count": null,
   "metadata": {},
   "outputs": [],
   "source": [
    "R1, P1, P2 = sympy.symbols('R_1 P_1 P_2')"
   ]
  },
  {
   "cell_type": "code",
   "execution_count": null,
   "metadata": {},
   "outputs": [],
   "source": [
    "left_equa = sympy.sqrt( R1 + (1 - R1) * sympy.cos(t)**2 )\n",
    "left_equa"
   ]
  },
  {
   "cell_type": "code",
   "execution_count": null,
   "metadata": {},
   "outputs": [],
   "source": [
    "derder = sympy.diff( sympy.sqrt( R1 + (1 - R1) * sympy.cos(t)**2 ), t)"
   ]
  },
  {
   "cell_type": "code",
   "execution_count": null,
   "metadata": {},
   "outputs": [],
   "source": [
    "(sympy.sqrt( R1 * sympy.sin(t)**2 + sympy.cos(t)**2 ) - sympy.sqrt( R1 * (1 - sympy.cos(t)**2) + sympy.cos(t)**2 )).expand()"
   ]
  },
  {
   "cell_type": "code",
   "execution_count": null,
   "metadata": {},
   "outputs": [],
   "source": [
    "center_equa = P1 * sympy.cos(t) + P2 * sympy.sin(t)\n",
    "center_equa"
   ]
  },
  {
   "cell_type": "code",
   "execution_count": null,
   "metadata": {},
   "outputs": [],
   "source": [
    "#u = sympy.solve(sympy.Eq(center_equa, left_equa), t)\n",
    "u"
   ]
  },
  {
   "cell_type": "code",
   "execution_count": null,
   "metadata": {},
   "outputs": [],
   "source": [
    "u[6]"
   ]
  },
  {
   "cell_type": "code",
   "execution_count": null,
   "metadata": {},
   "outputs": [],
   "source": [
    "u = sympy.solve(sympy.Eq(left_equa, center_angle), t)"
   ]
  },
  {
   "cell_type": "markdown",
   "metadata": {},
   "source": [
    "## application numérique"
   ]
  },
  {
   "cell_type": "code",
   "execution_count": null,
   "metadata": {},
   "outputs": [],
   "source": [
    "math.acos( left_angle.subs(val).subs({'t': 0.05}) )"
   ]
  },
  {
   "cell_type": "code",
   "execution_count": null,
   "metadata": {},
   "outputs": [],
   "source": [
    "math.acos( center_angle.subs(val).subs({'t': 0.05}) )"
   ]
  },
  {
   "cell_type": "code",
   "execution_count": null,
   "metadata": {},
   "outputs": [],
   "source": [
    "V.angle_to(I).subs(val).subs({'t': 0.07})"
   ]
  },
  {
   "cell_type": "code",
   "execution_count": null,
   "metadata": {},
   "outputs": [],
   "source": [
    "import matplotlib.pyplot as plt\n"
   ]
  },
  {
   "cell_type": "code",
   "execution_count": null,
   "metadata": {},
   "outputs": [],
   "source": [
    "m = 0\n",
    "n = 100\n",
    "d = 0.001\n",
    "t_lst = [ i*d for i in range(m, n) ]\n",
    "plt.plot(t_lst, [ math.acos( left_angle.subs(val).subs({'t': t}) ) for t in t_lst ])\n",
    "plt.plot(t_lst, [ math.acos( center_angle.subs(val).subs({'t': t}) ) for t in t_lst ])\n",
    "plt.show()"
   ]
  },
  {
   "cell_type": "code",
   "execution_count": null,
   "metadata": {},
   "outputs": [],
   "source": [
    "plt.plot(t_lst, [ derder.subs({'R_1': sin_t_2}).subs(val).subs({'t': t}) for t in t_lst ])\n",
    "plt.show()"
   ]
  },
  {
   "cell_type": "code",
   "execution_count": null,
   "metadata": {},
   "outputs": [],
   "source": []
  },
  {
   "cell_type": "code",
   "execution_count": null,
   "metadata": {},
   "outputs": [],
   "source": []
  }
 ],
 "metadata": {
  "kernelspec": {
   "display_name": "Python 3",
   "language": "python",
   "name": "python3"
  },
  "language_info": {
   "codemirror_mode": {
    "name": "ipython",
    "version": 3
   },
   "file_extension": ".py",
   "mimetype": "text/x-python",
   "name": "python",
   "nbconvert_exporter": "python",
   "pygments_lexer": "ipython3",
   "version": "3.8.5"
  }
 },
 "nbformat": 4,
 "nbformat_minor": 4
}
