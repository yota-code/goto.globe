{
 "cells": [
  {
   "cell_type": "code",
   "execution_count": null,
   "id": "7c137927",
   "metadata": {},
   "outputs": [],
   "source": [
    "UA = {Ax, Ay, Az}\n",
    "UB = {Bx, By, Bz}"
   ]
  },
  {
   "cell_type": "code",
   "execution_count": null,
   "id": "c202ec40",
   "metadata": {},
   "outputs": [],
   "source": [
    "val = {\n",
    "    Ax -> 0.7697342841946113,\n",
    "    Ay -> -0.12376229119388332,\n",
    "    Az -> 0.6262523668728525,\n",
    "    Bx -> 0.4444565318238356,\n",
    "    By -> 0.3399936715573496,\n",
    "    Bz -> 0.8287717988807781,\n",
    "    d -> 0.62\n",
    "}"
   ]
  },
  {
   "cell_type": "code",
   "execution_count": null,
   "id": "f5ddff49",
   "metadata": {},
   "outputs": [],
   "source": [
    "UQh = Cross[UB, UA];\n",
    "UQn = Sqrt[ UQh[[1]]^2 + UQh[[2]]^2 + UQh[[3]]^2 ];\n",
    "UQ = Assuming[{Ax^2 + Ay^2 + Az^2 == 1, Bx^2 + By^2 + Bz^2 == 1}, FullSimplify[UQh / UQn] ]"
   ]
  },
  {
   "cell_type": "code",
   "execution_count": null,
   "id": "91e270bf",
   "metadata": {},
   "outputs": [],
   "source": [
    "UPh = (UA + UB);\n",
    "UPn = Sqrt[ UPh[[1]]^2 + UPh[[2]]^2 + UPh[[3]]^2 ];\n",
    "UP = Assuming[{Ax^2 + Ay^2 + Az^2 == 1, Bx^2 + By^2 + Bz^2 == 1}, FullSimplify[UPh / UPn] ]"
   ]
  },
  {
   "cell_type": "code",
   "execution_count": null,
   "id": "ee6b9bd7",
   "metadata": {},
   "outputs": [],
   "source": [
    "UC = UP * Cos[t] + UQ * Sin[t] // FullSimplify"
   ]
  },
  {
   "cell_type": "code",
   "execution_count": null,
   "id": "ffc24aef",
   "metadata": {},
   "outputs": [],
   "source": [
    "ArcCos[UA. UB] /. val"
   ]
  },
  {
   "cell_type": "code",
   "execution_count": null,
   "id": "4878d367",
   "metadata": {},
   "outputs": [],
   "source": [
    "ArcCos[UA . UC] /. val /. {t -> 0.0}"
   ]
  },
  {
   "cell_type": "code",
   "execution_count": null,
   "id": "50fcadcb",
   "metadata": {},
   "outputs": [],
   "source": [
    "ArcCos[UB . UC] /. val /. {t -> 0.0}"
   ]
  },
  {
   "cell_type": "code",
   "execution_count": null,
   "id": "f0f838ce",
   "metadata": {},
   "outputs": [],
   "source": [
    "equ = Assuming[Ax^2 + Ay^2 + Az^2 == 1, FullSimplify[ArcCos[UC . UA]]]"
   ]
  },
  {
   "cell_type": "code",
   "execution_count": null,
   "id": "f1d6ff73",
   "metadata": {},
   "outputs": [],
   "source": [
    "res = Solve[ArcCos[k * Cos[t]] == d, t, Reals]\n"
   ]
  },
  {
   "cell_type": "code",
   "execution_count": null,
   "id": "d811dc8d",
   "metadata": {},
   "outputs": [],
   "source": [
    "sol = res[[2]]"
   ]
  },
  {
   "cell_type": "code",
   "execution_count": null,
   "id": "0d6ef668",
   "metadata": {},
   "outputs": [],
   "source": [
    "sol /. {d -> 1.05008}"
   ]
  },
  {
   "cell_type": "code",
   "execution_count": null,
   "id": "4b9c961a",
   "metadata": {},
   "outputs": [],
   "source": [
    "UA /. val"
   ]
  },
  {
   "cell_type": "code",
   "execution_count": null,
   "id": "e566f5c2",
   "metadata": {},
   "outputs": [],
   "source": [
    "UP /. val"
   ]
  },
  {
   "cell_type": "code",
   "execution_count": null,
   "id": "476ef982",
   "metadata": {},
   "outputs": [],
   "source": []
  }
 ],
 "metadata": {
  "kernelspec": {
   "display_name": "Wolfram Language 12.2",
   "language": "Wolfram Language",
   "name": "wolframlanguage12.2"
  },
  "language_info": {
   "codemirror_mode": "mathematica",
   "file_extension": ".m",
   "mimetype": "application/vnd.wolfram.m",
   "name": "Wolfram Language",
   "pygments_lexer": "mathematica",
   "version": "12.0"
  }
 },
 "nbformat": 4,
 "nbformat_minor": 5
}
