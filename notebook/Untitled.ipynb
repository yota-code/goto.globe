{
 "cells": [
  {
   "cell_type": "code",
   "execution_count": null,
   "id": "3b31b16c",
   "metadata": {},
   "outputs": [],
   "source": [
    "UA = {Ax, Ay, Az}\n",
    "UB = {Bx, By, Bz}\n",
    "UC = {Cx, Cy, Cz}"
   ]
  },
  {
   "cell_type": "code",
   "execution_count": null,
   "id": "7f2e8b89",
   "metadata": {},
   "outputs": [],
   "source": [
    "UA * AB"
   ]
  },
  {
   "cell_type": "code",
   "execution_count": null,
   "id": "a7679ea5",
   "metadata": {},
   "outputs": [],
   "source": []
  }
 ],
 "metadata": {
  "kernelspec": {
   "display_name": "Wolfram Language 12.2",
   "language": "Wolfram Language",
   "name": "wolframlanguage12.2"
  }
 },
 "nbformat": 4,
 "nbformat_minor": 5
}
