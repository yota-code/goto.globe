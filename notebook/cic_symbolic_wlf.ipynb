{
 "cells": [
  {
   "cell_type": "markdown",
   "id": "4ce9e6b1",
   "metadata": {},
   "source": [
    "# Symbolic computation of the joint\n",
    "\n",
    "The three vector $A$, $B$ and $C$ define two jointive segments $AB$ and $BC$. $I$ is the inner point of the intersection of the corridors. $Q$ is a vector which bissect the two segments"
   ]
  },
  {
   "cell_type": "code",
   "execution_count": null,
   "id": "0c3465c9",
   "metadata": {},
   "outputs": [],
   "source": [
    "UA = {Ax, Ay, Az}\n",
    "UB = {Bx, By, Bz}\n",
    "UC = {Cx, Cy, Cz}\n",
    "UI = {Ix, Iy, Iz}\n",
    "UQ = {Qx, Qy, Qz}"
   ]
  },
  {
   "cell_type": "markdown",
   "id": "898ee6b8",
   "metadata": {},
   "source": [
    "$V$ is a vector on the $BQ$ bissector, parametrized by $t$"
   ]
  },
  {
   "cell_type": "code",
   "execution_count": null,
   "id": "c16f4a67",
   "metadata": {},
   "outputs": [],
   "source": [
    "UV = UB * Cos[t] + UQ * Sin[t]"
   ]
  },
  {
   "cell_type": "markdown",
   "id": "e25ea4c2",
   "metadata": {},
   "source": [
    "$L$ is the projection of V on the segment $AB$"
   ]
  },
  {
   "cell_type": "code",
   "execution_count": null,
   "id": "ea4c82d5",
   "metadata": {},
   "outputs": [],
   "source": [
    "ULZ = Cross[UA, UB] / Sqrt[ Cross[UA, UB].Cross[UA, UB] ] // Simplify;"
   ]
  },
  {
   "cell_type": "code",
   "execution_count": null,
   "id": "3f3fc0f6",
   "metadata": {},
   "outputs": [],
   "source": [
    "ULY = Cross[ULZ, UV] / Sqrt[ Cross[ULZ, UV].Cross[ULZ, UV] ] // Simplify;"
   ]
  },
  {
   "cell_type": "code",
   "execution_count": null,
   "id": "59e28710",
   "metadata": {},
   "outputs": [],
   "source": [
    "ULX = Collect[ Cross[ULY, ULZ] // Expand, { Sin[2*t], Cos[2*t], Sin[t], Cos[t]}, Simplify ];"
   ]
  },
  {
   "cell_type": "markdown",
   "id": "90bf2e1d",
   "metadata": {},
   "source": [
    "We can compute the value of the angle between $V$ and $L$"
   ]
  },
  {
   "cell_type": "code",
   "execution_count": null,
   "id": "32f81edf",
   "metadata": {},
   "outputs": [],
   "source": [
    "LeftArcP = (ULX.UV) // Expand // Simplify"
   ]
  },
  {
   "cell_type": "markdown",
   "id": "1184cf15",
   "metadata": {},
   "source": [
    "And make some simplification assuming:\n",
    "\n",
    "* $B$ is a unit vector\n",
    "* $B$ is perpendicular to $Q$ (by construction)"
   ]
  },
  {
   "cell_type": "code",
   "execution_count": null,
   "id": "6ff3835d",
   "metadata": {},
   "outputs": [],
   "source": [
    "LeftArc = Assuming[\n",
    "    Bx^2+By^2+Bz^2 == 1,\n",
    "Assuming[\n",
    "    Bx*Qx+By*Qy+Bz*Qz == 0,\n",
    "    Collect[ LeftArcP, { Sin[2*t], Cos[2*t], Sin[t], Cos[t]}, FullSimplify ]\n",
    "]]"
   ]
  },
  {
   "cell_type": "code",
   "execution_count": null,
   "id": "2b8cd6d9",
   "metadata": {},
   "outputs": [],
   "source": [
    "sub = {\n",
    "    P1 -> (Ix*Qx + Iy*Qy + Iz*Qz),\n",
    "    P2 -> (Ix*Bx + Iy*By + Iz*Bz),\n",
    "    R1 -> -(Ax*Qx + Ay*Qy + Az*Qz)^2 / (Ay^2*(-1+By^2) + 2*Ax*Az*Bx*Bz + 2*Ay*By*(Ax*Bx+Az*Bz) +Az^2*(-1+Bz^2) - Ax^2*(By^2+Bz^2))\n",
    "}"
   ]
  },
  {
   "cell_type": "code",
   "execution_count": null,
   "id": "3edecc07",
   "metadata": {},
   "outputs": [],
   "source": [
    "LeftEqua = Sqrt[ R1 + (1 - R1)*Cos[t]^2 ]"
   ]
  },
  {
   "cell_type": "code",
   "execution_count": null,
   "id": "4a1904cc",
   "metadata": {},
   "outputs": [],
   "source": [
    "CentEqua = P1 * Sin[t] + P2 * Cos[t]"
   ]
  },
  {
   "cell_type": "code",
   "execution_count": null,
   "id": "4457e411",
   "metadata": {},
   "outputs": [],
   "source": [
    "resEqua = Solve[ LeftEqua == CentEqua, t ];"
   ]
  },
  {
   "cell_type": "code",
   "execution_count": null,
   "id": "4be56150",
   "metadata": {},
   "outputs": [],
   "source": [
    "tsol = t /. resEqua[[4]] // FullSimplify"
   ]
  },
  {
   "cell_type": "code",
   "execution_count": null,
   "id": "1d49e170",
   "metadata": {},
   "outputs": [],
   "source": [
    "tsol = (t /. resEqua[[4]] /. sub) // FullSimplify"
   ]
  },
  {
   "cell_type": "code",
   "execution_count": null,
   "id": "80809662",
   "metadata": {},
   "outputs": [],
   "source": [
    "val = {\n",
    "\tAx -> 0.794251719609759,\n",
    "\tAy -> 0.426305460744861,\n",
    "\tAz -> -0.4329293938231181,\n",
    "\tBx -> 0.4444565318238356,\n",
    "\tBy -> 0.3399936715573496,\n",
    "\tBz -> 0.8287717988807781,\n",
    "\tIx -> 0.48316498890057236,\n",
    "\tIy -> 0.4689201800947046,\n",
    "\tIz -> 0.7393682831990155,\n",
    "\tQx -> 0.24661112454861925,\n",
    "\tQy -> 0.8429853628065601,\n",
    "\tQz -> -0.47807805988432217\n",
    "}"
   ]
  },
  {
   "cell_type": "code",
   "execution_count": null,
   "id": "3b9ac911",
   "metadata": {},
   "outputs": [],
   "source": [
    "tsol /. sub /. val"
   ]
  },
  {
   "cell_type": "code",
   "execution_count": null,
   "id": "6f305722",
   "metadata": {},
   "outputs": [],
   "source": [
    "sub /. val"
   ]
  },
  {
   "cell_type": "code",
   "execution_count": null,
   "id": "3df21973",
   "metadata": {},
   "outputs": [],
   "source": []
  }
 ],
 "metadata": {
  "kernelspec": {
   "display_name": "Wolfram Language 12.1",
   "language": "Wolfram Language",
   "name": "wolframlanguage12.1"
  },
  "language_info": {
   "codemirror_mode": "mathematica",
   "file_extension": ".m",
   "mimetype": "application/vnd.wolfram.m",
   "name": "Wolfram Language",
   "pygments_lexer": "mathematica",
   "version": "12.0"
  }
 },
 "nbformat": 4,
 "nbformat_minor": 5
}
