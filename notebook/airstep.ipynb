{
 "cells": [
  {
   "cell_type": "code",
   "execution_count": null,
   "metadata": {},
   "outputs": [],
   "source": [
    "%matplotlib notebook\n",
    "\n",
    "import math\n",
    "\n",
    "from goto.globe.blip import Blip\n",
    "\n",
    "from geometrik.threed.vector import Vector\n",
    "from geometrik.threed.plot import UnitSpherePlot"
   ]
  },
  {
   "cell_type": "code",
   "execution_count": null,
   "metadata": {},
   "outputs": [],
   "source": [
    "Ex = Vector(1.0, 0.0, 0.0)\n",
    "Ey = Vector(0.0, 1.0, 0.0)\n",
    "Ez = Vector(0.0, 0.0, 1.0)"
   ]
  },
  {
   "cell_type": "code",
   "execution_count": null,
   "metadata": {},
   "outputs": [],
   "source": [
    "Nx = Blip(9.109173429346479, 27.283508438422622).as_vector\n",
    "Ny = (Ez @ Nx).normalized()\n",
    "Nz = (Nx @ Ny)\n",
    "\n",
    "with UnitSpherePlot() as u :\n",
    "    u.add_point(Ex, 'Ex', 'r')\n",
    "    u.add_point(Ey, 'Ey', 'g')\n",
    "    u.add_point(Ez, 'Ez', 'b')\n",
    "    u.add_point(Nx, 'Nx', 'r')\n",
    "    u.add_point(Ny, 'Ny', 'g')\n",
    "    u.add_point(Nz, 'Nz', 'b')"
   ]
  },
  {
   "cell_type": "code",
   "execution_count": null,
   "metadata": {},
   "outputs": [],
   "source": [
    "Px = Nx\n",
    "Py = Vector.compose(Nz, Ny, math.radians(45.0))\n",
    "Pz = (Px @ Py)\n",
    "\n",
    "with UnitSpherePlot() as u :\n",
    "    u.add_point(Nx, 'Nx', 'r')\n",
    "    u.add_point(Ny, 'Ny', 'g')\n",
    "    u.add_point(Nz, 'Nz', 'b')\n",
    "    u.add_point(Px, 'Px', 'r')\n",
    "    u.add_point(Py, 'Py', 'g')\n",
    "    u.add_point(Pz, 'Pz', 'b')\n"
   ]
  },
  {
   "cell_type": "code",
   "execution_count": null,
   "metadata": {},
   "outputs": [],
   "source": []
  },
  {
   "cell_type": "code",
   "execution_count": null,
   "metadata": {},
   "outputs": [],
   "source": []
  }
 ],
 "metadata": {
  "kernelspec": {
   "display_name": "Python 3 (ipykernel)",
   "language": "python",
   "name": "python3"
  },
  "language_info": {
   "codemirror_mode": {
    "name": "ipython",
    "version": 3
   },
   "file_extension": ".py",
   "mimetype": "text/x-python",
   "name": "python",
   "nbconvert_exporter": "python",
   "pygments_lexer": "ipython3",
   "version": "3.10.2"
  }
 },
 "nbformat": 4,
 "nbformat_minor": 4
}
