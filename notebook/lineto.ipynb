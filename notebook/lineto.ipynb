{
 "cells": [
  {
   "cell_type": "code",
   "execution_count": null,
   "metadata": {},
   "outputs": [],
   "source": [
    "%matplotlib notebook\n",
    "\n",
    "import math\n",
    "\n",
    "from goto.globe.blip import Blip\n",
    "\n",
    "from geometrik.threed.vector import Vector\n",
    "from geometrik.threed.plot import UnitSpherePlot"
   ]
  },
  {
   "cell_type": "code",
   "execution_count": null,
   "metadata": {},
   "outputs": [],
   "source": [
    "M = Blip(30.0, 20.0)\n",
    "m = M.as_vector\n",
    "print(f\"m = {m}\")\n",
    "\n",
    "A = Blip(0.0, 0.0)\n",
    "a = A.as_vector\n",
    "print(f\"a = {a}\")\n",
    "\n",
    "B = Blip(15.0, 50.0)\n",
    "b = B.as_vector\n",
    "print(f\"b = {b}\")\n",
    "\n",
    "with UnitSpherePlot() as u :\n",
    "    u.add_vector(None, a, 'a', 'r')\n",
    "    u.add_vector(None, b, 'b', 'g')\n",
    "    u.add_vector(None, m, 'm', 'b') "
   ]
  },
  {
   "cell_type": "code",
   "execution_count": null,
   "metadata": {},
   "outputs": [],
   "source": [
    "Lx = a\n",
    "Lz = (a @ b).normalized()\n",
    "Ly = (Lz @ Lx)\n",
    "\n",
    "print(f\"Lx = {Lx}\")\n",
    "print(f\"Ly = {Ly}\")\n",
    "print(f\"Lz = {Lz}\")\n",
    "\n",
    "with UnitSpherePlot() as u :\n",
    "    u.add_vector(None, Lx, 'Lx', 'r')\n",
    "    u.add_vector(None, Ly, 'Ly', 'g')\n",
    "    u.add_vector(None, Lz, 'Lz', 'b') "
   ]
  },
  {
   "cell_type": "code",
   "execution_count": null,
   "metadata": {},
   "outputs": [],
   "source": [
    "Pz = Lz\n",
    "Py = (Pz @ m).normalized()\n",
    "Px = (Py @ Pz)\n",
    "\n",
    "print(f\"Px = {Px} {Blip.from_vector(Px)}\")\n",
    "\n",
    "with UnitSpherePlot() as u :\n",
    "    u.add_vector(None, Px, 'Px', 'r')\n",
    "    u.add_vector(None, Py, 'Py', 'g')\n",
    "    u.add_vector(None, Pz, 'Pz', 'b') "
   ]
  },
  {
   "cell_type": "code",
   "execution_count": null,
   "metadata": {},
   "outputs": [],
   "source": [
    "a_to_Px = a.signed_angle_to(Px, Lz)\n",
    "a_to_Px"
   ]
  },
  {
   "cell_type": "code",
   "execution_count": null,
   "metadata": {},
   "outputs": [],
   "source": [
    "a_to_b = a.angle_to(b)\n",
    "a_to_b"
   ]
  },
  {
   "cell_type": "code",
   "execution_count": null,
   "metadata": {},
   "outputs": [],
   "source": [
    "a_to_Px / a_to_b"
   ]
  },
  {
   "cell_type": "code",
   "execution_count": null,
   "metadata": {},
   "outputs": [],
   "source": [
    "Ez = Vector(0.0, 0.0, 1.0)\n",
    "\n",
    "Nx = Px\n",
    "Ny = (Ez @ Nx).normalized()\n",
    "Nz = (Nx @ Ny)\n",
    "\n",
    "print(f\"Nx = {Nx}\")\n",
    "print(f\"Ny = {Ny}\")\n",
    "print(f\"Nz = {Nz}\")\n",
    "\n",
    "with UnitSpherePlot() as u :\n",
    "    u.add_vector(None, Px, 'Px', 'r')\n",
    "    u.add_vector(None, Py, 'Py', 'g')\n",
    "    u.add_vector(None, Pz, 'Pz', 'b') \n",
    "    u.add_vector(None, Nx, 'Nx', 'r')\n",
    "    u.add_vector(None, Ny, 'Ny', 'g')\n",
    "    u.add_vector(None, Nz, 'Nz', 'b') "
   ]
  },
  {
   "cell_type": "code",
   "execution_count": null,
   "metadata": {},
   "outputs": [],
   "source": [
    "Px_to_m = Px.signed_angle_to(m, Py)\n",
    "Px_to_m"
   ]
  },
  {
   "cell_type": "code",
   "execution_count": null,
   "metadata": {},
   "outputs": [],
   "source": [
    "Py_to_Nz = Py.signed_angle_to(Nz, Px)\n",
    "math.degrees(Py_to_Nz)"
   ]
  },
  {
   "cell_type": "code",
   "execution_count": null,
   "metadata": {},
   "outputs": [],
   "source": []
  }
 ],
 "metadata": {
  "kernelspec": {
   "display_name": "Python 3",
   "language": "python",
   "name": "python3"
  },
  "language_info": {
   "codemirror_mode": {
    "name": "ipython",
    "version": 3
   },
   "file_extension": ".py",
   "mimetype": "text/x-python",
   "name": "python",
   "nbconvert_exporter": "python",
   "pygments_lexer": "ipython3",
   "version": "3.8.5"
  }
 },
 "nbformat": 4,
 "nbformat_minor": 4
}
