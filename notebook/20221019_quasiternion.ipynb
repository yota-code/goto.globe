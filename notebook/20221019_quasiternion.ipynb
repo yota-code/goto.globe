{
 "cells": [
  {
   "cell_type": "code",
   "execution_count": null,
   "id": "aee8844f",
   "metadata": {},
   "outputs": [],
   "source": [
    "# https://math.stackexchange.com/questions/32600/whats-the-opposite-of-a-cross-product\n",
    "# https://math.stackexchange.com/questions/4277293/finding-vec-b-from-vec-a-times-vec-b-vec-a-and-alpha-angle-vec\n",
    "\n",
    "%matplotlib notebook\n",
    "\n",
    "import sympy\n",
    "\n",
    "import geometrik.threed as g3d\n",
    "\n",
    "from IPython.display import Latex"
   ]
  },
  {
   "cell_type": "code",
   "execution_count": null,
   "id": "5e7eaed0",
   "metadata": {},
   "outputs": [],
   "source": [
    "an = 0.7 * g3d.Vector(3.0, 1.0, 0.0).normalized()\n",
    "bn = 0.7 * g3d.Vector(1.0, 4.0, -1.0).normalized()\n",
    "\n",
    "m = an @ bn\n",
    "\n",
    "at = 0.6 * n.normalized()\n",
    "a = an + at\n",
    "bt = 0.6 * n.normalized()\n",
    "b = bn + bt"
   ]
  },
  {
   "cell_type": "code",
   "execution_count": null,
   "id": "6eb2ab85",
   "metadata": {},
   "outputs": [],
   "source": [
    "with g3d.VectorPlot() as vpl :\n",
    "    vpl.add_point(g3d.Vector(1.0, 0.0, 0.0), 'x', 'r')\n",
    "    vpl.add_point(g3d.Vector(0.0, 1.0, 0.0), 'y', 'g')\n",
    "    vpl.add_point(g3d.Vector(0.0, 0.0, 1.0), 'z', 'b')\n",
    " \n",
    "    vpl.add_point(a, 'A', 'r')\n",
    "    vpl.add_point(an, 'An', 'magenta')\n",
    "    vpl.add_floating(an, at, 'At', 'magenta')\n",
    "\n",
    "    vpl.add_point(b, 'B', 'b')\n",
    "    vpl.add_point(bn, 'Bn', 'cyan')\n",
    "    vpl.add_floating(bn, bt, 'Bt', 'cyan')\n",
    "\n",
    "    vpl.add_point(n, 'N', 'orange')"
   ]
  },
  {
   "cell_type": "code",
   "execution_count": null,
   "id": "bdb93c3d",
   "metadata": {},
   "outputs": [],
   "source": [
    "A = g3d.Vector.symbolic('A')\n",
    "B = g3d.Vector.symbolic('B')\n",
    "M = g3d.Vector.symbolic('M')"
   ]
  },
  {
   "cell_type": "code",
   "execution_count": null,
   "id": "73d33def",
   "metadata": {},
   "outputs": [],
   "source": [
    "At = A.project_tangent(M)\n",
    "An = A.project_normal(M)\n",
    "Bt = B.project_tangent(M)\n",
    "Bn = B.project_normal(M)"
   ]
  },
  {
   "cell_type": "code",
   "execution_count": null,
   "id": "8207c034",
   "metadata": {},
   "outputs": [],
   "source": [
    "Q = g3d.Vector.symbolic('Q')\n",
    "N = An @ Bn"
   ]
  },
  {
   "cell_type": "code",
   "execution_count": null,
   "id": "f3678dc5",
   "metadata": {},
   "outputs": [],
   "source": [
    "abm_val = {\n",
    "    'A_x': a.x, 'A_y': a.y, 'A_z': a.z,\n",
    "    'M_x': m.x, 'M_y': m.y, 'M_z': m.z,\n",
    "    'B_x': b.x, 'B_y': b.y, 'B_z': b.z\n",
    "}"
   ]
  },
  {
   "cell_type": "code",
   "execution_count": null,
   "id": "2a2e2b0e",
   "metadata": {},
   "outputs": [],
   "source": [
    "Z = ((An @ Q) - N)\n",
    "Z.x.expand().simplify()"
   ]
  },
  {
   "cell_type": "code",
   "execution_count": null,
   "id": "3a2a128d",
   "metadata": {},
   "outputs": [],
   "source": [
    "u = sympy.symbols('u')\n",
    "U = A * sympy.cos(u) + C * sympy.sin(u)"
   ]
  },
  {
   "cell_type": "code",
   "execution_count": null,
   "id": "53144b1c",
   "metadata": {},
   "outputs": [],
   "source": [
    "u_sol = sympy.solve(U.norm - M.norm, 'u')"
   ]
  },
  {
   "cell_type": "code",
   "execution_count": null,
   "id": "28bcc2c2",
   "metadata": {},
   "outputs": [],
   "source": [
    "u_fin = A * sympy.cos(u_sol[0]) + C * sympy.sin(u_sol[0])\n",
    "u_fin.x.simplify()"
   ]
  },
  {
   "cell_type": "code",
   "execution_count": null,
   "id": "c4c260d3",
   "metadata": {},
   "outputs": [],
   "source": [
    "\n",
    "\n",
    "with g3d.VectorPlot() as vpl :\n",
    "    vpl.add_point(g3d.Vector(1.0, 0.0, 0.0), 'x', 'r')\n",
    "    vpl.add_point(g3d.Vector(0.0, 1.0, 0.0), 'y', 'g')\n",
    "    vpl.add_point(g3d.Vector(0.0, 0.0, 1.0), 'z', 'b')\n",
    " \n",
    "    vpl.add_point(A.subs(abm_val), 'A', 'r')\n",
    "    vpl.add_point(An.subs(abm_val), 'An', 'magenta')\n",
    "    vpl.add_floating(An.subs(abm_val), At.subs(abm_val), 'At', 'magenta')\n",
    "\n",
    "    vpl.add_point(B.subs(abm_val), 'B', 'b')\n",
    "    vpl.add_point(Bn.subs(abm_val), 'Bn', 'cyan')\n",
    "    vpl.add_floating(Bn.subs(abm_val), Bt.subs(abm_val), 'Bt', 'cyan')\n",
    "\n",
    "    vpl.add_point(M.subs(abm_val), 'M', 'orange')"
   ]
  },
  {
   "cell_type": "code",
   "execution_count": null,
   "id": "10163796",
   "metadata": {},
   "outputs": [],
   "source": [
    "bx = sympy.solve((At-Bt).x, 'B_x')[0].simplify().expand().collect(['B_x', 'B_y', 'B_z'])\n",
    "bx"
   ]
  },
  {
   "cell_type": "code",
   "execution_count": null,
   "id": "80e6966a",
   "metadata": {},
   "outputs": [],
   "source": [
    "(At-Bt).y.subs({'B_x': bx}).simplify().expand().collect(['B_x', 'B_y', 'B_z'])"
   ]
  },
  {
   "cell_type": "code",
   "execution_count": null,
   "id": "a0b90bb3",
   "metadata": {},
   "outputs": [],
   "source": [
    "am_val = {\n",
    "    'A_x': a.x, 'A_y': a.y, 'A_z': a.z,\n",
    "    'M_x': m.x, 'M_y': m.y, 'M_z': m.z,\n",
    "}"
   ]
  },
  {
   "cell_type": "code",
   "execution_count": null,
   "id": "69359259",
   "metadata": {},
   "outputs": [],
   "source": [
    "Z = (An @ Bn) - M"
   ]
  },
  {
   "cell_type": "code",
   "execution_count": null,
   "id": "5aa64b81",
   "metadata": {},
   "outputs": [],
   "source": [
    "Zx = Z.x.simplify().expand().collect(['B_x', 'B_y', 'B_z'])\n",
    "Zx"
   ]
  },
  {
   "cell_type": "code",
   "execution_count": null,
   "id": "57b1264a",
   "metadata": {},
   "outputs": [],
   "source": [
    "bx = sympy.solve(Zx, 'B_x')[0].simplify()\n",
    "bx.simplify().expand().collect(['B_x', 'B_y', 'B_z'])"
   ]
  },
  {
   "cell_type": "code",
   "execution_count": null,
   "id": "f38b71c8",
   "metadata": {},
   "outputs": [],
   "source": [
    "bx.subs(am_val)"
   ]
  },
  {
   "cell_type": "code",
   "execution_count": null,
   "id": "a5955dd1",
   "metadata": {},
   "outputs": [],
   "source": [
    "Zy = Z.y.simplify().expand().collect(['B_x', 'B_y', 'B_z'])\n",
    "Zy"
   ]
  },
  {
   "cell_type": "code",
   "execution_count": null,
   "id": "52ec3f9c",
   "metadata": {},
   "outputs": [],
   "source": [
    "by = sympy.solve(Z.y.subs({'B_x': bx}), 'B_y')\n",
    "by"
   ]
  },
  {
   "cell_type": "code",
   "execution_count": null,
   "id": "7abbda67",
   "metadata": {},
   "outputs": [],
   "source": [
    "by.subs({'A_x': a.x, 'A_y': a.y, 'A_z': a.z, 'M_x': m.x, 'M_y':m.y, 'M_z': m.z}).subs({'B_z': b.z})"
   ]
  },
  {
   "cell_type": "code",
   "execution_count": null,
   "id": "d2099403",
   "metadata": {},
   "outputs": [],
   "source": [
    "Zz = Z.z.subs({'B_y': by}).simplify()\n",
    "Zz"
   ]
  },
  {
   "cell_type": "code",
   "execution_count": null,
   "id": "1b360025",
   "metadata": {},
   "outputs": [],
   "source": [
    "bz = sympy.solve(Zz, 'B_z')\n",
    "bz"
   ]
  },
  {
   "cell_type": "code",
   "execution_count": null,
   "id": "7508e2a3",
   "metadata": {},
   "outputs": [],
   "source": [
    "Zz.subs({'A_x': a.x, 'A_y': a.y, 'A_z': a.z, 'M_x': m.x, 'M_y':m.y, 'M_z': m.z})"
   ]
  },
  {
   "cell_type": "code",
   "execution_count": null,
   "id": "56df3e54",
   "metadata": {},
   "outputs": [],
   "source": []
  },
  {
   "cell_type": "code",
   "execution_count": null,
   "id": "a140cd24",
   "metadata": {},
   "outputs": [],
   "source": []
  },
  {
   "cell_type": "code",
   "execution_count": null,
   "id": "02b83a99",
   "metadata": {},
   "outputs": [],
   "source": [
    "An * M == Bn * M == 0"
   ]
  },
  {
   "cell_type": "code",
   "execution_count": null,
   "id": "7c8108d4",
   "metadata": {},
   "outputs": [],
   "source": [
    "Bn * M"
   ]
  },
  {
   "cell_type": "code",
   "execution_count": null,
   "id": "7feaa678",
   "metadata": {},
   "outputs": [],
   "source": [
    "from IPython.display import Latex\n",
    "Latex(\"$\\psi$\")"
   ]
  },
  {
   "cell_type": "code",
   "execution_count": null,
   "id": "8ec4dc37",
   "metadata": {},
   "outputs": [],
   "source": [
    "import sympy\n",
    "\n",
    "a, b, c = sympy.symbols('a b c')\n",
    "(-b - sympy.sqrt(b**2 - 4*a*c)) / (2*a)"
   ]
  },
  {
   "cell_type": "code",
   "execution_count": null,
   "id": "322b31c1",
   "metadata": {},
   "outputs": [],
   "source": [
    "\"$\\psi$\""
   ]
  },
  {
   "cell_type": "code",
   "execution_count": null,
   "id": "f88ed9d8",
   "metadata": {},
   "outputs": [],
   "source": []
  }
 ],
 "metadata": {
  "kernelspec": {
   "display_name": "Python 3",
   "language": "python",
   "name": "python3"
  },
  "language_info": {
   "codemirror_mode": {
    "name": "ipython",
    "version": 3
   },
   "file_extension": ".py",
   "mimetype": "text/x-python",
   "name": "python",
   "nbconvert_exporter": "python",
   "pygments_lexer": "ipython3",
   "version": "3.8.10"
  }
 },
 "nbformat": 4,
 "nbformat_minor": 5
}
