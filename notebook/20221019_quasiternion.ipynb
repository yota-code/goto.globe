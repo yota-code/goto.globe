{
 "cells": [
  {
   "cell_type": "code",
   "execution_count": null,
   "id": "aee8844f",
   "metadata": {},
   "outputs": [],
   "source": [
    "import geometrik.threed as g3d\n",
    "\n",
    "from IPython.display import Latex"
   ]
  },
  {
   "cell_type": "code",
   "execution_count": null,
   "id": "bdb93c3d",
   "metadata": {},
   "outputs": [],
   "source": [
    "A = g3d.Vector.symbolic('A')\n",
    "B = g3d.Vector.symbolic('B')\n",
    "M = g3d.Vector.symbolic('M')"
   ]
  },
  {
   "cell_type": "code",
   "execution_count": null,
   "id": "8207c034",
   "metadata": {},
   "outputs": [],
   "source": [
    "At = A.project_tangent(M)\n",
    "An = A.project_normal(M)\n",
    "Bt = B.project_tangent(M)\n",
    "Bn = B.project_normal(M)"
   ]
  },
  {
   "cell_type": "code",
   "execution_count": null,
   "id": "39e0808e",
   "metadata": {},
   "outputs": [],
   "source": [
    "M = g3d.Vector.symbolic('M')"
   ]
  },
  {
   "cell_type": "code",
   "execution_count": null,
   "id": "69359259",
   "metadata": {},
   "outputs": [],
   "source": [
    "(An @ Bn) == M"
   ]
  },
  {
   "cell_type": "code",
   "execution_count": null,
   "id": "02b83a99",
   "metadata": {},
   "outputs": [],
   "source": [
    "An * M == Bn * M == 0"
   ]
  },
  {
   "cell_type": "code",
   "execution_count": null,
   "id": "7c8108d4",
   "metadata": {},
   "outputs": [],
   "source": [
    "Bn * M"
   ]
  },
  {
   "cell_type": "code",
   "execution_count": null,
   "id": "7feaa678",
   "metadata": {},
   "outputs": [],
   "source": [
    "from IPython.display import Latex\n",
    "Latex(\"$\\psi$\")"
   ]
  },
  {
   "cell_type": "code",
   "execution_count": null,
   "id": "8ec4dc37",
   "metadata": {},
   "outputs": [],
   "source": [
    "import sympy\n",
    "\n",
    "a, b, c = sympy.symbols('a b c')\n",
    "(-b - sympy.sqrt(b**2 - 4*a*c)) / (2*a)"
   ]
  },
  {
   "cell_type": "code",
   "execution_count": null,
   "id": "322b31c1",
   "metadata": {},
   "outputs": [],
   "source": [
    "\"$\\psi$\""
   ]
  },
  {
   "cell_type": "code",
   "execution_count": null,
   "id": "f88ed9d8",
   "metadata": {},
   "outputs": [],
   "source": []
  }
 ],
 "metadata": {
  "kernelspec": {
   "display_name": "Python 3",
   "language": "python",
   "name": "python3"
  },
  "language_info": {
   "codemirror_mode": {
    "name": "ipython",
    "version": 3
   },
   "file_extension": ".py",
   "mimetype": "text/x-python",
   "name": "python",
   "nbconvert_exporter": "python",
   "pygments_lexer": "ipython3",
   "version": "3.8.10"
  }
 },
 "nbformat": 4,
 "nbformat_minor": 5
}
