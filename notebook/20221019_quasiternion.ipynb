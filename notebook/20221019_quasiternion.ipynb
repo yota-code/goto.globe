{
 "cells": [
  {
   "cell_type": "code",
   "execution_count": null,
   "id": "5c49c236",
   "metadata": {},
   "outputs": [],
   "source": [
    "# https://math.stackexchange.com/questions/32600/whats-the-opposite-of-a-cross-product\n",
    "# https://math.stackexchange.com/questions/4277293/finding-vec-b-from-vec-a-times-vec-b-vec-a-and-alpha-angle-vec\n",
    "\n",
    "%matplotlib notebook\n",
    "\n",
    "import math\n",
    "import sympy\n",
    "\n",
    "import geometrik.threed as g3d\n",
    "\n",
    "from IPython.display import Latex"
   ]
  },
  {
   "cell_type": "code",
   "execution_count": null,
   "id": "d32b3390",
   "metadata": {},
   "outputs": [],
   "source": [
    "an = 0.7 * g3d.Vector(3.0, 1.0, 0.0).normalized()\n",
    "bn = 0.7 * g3d.Vector(1.0, 4.0, -1.0).normalized()\n",
    "\n",
    "m = (an @ bn).normalized()\n",
    "\n",
    "at = 0.6 * m\n",
    "a = an + at\n",
    "bt = 0.6 * m\n",
    "b = bn + bt"
   ]
  },
  {
   "cell_type": "code",
   "execution_count": null,
   "id": "26a83a1f",
   "metadata": {},
   "outputs": [],
   "source": [
    "abm_val = {\n",
    "    'A_x': a.x, 'A_y': a.y, 'A_z': a.z,\n",
    "    'M_x': m.x, 'M_y': m.y, 'M_z': m.z,\n",
    "    'B_x': b.x, 'B_y': b.y, 'B_z': b.z,\n",
    "}"
   ]
  },
  {
   "cell_type": "code",
   "execution_count": null,
   "id": "5c319c63",
   "metadata": {},
   "outputs": [],
   "source": [
    "with g3d.VectorPlot() as vpl :\n",
    "    vpl.add_point(g3d.Vector(1.0, 0.0, 0.0), 'x', 'r')\n",
    "    vpl.add_point(g3d.Vector(0.0, 1.0, 0.0), 'y', 'g')\n",
    "    vpl.add_point(g3d.Vector(0.0, 0.0, 1.0), 'z', 'b')\n",
    " \n",
    "    vpl.add_point(a, 'A', 'r')\n",
    "    vpl.add_point(an, 'An', 'magenta')\n",
    "    vpl.add_floating(an, at, 'At', 'magenta')\n",
    "\n",
    "    vpl.add_point(b, 'B', 'b')\n",
    "    vpl.add_point(bn, 'Bn', 'cyan')\n",
    "    vpl.add_floating(bn, bt, 'Bt', 'cyan')\n",
    "\n",
    "    vpl.add_point(m, 'M', 'orange')"
   ]
  },
  {
   "cell_type": "code",
   "execution_count": null,
   "id": "903b3b8c",
   "metadata": {},
   "outputs": [],
   "source": [
    "A = g3d.Vector.symbolic('A')\n",
    "B = g3d.Vector.symbolic('B')\n",
    "M = g3d.Vector.symbolic('M')"
   ]
  },
  {
   "cell_type": "code",
   "execution_count": null,
   "id": "617ca0df",
   "metadata": {},
   "outputs": [],
   "source": [
    "At = A.project_tangent(M)\n",
    "An = A.project_normal(M)\n",
    "Bt = B.project_tangent(M)\n",
    "Bn = B.project_normal(M)"
   ]
  },
  {
   "cell_type": "code",
   "execution_count": null,
   "id": "609a7201",
   "metadata": {},
   "outputs": [],
   "source": [
    "Q = g3d.Vector.symbolic('Q')\n",
    "N = An @ Bn"
   ]
  },
  {
   "cell_type": "code",
   "execution_count": null,
   "id": "71911008",
   "metadata": {},
   "outputs": [],
   "source": []
  },
  {
   "cell_type": "code",
   "execution_count": null,
   "id": "9bf0be46",
   "metadata": {},
   "outputs": [],
   "source": [
    "Z = ((An @ Q) - N)\n",
    "Z.x.expand().simplify()"
   ]
  },
  {
   "cell_type": "code",
   "execution_count": null,
   "id": "2ffe6bd6",
   "metadata": {},
   "outputs": [],
   "source": [
    "u = sympy.symbols('u')\n",
    "U = A * sympy.cos(u) + C * sympy.sin(u)"
   ]
  },
  {
   "cell_type": "code",
   "execution_count": null,
   "id": "9d97d48d",
   "metadata": {},
   "outputs": [],
   "source": [
    "u_sol = sympy.solve(U.norm - M.norm, 'u')"
   ]
  },
  {
   "cell_type": "code",
   "execution_count": null,
   "id": "70577c17",
   "metadata": {},
   "outputs": [],
   "source": [
    "u_fin = A * sympy.cos(u_sol[0]) + C * sympy.sin(u_sol[0])\n",
    "u_fin.x.simplify()"
   ]
  },
  {
   "cell_type": "code",
   "execution_count": null,
   "id": "d2c10c8f",
   "metadata": {},
   "outputs": [],
   "source": [
    "\n",
    "\n",
    "with g3d.VectorPlot() as vpl :\n",
    "    vpl.add_point(g3d.Vector(1.0, 0.0, 0.0), 'x', 'r')\n",
    "    vpl.add_point(g3d.Vector(0.0, 1.0, 0.0), 'y', 'g')\n",
    "    vpl.add_point(g3d.Vector(0.0, 0.0, 1.0), 'z', 'b')\n",
    " \n",
    "    vpl.add_point(A.subs(abm_val), 'A', 'r')\n",
    "    vpl.add_point(An.subs(abm_val), 'An', 'magenta')\n",
    "    vpl.add_floating(An.subs(abm_val), At.subs(abm_val), 'At', 'magenta')\n",
    "\n",
    "    vpl.add_point(B.subs(abm_val), 'B', 'b')\n",
    "    vpl.add_point(Bn.subs(abm_val), 'Bn', 'cyan')\n",
    "    vpl.add_floating(Bn.subs(abm_val), Bt.subs(abm_val), 'Bt', 'cyan')\n",
    "\n",
    "    vpl.add_point(M.subs(abm_val), 'M', 'orange')"
   ]
  },
  {
   "cell_type": "code",
   "execution_count": null,
   "id": "5f921183",
   "metadata": {},
   "outputs": [],
   "source": [
    "bx = sympy.solve((At-Bt).x, 'B_x')[0].simplify().expand().collect(['B_x', 'B_y', 'B_z'])\n",
    "bx"
   ]
  },
  {
   "cell_type": "code",
   "execution_count": null,
   "id": "02f79440",
   "metadata": {},
   "outputs": [],
   "source": [
    "(At-Bt).y.subs({'B_x': bx}).simplify().expand().collect(['B_x', 'B_y', 'B_z'])"
   ]
  },
  {
   "cell_type": "code",
   "execution_count": null,
   "id": "990b6294",
   "metadata": {},
   "outputs": [],
   "source": [
    "am_val = {\n",
    "    'A_x': a.x, 'A_y': a.y, 'A_z': a.z,\n",
    "    'M_x': m.x, 'M_y': m.y, 'M_z': m.z,\n",
    "}"
   ]
  },
  {
   "cell_type": "code",
   "execution_count": null,
   "id": "41a5c01e",
   "metadata": {},
   "outputs": [],
   "source": [
    "Z = (An @ Bn) - M"
   ]
  },
  {
   "cell_type": "code",
   "execution_count": null,
   "id": "cee00662",
   "metadata": {},
   "outputs": [],
   "source": [
    "Zx = Z.x.simplify().expand().collect(['B_x', 'B_y', 'B_z'])\n",
    "Zx"
   ]
  },
  {
   "cell_type": "code",
   "execution_count": null,
   "id": "9f3c5411",
   "metadata": {},
   "outputs": [],
   "source": [
    "bx = sympy.solve(Zx, 'B_x')[0].simplify()\n",
    "bx.simplify().expand().collect(['B_x', 'B_y', 'B_z'])"
   ]
  },
  {
   "cell_type": "code",
   "execution_count": null,
   "id": "4f92c508",
   "metadata": {},
   "outputs": [],
   "source": [
    "bx.subs(am_val)"
   ]
  },
  {
   "cell_type": "code",
   "execution_count": null,
   "id": "8c308ff5",
   "metadata": {},
   "outputs": [],
   "source": [
    "Zy = Z.y.simplify().expand().collect(['B_x', 'B_y', 'B_z'])\n",
    "Zy"
   ]
  },
  {
   "cell_type": "code",
   "execution_count": null,
   "id": "854d6cce",
   "metadata": {},
   "outputs": [],
   "source": [
    "by = sympy.solve(Z.y.subs({'B_x': bx}), 'B_y')\n",
    "by"
   ]
  },
  {
   "cell_type": "code",
   "execution_count": null,
   "id": "1f4f7d1d",
   "metadata": {},
   "outputs": [],
   "source": [
    "by.subs({'A_x': a.x, 'A_y': a.y, 'A_z': a.z, 'M_x': m.x, 'M_y':m.y, 'M_z': m.z}).subs({'B_z': b.z})"
   ]
  },
  {
   "cell_type": "code",
   "execution_count": null,
   "id": "41e109d4",
   "metadata": {},
   "outputs": [],
   "source": [
    "Zz = Z.z.subs({'B_y': by}).simplify()\n",
    "Zz"
   ]
  },
  {
   "cell_type": "code",
   "execution_count": null,
   "id": "d85966f6",
   "metadata": {},
   "outputs": [],
   "source": [
    "bz = sympy.solve(Zz, 'B_z')\n",
    "bz"
   ]
  },
  {
   "cell_type": "code",
   "execution_count": null,
   "id": "8966f4ad",
   "metadata": {},
   "outputs": [],
   "source": [
    "Zz.subs({'A_x': a.x, 'A_y': a.y, 'A_z': a.z, 'M_x': m.x, 'M_y':m.y, 'M_z': m.z})"
   ]
  },
  {
   "cell_type": "code",
   "execution_count": null,
   "id": "51de2daa",
   "metadata": {},
   "outputs": [],
   "source": []
  },
  {
   "cell_type": "code",
   "execution_count": null,
   "id": "2b7cd786",
   "metadata": {},
   "outputs": [],
   "source": []
  },
  {
   "cell_type": "code",
   "execution_count": null,
   "id": "8cbf2e05",
   "metadata": {},
   "outputs": [],
   "source": [
    "An * M == Bn * M == 0"
   ]
  },
  {
   "cell_type": "code",
   "execution_count": null,
   "id": "3dd20c31",
   "metadata": {},
   "outputs": [],
   "source": [
    "Bn * M"
   ]
  },
  {
   "cell_type": "code",
   "execution_count": null,
   "id": "ffdeae38",
   "metadata": {},
   "outputs": [],
   "source": [
    "from IPython.display import Latex\n",
    "Latex(\"$\\psi$\")"
   ]
  },
  {
   "cell_type": "code",
   "execution_count": null,
   "id": "9bc570d3",
   "metadata": {},
   "outputs": [],
   "source": [
    "import sympy\n",
    "\n",
    "a, b, c = sympy.symbols('a b c')\n",
    "(-b - sympy.sqrt(b**2 - 4*a*c)) / (2*a)"
   ]
  },
  {
   "cell_type": "code",
   "execution_count": null,
   "id": "0a52291b",
   "metadata": {},
   "outputs": [],
   "source": [
    "\"$\\psi$\""
   ]
  },
  {
   "cell_type": "markdown",
   "id": "397865ed",
   "metadata": {},
   "source": [
    "# Inversion par le produit triple\n",
    "\n"
   ]
  },
  {
   "cell_type": "code",
   "execution_count": null,
   "id": "4ff844fc",
   "metadata": {},
   "outputs": [],
   "source": [
    "A = g3d.Vector.symbolic('A')\n",
    "B = g3d.Vector.symbolic('B')\n",
    "M = g3d.Vector.symbolic('M').normalized() # the unit vector of the axis of rotation\n",
    "\n",
    "At = A.project_tangent(M)\n",
    "An = A.project_normal(M) # the projection of A on the plane of normal M\n",
    "Bt = At\n",
    "\n",
    "alpha = sympy.symbols('alpha') # the angle of rotation"
   ]
  },
  {
   "cell_type": "code",
   "execution_count": null,
   "id": "d31d1dae",
   "metadata": {},
   "outputs": [],
   "source": [
    "AxB = M * An.norm_2 * sympy.sin(alpha)"
   ]
  },
  {
   "cell_type": "code",
   "execution_count": null,
   "id": "c7fbb66a",
   "metadata": {},
   "outputs": [],
   "source": [
    "Bn = ( An * (AxB.norm * (1 / sympy.tan(alpha))) - (An @ AxB) ) * (1 / An.norm_2)\n",
    "B = Bn + Bt"
   ]
  },
  {
   "cell_type": "code",
   "execution_count": null,
   "id": "867f940a",
   "metadata": {},
   "outputs": [],
   "source": [
    "with g3d.VectorPlot() as vpl :\n",
    "    vpl.add_point(g3d.Vector(1.0, 0.0, 0.0), 'x', 'r')\n",
    "    vpl.add_point(g3d.Vector(0.0, 1.0, 0.0), 'y', 'g')\n",
    "    vpl.add_point(g3d.Vector(0.0, 0.0, 1.0), 'z', 'b')\n",
    " \n",
    "    vpl.add_point(A.subs(abm_val), 'A', 'r')\n",
    "    vpl.add_point(An.subs(abm_val), 'An', 'magenta')\n",
    "    vpl.add_floating(An.subs(abm_val), At.subs(abm_val), 'At', 'magenta')\n",
    "\n",
    "    #vpl.add_point(B.subs(abm_val), 'B', 'b')\n",
    "    for i in range(64) :\n",
    "        vpl.add_point(Bn.subs(abm_val).subs({'alpha':0.1*(i+1)}), 'Bn', 'cyan')\n",
    "    #vpl.add_floating(Bn.subs(abm_val), Bt.subs(abm_val), 'Bt', 'cyan')\n",
    "\n",
    "    vpl.add_point(M.subs(abm_val), 'M', 'orange')"
   ]
  },
  {
   "cell_type": "markdown",
   "id": "00001176",
   "metadata": {},
   "source": [
    "# Simple deviation"
   ]
  },
  {
   "cell_type": "code",
   "execution_count": null,
   "id": "358a2b13",
   "metadata": {},
   "outputs": [],
   "source": [
    "Bn = A.rotate(M, alpha)\n",
    "Bn.x.simplify().replace(sympy.simplify('M_x**2 + M_y**2 + M_z**2'), 1)"
   ]
  },
  {
   "cell_type": "code",
   "execution_count": null,
   "id": "7eb5b8be",
   "metadata": {},
   "outputs": [],
   "source": [
    "with g3d.VectorPlot() as vpl :\n",
    "    vpl.add_point(g3d.Vector(1.0, 0.0, 0.0), 'x', 'r')\n",
    "    vpl.add_point(g3d.Vector(0.0, 1.0, 0.0), 'y', 'g')\n",
    "    vpl.add_point(g3d.Vector(0.0, 0.0, 1.0), 'z', 'b')\n",
    " \n",
    "    vpl.add_point(A.subs(abm_val), 'A', 'r')\n",
    "\n",
    "    for i in range(64) :\n",
    "        vpl.add_point(A.rotate(M).subs(abm_val).subs({'alpha':0.1*(i+1)}), 'Bn', 'cyan')\n",
    "\n",
    "    vpl.add_point(M.subs(abm_val), 'M', 'orange')"
   ]
  },
  {
   "cell_type": "code",
   "execution_count": null,
   "id": "8fac7e0f",
   "metadata": {},
   "outputs": [],
   "source": []
  },
  {
   "cell_type": "code",
   "execution_count": null,
   "id": "0b5ef86b",
   "metadata": {},
   "outputs": [],
   "source": []
  },
  {
   "cell_type": "code",
   "execution_count": null,
   "id": "1fea6f67",
   "metadata": {},
   "outputs": [],
   "source": []
  },
  {
   "cell_type": "code",
   "execution_count": null,
   "id": "0744c9db",
   "metadata": {},
   "outputs": [],
   "source": []
  },
  {
   "cell_type": "code",
   "execution_count": null,
   "id": "cc60180e",
   "metadata": {},
   "outputs": [],
   "source": []
  }
 ],
 "metadata": {
  "kernelspec": {
   "display_name": "Python 3",
   "language": "python",
   "name": "python3"
  },
  "language_info": {
   "codemirror_mode": {
    "name": "ipython",
    "version": 3
   },
   "file_extension": ".py",
   "mimetype": "text/x-python",
   "name": "python",
   "nbconvert_exporter": "python",
   "pygments_lexer": "ipython3",
   "version": "3.8.10"
  }
 },
 "nbformat": 4,
 "nbformat_minor": 5
}
