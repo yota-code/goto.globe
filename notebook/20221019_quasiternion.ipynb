{
 "cells": [
  {
   "cell_type": "code",
   "execution_count": null,
   "id": "ff0b41d3",
   "metadata": {},
   "outputs": [],
   "source": [
    "# https://math.stackexchange.com/questions/32600/whats-the-opposite-of-a-cross-product\n",
    "# https://math.stackexchange.com/questions/4277293/finding-vec-b-from-vec-a-times-vec-b-vec-a-and-alpha-angle-vec\n",
    "\n",
    "%matplotlib notebook\n",
    "\n",
    "import math\n",
    "import sympy\n",
    "\n",
    "import geometrik.threed as g3d\n",
    "\n",
    "from IPython.display import Latex"
   ]
  },
  {
   "cell_type": "code",
   "execution_count": null,
   "id": "69d5a249",
   "metadata": {},
   "outputs": [],
   "source": [
    "an = 0.7 * g3d.Vector(3.0, 1.0, 0.0).normalized()\n",
    "bn = 0.7 * g3d.Vector(1.0, 4.0, -1.0).normalized()\n",
    "\n",
    "m = (an @ bn).normalized()\n",
    "\n",
    "at = 0.6 * m\n",
    "a = an + at\n",
    "bt = 0.6 * m\n",
    "b = bn + bt"
   ]
  },
  {
   "cell_type": "code",
   "execution_count": null,
   "id": "146e0736",
   "metadata": {},
   "outputs": [],
   "source": [
    "abm_val = {\n",
    "    'A_x': a.x, 'A_y': a.y, 'A_z': a.z,\n",
    "    'M_x': m.x, 'M_y': m.y, 'M_z': m.z,\n",
    "    'B_x': b.x, 'B_y': b.y, 'B_z': b.z,\n",
    "}"
   ]
  },
  {
   "cell_type": "code",
   "execution_count": null,
   "id": "68321d98",
   "metadata": {},
   "outputs": [],
   "source": [
    "with g3d.VectorPlot() as vpl :\n",
    "    vpl.add_point(g3d.Vector(1.0, 0.0, 0.0), 'x', 'r')\n",
    "    vpl.add_point(g3d.Vector(0.0, 1.0, 0.0), 'y', 'g')\n",
    "    vpl.add_point(g3d.Vector(0.0, 0.0, 1.0), 'z', 'b')\n",
    " \n",
    "    vpl.add_point(a, 'A', 'r')\n",
    "    vpl.add_point(an, 'An', 'magenta')\n",
    "    vpl.add_floating(an, at, 'At', 'magenta')\n",
    "\n",
    "    vpl.add_point(b, 'B', 'b')\n",
    "    vpl.add_point(bn, 'Bn', 'cyan')\n",
    "    vpl.add_floating(bn, bt, 'Bt', 'cyan')\n",
    "\n",
    "    vpl.add_point(m, 'M', 'orange')"
   ]
  },
  {
   "cell_type": "code",
   "execution_count": null,
   "id": "1689dadb",
   "metadata": {},
   "outputs": [],
   "source": [
    "A = g3d.Vector.symbolic('A')\n",
    "B = g3d.Vector.symbolic('B')\n",
    "M = g3d.Vector.symbolic('M')"
   ]
  },
  {
   "cell_type": "code",
   "execution_count": null,
   "id": "953b97b7",
   "metadata": {},
   "outputs": [],
   "source": [
    "At = A.project_tangent(M)\n",
    "An = A.project_normal(M)\n",
    "Bt = B.project_tangent(M)\n",
    "Bn = B.project_normal(M)"
   ]
  },
  {
   "cell_type": "code",
   "execution_count": null,
   "id": "b3ad795b",
   "metadata": {},
   "outputs": [],
   "source": [
    "Q = g3d.Vector.symbolic('Q')\n",
    "N = An @ Bn"
   ]
  },
  {
   "cell_type": "code",
   "execution_count": null,
   "id": "91b3edfa",
   "metadata": {},
   "outputs": [],
   "source": []
  },
  {
   "cell_type": "code",
   "execution_count": null,
   "id": "9000875d",
   "metadata": {},
   "outputs": [],
   "source": [
    "Z = ((An @ Q) - N)\n",
    "Z.x.expand().simplify()"
   ]
  },
  {
   "cell_type": "code",
   "execution_count": null,
   "id": "dde125ab",
   "metadata": {},
   "outputs": [],
   "source": [
    "u = sympy.symbols('u')\n",
    "U = A * sympy.cos(u) + C * sympy.sin(u)"
   ]
  },
  {
   "cell_type": "code",
   "execution_count": null,
   "id": "0ce906c1",
   "metadata": {},
   "outputs": [],
   "source": [
    "u_sol = sympy.solve(U.norm - M.norm, 'u')"
   ]
  },
  {
   "cell_type": "code",
   "execution_count": null,
   "id": "dd72901e",
   "metadata": {},
   "outputs": [],
   "source": [
    "u_fin = A * sympy.cos(u_sol[0]) + C * sympy.sin(u_sol[0])\n",
    "u_fin.x.simplify()"
   ]
  },
  {
   "cell_type": "code",
   "execution_count": null,
   "id": "d9452a2a",
   "metadata": {},
   "outputs": [],
   "source": [
    "\n",
    "\n",
    "with g3d.VectorPlot() as vpl :\n",
    "    vpl.add_point(g3d.Vector(1.0, 0.0, 0.0), 'x', 'r')\n",
    "    vpl.add_point(g3d.Vector(0.0, 1.0, 0.0), 'y', 'g')\n",
    "    vpl.add_point(g3d.Vector(0.0, 0.0, 1.0), 'z', 'b')\n",
    " \n",
    "    vpl.add_point(A.subs(abm_val), 'A', 'r')\n",
    "    vpl.add_point(An.subs(abm_val), 'An', 'magenta')\n",
    "    vpl.add_floating(An.subs(abm_val), At.subs(abm_val), 'At', 'magenta')\n",
    "\n",
    "    vpl.add_point(B.subs(abm_val), 'B', 'b')\n",
    "    vpl.add_point(Bn.subs(abm_val), 'Bn', 'cyan')\n",
    "    vpl.add_floating(Bn.subs(abm_val), Bt.subs(abm_val), 'Bt', 'cyan')\n",
    "\n",
    "    vpl.add_point(M.subs(abm_val), 'M', 'orange')"
   ]
  },
  {
   "cell_type": "code",
   "execution_count": null,
   "id": "27ebb9c1",
   "metadata": {},
   "outputs": [],
   "source": [
    "bx = sympy.solve((At-Bt).x, 'B_x')[0].simplify().expand().collect(['B_x', 'B_y', 'B_z'])\n",
    "bx"
   ]
  },
  {
   "cell_type": "code",
   "execution_count": null,
   "id": "f777ac26",
   "metadata": {},
   "outputs": [],
   "source": [
    "(At-Bt).y.subs({'B_x': bx}).simplify().expand().collect(['B_x', 'B_y', 'B_z'])"
   ]
  },
  {
   "cell_type": "code",
   "execution_count": null,
   "id": "698ac21e",
   "metadata": {},
   "outputs": [],
   "source": [
    "am_val = {\n",
    "    'A_x': a.x, 'A_y': a.y, 'A_z': a.z,\n",
    "    'M_x': m.x, 'M_y': m.y, 'M_z': m.z,\n",
    "}"
   ]
  },
  {
   "cell_type": "code",
   "execution_count": null,
   "id": "710e6440",
   "metadata": {},
   "outputs": [],
   "source": [
    "Z = (An @ Bn) - M"
   ]
  },
  {
   "cell_type": "code",
   "execution_count": null,
   "id": "b4fe9e37",
   "metadata": {},
   "outputs": [],
   "source": [
    "Zx = Z.x.simplify().expand().collect(['B_x', 'B_y', 'B_z'])\n",
    "Zx"
   ]
  },
  {
   "cell_type": "code",
   "execution_count": null,
   "id": "9287c9d3",
   "metadata": {},
   "outputs": [],
   "source": [
    "bx = sympy.solve(Zx, 'B_x')[0].simplify()\n",
    "bx.simplify().expand().collect(['B_x', 'B_y', 'B_z'])"
   ]
  },
  {
   "cell_type": "code",
   "execution_count": null,
   "id": "215eb7f2",
   "metadata": {},
   "outputs": [],
   "source": [
    "bx.subs(am_val)"
   ]
  },
  {
   "cell_type": "code",
   "execution_count": null,
   "id": "00835a4f",
   "metadata": {},
   "outputs": [],
   "source": [
    "Zy = Z.y.simplify().expand().collect(['B_x', 'B_y', 'B_z'])\n",
    "Zy"
   ]
  },
  {
   "cell_type": "code",
   "execution_count": null,
   "id": "1454d30f",
   "metadata": {},
   "outputs": [],
   "source": [
    "by = sympy.solve(Z.y.subs({'B_x': bx}), 'B_y')\n",
    "by"
   ]
  },
  {
   "cell_type": "code",
   "execution_count": null,
   "id": "f2f7faab",
   "metadata": {},
   "outputs": [],
   "source": [
    "by.subs({'A_x': a.x, 'A_y': a.y, 'A_z': a.z, 'M_x': m.x, 'M_y':m.y, 'M_z': m.z}).subs({'B_z': b.z})"
   ]
  },
  {
   "cell_type": "code",
   "execution_count": null,
   "id": "8f8c3bcb",
   "metadata": {},
   "outputs": [],
   "source": [
    "Zz = Z.z.subs({'B_y': by}).simplify()\n",
    "Zz"
   ]
  },
  {
   "cell_type": "code",
   "execution_count": null,
   "id": "5eeaaf31",
   "metadata": {},
   "outputs": [],
   "source": [
    "bz = sympy.solve(Zz, 'B_z')\n",
    "bz"
   ]
  },
  {
   "cell_type": "code",
   "execution_count": null,
   "id": "86cb620c",
   "metadata": {},
   "outputs": [],
   "source": [
    "Zz.subs({'A_x': a.x, 'A_y': a.y, 'A_z': a.z, 'M_x': m.x, 'M_y':m.y, 'M_z': m.z})"
   ]
  },
  {
   "cell_type": "code",
   "execution_count": null,
   "id": "7ad0fcc2",
   "metadata": {},
   "outputs": [],
   "source": []
  },
  {
   "cell_type": "code",
   "execution_count": null,
   "id": "ee4006e8",
   "metadata": {},
   "outputs": [],
   "source": []
  },
  {
   "cell_type": "code",
   "execution_count": null,
   "id": "6154030a",
   "metadata": {},
   "outputs": [],
   "source": [
    "An * M == Bn * M == 0"
   ]
  },
  {
   "cell_type": "code",
   "execution_count": null,
   "id": "48d61bd2",
   "metadata": {},
   "outputs": [],
   "source": [
    "Bn * M"
   ]
  },
  {
   "cell_type": "code",
   "execution_count": null,
   "id": "1f4cd0d1",
   "metadata": {},
   "outputs": [],
   "source": [
    "from IPython.display import Latex\n",
    "Latex(\"$\\psi$\")"
   ]
  },
  {
   "cell_type": "code",
   "execution_count": null,
   "id": "a98b5e22",
   "metadata": {},
   "outputs": [],
   "source": [
    "import sympy\n",
    "\n",
    "a, b, c = sympy.symbols('a b c')\n",
    "(-b - sympy.sqrt(b**2 - 4*a*c)) / (2*a)"
   ]
  },
  {
   "cell_type": "code",
   "execution_count": null,
   "id": "2fa83221",
   "metadata": {},
   "outputs": [],
   "source": [
    "\"$\\psi$\""
   ]
  },
  {
   "cell_type": "markdown",
   "id": "7608107b",
   "metadata": {},
   "source": [
    "# Inversion par le produit triple\n",
    "\n"
   ]
  },
  {
   "cell_type": "code",
   "execution_count": null,
   "id": "8fb93155",
   "metadata": {},
   "outputs": [],
   "source": [
    "A = g3d.Vector.symbolic('A')\n",
    "B = g3d.Vector.symbolic('B')\n",
    "M = g3d.Vector.symbolic('M').normalized() # the unit vector of the axis of rotation\n",
    "\n",
    "At = A.project_tangent(M)\n",
    "An = A.project_normal(M) # the projection of A on the plane of normal M\n",
    "Bt = At\n",
    "\n",
    "alpha = sympy.symbols('alpha') # the angle of rotation"
   ]
  },
  {
   "cell_type": "code",
   "execution_count": null,
   "id": "a402d787",
   "metadata": {},
   "outputs": [],
   "source": [
    "AxB = M * An.norm_2 * sympy.sin(alpha)"
   ]
  },
  {
   "cell_type": "code",
   "execution_count": null,
   "id": "c0c7fb04",
   "metadata": {},
   "outputs": [],
   "source": [
    "Bn = ( An * (AxB.norm * (1 / sympy.tan(alpha))) - (An @ AxB) ) * (1 / An.norm_2)\n",
    "B = Bn + Bt"
   ]
  },
  {
   "cell_type": "code",
   "execution_count": null,
   "id": "aa72bb37",
   "metadata": {},
   "outputs": [],
   "source": [
    "with g3d.VectorPlot() as vpl :\n",
    "    vpl.add_point(g3d.Vector(1.0, 0.0, 0.0), 'x', 'r')\n",
    "    vpl.add_point(g3d.Vector(0.0, 1.0, 0.0), 'y', 'g')\n",
    "    vpl.add_point(g3d.Vector(0.0, 0.0, 1.0), 'z', 'b')\n",
    " \n",
    "    vpl.add_point(A.subs(abm_val), 'A', 'r')\n",
    "    vpl.add_point(An.subs(abm_val), 'An', 'magenta')\n",
    "    vpl.add_floating(An.subs(abm_val), At.subs(abm_val), 'At', 'magenta')\n",
    "\n",
    "    #vpl.add_point(B.subs(abm_val), 'B', 'b')\n",
    "    for i in range(64) :\n",
    "        vpl.add_point(Bn.subs(abm_val).subs({'alpha':0.1*(i+1)}), 'Bn', 'cyan')\n",
    "    #vpl.add_floating(Bn.subs(abm_val), Bt.subs(abm_val), 'Bt', 'cyan')\n",
    "\n",
    "    vpl.add_point(M.subs(abm_val), 'M', 'orange')"
   ]
  },
  {
   "cell_type": "markdown",
   "id": "7326b948",
   "metadata": {},
   "source": [
    "# Simple deviation"
   ]
  },
  {
   "cell_type": "code",
   "execution_count": null,
   "id": "fa318332",
   "metadata": {},
   "outputs": [],
   "source": [
    "Bn = A.rotate(M, alpha)\n",
    "Bn.x.simplify().replace(sympy.simplify('M_x**2 + M_y**2 + M_z**2'), 1)"
   ]
  },
  {
   "cell_type": "code",
   "execution_count": null,
   "id": "3b4c20c2",
   "metadata": {},
   "outputs": [],
   "source": [
    "with g3d.VectorPlot() as vpl :\n",
    "    vpl.add_point(g3d.Vector(1.0, 0.0, 0.0), 'x', 'r')\n",
    "    vpl.add_point(g3d.Vector(0.0, 1.0, 0.0), 'y', 'g')\n",
    "    vpl.add_point(g3d.Vector(0.0, 0.0, 1.0), 'z', 'b')\n",
    " \n",
    "    vpl.add_point(A.subs(abm_val), 'A', 'r')\n",
    "\n",
    "    for i in range(64) :\n",
    "        vpl.add_point(A.rotate(M).subs(abm_val).subs({'alpha':0.1*(i+1)}), 'Bn', 'cyan')\n",
    "\n",
    "    vpl.add_point(M.subs(abm_val), 'M', 'orange')"
   ]
  },
  {
   "cell_type": "code",
   "execution_count": null,
   "id": "6ec4a8e5",
   "metadata": {},
   "outputs": [],
   "source": []
  },
  {
   "cell_type": "code",
   "execution_count": null,
   "id": "e3c56f11",
   "metadata": {},
   "outputs": [],
   "source": []
  },
  {
   "cell_type": "code",
   "execution_count": null,
   "id": "36180724",
   "metadata": {},
   "outputs": [],
   "source": []
  },
  {
   "cell_type": "code",
   "execution_count": null,
   "id": "fd569958",
   "metadata": {},
   "outputs": [],
   "source": []
  },
  {
   "cell_type": "code",
   "execution_count": null,
   "id": "5c8a4fa4",
   "metadata": {},
   "outputs": [],
   "source": []
  }
 ],
 "metadata": {
  "kernelspec": {
   "display_name": "Python 3",
   "language": "python",
   "name": "python3"
  },
  "language_info": {
   "codemirror_mode": {
    "name": "ipython",
    "version": 3
   },
   "file_extension": ".py",
   "mimetype": "text/x-python",
   "name": "python",
   "nbconvert_exporter": "python",
   "pygments_lexer": "ipython3",
   "version": "3.8.10"
  }
 },
 "nbformat": 4,
 "nbformat_minor": 5
}
