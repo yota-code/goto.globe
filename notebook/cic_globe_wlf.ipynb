{
 "cells": [
  {
   "cell_type": "code",
   "execution_count": null,
   "metadata": {},
   "outputs": [],
   "source": [
    "left = Sqrt[ R1 * Sin[t]^2 + Cos[t] ]"
   ]
  },
  {
   "cell_type": "code",
   "execution_count": null,
   "metadata": {},
   "outputs": [],
   "source": [
    "center = P1 * Sin[t] + P2 * Cos[t]"
   ]
  },
  {
   "cell_type": "code",
   "execution_count": null,
   "metadata": {},
   "outputs": [],
   "source": [
    "u = Solve[center == left, t]"
   ]
  },
  {
   "cell_type": "code",
   "execution_count": null,
   "metadata": {},
   "outputs": [],
   "source": [
    "t1 = t /. u[[1]]"
   ]
  },
  {
   "cell_type": "code",
   "execution_count": null,
   "metadata": {},
   "outputs": [],
   "source": [
    "FullSimplify[ t1 ]"
   ]
  },
  {
   "cell_type": "code",
   "execution_count": null,
   "metadata": {},
   "outputs": [],
   "source": [
    "val = {\n",
    "\tAx -> 0.7697342841946113,\n",
    "\tAy -> -0.12376229119388332,\n",
    "\tAz -> 0.6262523668728525,\n",
    "\tBx -> 0.6228017242088094,\n",
    "\tBy -> -0.005015379468955344,\n",
    "\tBz -> 0.7823636355885392,\n",
    "\tIx -> 0.6422025720455385,\n",
    "\tIy -> -0.006496852398333603,\n",
    "\tIz -> 0.7665074346456198,\n",
    "\tQx -> 0.7822033227551325,\n",
    "\tQy -> -0.01724130460944277,\n",
    "\tQz -> -0.6227846331487269\n",
    "}"
   ]
  },
  {
   "cell_type": "markdown",
   "metadata": {},
   "source": [
    "## Symbol definition"
   ]
  },
  {
   "cell_type": "code",
   "execution_count": null,
   "metadata": {},
   "outputs": [],
   "source": [
    "UA = {Ax, Ay, Az}\n",
    "UB = {Bx, By, Bz}\n",
    "UV = {Cx, Cy, Cz}\n",
    "UI = {Ix, Iy, Iz}\n",
    "UQ = {Qx, Qy, Qz}"
   ]
  },
  {
   "cell_type": "code",
   "execution_count": null,
   "metadata": {},
   "outputs": [],
   "source": [
    "UV = UB * Cos[t] + UQ * Sin[t]"
   ]
  },
  {
   "cell_type": "code",
   "execution_count": null,
   "metadata": {},
   "outputs": [],
   "source": [
    "ULZ = Cross[UA, UB] / Sqrt[ Cross[UA, UB].Cross[UA, UB] ] // Simplify;"
   ]
  },
  {
   "cell_type": "code",
   "execution_count": null,
   "metadata": {},
   "outputs": [],
   "source": [
    "ULY = Cross[ULZ, UV] / Sqrt[ Cross[ULZ, UV].Cross[ULZ, UV] ] // Simplify;"
   ]
  },
  {
   "cell_type": "code",
   "execution_count": null,
   "metadata": {},
   "outputs": [],
   "source": [
    "ULX = Collect[ Cross[ULY, ULZ] // Expand, { Sin[2*t], Cos[2*t], Sin[t], Cos[t]}, Simplify ];"
   ]
  },
  {
   "cell_type": "code",
   "execution_count": null,
   "metadata": {},
   "outputs": [],
   "source": [
    "LeftArcM = (ULX.UV) // Expand // Simplify"
   ]
  },
  {
   "cell_type": "code",
   "execution_count": null,
   "metadata": {},
   "outputs": [],
   "source": [
    "LeftArc = Assuming[\n",
    "    Bx^2+By^2+Bz^2 == 1,\n",
    "Assuming[\n",
    "    Bx*Qx+By*Qy+Bz*Qz == 0,\n",
    "    Collect[ LeftArcM, { Sin[2*t], Cos[2*t], Sin[t], Cos[t]}, FullSimplify ]\n",
    "]]"
   ]
  },
  {
   "cell_type": "markdown",
   "metadata": {},
   "source": [
    "    LeftArcS = Sqrt[\n",
    "        (\n",
    "            (\n",
    "                Ax^2*Bx^2*By^2 + Ax^2*Bx^2*Bz^2 + Ax^2*By^4 + 2*Ax^2*By^2*Bz^2 + Ax^2*Bz^4 - 2*Ax*Ay*Bx^3*By - 2*Ax*Ay*Bx*By^3 - 2*Ax*Ay*Bx*By*Bz^2 -\n",
    "                2*Ax*Az*Bx^3*Bz - 2*Ax*Az*Bx*By^2*Bz - 2*Ax*Az*Bx*Bz^3 + Ay^2*Bx^4 + Ay^2*Bx^2*By^2 + 2*Ay^2*Bx^2*Bz^2 + Ay^2*By^2*Bz^2 + Ay^2*Bz^4 -\n",
    "                2*Ay*Az*Bx^2*By*Bz - 2*Ay*Az*By^3*Bz - 2*Ay*Az*By*Bz^3 + Az^2*Bx^4 + 2*Az^2*Bx^2*By^2 + Az^2*Bx^2*Bz^2 + Az^2*By^4 + Az^2*By^2*Bz^2\n",
    "            ) * Cos[t]^2 +\n",
    "            (\n",
    "                Ax^2*Bx*By^2*Qx + Ax^2*Bx*Bz^2*Qx + Ax^2*By^3*Qy + Ax^2*By^2*Bz*Qz + Ax^2*By*Bz^2*Qy + Ax^2*Bz^3*Qz - 2*Ax*Ay*Bx^2*By*Qx - 2*Ax*Ay*Bx*By^2*Qy -\n",
    "                2*Ax*Ay*Bx*By*Bz*Qz - 2*Ax*Az*Bx^2*Bz*Qx - 2*Ax*Az*Bx*By*Bz*Qy - 2*Ax*Az*Bx*Bz^2*Qz + Ay^2*Bx^3*Qx + Ay^2*Bx^2*By*Qy + Ay^2*Bx^2*Bz*Qz +\n",
    "                Ay^2*Bx*Bz^2*Qx + Ay^2*By*Bz^2*Qy + Ay^2*Bz^3*Qz - 2*Ay*Az*Bx*By*Bz*Qx - 2*Ay*Az*By^2*Bz*Qy - 2*Ay*Az*By*Bz^2*Qz + Az^2*Bx^3*Qx + Az^2*Bx^2*By*Qy +\n",
    "                Az^2*Bx^2*Bz*Qz + Az^2*Bx*By^2*Qx + Az^2*By^3*Qy + Az^2*By^2*Bz*Qz\n",
    "            ) * Sin[2*t] +\n",
    "            (\n",
    "                Ax^2*By^2*Qx^2 + Ax^2*By^2*Qy^2 + 2*Ax^2*By*Bz*Qy*Qz + Ax^2*Bz^2*Qx^2 + Ax^2*Bz^2*Qz^2 - 2*Ax*Ay*Bx*By*Qx^2 - 2*Ax*Ay*Bx*By*Qy^2 -\n",
    "                2*Ax*Ay*Bx*Bz*Qy*Qz - 2*Ax*Ay*By*Bz*Qx*Qz + 2*Ax*Ay*Bz^2*Qx*Qy - 2*Ax*Az*Bx*By*Qy*Qz - 2*Ax*Az*Bx*Bz*Qx^2 - 2*Ax*Az*Bx*Bz*Qz^2 +\n",
    "                2*Ax*Az*By^2*Qx*Qz - 2*Ax*Az*By*Bz*Qx*Qy + Ay^2*Bx^2*Qx^2 + Ay^2*Bx^2*Qy^2 + 2*Ay^2*Bx*Bz*Qx*Qz + Ay^2*Bz^2*Qy^2 + Ay^2*Bz^2*Qz^2 +\n",
    "                2*Ay*Az*Bx^2*Qy*Qz - 2*Ay*Az*Bx*By*Qx*Qz - 2*Ay*Az*Bx*Bz*Qx*Qy - 2*Ay*Az*By*Bz*Qy^2 - 2*Ay*Az*By*Bz*Qz^2 + Az^2*Bx^2*Qx^2 + Az^2*Bx^2*Qz^2 +\n",
    "                2*Az^2*Bx*By*Qx*Qy + Az^2*By^2*Qy^2 + Az^2*By^2*Qz^2\n",
    "            ) * Sin[t]^2\n",
    "        ) / ( Ax^2*By^2 + Ax^2*Bz^2 - 2*Ax*Ay*Bx*By - 2*Ax*Az*Bx*Bz + Ay^2*Bx^2 + Ay^2*Bz^2 - 2*Ay*Az*By*Bz + Az^2*Bx^2 + Az^2*By^2 )\n",
    "    ] // FullSimplify"
   ]
  },
  {
   "cell_type": "code",
   "execution_count": null,
   "metadata": {},
   "outputs": [],
   "source": [
    "CentArc = Collect[ UI.UV, { Sin[t], Cos[t]}, FullSimplify ]"
   ]
  },
  {
   "cell_type": "code",
   "execution_count": null,
   "metadata": {},
   "outputs": [],
   "source": [
    "res = Solve[ CentArc == LeftArc, t ]"
   ]
  },
  {
   "cell_type": "code",
   "execution_count": null,
   "metadata": {},
   "outputs": [],
   "source": []
  },
  {
   "cell_type": "code",
   "execution_count": null,
   "metadata": {},
   "outputs": [],
   "source": [
    "sub = {\n",
    "    P1 -> (Ix*Qx + Iy*Qy + Iz*Qz),\n",
    "    P2 -> (Ix*Bx + Iy*By + Iz*Bz),\n",
    "    R1 -> -(Ax*Qx + Ay*Qy + Az*Qz)^2 / (Ay^2*(-1+By^2) + 2*Ax*Az*Bx*Bz + 2*Ay*By*(Ax*Bx+Az*Bz) +Az^2*(-1+Bz^2) - Ax^2*(By^2+Bz^2))\n",
    "}"
   ]
  },
  {
   "cell_type": "code",
   "execution_count": null,
   "metadata": {},
   "outputs": [],
   "source": [
    "LeftEqua = Sqrt[ R1 + (1 - R1)*Cos[t]^2 ]"
   ]
  },
  {
   "cell_type": "code",
   "execution_count": null,
   "metadata": {},
   "outputs": [],
   "source": [
    "CentEqua = P1 * Sin[t] + P2 * Cos[t]"
   ]
  },
  {
   "cell_type": "code",
   "execution_count": null,
   "metadata": {},
   "outputs": [],
   "source": [
    "resEqua = Solve[ LeftEqua == CentEqua, t ]"
   ]
  },
  {
   "cell_type": "code",
   "execution_count": null,
   "metadata": {},
   "outputs": [],
   "source": []
  },
  {
   "cell_type": "code",
   "execution_count": null,
   "metadata": {},
   "outputs": [],
   "source": [
    "tsol = t /. resEqua[[4]] // FullSimplify"
   ]
  },
  {
   "cell_type": "code",
   "execution_count": null,
   "metadata": {},
   "outputs": [],
   "source": [
    "tsol  /. sub /. val"
   ]
  },
  {
   "cell_type": "code",
   "execution_count": null,
   "metadata": {},
   "outputs": [],
   "source": [
    "tsol // Expand"
   ]
  },
  {
   "cell_type": "code",
   "execution_count": null,
   "metadata": {},
   "outputs": [],
   "source": [
    "tsub = tsol  /. sub // FullSimplify"
   ]
  },
  {
   "cell_type": "code",
   "execution_count": null,
   "metadata": {},
   "outputs": [],
   "source": []
  }
 ],
 "metadata": {
  "kernelspec": {
   "display_name": "Wolfram Language 12.1",
   "language": "Wolfram Language",
   "name": "wolframlanguage12.1"
  },
  "language_info": {
   "codemirror_mode": "mathematica",
   "file_extension": ".m",
   "mimetype": "application/vnd.wolfram.m",
   "name": "Wolfram Language",
   "pygments_lexer": "mathematica",
   "version": "12.0"
  }
 },
 "nbformat": 4,
 "nbformat_minor": 4
}
