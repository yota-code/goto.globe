{
 "cells": [
  {
   "cell_type": "code",
   "execution_count": null,
   "metadata": {},
   "outputs": [],
   "source": [
    "import math\n",
    "import sys\n",
    "\n",
    "sys.path.append(\"/mnt/workbench/source/goto.globe/package\")"
   ]
  },
  {
   "cell_type": "code",
   "execution_count": null,
   "metadata": {},
   "outputs": [],
   "source": [
    "import sympy\n",
    "\n",
    "import geometrik.threed as g3d\n",
    "\n",
    "import goto.globe.blip\n",
    "import goto.globe.lineto\n",
    "\n",
    "t = sympy.symbols('t')"
   ]
  },
  {
   "cell_type": "code",
   "execution_count": null,
   "metadata": {},
   "outputs": [],
   "source": [
    "BOD = goto.globe.blip.Blip(44.828333, -0.715556).as_vector\n",
    "MXP = goto.globe.blip.Blip(45.63, 8.723056).as_vector\n",
    "MRS = goto.globe.blip.Blip(43.436667, 5.215).as_vector\n",
    "LHR = goto.globe.blip.Blip(51.4775, -0.461389).as_vector\n",
    "LIS = goto.globe.blip.Blip(38.774167, -9.134167).as_vector\n",
    "RKV = goto.globe.blip.Blip(64.13, -21.940556).as_vector\n",
    "\n",
    "A, B, C = LIS, LHR, MRS\n",
    "\n",
    "lineto_AB = goto.globe.lineto.LineTo(A, B)\n",
    "lineto_BC = goto.globe.lineto.LineTo(B, C)\n",
    "\n",
    "l12 = lineto_AB.side_point(0.0, 0.02, 1.0)\n",
    "r12 = lineto_AB.side_point(0.0, 0.02, -1.0)\n",
    "l21 = lineto_AB.side_point(1.0, 0.01, 1.0)\n",
    "r21 = lineto_AB.side_point(1.0, 0.01, -1.0)\n",
    "\n",
    "l23 = lineto_BC.side_point(0.0, 0.01, 1.0)\n",
    "r23 = lineto_BC.side_point(0.0, 0.01, -1.0)\n",
    "l32 = lineto_BC.side_point(1.0, 0.03, 1.0)\n",
    "r32 = lineto_BC.side_point(1.0, 0.03, -1.0)\n",
    "\n",
    "lineto_BA = goto.globe.lineto.LineTo(B, A)\n",
    "q = lineto_BA.Lz.signed_angle_to(lineto_BC.Ly, B)\n",
    "Q = math.copysign(1.0, q) * (lineto_BC.Lz - lineto_BA.Lz ).normalized()\n",
    "\n",
    "if q < 0.0 :\n",
    "\tline_12 = goto.globe.lineto.LineTo(r12, r21)\n",
    "\tline_32 = goto.globe.lineto.LineTo(r32, r23)\n",
    "elif 0.0 < q :\n",
    "\tline_12 = goto.globe.lineto.LineTo(l21, l12)\n",
    "\tline_32 = goto.globe.lineto.LineTo(l32, l23)\n",
    "else :\n",
    "\traise ValueError\n",
    "I = line_12.intersection(line_32)\n",
    "Pab_Z = (A @ B).normalized()"
   ]
  },
  {
   "cell_type": "code",
   "execution_count": null,
   "metadata": {},
   "outputs": [],
   "source": [
    "val = {\n",
    "\t'A_x': A.x, 'A_y': A.y, 'A_z': A.z,\n",
    "\t'B_x': B.x, 'B_y': B.y, 'B_z': B.z,\n",
    "\t'I_x': I.x, 'I_y': I.y, 'I_z': I.z,\n",
    "\t'Q_x': Q.x, 'Q_y': Q.y, 'Q_z': Q.z,\n",
    "}\n",
    "val"
   ]
  },
  {
   "cell_type": "code",
   "execution_count": null,
   "metadata": {},
   "outputs": [],
   "source": [
    "A = g3d.Vector( * sympy.symbols('A_x A_y A_z'), True )\n",
    "B = g3d.Vector( * sympy.symbols('B_x B_y B_z'), True )\n",
    "C = g3d.Vector( * sympy.symbols('C_x C_y C_z'), True )\n",
    "\n",
    "I = g3d.Vector( * sympy.symbols('I_x I_y I_z'), True )\n",
    "Q = g3d.Vector( * sympy.symbols('Q_x Q_y Q_z'), True )\n",
    "\n",
    "V = B * sympy.cos(t) + Q * sympy.sin(t)"
   ]
  },
  {
   "cell_type": "code",
   "execution_count": null,
   "metadata": {},
   "outputs": [],
   "source": [
    "Pab_Z = (A @ B).normalized()\n",
    "Pab_Y = (Pab_Z @ V).normalized()\n",
    "Pab_X = (Pab_Y @ Pab_Z)\n",
    "Pab_X._is_unit = True"
   ]
  },
  {
   "cell_type": "code",
   "execution_count": null,
   "metadata": {},
   "outputs": [],
   "source": [
    "left_angle = (Pab_X * V).expand().simplify().collect(sympy.sin(2*t)).collect(sympy.cos(2*t)).collect(sympy.sin(t)).collect(sympy.cos(t))"
   ]
  },
  {
   "cell_type": "code",
   "execution_count": null,
   "metadata": {},
   "outputs": [],
   "source": [
    "center_angle = (I * V).expand().simplify().collect(sympy.sin(t)).collect(sympy.cos(t))"
   ]
  },
  {
   "cell_type": "code",
   "execution_count": null,
   "metadata": {},
   "outputs": [],
   "source": [
    "left_angle"
   ]
  },
  {
   "cell_type": "code",
   "execution_count": null,
   "metadata": {},
   "outputs": [],
   "source": [
    "center_angle"
   ]
  },
  {
   "cell_type": "code",
   "execution_count": null,
   "metadata": {},
   "outputs": [],
   "source": [
    "R1, R2, R3, R4 = sympy.symbols('R_1 R_2 R_3 R_4')\n",
    "P1, P2 = sympy.symbols('P_1 P_2')"
   ]
  },
  {
   "cell_type": "code",
   "execution_count": null,
   "metadata": {},
   "outputs": [],
   "source": [
    "left_equa = sympy.sqrt( R1 * sympy.sin(2*t) + R2 * sympy.cos(t)**2 + R3 * sympy.sin(t)**2 ) / R4\n",
    "sympy.acos( left_equa ).simplify()"
   ]
  },
  {
   "cell_type": "code",
   "execution_count": null,
   "metadata": {},
   "outputs": [],
   "source": [
    "center_equa = P1 * sympy.cos(t) + P2 * sympy.sin(t)\n",
    "center_equa"
   ]
  },
  {
   "cell_type": "code",
   "execution_count": null,
   "metadata": {},
   "outputs": [],
   "source": [
    "u = sympy.solve(center_equa - left_equa, t)"
   ]
  },
  {
   "cell_type": "code",
   "execution_count": null,
   "metadata": {},
   "outputs": [],
   "source": [
    "u[6]"
   ]
  },
  {
   "cell_type": "code",
   "execution_count": null,
   "metadata": {},
   "outputs": [],
   "source": [
    "u = sympy.solve(sympy.Eq(left_angle, center_angle), t)"
   ]
  },
  {
   "cell_type": "markdown",
   "metadata": {},
   "source": [
    "## application numérique"
   ]
  },
  {
   "cell_type": "code",
   "execution_count": null,
   "metadata": {},
   "outputs": [],
   "source": [
    "\n",
    "math.acos( left_angle.subs(val).subs({'t': 0.05}) )"
   ]
  },
  {
   "cell_type": "code",
   "execution_count": null,
   "metadata": {},
   "outputs": [],
   "source": [
    "math.acos( center_angle.subs(val).subs({'t': 0.05}) )"
   ]
  },
  {
   "cell_type": "code",
   "execution_count": null,
   "metadata": {},
   "outputs": [],
   "source": [
    "V.angle_to(I).subs(val).subs({'t': 0.07})"
   ]
  },
  {
   "cell_type": "code",
   "execution_count": null,
   "metadata": {},
   "outputs": [],
   "source": [
    "import matplotlib.pyplot as plt"
   ]
  },
  {
   "cell_type": "code",
   "execution_count": null,
   "metadata": {},
   "outputs": [],
   "source": [
    "n = 50\n",
    "d = 0.01\n",
    "plt.plot([ i*d for i in range(1, n) ], [ math.acos( left_angle.subs(val).subs({'t': i*d}) ) for i in range(1, n) ])\n",
    "plt.plot([ i*d for i in range(1, n) ], [ math.acos( center_angle.subs(val).subs({'t': i*d}) ) for i in range(1, n) ])\n",
    "plt.show()"
   ]
  },
  {
   "cell_type": "code",
   "execution_count": null,
   "metadata": {},
   "outputs": [],
   "source": []
  },
  {
   "cell_type": "code",
   "execution_count": null,
   "metadata": {},
   "outputs": [],
   "source": []
  }
 ],
 "metadata": {
  "kernelspec": {
   "display_name": "Python 3",
   "language": "python",
   "name": "python3"
  },
  "language_info": {
   "codemirror_mode": {
    "name": "ipython",
    "version": 3
   },
   "file_extension": ".py",
   "mimetype": "text/x-python",
   "name": "python",
   "nbconvert_exporter": "python",
   "pygments_lexer": "ipython3",
   "version": "3.8.5"
  }
 },
 "nbformat": 4,
 "nbformat_minor": 4
}
