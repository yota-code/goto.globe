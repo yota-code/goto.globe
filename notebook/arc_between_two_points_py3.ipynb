{
 "cells": [
  {
   "cell_type": "code",
   "execution_count": null,
   "metadata": {},
   "outputs": [],
   "source": [
    "%matplotlib notebook\n",
    "\n",
    "# valid code 2021.05.19\n",
    "\n",
    "import math\n",
    "\n",
    "import geometrik.threed as g3d\n",
    "\n",
    "from goto.globe.blip import Blip\n",
    "\n",
    "BOD = Blip(44.828333, -0.715556).as_vector\n",
    "MXP = Blip(45.63, 8.723056).as_vector\n",
    "MRS = Blip(43.436667, 5.215).as_vector\n",
    "LHR = Blip(51.4775, -0.461389).as_vector\n",
    "LIS = Blip(38.774167, -9.134167).as_vector\n",
    "RKV = Blip(64.13, -21.940556).as_vector\n",
    "SYD = Blip(-33.946111, 151.177222).as_vector\n",
    "PRY = Blip(-25.653611, 28.224167).as_vector\n",
    "SVO = Blip(55.972778, 37.414722).as_vector\n",
    "SIN = Blip(1.359167, 103.989444).as_vector\n",
    "\n",
    "T01 = Blip(43.43164989819305, 5.222250835599687).as_vector\n",
    "T02 = Blip(43.43340699940287, 5.226983180928847).as_vector\n",
    "\n",
    "A, B = T01, T02"
   ]
  },
  {
   "cell_type": "code",
   "execution_count": null,
   "metadata": {},
   "outputs": [],
   "source": [
    "A"
   ]
  },
  {
   "cell_type": "code",
   "execution_count": null,
   "metadata": {},
   "outputs": [],
   "source": [
    "B"
   ]
  },
  {
   "cell_type": "markdown",
   "metadata": {},
   "source": [
    "# Arc of a circle\n",
    "\n",
    "The goal here is to compute the arc of circle which would pass through $A$ and $B$ and have a radius of $r$.\n",
    "\n",
    "$r$ is the radius of the circle, which can not be smaller than twice the distance between $A$ and $B$. And $s$ is the sign of the turn (positive to the right)."
   ]
  },
  {
   "cell_type": "code",
   "execution_count": null,
   "metadata": {},
   "outputs": [],
   "source": []
  },
  {
   "cell_type": "code",
   "execution_count": null,
   "metadata": {},
   "outputs": [],
   "source": [
    "r = 0.11\n",
    "r = 3.563532865590431e-05\n",
    "w = -1.0\n",
    "\n",
    "r_min = A.angle_to(B) / 2\n",
    "r_min"
   ]
  },
  {
   "cell_type": "markdown",
   "metadata": {},
   "source": [
    "We further limit $r < \\frac{\\pi}{2}$ in order to avoid corner cases (right turns start to turn left)"
   ]
  },
  {
   "cell_type": "code",
   "execution_count": null,
   "metadata": {},
   "outputs": [],
   "source": [
    "assert(r_min <= r < math.pi / 2)"
   ]
  },
  {
   "cell_type": "markdown",
   "metadata": {},
   "source": [
    "$I$ is taken as a middle point between $A$ and $B$ (ie. $A$ and $B$ can not be colinear, neither coincident nor opposite)."
   ]
  },
  {
   "cell_type": "code",
   "execution_count": null,
   "metadata": {},
   "outputs": [],
   "source": [
    "I = (A + B).normalized()\n",
    "I"
   ]
  },
  {
   "cell_type": "markdown",
   "metadata": {},
   "source": [
    "$Q$ is taken as a point, perpendicular to $I$ and which lies in the plane bissecting the sphere at equal distance of $A$ and $B$"
   ]
  },
  {
   "cell_type": "code",
   "execution_count": null,
   "metadata": {},
   "outputs": [],
   "source": [
    "Q = w * (B @ A).normalized()\n",
    "Q"
   ]
  },
  {
   "cell_type": "code",
   "execution_count": null,
   "metadata": {},
   "outputs": [],
   "source": [
    "t = math.acos(math.cos(r) / (A * I))\n",
    "t"
   ]
  },
  {
   "cell_type": "code",
   "execution_count": null,
   "metadata": {},
   "outputs": [],
   "source": [
    "C = I * math.cos(t) + Q * math.sin(t)\n",
    "C"
   ]
  },
  {
   "cell_type": "code",
   "execution_count": null,
   "metadata": {},
   "outputs": [],
   "source": [
    "with g3d.UnitSpherePlot() as u :\n",
    "    u.add_point(A, 'A', 'r')\n",
    "    u.add_point(B, 'B', 'b')\n",
    "    u.add_point(I, 'I', 'cyan')\n",
    "    u.add_point(Q, 'Q', 'g')\n",
    "    u.add_point(C, 'C', 'magenta')\n",
    "    u.add_circle_part(C, A, B, 'orange')"
   ]
  },
  {
   "cell_type": "code",
   "execution_count": null,
   "metadata": {},
   "outputs": [],
   "source": []
  },
  {
   "cell_type": "code",
   "execution_count": null,
   "metadata": {},
   "outputs": [],
   "source": [
    "A @ B"
   ]
  },
  {
   "cell_type": "code",
   "execution_count": null,
   "metadata": {},
   "outputs": [],
   "source": [
    "(A @ B).normalized()"
   ]
  },
  {
   "cell_type": "code",
   "execution_count": null,
   "metadata": {},
   "outputs": [],
   "source": []
  }
 ],
 "metadata": {
  "kernelspec": {
   "display_name": "Python 3",
   "language": "python",
   "name": "python3"
  },
  "language_info": {
   "codemirror_mode": {
    "name": "ipython",
    "version": 3
   },
   "file_extension": ".py",
   "mimetype": "text/x-python",
   "name": "python",
   "nbconvert_exporter": "python",
   "pygments_lexer": "ipython3",
   "version": "3.8.10"
  }
 },
 "nbformat": 4,
 "nbformat_minor": 4
}
