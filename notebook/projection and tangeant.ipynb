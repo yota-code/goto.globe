{
 "cells": [
  {
   "cell_type": "code",
   "execution_count": null,
   "id": "f3ec6902",
   "metadata": {},
   "outputs": [],
   "source": [
    "%matplotlib notebook\n",
    "\n",
    "import math\n",
    "import numpy as np\n",
    "import matplotlib.pyplot as plt\n",
    "import sympy\n",
    "\n",
    "import geometrik.threed as g3d\n",
    "\n",
    "from goto.globe.plot import GlobePlotMpl"
   ]
  },
  {
   "cell_type": "code",
   "execution_count": null,
   "id": "ec1e53fd",
   "metadata": {},
   "outputs": [],
   "source": [
    "u = sympy.symbols('u')"
   ]
  },
  {
   "cell_type": "markdown",
   "id": "0b8e32e6",
   "metadata": {},
   "source": [
    "L'idée est de prendre le plan equatorial et de l'incliner d'un angle $\\theta$ autour de l'axe $Ox$"
   ]
  },
  {
   "cell_type": "code",
   "execution_count": null,
   "id": "34bfd2fc",
   "metadata": {},
   "outputs": [],
   "source": [
    "theta, psi = sympy.symbols('theta psi')\n",
    "\n",
    "Nz = g3d.Vector(0, -sympy.sin(theta), sympy.cos(theta))\n",
    "Ny = g3d.Vector(0, sympy.cos(theta), sympy.sin(theta))\n",
    "Nx = g3d.Vector(1, 0, 0)\n",
    "\n",
    "Pz = g3d.Plane(Nz)\n",
    "\n",
    "m_val = {'theta': math.pi / 4, 'psi': 0.3}"
   ]
  },
  {
   "cell_type": "code",
   "execution_count": null,
   "id": "6cc20ce9",
   "metadata": {},
   "outputs": [],
   "source": [
    "Ux = g3d.Vector(sympy.cos(psi), sympy.sin(psi), 0)\n",
    "Ux"
   ]
  },
  {
   "cell_type": "code",
   "execution_count": null,
   "id": "8a1cad86",
   "metadata": {},
   "outputs": [],
   "source": [
    "Mx = Pz.project(Ux)\n",
    "Mx.x"
   ]
  },
  {
   "cell_type": "code",
   "execution_count": null,
   "id": "4bdf8fd2",
   "metadata": {},
   "outputs": [],
   "source": [
    "Mx.y.simplify()"
   ]
  },
  {
   "cell_type": "code",
   "execution_count": null,
   "id": "1ab04472",
   "metadata": {},
   "outputs": [],
   "source": [
    "Mx.z.simplify()"
   ]
  },
  {
   "cell_type": "code",
   "execution_count": null,
   "id": "466982c6",
   "metadata": {},
   "outputs": [],
   "source": [
    "Mz = (Ux * Nz) * Nz\n",
    "Mz"
   ]
  },
  {
   "cell_type": "code",
   "execution_count": null,
   "id": "f5c0f06f",
   "metadata": {},
   "outputs": [],
   "source": [
    "with GlobePlotMpl() as gpl :\n",
    "    gpl.add_point(Nx.subs(m_val), 'Nx', 'r')\n",
    "    gpl.add_point(Ny.subs(m_val), 'Ny', 'g')\n",
    "    gpl.add_point(Nz.subs(m_val), 'Nz', 'b')\n",
    "    gpl.add_point(Mz.subs(m_val), 'Mz', 'b')\n",
    "    gpl.add_great_circle(Nz.subs(m_val), 'k')\n",
    "    gpl.add_point(Ux.subs(m_val), 'Ux', 'yellow')\n",
    "    gpl.add_point(Mx.subs(m_val), 'Mx', 'purple')"
   ]
  },
  {
   "cell_type": "code",
   "execution_count": null,
   "id": "0cee633f",
   "metadata": {},
   "outputs": [],
   "source": []
  },
  {
   "cell_type": "code",
   "execution_count": null,
   "id": "9ebfc2b2",
   "metadata": {},
   "outputs": [],
   "source": [
    "Nx.subs({'theta': 0.3})\n",
    "R = sympy.symbols('R')"
   ]
  },
  {
   "cell_type": "code",
   "execution_count": null,
   "id": "2ae4c2aa",
   "metadata": {},
   "outputs": [],
   "source": [
    "r = Ux.angle_to(Mx).simplify()\n",
    "r"
   ]
  },
  {
   "cell_type": "code",
   "execution_count": null,
   "id": "ff3c456d",
   "metadata": {},
   "outputs": [],
   "source": [
    "r_sol = sympy.solve(r - R, theta)"
   ]
  },
  {
   "cell_type": "code",
   "execution_count": null,
   "id": "19154380",
   "metadata": {},
   "outputs": [],
   "source": [
    "r_sol[0]"
   ]
  },
  {
   "cell_type": "code",
   "execution_count": null,
   "id": "8397890a",
   "metadata": {},
   "outputs": [],
   "source": [
    "r_sol[1]"
   ]
  },
  {
   "cell_type": "code",
   "execution_count": null,
   "id": "99d98db2",
   "metadata": {},
   "outputs": [],
   "source": [
    "r_lst = list()\n",
    "t_lst = np.linspace(0.0, math.pi/2, 100)\n",
    "u_lst = list()\n",
    "for t in t_lst :\n",
    "    r_lst.append(math.acos(math.sqrt(1 - (math.sin(0.5)**2 * math.sin(t)**2))))\n",
    "    u_lst.append(math.sin(t)* 0.5)\n",
    "    \n",
    "plt.plot(t_lst, r_lst)\n",
    "# plt.plot(t_lst, u_lst)\n",
    "plt.show()"
   ]
  },
  {
   "cell_type": "code",
   "execution_count": null,
   "id": "ca8d284e",
   "metadata": {},
   "outputs": [],
   "source": []
  },
  {
   "cell_type": "code",
   "execution_count": null,
   "id": "2d3a35f8",
   "metadata": {},
   "outputs": [],
   "source": []
  },
  {
   "cell_type": "code",
   "execution_count": null,
   "id": "aba1ca0a",
   "metadata": {},
   "outputs": [],
   "source": []
  }
 ],
 "metadata": {
  "kernelspec": {
   "display_name": "Python 3",
   "language": "python",
   "name": "python3"
  },
  "language_info": {
   "codemirror_mode": {
    "name": "ipython",
    "version": 3
   },
   "file_extension": ".py",
   "mimetype": "text/x-python",
   "name": "python",
   "nbconvert_exporter": "python",
   "pygments_lexer": "ipython3",
   "version": "3.8.10"
  }
 },
 "nbformat": 4,
 "nbformat_minor": 5
}
