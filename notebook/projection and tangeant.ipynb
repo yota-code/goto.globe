{
 "cells": [
  {
   "cell_type": "code",
   "execution_count": null,
   "id": "f3ec6902",
   "metadata": {},
   "outputs": [],
   "source": [
    "%matplotlib notebook\n",
    "\n",
    "import geometrik.threed as g3d\n",
    "import sympy\n",
    "\n",
    "from goto.globe.plot import GlobePlotMpl"
   ]
  },
  {
   "cell_type": "code",
   "execution_count": null,
   "id": "ec1e53fd",
   "metadata": {},
   "outputs": [],
   "source": [
    "u = sympy.symbols('u')"
   ]
  },
  {
   "cell_type": "markdown",
   "id": "24ddf305",
   "metadata": {},
   "source": [
    "L'idée est de prendre le plan equatorial et de l'incliner d'un angle $\\theta$ autour de l'axe $Ox$"
   ]
  },
  {
   "cell_type": "code",
   "execution_count": null,
   "id": "e79da502",
   "metadata": {},
   "outputs": [],
   "source": [
    "theta, psi = sympy.symbols('theta psi')\n",
    "\n",
    "Nz = g3d.Vector(0, -sympy.sin(theta), sympy.cos(theta))\n",
    "Ny = g3d.Vector(0, sympy.cos(theta), sympy.sin(theta))\n",
    "Nx = g3d.Vector(1, 0, 0)\n",
    "\n",
    "Pz = g3d.Plane(Nz)\n",
    "\n",
    "m_val = {'theta': 0.5, 'psi': 0.3}"
   ]
  },
  {
   "cell_type": "code",
   "execution_count": null,
   "id": "ceb30747",
   "metadata": {},
   "outputs": [],
   "source": [
    "Ux = g3d.Vector(sympy.cos(psi), sympy.sin(psi), 0)\n",
    "Ux"
   ]
  },
  {
   "cell_type": "code",
   "execution_count": null,
   "id": "e998f34d",
   "metadata": {},
   "outputs": [],
   "source": [
    "Mx = Pz.project(Ux)\n",
    "Mx.x"
   ]
  },
  {
   "cell_type": "code",
   "execution_count": null,
   "id": "f1cc733a",
   "metadata": {},
   "outputs": [],
   "source": [
    "Mx.y.simplify()"
   ]
  },
  {
   "cell_type": "code",
   "execution_count": null,
   "id": "9f019668",
   "metadata": {},
   "outputs": [],
   "source": [
    "Mx.z.simplify()"
   ]
  },
  {
   "cell_type": "code",
   "execution_count": null,
   "id": "1354e706",
   "metadata": {},
   "outputs": [],
   "source": [
    "Mz = (Ux * Nz) * Nz\n",
    "Mz"
   ]
  },
  {
   "cell_type": "code",
   "execution_count": null,
   "id": "411bb5dc",
   "metadata": {},
   "outputs": [],
   "source": [
    "with GlobePlotMpl() as plt :\n",
    "    plt.add_point(Nx.subs(m_val), 'Nx', 'r')\n",
    "    plt.add_point(Ny.subs(m_val), 'Ny', 'g')\n",
    "    plt.add_point(Nz.subs(m_val), 'Nz', 'b')\n",
    "    plt.add_point(Mz.subs(m_val), 'Mz', 'b')\n",
    "    plt.add_great_circle(Nz.subs(m_val), 'k')\n",
    "    plt.add_point(Ux.subs(m_val), 'Ux', 'yellow')\n",
    "    plt.add_point(Mx.subs(m_val), 'Mx', 'purple')"
   ]
  },
  {
   "cell_type": "code",
   "execution_count": null,
   "id": "a38defe2",
   "metadata": {},
   "outputs": [],
   "source": []
  },
  {
   "cell_type": "code",
   "execution_count": null,
   "id": "6923c7d1",
   "metadata": {},
   "outputs": [],
   "source": [
    "Nx.subs({'theta': 0.3})\n",
    "R = sympy.symbols('R')"
   ]
  },
  {
   "cell_type": "code",
   "execution_count": null,
   "id": "1f77faae",
   "metadata": {},
   "outputs": [],
   "source": [
    "r = Ux.angle_to(Mx).simplify()\n",
    "r"
   ]
  },
  {
   "cell_type": "code",
   "execution_count": null,
   "id": "7246b81c",
   "metadata": {},
   "outputs": [],
   "source": [
    "r_sol = sympy.solve(r - R, theta)"
   ]
  },
  {
   "cell_type": "code",
   "execution_count": null,
   "id": "e4193ff0",
   "metadata": {},
   "outputs": [],
   "source": [
    "r_sol[0]"
   ]
  },
  {
   "cell_type": "code",
   "execution_count": null,
   "id": "6c05177e",
   "metadata": {},
   "outputs": [],
   "source": [
    "r_sol[1]"
   ]
  },
  {
   "cell_type": "code",
   "execution_count": null,
   "id": "7d401a62",
   "metadata": {},
   "outputs": [],
   "source": []
  }
 ],
 "metadata": {
  "kernelspec": {
   "display_name": "Python 3",
   "language": "python",
   "name": "python3"
  },
  "language_info": {
   "codemirror_mode": {
    "name": "ipython",
    "version": 3
   },
   "file_extension": ".py",
   "mimetype": "text/x-python",
   "name": "python",
   "nbconvert_exporter": "python",
   "pygments_lexer": "ipython3",
   "version": "3.8.10"
  }
 },
 "nbformat": 4,
 "nbformat_minor": 5
}
