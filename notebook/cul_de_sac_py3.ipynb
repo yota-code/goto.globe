{
 "cells": [
  {
   "cell_type": "code",
   "execution_count": null,
   "metadata": {},
   "outputs": [],
   "source": [
    "%matplotlib notebook\n",
    "\n",
    "# valid code 2021.05.19\n",
    "\n",
    "import math\n",
    "\n",
    "import geometrik.threed as g3d\n",
    "\n",
    "from goto.globe.blip import Blip\n",
    "from goto.globe.lineto import LineTo\n",
    "from goto.globe.plot import GlobePlotMpl\n",
    "\n",
    "BOD = Blip(44.828333, -0.715556).as_vector\n",
    "CMB = Blip(7.181111, 79.883611).as_vector\n",
    "MXP = Blip(45.63, 8.723056).as_vector\n",
    "MRS = Blip(43.436667, 5.215).as_vector\n",
    "LHR = Blip(51.4775, -0.461389).as_vector\n",
    "LIS = Blip(38.774167, -9.134167).as_vector\n",
    "RKV = Blip(64.13, -21.940556).as_vector\n",
    "SYD = Blip(-33.946111, 151.177222).as_vector\n",
    "PRY = Blip(-25.653611, 28.224167).as_vector\n",
    "SVO = Blip(55.972778, 37.414722).as_vector\n",
    "SIN = Blip(1.359167, 103.989444).as_vector\n",
    "\n",
    "A, B, C, D = PRY, LIS, MXP, CMB\n",
    "#A, B, C, D = CMB, MXP, LIS, PRY"
   ]
  },
  {
   "cell_type": "code",
   "execution_count": null,
   "metadata": {},
   "outputs": [],
   "source": [
    "line_BC = LineTo(B, C)"
   ]
  },
  {
   "cell_type": "code",
   "execution_count": null,
   "metadata": {},
   "outputs": [],
   "source": [
    "with GlobePlotMpl() as u :\n",
    "    u.add_point(A, 'A', 'b')\n",
    "    u.add_point(B, 'B', 'b')\n",
    "    u.add_point(C, 'C', 'b')\n",
    "    u.add_point(D, 'D', 'b')\n",
    "    u.add_line(A, B, 'orange')\n",
    "    u.add_line(B, C, 'orange')\n",
    "    u.add_line(C, D, 'orange')"
   ]
  },
  {
   "cell_type": "code",
   "execution_count": null,
   "metadata": {},
   "outputs": [],
   "source": [
    "ABy = (A @ B).normalized()\n",
    "BCy = (B @ C).normalized()\n",
    "CDy = (C @ D).normalized()\n",
    "ABCy = - (ABy + BCy).normalized()\n",
    "BCDy = - (BCy + CDy).normalized()\n",
    "\n",
    "ABCz = B @ ABCy\n",
    "BCDz = C @ BCDy\n",
    "\n",
    "V = - (ABCz @ BCDz).normalized()"
   ]
  },
  {
   "cell_type": "code",
   "execution_count": null,
   "metadata": {},
   "outputs": [],
   "source": [
    "Ix, Iy, Iz = line_BC.projection(V)\n",
    "Ix"
   ]
  },
  {
   "cell_type": "code",
   "execution_count": null,
   "metadata": {},
   "outputs": [],
   "source": [
    "with GlobePlotMpl() as u :\n",
    "    u.add_point(A, 'A', 'b')\n",
    "    u.add_point(B, 'B', 'b')\n",
    "    u.add_point(C, 'C', 'b')\n",
    "    u.add_point(D, 'D', 'b')\n",
    "    u.add_line(A, B, 'orange')\n",
    "    u.add_line(B, C, 'orange')\n",
    "    u.add_line(C, D, 'orange')\n",
    "    u.add_point(ABy, 'ABy', 'r')\n",
    "    u.add_point(BCy, 'BCy', 'r')\n",
    "    u.add_point(CDy, 'CDy', 'r')\n",
    "    u.add_point(ABCy, 'ABCy', 'magenta')\n",
    "    u.add_point(BCDy, 'BCDy', 'magenta')\n",
    "    u.add_point(ABCz, 'ABCz', 'green')\n",
    "    u.add_point(BCDz, 'BCDz', 'green')\n",
    "    u.add_point(V, 'V', 'cyan')\n",
    "    u.add_point(Ix, 'Ix', 'cyan')\n",
    "    u.add_circle(V, Ix, 'cyan')"
   ]
  },
  {
   "cell_type": "code",
   "execution_count": null,
   "metadata": {},
   "outputs": [],
   "source": []
  },
  {
   "cell_type": "code",
   "execution_count": null,
   "metadata": {},
   "outputs": [],
   "source": []
  },
  {
   "cell_type": "code",
   "execution_count": null,
   "metadata": {},
   "outputs": [],
   "source": []
  }
 ],
 "metadata": {
  "kernelspec": {
   "display_name": "Python 3",
   "language": "python",
   "name": "python3"
  },
  "language_info": {
   "codemirror_mode": {
    "name": "ipython",
    "version": 3
   },
   "file_extension": ".py",
   "mimetype": "text/x-python",
   "name": "python",
   "nbconvert_exporter": "python",
   "pygments_lexer": "ipython3",
   "version": "3.8.10"
  }
 },
 "nbformat": 4,
 "nbformat_minor": 4
}
