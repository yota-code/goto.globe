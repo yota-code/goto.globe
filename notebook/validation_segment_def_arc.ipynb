{
 "cells": [
  {
   "cell_type": "code",
   "execution_count": null,
   "metadata": {},
   "outputs": [],
   "source": [
    "%matplotlib notebook\n",
    "\n",
    "import math\n",
    "import numpy as np\n",
    "import matplotlib.pyplot as plt\n",
    "import sympy\n",
    "\n",
    "import geometrik.threed as g3d\n",
    "\n",
    "import goto.globe\n",
    "from goto.globe.blip import Blip\n",
    "from goto.globe.plot import GlobePlotMpl"
   ]
  },
  {
   "cell_type": "code",
   "execution_count": null,
   "metadata": {},
   "outputs": [],
   "source": [
    "BOD = Blip(44.828333, -0.715556).as_vector\n",
    "MXP = Blip(45.63, 8.723056).as_vector\n",
    "MRS = Blip(43.436667, 5.215).as_vector\n",
    "LHR = Blip(51.4775, -0.461389).as_vector\n",
    "LIS = Blip(38.774167, -9.134167).as_vector\n",
    "RKV = Blip(64.13, -21.940556).as_vector\n",
    "SYD = Blip(-33.946111, 151.177222).as_vector\n",
    "PRY = Blip(-25.653611, 28.224167).as_vector\n",
    "SVO = Blip(55.972778, 37.414722).as_vector\n",
    "SIN = Blip(1.359167, 103.989444).as_vector"
   ]
  },
  {
   "cell_type": "code",
   "execution_count": null,
   "metadata": {},
   "outputs": [],
   "source": [
    "def wsk_arc_radius_to_aperture(Ax, Bx, r) :\n",
    "    a_mini = Ax.angle_to(Bx) / 2.0\n",
    "    print(\"a_mini = \", a_mini)\n",
    "    a_maxi = math.pi / 2.0\n",
    "    print(\"a_maxi = \", a_maxi)\n",
    "    a_abs = abs(r / goto.globe.earth_radius)\n",
    "    print(\"a_abs = \", a_abs)\n",
    "    a_bounded = max(a_mini, min(a_abs, a_maxi))\n",
    "    print(\"a_bounded = \", a_bounded)\n",
    "\n",
    "    return math.copysign(a_bounded, r)\n",
    "\n",
    "def wsk_arc_def(Ax, Bx, radius, is_large_arc=False) :\n",
    "    w = math.copysign(1.0, radius)\n",
    "    k = -1.0 if is_large_arc else 1.0\n",
    "\n",
    "    aperture = wsk_arc_radius_to_aperture(Ax, Bx, radius)\n",
    "    print(\"aperture =\", aperture)\n",
    "    \n",
    "    Qx = (Ax + Bx).normalized()\n",
    "    Qy = (Bx @ Ax).normalized()\n",
    "    Qz = Qx @ Qy\n",
    "    \n",
    "    deflection = w * k * math.acos(min((math.cos(aperture) / (Ax * Qx)), math.pi / 2.0))\n",
    "    print(\"deflection =\", deflection)\n",
    "    \n",
    "    Cx = g3d.Vector.compose(Qx, Qy, deflection)\n",
    "    Cz = Qz\n",
    "    Cy = w * Cx @ Cz\n",
    "\n",
    "    Az = w * (Ax @ Cx).normalized()\n",
    "    Ay = w * (Cx @ Az)\n",
    "\n",
    "    Bz = w * (Bx @ Cx).normalized()\n",
    "    By = w * (Cx @ Bz)\n",
    "    \n",
    "    with GlobePlotMpl() as plt :\n",
    "        plt.add_point(Ax, \"Ax\", \"orange\")\n",
    "        plt.add_point(Bx, \"Bx\", \"cyan\")\n",
    "        plt.add_point(Qx, \"Qx\", \"r\")\n",
    "        plt.add_point(Qy, \"Qy\", \"g\")\n",
    "        plt.add_point(Qz, \"Qz\", \"b\")\n",
    "        plt.add_point(Cx, \"Cx\", \"magenta\")\n",
    "        plt.add_point(Cy, \"Cy\", \"purple\")\n",
    "        plt.add_point(Cz, \"Cz\", \"k\")\n",
    "        plt.add_signed_arc(Ax, Bx, Cx, w)\n",
    "        \n",
    "    return Cx, Qz\n"
   ]
  },
  {
   "cell_type": "code",
   "execution_count": null,
   "metadata": {},
   "outputs": [],
   "source": [
    "Ax, Bx = LIS, SVO\n",
    "\n",
    "Ax = Blip(0.0, 0.0).as_vector\n",
    "Bx = Blip(45.0, 0.0).as_vector\n",
    "radius = 3000000.0\n",
    "\n",
    "Ax = Blip(0.0, 0.0).as_vector\n",
    "Bx = Blip(45.0, 45.0).as_vector\n",
    "Cw = Blip(0.0, 45.0).as_vector"
   ]
  },
  {
   "cell_type": "code",
   "execution_count": null,
   "metadata": {},
   "outputs": [],
   "source": [
    "aperture = Ax.angle_to(Cw)\n",
    "radius = aperture * goto.globe.earth_radius\n",
    "\n",
    "with GlobePlotMpl() as plt :\n",
    "    plt.add_point(Ax, 'Ax')\n",
    "    plt.add_point(Bx, 'Bx')\n",
    "    plt.add_point(Cw, 'Cw')\n",
    "    plt.add_circle(Cw, Ax)\n",
    "    plt.add_circle(Cw, aperture)\n",
    "    \n",
    "radius"
   ]
  },
  {
   "cell_type": "code",
   "execution_count": null,
   "metadata": {},
   "outputs": [],
   "source": [
    "Ax = Blip(0.013704756572792697, 0.0).as_vector\n",
    "Bx = Blip(0.020000000646338355, 0.006295243810737046).as_vector\n",
    "radius = 700.0"
   ]
  },
  {
   "cell_type": "code",
   "execution_count": null,
   "metadata": {},
   "outputs": [],
   "source": [
    "Cx, Qz = wsk_arc_def(Ax, Bx, radius)\n",
    "\n",
    "print(Cx.angle_to(Ax) * goto.globe.earth_radius)\n",
    "print(Cx.angle_to(Bx) * goto.globe.earth_radius)\n",
    "\n",
    "print(Blip.from_vector(Cx))\n",
    "print(Qz)"
   ]
  },
  {
   "cell_type": "code",
   "execution_count": null,
   "metadata": {},
   "outputs": [],
   "source": [
    "Cx, Qz = wsk_arc_def(Ax, Bx, -radius)\n",
    "\n",
    "print(Blip.from_vector(Cx))\n",
    "print(Qz)"
   ]
  },
  {
   "cell_type": "code",
   "execution_count": null,
   "metadata": {},
   "outputs": [],
   "source": [
    "Cx, Qz = wsk_arc_def(Ax, Bx, radius, True)\n",
    "print(Cx)\n",
    "print(Qz)"
   ]
  },
  {
   "cell_type": "code",
   "execution_count": null,
   "metadata": {},
   "outputs": [],
   "source": [
    "wsk_arc_def(Ax, Bx, -2500000.0, True)"
   ]
  },
  {
   "cell_type": "code",
   "execution_count": null,
   "metadata": {},
   "outputs": [],
   "source": [
    "radius_mini = Ax.angle_to(Bx) * goto.globe.earth_radius / 2\n",
    "radius_maxi = goto.globe.earth_radius\n",
    "radius_bounded = math.copysign(max(radius_mini, min(abs(radius), radius_maxi)), radius)\n",
    "radius_mini, radius_bounded, radius_maxi"
   ]
  },
  {
   "cell_type": "code",
   "execution_count": null,
   "metadata": {},
   "outputs": [],
   "source": [
    "Qx = (Ax + Bx).normalized()\n",
    "Qy = (Bx @ Ax).normalized()"
   ]
  },
  {
   "cell_type": "code",
   "execution_count": null,
   "metadata": {},
   "outputs": [],
   "source": [
    "goto.globe.earth_radius * 1e-17"
   ]
  },
  {
   "cell_type": "code",
   "execution_count": null,
   "metadata": {},
   "outputs": [],
   "source": [
    "with GlobePlotMpl() as plt :\n",
    "    plt.add_point(Ax, \"Ax\")\n",
    "    plt.add_point(Bx, \"Bx\")\n",
    "    plt.add_point(Qx, \"Qx\", \"cyan\")\n",
    "    plt.add_point(Qy, \"Qy\", \"magenta\")"
   ]
  },
  {
   "cell_type": "code",
   "execution_count": null,
   "metadata": {},
   "outputs": [],
   "source": []
  },
  {
   "cell_type": "code",
   "execution_count": null,
   "metadata": {},
   "outputs": [],
   "source": []
  }
 ],
 "metadata": {
  "kernelspec": {
   "display_name": "Python 3",
   "language": "python",
   "name": "python3"
  },
  "language_info": {
   "codemirror_mode": {
    "name": "ipython",
    "version": 3
   },
   "file_extension": ".py",
   "mimetype": "text/x-python",
   "name": "python",
   "nbconvert_exporter": "python",
   "pygments_lexer": "ipython3",
   "version": "3.8.10"
  }
 },
 "nbformat": 4,
 "nbformat_minor": 4
}
