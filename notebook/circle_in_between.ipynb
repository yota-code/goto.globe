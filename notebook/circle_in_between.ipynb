{
 "cells": [
  {
   "cell_type": "code",
   "execution_count": 14,
   "metadata": {},
   "outputs": [],
   "source": [
    "%matplotlib notebook\n",
    "\n",
    "import math\n",
    "import numpy as np\n",
    "import matplotlib.pyplot as plt\n",
    "import sympy\n",
    "\n",
    "import geometrik.threed as g3d\n",
    "\n",
    "from goto.globe.plot import GlobePlotMpl"
   ]
  },
  {
   "cell_type": "markdown",
   "metadata": {},
   "source": [
    "soit deux points A et B et un rayon R, si la distance entre les deux points et comprise entre 1 et 2 fois R alors on peut trouver 2 cercles tangents aux cercles de rayon R et de centre A et B."
   ]
  },
  {
   "cell_type": "code",
   "execution_count": 23,
   "metadata": {},
   "outputs": [],
   "source": [
    "A = g3d.Vector.symbolic('A')\n",
    "B = g3d.Vector.symbolic('B')\n",
    "R = sympy.symbols('R')"
   ]
  },
  {
   "cell_type": "code",
   "execution_count": 16,
   "metadata": {},
   "outputs": [],
   "source": [
    "Cx = (A + B).normalized()\n",
    "Cy = (A @ B).normalized()"
   ]
  },
  {
   "cell_type": "code",
   "execution_count": 17,
   "metadata": {},
   "outputs": [],
   "source": [
    "m = sympy.symbols('m')"
   ]
  },
  {
   "cell_type": "code",
   "execution_count": 20,
   "metadata": {},
   "outputs": [
    {
     "data": {
      "text/plain": [
       "Vector(\\frac{\\left(A_{x} + B_{x}\\right) \\cos{\\left(m \\right)}}{\\sqrt{\\left(A_{x} + B_{x}\\right)^{2} + \\left(A_{y} + B_{y}\\right)^{2} + \\left(A_{z} + B_{z}\\right)^{2}}} + \\frac{\\left(A_{y} B_{z} - A_{z} B_{y}\\right) \\sin{\\left(m \\right)}}{\\sqrt{\\left(A_{x} B_{y} - A_{y} B_{x}\\right)^{2} + \\left(- A_{x} B_{z} + A_{z} B_{x}\\right)^{2} + \\left(A_{y} B_{z} - A_{z} B_{y}\\right)^{2}}}, \\frac{\\left(A_{y} + B_{y}\\right) \\cos{\\left(m \\right)}}{\\sqrt{\\left(A_{x} + B_{x}\\right)^{2} + \\left(A_{y} + B_{y}\\right)^{2} + \\left(A_{z} + B_{z}\\right)^{2}}} + \\frac{\\left(- A_{x} B_{z} + A_{z} B_{x}\\right) \\sin{\\left(m \\right)}}{\\sqrt{\\left(A_{x} B_{y} - A_{y} B_{x}\\right)^{2} + \\left(- A_{x} B_{z} + A_{z} B_{x}\\right)^{2} + \\left(A_{y} B_{z} - A_{z} B_{y}\\right)^{2}}}, \\frac{\\left(A_{z} + B_{z}\\right) \\cos{\\left(m \\right)}}{\\sqrt{\\left(A_{x} + B_{x}\\right)^{2} + \\left(A_{y} + B_{y}\\right)^{2} + \\left(A_{z} + B_{z}\\right)^{2}}} + \\frac{\\left(A_{x} B_{y} - A_{y} B_{x}\\right) \\sin{\\left(m \\right)}}{\\sqrt{\\left(A_{x} B_{y} - A_{y} B_{x}\\right)^{2} + \\left(- A_{x} B_{z} + A_{z} B_{x}\\right)^{2} + \\left(A_{y} B_{z} - A_{z} B_{y}\\right)^{2}}})"
      ]
     },
     "execution_count": 20,
     "metadata": {},
     "output_type": "execute_result"
    }
   ],
   "source": [
    "C = Cx * sympy.cos(m) + Cy * sympy.sin(m)"
   ]
  },
  {
   "cell_type": "code",
   "execution_count": 25,
   "metadata": {},
   "outputs": [],
   "source": [
    "equ = C.angle_to(A).simplify()"
   ]
  },
  {
   "cell_type": "code",
   "execution_count": 26,
   "metadata": {},
   "outputs": [
    {
     "data": {
      "text/plain": [
       "[-acos(sqrt(A_x**2 + A_y**2 + A_z**2)*sqrt(A_x**2 + 2*A_x*B_x + A_y**2 + 2*A_y*B_y + A_z**2 + 2*A_z*B_z + B_x**2 + B_y**2 + B_z**2)*cos(2*R)/(A_x**2 + A_x*B_x + A_y**2 + A_y*B_y + A_z**2 + A_z*B_z)) + 2*pi,\n",
       " acos(sqrt(A_x**2 + A_y**2 + A_z**2)*sqrt(A_x**2 + 2*A_x*B_x + A_y**2 + 2*A_y*B_y + A_z**2 + 2*A_z*B_z + B_x**2 + B_y**2 + B_z**2)*cos(2*R)/(A_x**2 + A_x*B_x + A_y**2 + A_y*B_y + A_z**2 + A_z*B_z))]"
      ]
     },
     "execution_count": 26,
     "metadata": {},
     "output_type": "execute_result"
    }
   ],
   "source": [
    "sol = sympy.solve(equ - 2*R, m)\n",
    "sol"
   ]
  },
  {
   "cell_type": "code",
   "execution_count": 27,
   "metadata": {},
   "outputs": [
    {
     "data": {
      "text/latex": [
       "$\\displaystyle - \\operatorname{acos}{\\left(\\frac{\\sqrt{A_{x}^{2} + A_{y}^{2} + A_{z}^{2}} \\sqrt{A_{x}^{2} + 2 A_{x} B_{x} + A_{y}^{2} + 2 A_{y} B_{y} + A_{z}^{2} + 2 A_{z} B_{z} + B_{x}^{2} + B_{y}^{2} + B_{z}^{2}} \\cos{\\left(2 R \\right)}}{A_{x}^{2} + A_{x} B_{x} + A_{y}^{2} + A_{y} B_{y} + A_{z}^{2} + A_{z} B_{z}} \\right)} + 2 \\pi$"
      ],
      "text/plain": [
       "-acos(sqrt(A_x**2 + A_y**2 + A_z**2)*sqrt(A_x**2 + 2*A_x*B_x + A_y**2 + 2*A_y*B_y + A_z**2 + 2*A_z*B_z + B_x**2 + B_y**2 + B_z**2)*cos(2*R)/(A_x**2 + A_x*B_x + A_y**2 + A_y*B_y + A_z**2 + A_z*B_z)) + 2*pi"
      ]
     },
     "execution_count": 27,
     "metadata": {},
     "output_type": "execute_result"
    }
   ],
   "source": [
    "sol[0]"
   ]
  },
  {
   "cell_type": "code",
   "execution_count": 28,
   "metadata": {},
   "outputs": [
    {
     "data": {
      "text/latex": [
       "$\\displaystyle \\operatorname{acos}{\\left(\\frac{\\sqrt{A_{x}^{2} + A_{y}^{2} + A_{z}^{2}} \\sqrt{A_{x}^{2} + 2 A_{x} B_{x} + A_{y}^{2} + 2 A_{y} B_{y} + A_{z}^{2} + 2 A_{z} B_{z} + B_{x}^{2} + B_{y}^{2} + B_{z}^{2}} \\cos{\\left(2 R \\right)}}{A_{x}^{2} + A_{x} B_{x} + A_{y}^{2} + A_{y} B_{y} + A_{z}^{2} + A_{z} B_{z}} \\right)}$"
      ],
      "text/plain": [
       "acos(sqrt(A_x**2 + A_y**2 + A_z**2)*sqrt(A_x**2 + 2*A_x*B_x + A_y**2 + 2*A_y*B_y + A_z**2 + 2*A_z*B_z + B_x**2 + B_y**2 + B_z**2)*cos(2*R)/(A_x**2 + A_x*B_x + A_y**2 + A_y*B_y + A_z**2 + A_z*B_z))"
      ]
     },
     "execution_count": 28,
     "metadata": {},
     "output_type": "execute_result"
    }
   ],
   "source": [
    "sol[1]"
   ]
  },
  {
   "cell_type": "code",
   "execution_count": null,
   "metadata": {},
   "outputs": [],
   "source": []
  }
 ],
 "metadata": {
  "kernelspec": {
   "display_name": "Python 3",
   "language": "python",
   "name": "python3"
  },
  "language_info": {
   "codemirror_mode": {
    "name": "ipython",
    "version": 3
   },
   "file_extension": ".py",
   "mimetype": "text/x-python",
   "name": "python",
   "nbconvert_exporter": "python",
   "pygments_lexer": "ipython3",
   "version": "3.8.10"
  }
 },
 "nbformat": 4,
 "nbformat_minor": 4
}
