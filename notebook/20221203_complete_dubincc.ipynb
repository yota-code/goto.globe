{
 "cells": [
  {
   "cell_type": "markdown",
   "id": "5fd1bc06",
   "metadata": {},
   "source": [
    "Le Dubincc est calculé à partir d'un point, une orientation et un rayon de départ et d'arrivée"
   ]
  },
  {
   "cell_type": "code",
   "execution_count": null,
   "id": "668bf977",
   "metadata": {},
   "outputs": [],
   "source": [
    "%matplotlib notebook\n",
    "\n",
    "import math\n",
    "import sympy\n",
    "\n",
    "import geometrik.threed as g3d\n",
    "import goto.globe\n",
    "\n",
    "\n",
    "from goto.globe.plot import GlobePlotMpl"
   ]
  },
  {
   "cell_type": "code",
   "execution_count": null,
   "id": "3e03ba72",
   "metadata": {},
   "outputs": [],
   "source": [
    "A_lat, A_lon, A_hdg, A_rad, Aw = 0.0, -10.0, math.radians(45.0), 2000000 / goto.globe.earth_radius, 1\n",
    "B_lat, B_lon, B_hdg, B_rad, Bw = 20.0, 30.0, math.radians(60.0), 1500000 / goto.globe.earth_radius, -1"
   ]
  },
  {
   "cell_type": "code",
   "execution_count": null,
   "id": "99e21a7a",
   "metadata": {},
   "outputs": [],
   "source": [
    "A = goto.globe.Blip(A_lat, A_lon).as_vector # initial position\n",
    "A_x, A_y = A.oriented_frame(A_hdg)\n",
    "A_right = A.deflect(A_y, A_rad)\n",
    "A_left = A.deflect(A_y, -A_rad)\n",
    "C = A_right if Aw > 0 else A_left # center of the initial circle"
   ]
  },
  {
   "cell_type": "code",
   "execution_count": null,
   "id": "936cf15e",
   "metadata": {},
   "outputs": [],
   "source": [
    "# C_x, C_y form a frame in which the projection of A is at angle 0 and\n",
    "# any other projection has an angle in [0;360], increasing in the way of rotation\n",
    "C_y = Aw * (A @ C).normalized()\n",
    "C_x = A @ C_y"
   ]
  },
  {
   "cell_type": "code",
   "execution_count": null,
   "id": "13ff3a0b",
   "metadata": {},
   "outputs": [],
   "source": [
    "B = goto.globe.Blip(B_lat, B_lon).as_vector # final position\n",
    "B_x, B_y = B.oriented_frame(B_hdg)\n",
    "B_right = B.deflect(B_y, B_rad)\n",
    "B_left = B.deflect(B_y, -B_rad)\n",
    "D = B_right if Bw > 0 else B_left # center of the final circle"
   ]
  },
  {
   "cell_type": "code",
   "execution_count": null,
   "id": "043caa7e",
   "metadata": {},
   "outputs": [],
   "source": [
    "D_y = Bw * (B @ D).normalized()\n",
    "D_x = -B @ D_y"
   ]
  },
  {
   "cell_type": "code",
   "execution_count": null,
   "id": "45d398e3",
   "metadata": {},
   "outputs": [],
   "source": [
    "CD_dist = C.angle_to(D)\n",
    "CD_dist"
   ]
  },
  {
   "cell_type": "code",
   "execution_count": null,
   "id": "e6052ebf",
   "metadata": {},
   "outputs": [],
   "source": [
    "# N_z is a vector perpendicular to the line which passes through both centers\n",
    "N_z = (C @ D).normalized()\n",
    "N_x = C\n",
    "N_y = N_z @ N_x"
   ]
  },
  {
   "cell_type": "code",
   "execution_count": null,
   "id": "52a61ae8",
   "metadata": {},
   "outputs": [],
   "source": [
    "theta_1 = math.asin(\n",
    "    (math.sin(A_rad)/math.sin(CD_dist) - math.sin(B_rad)/math.tan(CD_dist)) /\n",
    "    math.sqrt(\n",
    "        (-math.sin(A_rad) + math.sin(B_rad)*math.cos(CD_dist))**2 /\n",
    "        (math.sin(A_rad)**2 - 2*math.sin(A_rad)*math.sin(B_rad)*math.cos(CD_dist) + math.sin(B_rad)**2)\n",
    "    )\n",
    ")\n"
   ]
  },
  {
   "cell_type": "code",
   "execution_count": null,
   "id": "8e127b91",
   "metadata": {},
   "outputs": [],
   "source": [
    "theta_2 = math.asin(\n",
    "    (math.sin(A_rad)/math.sin(CD_dist) + math.sin(B_rad)/math.tan(CD_dist)) / \n",
    "    math.sqrt(\n",
    "        (math.sin(A_rad) + math.sin(B_rad)*math.cos(CD_dist))**2 /\n",
    "        (math.sin(A_rad)**2 + 2*math.sin(A_rad)*math.sin(B_rad)*math.cos(CD_dist) + math.sin(B_rad)**2)\n",
    "    )\n",
    ")\n"
   ]
  },
  {
   "cell_type": "code",
   "execution_count": null,
   "id": "9acb8402",
   "metadata": {},
   "outputs": [],
   "source": [
    "A_psi = math.asin(math.sin(A_rad) / math.sin(theta_1))\n",
    "M_x = N_x.deflect(N_y, A_psi)\n",
    "M_z = N_z.deflect(-M_x, theta_1)"
   ]
  },
  {
   "cell_type": "code",
   "execution_count": null,
   "id": "22210e29",
   "metadata": {},
   "outputs": [],
   "source": [
    "with GlobePlotMpl() as gpl :\n",
    "    gpl.add_point(A, 'A', 'r')\n",
    "    #gpl.add_point(A_y, 'Ay', 'r')\n",
    "    gpl.add_point(B, 'B', 'b')\n",
    "    #gpl.add_point(B_y, 'By', 'b')\n",
    "    gpl.add_line(C, D, 'g')\n",
    "    gpl.add_point(C_x, 'Cx', 'orange')\n",
    "    gpl.add_point(C_y, 'Cy', 'orange')\n",
    "    gpl.add_point(D_x, 'Dx', 'purple')\n",
    "    gpl.add_point(D_y, 'Dy', 'purple')\n",
    "\n",
    "    #gpl.add_point(Ny.subs(m_val), 'Ny', 'g')\n",
    "    #gpl.add_point(Nz.subs(m_val), 'Nz', 'b')\n",
    "    #gpl.add_great_circle(Nz.subs(m_val), 'k')\n",
    "    if Aw > 0 :\n",
    "        gpl.add_circle(A_right, A_rad, 'orange')\n",
    "    else :\n",
    "        gpl.add_circle(A_left, A_rad, 'orange')\n",
    "    if Bw > 0 :\n",
    "        gpl.add_circle(B_right, B_rad, 'purple')\n",
    "    else :\n",
    "        gpl.add_circle(B_left, B_rad, 'purple')\n",
    "\n",
    "    gpl.add_great_circle(M_z, 'red')\n",
    "    gpl.add_point(N_x, 'Nx', 'red')\n",
    "    gpl.add_point(N_z, 'Nz', 'red')\n",
    "    gpl.add_point(M_x, 'Mx', 'cyan')\n",
    "    gpl.add_point(M_z, 'Mz', 'cyan')   "
   ]
  },
  {
   "cell_type": "code",
   "execution_count": null,
   "id": "0eb0931c",
   "metadata": {},
   "outputs": [],
   "source": [
    "\n"
   ]
  },
  {
   "cell_type": "markdown",
   "id": "52cd4997",
   "metadata": {},
   "source": [
    "## return to horizontal"
   ]
  },
  {
   "cell_type": "code",
   "execution_count": null,
   "id": "4241d588",
   "metadata": {},
   "outputs": [],
   "source": [
    "theta, psi_a, psi_b, Ra, Rb, alpha = sympy.symbols('theta psi_a psi_b R_a R_b alpha')\n",
    "Pa, Pb = sympy.symbols('P_a P_b')"
   ]
  },
  {
   "cell_type": "code",
   "execution_count": null,
   "id": "ab687a11",
   "metadata": {},
   "outputs": [],
   "source": [
    "Nz = g3d.Vector(0, -sympy.sin(theta), sympy.cos(theta), is_symbolic=True)\n",
    "Ny = g3d.Vector(0, sympy.cos(theta), sympy.sin(theta), is_symbolic=True)\n",
    "Nx = g3d.Vector(1, 0, 0, is_symbolic=True)"
   ]
  },
  {
   "cell_type": "code",
   "execution_count": null,
   "id": "c5c05c95",
   "metadata": {},
   "outputs": [],
   "source": [
    "Ua = g3d.Vector(sympy.cos(psi_a), sympy.sin(psi_a), 0)\n",
    "Ub = g3d.Vector(sympy.cos(psi_b), sympy.sin(psi_b), 0)"
   ]
  },
  {
   "cell_type": "code",
   "execution_count": null,
   "id": "334937f9",
   "metadata": {},
   "outputs": [],
   "source": [
    "theta_1 = sympy.asin(\n",
    "    ((Pb**2*sympy.sin(alpha)**2 + Pa**2 - Pb**2) / (\n",
    "        sympy.sin(alpha)*(Pa + Pb*sympy.cos(alpha))* sympy.sqrt(\n",
    "            (Pa - Pb*sympy.cos(alpha))**2 /\n",
    "            (Pa**2 - 2*sympy.cos(alpha)*Pa*Pb + Pb**2)\n",
    "        )\n",
    "    )).simplify()\n",
    ").subs({'P_a': sympy.sin(Ra), 'P_b': sympy.sin(Rb)}).simplify()\n",
    "theta_1"
   ]
  },
  {
   "cell_type": "code",
   "execution_count": null,
   "id": "cf862312",
   "metadata": {},
   "outputs": [],
   "source": [
    "theta_2 = sympy.asin(\n",
    "    ((Pb**2*sympy.sin(alpha)**2 + Pa**2 - Pb**2) / (\n",
    "        sympy.sin(alpha)*(Pa - Pb*sympy.cos(alpha))* sympy.sqrt(\n",
    "            (Pa + Pb*sympy.cos(alpha))**2 /\n",
    "            (Pa**2 + 2*sympy.cos(alpha)*Pa*Pb + Pb**2)\n",
    "        )\n",
    "    )).simplify()\n",
    ").subs({'P_a': sympy.sin(Ra), 'P_b': sympy.sin(Rb)}).simplify()\n",
    "print(theta_2)"
   ]
  },
  {
   "cell_type": "code",
   "execution_count": null,
   "id": "60c21e94",
   "metadata": {},
   "outputs": [],
   "source": [
    "m_val = {'R_a': A_rad, 'R_b': B_rad, 'alpha': CD_dist}\n",
    "m_val"
   ]
  },
  {
   "cell_type": "code",
   "execution_count": null,
   "id": "b40a2f97",
   "metadata": {},
   "outputs": [],
   "source": [
    "m_val = {'R_a': 0.32, 'R_b': 0.23, 'alpha': 0.85}\n",
    "m_val"
   ]
  },
  {
   "cell_type": "code",
   "execution_count": null,
   "id": "4612f0ef",
   "metadata": {},
   "outputs": [],
   "source": [
    "with GlobePlotMpl() as gpl :\n",
    "    m_val['theta'] = float(- theta_1.subs(m_val))\n",
    "    gpl.add_point(Nx.subs(m_val), 'Nx', 'r')\n",
    "    gpl.add_point(Ny.subs(m_val), 'Ny', 'g')\n",
    "    gpl.add_point(Nz.subs(m_val), 'Nz', 'b')\n",
    "    gpl.add_great_circle(Nz.subs(m_val), 'cyan')\n",
    "    m_val['psi_a'] = float(sympy.asin(sympy.sin(Ra) / sympy.sin(theta)).subs(m_val))\n",
    "    m_val['psi_b'] = float(sympy.asin(sympy.sin(Rb) / sympy.sin(theta)).subs(m_val))\n",
    "    gpl.add_circle(Ua.subs(m_val), float(Ra.subs(m_val)), 'orange')\n",
    "    gpl.add_point(Ua.subs(m_val), 'Ua', 'orange')\n",
    "    gpl.add_point(Ub.subs(m_val), 'Ub', 'red')\n",
    "    gpl.add_circle(Ub.subs(m_val), float(Rb.subs(m_val)), 'red')\n",
    "    gpl.add_line(Ua.subs(m_val), Ub.subs(m_val), 'purple')"
   ]
  },
  {
   "cell_type": "code",
   "execution_count": null,
   "id": "b8cd92b8",
   "metadata": {},
   "outputs": [],
   "source": []
  }
 ],
 "metadata": {
  "kernelspec": {
   "display_name": "Python 3",
   "language": "python",
   "name": "python3"
  },
  "language_info": {
   "codemirror_mode": {
    "name": "ipython",
    "version": 3
   },
   "file_extension": ".py",
   "mimetype": "text/x-python",
   "name": "python",
   "nbconvert_exporter": "python",
   "pygments_lexer": "ipython3",
   "version": "3.8.10"
  }
 },
 "nbformat": 4,
 "nbformat_minor": 5
}
