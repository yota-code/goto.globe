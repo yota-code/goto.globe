{
 "cells": [
  {
   "cell_type": "code",
   "execution_count": 16,
   "metadata": {},
   "outputs": [],
   "source": [
    "import sympy\n"
   ]
  },
  {
   "cell_type": "code",
   "execution_count": 17,
   "metadata": {},
   "outputs": [],
   "source": [
    "ax, ay, az = sympy.symbols('A_x A_y A_z')\n",
    "bx, by, bz = sympy.symbols('B_x B_y B_z')\n",
    "cx, cy, cz = sympy.symbols('C_x C_y C_z')"
   ]
  },
  {
   "cell_type": "code",
   "execution_count": 18,
   "metadata": {},
   "outputs": [],
   "source": [
    "x = sympy.Eq(cx, ay*bz - az*by)\n",
    "y = sympy.Eq(cy, az*bx - ax*bz)\n",
    "z = sympy.Eq(cz, ax*by - ay*bx)\n",
    "n = sympy.Eq(ax**2 + ay**2 + az**2, 1)"
   ]
  },
  {
   "cell_type": "code",
   "execution_count": 19,
   "metadata": {},
   "outputs": [
    {
     "data": {
      "text/latex": [
       "$\\displaystyle - \\sqrt{- A_{y}^{2} - A_{z}^{2} + 1}$"
      ],
      "text/plain": [
       "-sqrt(-A_y**2 - A_z**2 + 1)"
      ]
     },
     "execution_count": 19,
     "metadata": {},
     "output_type": "execute_result"
    }
   ],
   "source": [
    "n_res = sympy.solve(n, ax)\n",
    "n_sol = {'A_x': n_res[0]}\n",
    "n_sol['A_x']"
   ]
  },
  {
   "cell_type": "code",
   "execution_count": 20,
   "metadata": {},
   "outputs": [
    {
     "data": {
      "text/latex": [
       "$\\displaystyle C_{z} = - A_{y} B_{x} - B_{y} \\sqrt{- A_{y}^{2} - A_{z}^{2} + 1}$"
      ],
      "text/plain": [
       "Eq(C_z, -A_y*B_x - B_y*sqrt(-A_y**2 - A_z**2 + 1))"
      ]
     },
     "execution_count": 20,
     "metadata": {},
     "output_type": "execute_result"
    }
   ],
   "source": [
    "z.subs(n_sol)"
   ]
  },
  {
   "cell_type": "code",
   "execution_count": 37,
   "metadata": {},
   "outputs": [
    {
     "data": {
      "text/latex": [
       "$\\displaystyle \\sqrt{- A_{y} + 1 - \\frac{\\left(A_{y} B_{x} + C_{z}\\right)^{2}}{B_{y}^{2}}}$"
      ],
      "text/plain": [
       "sqrt(-A_y + 1 - (A_y*B_x + C_z)**2/B_y**2)"
      ]
     },
     "execution_count": 37,
     "metadata": {},
     "output_type": "execute_result"
    }
   ],
   "source": [
    "z_sol = {'A_z': sympy.sqrt( 1 - ay - ((cz + ay*bx) / -by)**2 )}\n",
    "z_sol['A_z']"
   ]
  },
  {
   "cell_type": "code",
   "execution_count": 38,
   "metadata": {},
   "outputs": [],
   "source": [
    "x_res = sympy.solve( x.subs(n_sol).subs(z_sol), 'A_y')"
   ]
  },
  {
   "cell_type": "code",
   "execution_count": 39,
   "metadata": {},
   "outputs": [
    {
     "data": {
      "text/latex": [
       "$\\displaystyle \\frac{- B_{x} C_{z} - \\frac{B_{y}^{2}}{2} + B_{z} C_{x} - \\frac{\\sqrt{4 B_{x}^{2} B_{y}^{2} - 4 B_{x}^{2} C_{x}^{2} + 4 B_{x} B_{y}^{2} C_{z} - 8 B_{x} B_{z} C_{x} C_{z} + B_{y}^{4} + 4 B_{y}^{2} B_{z}^{2} - 4 B_{y}^{2} B_{z} C_{x} - 4 B_{z}^{2} C_{z}^{2}}}{2}}{B_{x}^{2} + B_{z}^{2}}$"
      ],
      "text/plain": [
       "(-B_x*C_z - B_y**2/2 + B_z*C_x - sqrt(4*B_x**2*B_y**2 - 4*B_x**2*C_x**2 + 4*B_x*B_y**2*C_z - 8*B_x*B_z*C_x*C_z + B_y**4 + 4*B_y**2*B_z**2 - 4*B_y**2*B_z*C_x - 4*B_z**2*C_z**2)/2)/(B_x**2 + B_z**2)"
      ]
     },
     "execution_count": 39,
     "metadata": {},
     "output_type": "execute_result"
    }
   ],
   "source": [
    "x_res[0]"
   ]
  },
  {
   "cell_type": "code",
   "execution_count": 40,
   "metadata": {},
   "outputs": [
    {
     "data": {
      "text/latex": [
       "$\\displaystyle \\frac{- B_{x} C_{z} - \\frac{B_{y}^{2}}{2} + B_{z} C_{x} + \\frac{\\sqrt{4 B_{x}^{2} B_{y}^{2} - 4 B_{x}^{2} C_{x}^{2} + 4 B_{x} B_{y}^{2} C_{z} - 8 B_{x} B_{z} C_{x} C_{z} + B_{y}^{4} + 4 B_{y}^{2} B_{z}^{2} - 4 B_{y}^{2} B_{z} C_{x} - 4 B_{z}^{2} C_{z}^{2}}}{2}}{B_{x}^{2} + B_{z}^{2}}$"
      ],
      "text/plain": [
       "(-B_x*C_z - B_y**2/2 + B_z*C_x + sqrt(4*B_x**2*B_y**2 - 4*B_x**2*C_x**2 + 4*B_x*B_y**2*C_z - 8*B_x*B_z*C_x*C_z + B_y**4 + 4*B_y**2*B_z**2 - 4*B_y**2*B_z*C_x - 4*B_z**2*C_z**2)/2)/(B_x**2 + B_z**2)"
      ]
     },
     "execution_count": 40,
     "metadata": {},
     "output_type": "execute_result"
    }
   ],
   "source": [
    "x_res[1]"
   ]
  },
  {
   "cell_type": "code",
   "execution_count": 41,
   "metadata": {},
   "outputs": [],
   "source": [
    "m = {'B_x': 0, 'B_y': sympy.sqrt(2)/2, 'B_z': sympy.sqrt(2)/2, 'C_x': 0, 'C_y': 0, 'C_z': 1}"
   ]
  },
  {
   "cell_type": "code",
   "execution_count": 42,
   "metadata": {},
   "outputs": [
    {
     "data": {
      "text/latex": [
       "$\\displaystyle - \\frac{1}{2} - \\frac{\\sqrt{3} i}{2}$"
      ],
      "text/plain": [
       "-1/2 - sqrt(3)*I/2"
      ]
     },
     "execution_count": 42,
     "metadata": {},
     "output_type": "execute_result"
    }
   ],
   "source": [
    "x_res[0].subs(m)"
   ]
  },
  {
   "cell_type": "code",
   "execution_count": null,
   "metadata": {},
   "outputs": [],
   "source": []
  }
 ],
 "metadata": {
  "kernelspec": {
   "display_name": "Python 3",
   "language": "python",
   "name": "python3"
  },
  "language_info": {
   "codemirror_mode": {
    "name": "ipython",
    "version": 3
   },
   "file_extension": ".py",
   "mimetype": "text/x-python",
   "name": "python",
   "nbconvert_exporter": "python",
   "pygments_lexer": "ipython3",
   "version": "3.8.5"
  }
 },
 "nbformat": 4,
 "nbformat_minor": 2
}
