{
 "cells": [
  {
   "cell_type": "code",
   "execution_count": null,
   "metadata": {},
   "outputs": [],
   "source": [
    "%matplotlib notebook\n",
    "\n",
    "import math\n",
    "import numpy as np\n",
    "import matplotlib.pyplot as plt\n",
    "import sympy\n",
    "\n",
    "import geometrik.threed as g3d\n",
    "\n",
    "import goto.globe\n",
    "from goto.globe.blip import Blip\n",
    "from goto.globe.plot import GlobePlotMpl"
   ]
  },
  {
   "cell_type": "code",
   "execution_count": null,
   "metadata": {},
   "outputs": [],
   "source": [
    "BOD = Blip(44.828333, -0.715556).as_vector\n",
    "MXP = Blip(45.63, 8.723056).as_vector\n",
    "MRS = Blip(43.436667, 5.215).as_vector\n",
    "LHR = Blip(51.4775, -0.461389).as_vector\n",
    "LIS = Blip(38.774167, -9.134167).as_vector\n",
    "RKV = Blip(64.13, -21.940556).as_vector\n",
    "SYD = Blip(-33.946111, 151.177222).as_vector\n",
    "PRY = Blip(-25.653611, 28.224167).as_vector\n",
    "SVO = Blip(55.972778, 37.414722).as_vector\n",
    "SIN = Blip(1.359167, 103.989444).as_vector"
   ]
  },
  {
   "cell_type": "code",
   "execution_count": null,
   "metadata": {},
   "outputs": [],
   "source": [
    "def wsk_line_def(Ax, Bx) :\n",
    "    Ay = (Bx @ Ax).normalized()\n",
    "    Az = Ax @ Ay\n",
    "    \n",
    "    with GlobePlotMpl() as plt :\n",
    "        plt.add_point(Ax, \"Ax\", \"r\")\n",
    "        plt.add_point(Ay, \"Ay\", \"g\")\n",
    "        plt.add_point(Az, \"Az\", \"b\")\n",
    "        plt.add_point(Bx, \"Bx\", \"magenta\")\n",
    "    \n",
    "    return Ay, Az"
   ]
  },
  {
   "cell_type": "markdown",
   "metadata": {},
   "source": [
    "## Standard case"
   ]
  },
  {
   "cell_type": "code",
   "execution_count": null,
   "metadata": {},
   "outputs": [],
   "source": [
    "Ax, Bx = LIS, SVO\n",
    "Ay, Az = wsk_line_def(Ax, Bx)"
   ]
  },
  {
   "cell_type": "markdown",
   "metadata": {},
   "source": [
    "## Colinear\n",
    "\n",
    "The two vectors can not be colinear. No protection has been implemented for the case where `Ax @ Bx == 0`. We could solve this either by :\n",
    "\n",
    "* finding an arbitrary vector perpendicular to Ax\n",
    "* or limit the angle between the two vectors"
   ]
  },
  {
   "cell_type": "code",
   "execution_count": null,
   "metadata": {},
   "outputs": [],
   "source": [
    "x = 0.0\n",
    "Ax, Bx = g3d.Vector(1.0, 0.0, 0.0), g3d.Vector(-1.0, 0.0, 0.0)\n",
    "\n",
    "Ay, Az = wsk_line_def(Ax, Bx)"
   ]
  },
  {
   "cell_type": "code",
   "execution_count": null,
   "metadata": {},
   "outputs": [],
   "source": []
  },
  {
   "cell_type": "code",
   "execution_count": null,
   "metadata": {},
   "outputs": [],
   "source": []
  },
  {
   "cell_type": "code",
   "execution_count": null,
   "metadata": {},
   "outputs": [],
   "source": []
  }
 ],
 "metadata": {
  "kernelspec": {
   "display_name": "Python 3",
   "language": "python",
   "name": "python3"
  },
  "language_info": {
   "codemirror_mode": {
    "name": "ipython",
    "version": 3
   },
   "file_extension": ".py",
   "mimetype": "text/x-python",
   "name": "python",
   "nbconvert_exporter": "python",
   "pygments_lexer": "ipython3",
   "version": "3.8.10"
  }
 },
 "nbformat": 4,
 "nbformat_minor": 4
}
