{
 "cells": [
  {
   "cell_type": "code",
   "execution_count": null,
   "metadata": {},
   "outputs": [],
   "source": [
    "%matplotlib notebook\n",
    "\n",
    "import math\n",
    "\n",
    "import geometrik.threed as g3d\n",
    "\n",
    "from goto.globe.blip import Blip\n",
    "from goto.globe.arc import ArcSegment\n",
    "\n",
    "from goto.globe.plot import GlobePlotMpl"
   ]
  },
  {
   "cell_type": "code",
   "execution_count": null,
   "metadata": {},
   "outputs": [],
   "source": [
    "BOD = Blip(44.828333, -0.715556).as_vector\n",
    "CMB = Blip(7.181111, 79.883611).as_vector\n",
    "MXP = Blip(45.63, 8.723056).as_vector\n",
    "MRS = Blip(43.436667, 5.215).as_vector\n",
    "LHR = Blip(51.4775, -0.461389).as_vector\n",
    "LIS = Blip(38.774167, -9.134167).as_vector\n",
    "RKV = Blip(64.13, -21.940556).as_vector\n",
    "SYD = Blip(-33.946111, 151.177222).as_vector\n",
    "PRY = Blip(-25.653611, 28.224167).as_vector\n",
    "SVO = Blip(55.972778, 37.414722).as_vector\n",
    "SIN = Blip(1.359167, 103.989444).as_vector\n",
    "DEL = Blip(28.568611, 77.112222).as_vector\n",
    "KBP = Blip(50.344722, 30.893333).as_vector\n",
    "ATH = Blip(37.936389, 23.947222).as_vector\n",
    "ESB = Blip(40.128056, 32.995).as_vector # Ankara\n",
    "BRU = Blip(50.901389, 4.484444).as_vector # Brussels\n",
    "\n",
    "PA = Blip(0.0, -90.0).as_vector\n",
    "PB = Blip(0.0, -35.0).as_vector\n",
    "PL = Blip(-15.0, -45.0).as_vector"
   ]
  },
  {
   "cell_type": "code",
   "execution_count": null,
   "metadata": {},
   "outputs": [],
   "source": [
    "A, M, B  = LIS, LHR, ATH\n",
    "X = BRU\n",
    "radius = -1e-9"
   ]
  },
  {
   "cell_type": "code",
   "execution_count": null,
   "metadata": {},
   "outputs": [],
   "source": [
    "PA = Blip(0.0, -90.0).as_vector\n",
    "PB = Blip(0.0, -35.0).as_vector\n",
    "MR = Blip(15.0, -45.0).as_vector\n",
    "arc_R = ArcSegment(PA, PB, 0.55)\n",
    "\n",
    "PR, tr, hr, dr = arc_R.status(MR)\n",
    "print(hr)"
   ]
  },
  {
   "cell_type": "code",
   "execution_count": null,
   "metadata": {},
   "outputs": [],
   "source": [
    "with GlobePlotMpl() as u :\n",
    "    u.add_point(PA, \"A\", 'purple')\n",
    "    u.add_point(PB, \"B\", 'purple')\n",
    "    u.add_point(MR, \"M\", 'yellow')\n",
    "    u.add_point(PR, \"P\", 'orange')\n",
    "    u.add_point(arc_R.Vx, \"Vx\", 'magenta')\n",
    "    u.add_point(arc_R.Vy, \"Vy\", 'cyan')\n",
    "    u.add_point(arc_R.Vz, \"Vz\", 'yellow')\n",
    "    u.add_point(arc_R.Ax, \"Ax\", 'r')\n",
    "    u.add_point(arc_R.Ay, \"Ay\", 'g')\n",
    "    u.add_point(arc_R.Az, \"Az\", 'b')\n",
    "    u.add_point(arc_R.Bx, \"Bx\", 'r')\n",
    "    u.add_point(arc_R.By, \"By\", 'g')\n",
    "    u.add_point(arc_R.Bz, \"Bz\", 'b')\n",
    "    u.add_point(arc_R.Ux, \"Ux\", 'r')\n",
    "    u.add_point(arc_R.Uy, \"Uy\", 'g')\n",
    "    u.add_point(arc_R.Uz, \"Uz\", 'b')\n",
    "\n",
    "    u.add_segment(arc_R)"
   ]
  },
  {
   "cell_type": "code",
   "execution_count": null,
   "metadata": {},
   "outputs": [],
   "source": [
    "arc_L = ArcSegment(PA, PB, -0.55)"
   ]
  },
  {
   "cell_type": "code",
   "execution_count": null,
   "metadata": {},
   "outputs": [],
   "source": [
    "with GlobePlotMpl() as u :\n",
    "    u.add_point(PA, \"A\", 'purple')\n",
    "    u.add_point(PB, \"B\", 'purple')\n",
    "    u.add_point(arc_L.Vx, \"Vx\", 'magenta')\n",
    "    u.add_point(arc_L.Vy, \"Vy\", 'cyan')\n",
    "    u.add_point(arc_L.Vz, \"Vz\", 'yellow')\n",
    "    u.add_point(arc_L.Ax, \"Ax\", 'r')\n",
    "    u.add_point(arc_L.Ay, \"Ay\", 'g')\n",
    "    u.add_point(arc_L.Az, \"Az\", 'b')\n",
    "    u.add_point(arc_L.Bx, \"Bx\", 'r')\n",
    "    u.add_point(arc_L.By, \"By\", 'g')\n",
    "    u.add_point(arc_L.Bz, \"Bz\", 'b')\n",
    "    u.add_segment(arc_L)"
   ]
  },
  {
   "cell_type": "code",
   "execution_count": null,
   "metadata": {},
   "outputs": [],
   "source": [
    "#arc_AB.A * arc_AB.I"
   ]
  },
  {
   "cell_type": "code",
   "execution_count": null,
   "metadata": {},
   "outputs": [],
   "source": [
    "#math.cos(arc_AB.radius)"
   ]
  },
  {
   "cell_type": "code",
   "execution_count": null,
   "metadata": {},
   "outputs": [],
   "source": [
    "#P, t, h, d = arc_AB.status(X)\n",
    "#t"
   ]
  },
  {
   "cell_type": "code",
   "execution_count": null,
   "metadata": {},
   "outputs": [],
   "source": [
    "if False :\n",
    "    with GlobePlotMpl() as u :\n",
    "        u.add_point(PA, \"A\", 'r')\n",
    "        u.add_point(PB, \"B\", 'g')\n",
    "        u.add_point(M, \"M\", 'b')\n",
    "        u.add_segment(arc_AB)\n",
    "        u.add_point(X, \"X\", 'purple')\n",
    "        u.add_point(arc_AB.Vx, \"Vx\", 'r')\n",
    "        u.add_point(arc_AB.Vy, \"Vy\", 'g')\n",
    "        u.add_point(arc_AB.Vz, \"Vz\", 'b')\n",
    "        u.add_point(P, \"P\", 'magenta')"
   ]
  },
  {
   "cell_type": "code",
   "execution_count": null,
   "metadata": {},
   "outputs": [],
   "source": [
    "#P, t, h, d = arcto_AB.status(M)\n",
    "\n",
    "#print(Blip.from_vector(P), t, h, d)"
   ]
  },
  {
   "cell_type": "code",
   "execution_count": null,
   "metadata": {},
   "outputs": [],
   "source": [
    "#print(\"t = \", t)"
   ]
  },
  {
   "cell_type": "code",
   "execution_count": null,
   "metadata": {},
   "outputs": [],
   "source": [
    "#print(\"t = \", d)"
   ]
  },
  {
   "cell_type": "code",
   "execution_count": null,
   "metadata": {},
   "outputs": [],
   "source": [
    "#with goto.globe.plot.GlobePlotMpl() as u :\n",
    "#    u.add_point(A, 'A', 'r')\n",
    "#    u.add_point(B, 'B', 'g')\n",
    "#    u.add_point(arcto_AB.C, 'C', 'b')\n",
    "#    u.add_point(M, 'M', 'magenta')\n",
    "#    u.add_point(P, 'P', 'cyan')\n",
    "#    u.add_arc_from_center(A, B, arcto_AB.C)"
   ]
  },
  {
   "cell_type": "code",
   "execution_count": null,
   "metadata": {},
   "outputs": [],
   "source": []
  },
  {
   "cell_type": "code",
   "execution_count": null,
   "metadata": {},
   "outputs": [],
   "source": []
  },
  {
   "cell_type": "code",
   "execution_count": null,
   "metadata": {},
   "outputs": [],
   "source": []
  }
 ],
 "metadata": {
  "kernelspec": {
   "display_name": "Python 3",
   "language": "python",
   "name": "python3"
  },
  "language_info": {
   "codemirror_mode": {
    "name": "ipython",
    "version": 3
   },
   "file_extension": ".py",
   "mimetype": "text/x-python",
   "name": "python",
   "nbconvert_exporter": "python",
   "pygments_lexer": "ipython3",
   "version": "3.8.10"
  }
 },
 "nbformat": 4,
 "nbformat_minor": 4
}
