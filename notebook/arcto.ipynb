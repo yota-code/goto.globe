{
 "cells": [
  {
   "cell_type": "code",
   "execution_count": null,
   "metadata": {},
   "outputs": [],
   "source": [
    "%matplotlib notebook\n",
    "\n",
    "import math\n",
    "\n",
    "from goto.globe.blip import Blip\n",
    "from goto.globe.arcto import ArcTo\n",
    "import goto.globe.plot\n",
    "\n",
    "import geometrik.threed as g3d"
   ]
  },
  {
   "cell_type": "code",
   "execution_count": null,
   "metadata": {},
   "outputs": [],
   "source": [
    "BOD = Blip(44.828333, -0.715556).as_vector\n",
    "CMB = Blip(7.181111, 79.883611).as_vector\n",
    "MXP = Blip(45.63, 8.723056).as_vector\n",
    "MRS = Blip(43.436667, 5.215).as_vector\n",
    "LHR = Blip(51.4775, -0.461389).as_vector\n",
    "LIS = Blip(38.774167, -9.134167).as_vector\n",
    "RKV = Blip(64.13, -21.940556).as_vector\n",
    "SYD = Blip(-33.946111, 151.177222).as_vector\n",
    "PRY = Blip(-25.653611, 28.224167).as_vector\n",
    "SVO = Blip(55.972778, 37.414722).as_vector\n",
    "SIN = Blip(1.359167, 103.989444).as_vector\n",
    "\n",
    "T01 = Blip(43.43164989819305, 5.222250835599687).as_vector\n",
    "T02 = Blip(43.43340699940287, 5.226983180928847).as_vector\n",
    "P00 = g3d.Vector(0.7231811761081918, 0.06609872014501735, 0.6874881422380776)\n",
    "\n",
    "A, B, M = LIS, SVO, Blip(32, -4).as_vector\n",
    "radius = -1e-9\n",
    "#A, B, M = T01, T02, P00"
   ]
  },
  {
   "cell_type": "code",
   "execution_count": null,
   "metadata": {},
   "outputs": [],
   "source": [
    "print(\"M=\", '\\t'.join(f\"{i:0.30f}\" for i in M))\n",
    "print(\"A=\", '\\t'.join(f\"{i:0.30f}\" for i in A))\n",
    "print(\"B=\", '\\t'.join(f\"{i:0.30f}\" for i in B))\n",
    "print(radius)"
   ]
  },
  {
   "cell_type": "code",
   "execution_count": null,
   "metadata": {},
   "outputs": [],
   "source": [
    "print(A @ B)\n",
    "print((A @ B).normalized())"
   ]
  },
  {
   "cell_type": "code",
   "execution_count": null,
   "metadata": {},
   "outputs": [],
   "source": [
    "arcto_AB = ArcTo(A, B, radius)"
   ]
  },
  {
   "cell_type": "code",
   "execution_count": null,
   "metadata": {},
   "outputs": [],
   "source": [
    "str(arcto_AB.C)"
   ]
  },
  {
   "cell_type": "code",
   "execution_count": null,
   "metadata": {},
   "outputs": [],
   "source": [
    "P, t, h, d = arcto_AB.status(M)\n",
    "\n",
    "print(Blip.from_vector(P), t, h, d)"
   ]
  },
  {
   "cell_type": "code",
   "execution_count": null,
   "metadata": {},
   "outputs": [],
   "source": [
    "print(\"t = \", t)"
   ]
  },
  {
   "cell_type": "code",
   "execution_count": null,
   "metadata": {},
   "outputs": [],
   "source": [
    "print(\"t = \", d)"
   ]
  },
  {
   "cell_type": "code",
   "execution_count": null,
   "metadata": {},
   "outputs": [],
   "source": [
    "with goto.globe.plot.GlobePlotMpl() as u :\n",
    "    u.add_point(A, 'A', 'r')\n",
    "    u.add_point(B, 'B', 'g')\n",
    "    u.add_point(arcto_AB.C, 'C', 'b')\n",
    "    u.add_point(M, 'M', 'magenta')\n",
    "    u.add_point(P, 'P', 'cyan')\n",
    "    u.add_arc_from_center(A, B, arcto_AB.C)"
   ]
  },
  {
   "cell_type": "code",
   "execution_count": null,
   "metadata": {},
   "outputs": [],
   "source": []
  },
  {
   "cell_type": "code",
   "execution_count": null,
   "metadata": {},
   "outputs": [],
   "source": []
  },
  {
   "cell_type": "code",
   "execution_count": null,
   "metadata": {},
   "outputs": [],
   "source": []
  }
 ],
 "metadata": {
  "kernelspec": {
   "display_name": "Python 3",
   "language": "python",
   "name": "python3"
  },
  "language_info": {
   "codemirror_mode": {
    "name": "ipython",
    "version": 3
   },
   "file_extension": ".py",
   "mimetype": "text/x-python",
   "name": "python",
   "nbconvert_exporter": "python",
   "pygments_lexer": "ipython3",
   "version": "3.8.5"
  }
 },
 "nbformat": 4,
 "nbformat_minor": 4
}
