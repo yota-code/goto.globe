{
 "cells": [
  {
   "cell_type": "code",
   "execution_count": null,
   "metadata": {},
   "outputs": [],
   "source": [
    "%matplotlib notebook\n",
    "\n",
    "import math\n",
    "import numpy as np\n",
    "import matplotlib.pyplot as plt\n",
    "import sympy\n",
    "\n",
    "import geometrik.threed as g3d\n",
    "\n",
    "from goto.globe.plot import GlobePlotMpl"
   ]
  },
  {
   "cell_type": "markdown",
   "metadata": {},
   "source": [
    "# Cas croisé\n",
    "\n",
    "## hypothèses\n",
    "\n",
    "On rappelle les definitions de :\n",
    "* $N_z$, le vecteur normal du plan equatorial incliné de $\\theta$ autour de $O_x$\n",
    "* $U_x$, le centre du cercle de centre R\n",
    "* $M_x$, la projection de $U_x$ sur le plan $N_z$\n",
    "\n",
    "## Calcul simple"
   ]
  },
  {
   "cell_type": "code",
   "execution_count": null,
   "metadata": {},
   "outputs": [],
   "source": [
    "theta, psi, alpha, R = sympy.symbols('theta psi alpha R')"
   ]
  },
  {
   "cell_type": "code",
   "execution_count": null,
   "metadata": {},
   "outputs": [],
   "source": [
    "Nz = g3d.Vector(0, -sympy.sin(theta), sympy.cos(theta))\n",
    "Ny = g3d.Vector(0, sympy.cos(theta), sympy.sin(theta))\n",
    "Nx = g3d.Vector(1, 0, 0)"
   ]
  },
  {
   "cell_type": "code",
   "execution_count": null,
   "metadata": {},
   "outputs": [],
   "source": [
    "Ux = g3d.Vector(sympy.cos(psi), sympy.sin(psi), 0)"
   ]
  },
  {
   "cell_type": "code",
   "execution_count": null,
   "metadata": {},
   "outputs": [],
   "source": [
    "Mx = Ux.project(Nz)"
   ]
  },
  {
   "cell_type": "code",
   "execution_count": null,
   "metadata": {},
   "outputs": [],
   "source": [
    "psi_equ = Ux.angle_to(Mx).simplify()\n",
    "psi_equ"
   ]
  },
  {
   "cell_type": "code",
   "execution_count": null,
   "metadata": {},
   "outputs": [],
   "source": [
    "psi_sol = sympy.solve(psi_equ - R, psi)\n",
    "psi_sol[3]"
   ]
  },
  {
   "cell_type": "markdown",
   "metadata": {},
   "source": [
    "La solution trouvée par sympy n'est pas optimale, on propose la nouvelle forme suivante :"
   ]
  },
  {
   "cell_type": "code",
   "execution_count": null,
   "metadata": {},
   "outputs": [],
   "source": [
    "psi_alt = sympy.asin(sympy.sin(R) / sympy.sin(theta)).simplify()\n",
    "psi_alt"
   ]
  },
  {
   "cell_type": "code",
   "execution_count": null,
   "metadata": {},
   "outputs": [],
   "source": [
    "m_val = {'theta': math.pi / 5, 'R': 0.3}\n",
    "m_val['psi'] = float(psi_alt.subs(m_val))\n",
    "\n",
    "r = Ux.angle_to(Mx)\n",
    "\n",
    "with GlobePlotMpl() as gpl :\n",
    "    gpl.add_point(Nx.subs(m_val), 'Nx', 'r')\n",
    "    gpl.add_point(Ny.subs(m_val), 'Ny', 'g')\n",
    "    gpl.add_point(Nz.subs(m_val), 'Nz', 'b')\n",
    "    gpl.add_great_circle(Nz.subs(m_val), 'k')\n",
    "    gpl.add_circle(Ux.subs(m_val), float(r.subs(m_val)), 'orange')\n",
    "    gpl.add_point(Ux.subs(m_val), 'Ux', 'yellow')\n",
    "    gpl.add_point(Mx.subs(m_val), 'Mx', 'purple')"
   ]
  },
  {
   "cell_type": "markdown",
   "metadata": {},
   "source": [
    "## Calcul complet\n",
    "\n",
    "Les points $A$ et $B$ sont séparés d'un angle $\\alpha$ donné. On cherche $\\theta$ mais également $\\psi_a$ et $\\psi_b$, leur position respective."
   ]
  },
  {
   "cell_type": "code",
   "execution_count": null,
   "metadata": {},
   "outputs": [],
   "source": [
    "theta, psi_a, psi_b, Ra, Rb, alpha = sympy.symbols('theta psi_a psi_b R_a R_b alpha')"
   ]
  },
  {
   "cell_type": "code",
   "execution_count": null,
   "metadata": {},
   "outputs": [],
   "source": [
    "Ua = g3d.Vector(sympy.cos(-psi_a), sympy.sin(-psi_a), 0)\n",
    "Ub = g3d.Vector(sympy.cos(psi_b), sympy.sin(psi_b), 0)"
   ]
  },
  {
   "cell_type": "code",
   "execution_count": null,
   "metadata": {},
   "outputs": [],
   "source": [
    "Ma = Ua.project(Nz)\n",
    "Mb = Ub.project(Nz)"
   ]
  },
  {
   "cell_type": "markdown",
   "metadata": {},
   "source": [
    "On récupère la solution précédemment calculée pour $\\psi$. Et pour éviter de perdre le solveur on remplace le numérateur par $P_a$ et $P_b$."
   ]
  },
  {
   "cell_type": "code",
   "execution_count": null,
   "metadata": {},
   "outputs": [],
   "source": [
    "Pa, Pb = sympy.symbols('P_a P_b')\n",
    "\n",
    "psi_a_sol = sympy.asin(Pa / sympy.sin(theta))\n",
    "psi_b_sol = sympy.asin(Pb / sympy.sin(theta))"
   ]
  },
  {
   "cell_type": "code",
   "execution_count": null,
   "metadata": {},
   "outputs": [],
   "source": [
    "theta_equ = (psi_a_sol + psi_b_sol) - alpha\n",
    "theta_equ"
   ]
  },
  {
   "cell_type": "code",
   "execution_count": null,
   "metadata": {},
   "outputs": [],
   "source": [
    "# theta_sol = sympy.solve(theta_equ, theta) # sympy can not solve this, matlab was used"
   ]
  },
  {
   "cell_type": "code",
   "execution_count": null,
   "metadata": {},
   "outputs": [],
   "source": [
    "s3 = Pa**4 - 2 * sympy.cos(2*alpha) * Pa**2 * Pb**2 + Pb**4"
   ]
  },
  {
   "cell_type": "code",
   "execution_count": null,
   "metadata": {},
   "outputs": [],
   "source": [
    "s4 = 2 * Pa * Pb**3 * sympy.sin(alpha)**2 * sympy.cos(alpha)\n",
    "s5 = Pa**2 + Pb**2 * sympy.sin(alpha)**2 - Pb**2\n",
    "\n",
    "s6 = Pa**4 - Pb**4*sympy.sin(alpha)**2 + Pb**4 - 2*Pa**2*Pb**2 + 3*Pa**2*Pb**2*sympy.sin(alpha)**2 + s4\n",
    "s7 = (s6 / s3) # sympy can not simplify this, matlab was used\n",
    "\n",
    "s7"
   ]
  },
  {
   "cell_type": "code",
   "execution_count": null,
   "metadata": {},
   "outputs": [],
   "source": [
    "s7 = (Pa + Pb*sympy.cos(alpha))**2/(Pa**2 + 2*sympy.cos(alpha)*Pa*Pb + Pb**2)\n",
    "s7"
   ]
  },
  {
   "cell_type": "code",
   "execution_count": null,
   "metadata": {},
   "outputs": [],
   "source": [
    "s8 = s5  / (sympy.sin(alpha) * (Pa - Pb*sympy.cos(alpha)) * sympy.sqrt(s7))\n",
    "s8"
   ]
  },
  {
   "cell_type": "code",
   "execution_count": null,
   "metadata": {},
   "outputs": [],
   "source": [
    "theta_alt = sympy.asin(s8.simplify().subs({'P_a': sympy.sin(Ra), 'P_b': sympy.sin(Rb)}))\n",
    "theta_alt"
   ]
  },
  {
   "cell_type": "code",
   "execution_count": null,
   "metadata": {},
   "outputs": [],
   "source": [
    "m_val = {'R_a': 0.2, 'R_b': 0.3, 'alpha': 0.7}\n",
    "m_val['theta'] = float(theta_alt.subs(m_val))\n",
    "m_val['psi_a'] = float(sympy.asin(sympy.sin(Ra) / sympy.sin(theta)).subs(m_val))\n",
    "m_val['psi_b'] = float(sympy.asin(sympy.sin(Rb) / sympy.sin(theta)).subs(m_val))\n",
    "print(m_val)"
   ]
  },
  {
   "cell_type": "code",
   "execution_count": null,
   "metadata": {},
   "outputs": [],
   "source": [
    "with GlobePlotMpl() as gpl :\n",
    "    gpl.add_point(Nx.subs(m_val), 'Nx', 'r')\n",
    "    gpl.add_point(Ny.subs(m_val), 'Ny', 'g')\n",
    "    gpl.add_point(Nz.subs(m_val), 'Nz', 'b')\n",
    "    gpl.add_great_circle(Nz.subs(m_val), 'k')\n",
    "    gpl.add_point(Ua.subs(m_val), 'Ua', 'yellow')\n",
    "    gpl.add_point(Ub.subs(m_val), 'Ua', 'yellow')\n",
    "    gpl.add_circle(Ua.subs(m_val), float(Ra.subs(m_val)), 'orange')\n",
    "    gpl.add_circle(Ub.subs(m_val), float(Rb.subs(m_val)), 'orange')\n",
    "    gpl.add_line(Ua.subs(m_val), Ub.subs(m_val), 'purple')"
   ]
  },
  {
   "cell_type": "code",
   "execution_count": null,
   "metadata": {},
   "outputs": [],
   "source": []
  }
 ],
 "metadata": {
  "kernelspec": {
   "display_name": "Python 3 (ipykernel)",
   "language": "python",
   "name": "python3"
  },
  "language_info": {
   "codemirror_mode": {
    "name": "ipython",
    "version": 3
   },
   "file_extension": ".py",
   "mimetype": "text/x-python",
   "name": "python",
   "nbconvert_exporter": "python",
   "pygments_lexer": "ipython3",
   "version": "3.9.13"
  }
 },
 "nbformat": 4,
 "nbformat_minor": 4
}
